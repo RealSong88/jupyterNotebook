{
 "cells": [
  {
   "cell_type": "code",
   "execution_count": 1,
   "metadata": {},
   "outputs": [
    {
     "name": "stdout",
     "output_type": "stream",
     "text": [
      "BANANA\n",
      "21141141"
     ]
    }
   ],
   "source": [
    "code = list(map(str, input()))\n",
    "for xx in code:\n",
    "    print(ord(xx)-64, end=\"\")"
   ]
  },
  {
   "cell_type": "code",
   "execution_count": 8,
   "metadata": {},
   "outputs": [
    {
     "name": "stdout",
     "output_type": "stream",
     "text": [
      "ILOVEYOU\n",
      "91215225251521"
     ]
    }
   ],
   "source": [
    "code = list(map(str, input()))\n",
    "for xx in code:\n",
    "    print(ord(xx)-64, end=\"\")"
   ]
  },
  {
   "cell_type": "code",
   "execution_count": 2,
   "metadata": {},
   "outputs": [
    {
     "name": "stdout",
     "output_type": "stream",
     "text": [
      "21141141\n",
      "2 1 1 4 1 1 4 1 \n"
     ]
    }
   ],
   "source": [
    "def DFS(L, P):\n",
    "    if L == n:\n",
    "        for j in range(P):\n",
    "            print(DISP[j], end= ' ')\n",
    "#             print(chr(DISP[j]+64), end=' ')\n",
    "        print()\n",
    "    else:\n",
    "        for i in range(1, 27):\n",
    "            if code[L] == i:\n",
    "                DISP[L] = i\n",
    "                DFS(L+1, P+1)\n",
    "                \n",
    "code = list(map(int, input()))\n",
    "n = len(code)\n",
    "DISP=[0]*(n+2)\n",
    "DFS(0, 0)\n"
   ]
  },
  {
   "cell_type": "code",
   "execution_count": 16,
   "metadata": {},
   "outputs": [
    {
     "name": "stdout",
     "output_type": "stream",
     "text": [
      "91215225251521\n",
      "IABAEBBEBEAEBA\n",
      "IABAEBBEBEAEU\n",
      "IABAEBBEBEOBA\n",
      "IABAEBBEBEOU\n",
      "IABAEBBEYAEBA\n",
      "IABAEBBEYAEU\n",
      "IABAEBBEYOBA\n",
      "IABAEBBEYOU\n",
      "IABAEBYBEAEBA\n",
      "IABAEBYBEAEU\n",
      "IABAEBYBEOBA\n",
      "IABAEBYBEOU\n",
      "IABAEBYYAEBA\n",
      "IABAEBYYAEU\n",
      "IABAEBYYOBA\n",
      "IABAEBYYOU\n",
      "IABAEVEBEAEBA\n",
      "IABAEVEBEAEU\n",
      "IABAEVEBEOBA\n",
      "IABAEVEBEOU\n",
      "IABAEVEYAEBA\n",
      "IABAEVEYAEU\n",
      "IABAEVEYOBA\n",
      "IABAEVEYOU\n",
      "IABOBBEBEAEBA\n",
      "IABOBBEBEAEU\n",
      "IABOBBEBEOBA\n",
      "IABOBBEBEOU\n",
      "IABOBBEYAEBA\n",
      "IABOBBEYAEU\n",
      "IABOBBEYOBA\n",
      "IABOBBEYOU\n",
      "IABOBYBEAEBA\n",
      "IABOBYBEAEU\n",
      "IABOBYBEOBA\n",
      "IABOBYBEOU\n",
      "IABOBYYAEBA\n",
      "IABOBYYAEU\n",
      "IABOBYYOBA\n",
      "IABOBYYOU\n",
      "IABOVEBEAEBA\n",
      "IABOVEBEAEU\n",
      "IABOVEBEOBA\n",
      "IABOVEBEOU\n",
      "IABOVEYAEBA\n",
      "IABOVEYAEU\n",
      "IABOVEYOBA\n",
      "IABOVEYOU\n",
      "IAUEBBEBEAEBA\n",
      "IAUEBBEBEAEU\n",
      "IAUEBBEBEOBA\n",
      "IAUEBBEBEOU\n",
      "IAUEBBEYAEBA\n",
      "IAUEBBEYAEU\n",
      "IAUEBBEYOBA\n",
      "IAUEBBEYOU\n",
      "IAUEBYBEAEBA\n",
      "IAUEBYBEAEU\n",
      "IAUEBYBEOBA\n",
      "IAUEBYBEOU\n",
      "IAUEBYYAEBA\n",
      "IAUEBYYAEU\n",
      "IAUEBYYOBA\n",
      "IAUEBYYOU\n",
      "IAUEVEBEAEBA\n",
      "IAUEVEBEAEU\n",
      "IAUEVEBEOBA\n",
      "IAUEVEBEOU\n",
      "IAUEVEYAEBA\n",
      "IAUEVEYAEU\n",
      "IAUEVEYOBA\n",
      "IAUEVEYOU\n",
      "ILAEBBEBEAEBA\n",
      "ILAEBBEBEAEU\n",
      "ILAEBBEBEOBA\n",
      "ILAEBBEBEOU\n",
      "ILAEBBEYAEBA\n",
      "ILAEBBEYAEU\n",
      "ILAEBBEYOBA\n",
      "ILAEBBEYOU\n",
      "ILAEBYBEAEBA\n",
      "ILAEBYBEAEU\n",
      "ILAEBYBEOBA\n",
      "ILAEBYBEOU\n",
      "ILAEBYYAEBA\n",
      "ILAEBYYAEU\n",
      "ILAEBYYOBA\n",
      "ILAEBYYOU\n",
      "ILAEVEBEAEBA\n",
      "ILAEVEBEAEU\n",
      "ILAEVEBEOBA\n",
      "ILAEVEBEOU\n",
      "ILAEVEYAEBA\n",
      "ILAEVEYAEU\n",
      "ILAEVEYOBA\n",
      "ILAEVEYOU\n",
      "ILOBBEBEAEBA\n",
      "ILOBBEBEAEU\n",
      "ILOBBEBEOBA\n",
      "ILOBBEBEOU\n",
      "ILOBBEYAEBA\n",
      "ILOBBEYAEU\n",
      "ILOBBEYOBA\n",
      "ILOBBEYOU\n",
      "ILOBYBEAEBA\n",
      "ILOBYBEAEU\n",
      "ILOBYBEOBA\n",
      "ILOBYBEOU\n",
      "ILOBYYAEBA\n",
      "ILOBYYAEU\n",
      "ILOBYYOBA\n",
      "ILOBYYOU\n",
      "ILOVEBEAEBA\n",
      "ILOVEBEAEU\n",
      "ILOVEBEOBA\n",
      "ILOVEBEOU\n",
      "ILOVEYAEBA\n",
      "ILOVEYAEU\n",
      "ILOVEYOBA\n",
      "ILOVEYOU\n",
      "120\n"
     ]
    }
   ],
   "source": [
    "def DFS(L, P):\n",
    "    global cnt\n",
    "    if L == n:\n",
    "        cnt+=1\n",
    "        for j in range(P):\n",
    "#             print(DISP[j], end= ' ')\n",
    "            print(chr(DISP[j]+64), end='')\n",
    "        print()\n",
    "    else:\n",
    "        for i in range(1, 27):\n",
    "            if code[L] == i:\n",
    "                DISP[P] = i\n",
    "                DFS(L+1, P+1)\n",
    "            elif i >= 10 and code[L] == i//10 and code[L+1] == i % 10:\n",
    "                DISP[P] = i # 두자리수가 한꺼번에 들어감\n",
    "                DFS(L+2, P+1)\n",
    "                \n",
    "code = list(map(int, input()))\n",
    "n = len(code)\n",
    "DISP=[0]*(n+2)\n",
    "code.insert(n, -10) # A나 B로 끝나는 단어의 아스키코드값을 넣을 경우 \n",
    "cnt = 0        # 에러발생해서 끝에 필요없는 값 주입\n",
    "DFS(0, 0)\n",
    "print(cnt)"
   ]
  },
  {
   "cell_type": "code",
   "execution_count": null,
   "metadata": {},
   "outputs": [],
   "source": []
  },
  {
   "cell_type": "code",
   "execution_count": null,
   "metadata": {},
   "outputs": [],
   "source": [
    "ord(\"A\"), ord(\"Z\")"
   ]
  },
  {
   "cell_type": "code",
   "execution_count": null,
   "metadata": {},
   "outputs": [],
   "source": [
    "n = 25114\n",
    "def DFS(n):\n",
    "    pass"
   ]
  },
  {
   "cell_type": "code",
   "execution_count": null,
   "metadata": {},
   "outputs": [],
   "source": [
    "n % 10"
   ]
  },
  {
   "cell_type": "code",
   "execution_count": null,
   "metadata": {},
   "outputs": [],
   "source": []
  },
  {
   "cell_type": "code",
   "execution_count": null,
   "metadata": {},
   "outputs": [],
   "source": []
  },
  {
   "cell_type": "code",
   "execution_count": null,
   "metadata": {},
   "outputs": [],
   "source": []
  }
 ],
 "metadata": {
  "kernelspec": {
   "display_name": "Python 3",
   "language": "python",
   "name": "python3"
  },
  "language_info": {
   "codemirror_mode": {
    "name": "ipython",
    "version": 3
   },
   "file_extension": ".py",
   "mimetype": "text/x-python",
   "name": "python",
   "nbconvert_exporter": "python",
   "pygments_lexer": "ipython3",
   "version": "3.8.3"
  }
 },
 "nbformat": 4,
 "nbformat_minor": 4
}
