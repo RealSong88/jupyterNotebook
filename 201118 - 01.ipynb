{
 "cells": [
  {
   "cell_type": "markdown",
   "metadata": {},
   "source": [
    "# 자릿수의 합\n",
    "\n",
    "N개의 자연수가 입력되면 각 자연수의 자릿수의 합을 구하고, 그합이 최대인 자연수를 출력하는 프로그램을 작성하세요.\n",
    "각 자연수의 자릿수의 합을 구하는 함수를 def digit_sum(x)를 꼭 작성해서 프로그래밍 하세요 <br>\n",
    "readline 2번\n",
    "\n",
    "1. 입력설명\n",
    "첫 줄에 자연수 개수 N(3<=N<=100)이 주어지고, 그 다음 줄에 N개의 자연수가 주어진다.\n",
    "각 자연수의 크기는 10,000,000을 넘지 않는다\n",
    "\n",
    "2. 출력설명\n",
    "자릿수의 합이 최대인 자연수를 출력한다\n",
    "\n",
    "3. 입력 예제 1<br>\n",
    "입력 1>\n",
    "<br>97\n",
    "--  3                             \n",
    "--  125 15232 97<br>\n",
    "출력 1>- 97<br>\n",
    "입력 2><br>\n",
    "--  7<br> \n",
    "--  137 460 603 40 521 128 125\n",
    "<br>\n",
    "출력 2>  -> 137, 128\n",
    "                            "
   ]
  },
  {
   "cell_type": "code",
   "execution_count": 1,
   "metadata": {},
   "outputs": [],
   "source": [
    "def digit_sum(x):\n",
    "    \n",
    "    return sum(map(int, str(x))) ## list 할 때  list형식은 int를 형변환 못시킴 str 사용"
   ]
  },
  {
   "cell_type": "code",
   "execution_count": 2,
   "metadata": {},
   "outputs": [
    {
     "name": "stdout",
     "output_type": "stream",
     "text": [
      "8\n"
     ]
    }
   ],
   "source": [
    "x = '125'\n",
    "print(digit_sum(x))"
   ]
  },
  {
   "cell_type": "code",
   "execution_count": 3,
   "metadata": {},
   "outputs": [
    {
     "name": "stdout",
     "output_type": "stream",
     "text": [
      "[137, 460, 603, 40, 521, 128, 125]\n"
     ]
    },
    {
     "ename": "TypeError",
     "evalue": "'>' not supported between instances of 'int' and 'builtin_function_or_method'",
     "output_type": "error",
     "traceback": [
      "\u001b[1;31m---------------------------------------------------------------------------\u001b[0m",
      "\u001b[1;31mTypeError\u001b[0m                                 Traceback (most recent call last)",
      "\u001b[1;32m<ipython-input-3-61214e3c9ce4>\u001b[0m in \u001b[0;36m<module>\u001b[1;34m\u001b[0m\n\u001b[0;32m      6\u001b[0m     \u001b[0mtemp\u001b[0m \u001b[1;33m=\u001b[0m \u001b[1;33m[\u001b[0m\u001b[1;33m]\u001b[0m\u001b[1;33m\u001b[0m\u001b[1;33m\u001b[0m\u001b[0m\n\u001b[0;32m      7\u001b[0m     \u001b[1;32mfor\u001b[0m \u001b[0mi\u001b[0m \u001b[1;32min\u001b[0m \u001b[0mx\u001b[0m\u001b[1;33m:\u001b[0m      \u001b[1;31m# x 는 int이기 때문에 던질 수 없다.\u001b[0m\u001b[1;33m\u001b[0m\u001b[1;33m\u001b[0m\u001b[0m\n\u001b[1;32m----> 8\u001b[1;33m         \u001b[1;32mif\u001b[0m \u001b[0mdigit_sum\u001b[0m\u001b[1;33m(\u001b[0m\u001b[0mi\u001b[0m\u001b[1;33m)\u001b[0m \u001b[1;33m>\u001b[0m \u001b[0mmax\u001b[0m\u001b[1;33m:\u001b[0m\u001b[1;33m\u001b[0m\u001b[1;33m\u001b[0m\u001b[0m\n\u001b[0m\u001b[0;32m      9\u001b[0m             \u001b[0mmax\u001b[0m \u001b[1;33m=\u001b[0m \u001b[0mdigit_sum\u001b[0m\u001b[1;33m(\u001b[0m\u001b[0mi\u001b[0m\u001b[1;33m)\u001b[0m\u001b[1;33m\u001b[0m\u001b[1;33m\u001b[0m\u001b[0m\n\u001b[0;32m     10\u001b[0m     \u001b[1;32mfor\u001b[0m \u001b[0mj\u001b[0m \u001b[1;32min\u001b[0m \u001b[0mx\u001b[0m\u001b[1;33m:\u001b[0m\u001b[1;33m\u001b[0m\u001b[1;33m\u001b[0m\u001b[0m\n",
      "\u001b[1;31mTypeError\u001b[0m: '>' not supported between instances of 'int' and 'builtin_function_or_method'"
     ]
    }
   ],
   "source": [
    "with open(\"자릿수합input1.txt\", \"r\")as f:\n",
    "    n = f.readline()\n",
    "    x = list(map(int, f.readline().split()))\n",
    "    print(x)\n",
    "    max_val = 0\n",
    "    temp = []\n",
    "    for i in x:      # x 는 int이기 때문에 던질 수 없다.\n",
    "        if digit_sum(i) > max:\n",
    "            max = digit_sum(i)\n",
    "    for j in x:\n",
    "        if max == digit_sum(j):\n",
    "            temp.append(j)\n",
    "    print(temp)\n",
    "\n",
    "    "
   ]
  },
  {
   "cell_type": "code",
   "execution_count": 4,
   "metadata": {},
   "outputs": [
    {
     "data": {
      "text/plain": [
       "13"
      ]
     },
     "execution_count": 4,
     "metadata": {},
     "output_type": "execute_result"
    }
   ],
   "source": [
    "max([2,4,5,10,12,13])"
   ]
  },
  {
   "cell_type": "code",
   "execution_count": 5,
   "metadata": {},
   "outputs": [
    {
     "name": "stdout",
     "output_type": "stream",
     "text": [
      "20\n",
      "884 659 "
     ]
    }
   ],
   "source": [
    "# 선생님 버전\n",
    "f = open(\"자릿수합input2.txt\", \"r\")\n",
    "n = int(f.readline())\n",
    "a = list(map(int, f.readline().split()))\n",
    "\n",
    "def digit_sum2(num):\n",
    "    return sum(map(int, str(num)))\n",
    "\n",
    "max_val = 0\n",
    "lst = []\n",
    "\n",
    "for xx in a:\n",
    "    tot = digit_sum2(xx)\n",
    "    if tot >= max_val :\n",
    "        max_val = tot\n",
    "        lst.append(xx)\n",
    "        \n",
    "final=0\n",
    "print(tot)\n",
    "for i in range(len(lst)-1, -1, -1): # 인덱스 기법, 슬라이싱 방식을 리버스로;\n",
    "    tot = digit_sum(lst[i])\n",
    "    if tot >= final :\n",
    "        final = tot\n",
    "        print(lst[i], end=\" \")\n",
    "\n",
    "f.close()"
   ]
  },
  {
   "cell_type": "code",
   "execution_count": 6,
   "metadata": {},
   "outputs": [
    {
     "data": {
      "text/plain": [
       "[770, 93, 883, 659, 641, 446, 354, 227, 338, 178, 510, 357, 560, 362, 884]"
      ]
     },
     "execution_count": 6,
     "metadata": {},
     "output_type": "execute_result"
    }
   ],
   "source": [
    "a"
   ]
  },
  {
   "cell_type": "code",
   "execution_count": 7,
   "metadata": {},
   "outputs": [
    {
     "data": {
      "text/plain": [
       "[770, 883, 659, 884]"
      ]
     },
     "execution_count": 7,
     "metadata": {},
     "output_type": "execute_result"
    }
   ],
   "source": [
    "lst"
   ]
  },
  {
   "cell_type": "code",
   "execution_count": 8,
   "metadata": {},
   "outputs": [
    {
     "name": "stdout",
     "output_type": "stream",
     "text": [
      "14, 12, 19, 20, 11, 14, 12, 11, 14, 16, 6, 15, 11, 11, 20, "
     ]
    }
   ],
   "source": [
    "for xx in a:\n",
    "    print(digit_sum2(xx), end=', ')"
   ]
  },
  {
   "cell_type": "code",
   "execution_count": 9,
   "metadata": {},
   "outputs": [
    {
     "ename": "TypeError",
     "evalue": "'int' object is not iterable",
     "output_type": "error",
     "traceback": [
      "\u001b[1;31m---------------------------------------------------------------------------\u001b[0m",
      "\u001b[1;31mTypeError\u001b[0m                                 Traceback (most recent call last)",
      "\u001b[1;32m<ipython-input-9-80aaa4a66162>\u001b[0m in \u001b[0;36m<module>\u001b[1;34m\u001b[0m\n\u001b[1;32m----> 1\u001b[1;33m \u001b[0mlist\u001b[0m\u001b[1;33m(\u001b[0m\u001b[1;36m150\u001b[0m\u001b[1;33m)\u001b[0m\u001b[1;33m\u001b[0m\u001b[1;33m\u001b[0m\u001b[0m\n\u001b[0m",
      "\u001b[1;31mTypeError\u001b[0m: 'int' object is not iterable"
     ]
    }
   ],
   "source": [
    "list(150)"
   ]
  },
  {
   "cell_type": "code",
   "execution_count": 10,
   "metadata": {},
   "outputs": [],
   "source": [
    "z = sum(list(map(int, str(150))))\n"
   ]
  },
  {
   "cell_type": "code",
   "execution_count": 11,
   "metadata": {},
   "outputs": [
    {
     "data": {
      "text/plain": [
       "6"
      ]
     },
     "execution_count": 11,
     "metadata": {},
     "output_type": "execute_result"
    }
   ],
   "source": [
    "z"
   ]
  },
  {
   "cell_type": "markdown",
   "metadata": {},
   "source": [
    "# 정다면체\n",
    "\n",
    "## 두 개의 정 N면체와 정 M면체의 두 개의 주사위를 던져서 나올 수 있는 눈의 합 중 가장 확률이 높은 숫자를 출력하는 프로그램을 작성하세요. 정답이 여러 개일 경우 오름차순으로 출력합니다.\n",
    "\n",
    "1. 입력설명<br>\n",
    "첫 번째 줄에는 자연수 N과 M이 주어집니다. N과 M은 4, 6, 8, 12, 20 중의 하나입니다.\n",
    "\n",
    "2. 출력설명<br>\n",
    "첫 번째 줄에 답을 출력합니다.\n",
    "\n",
    "3. 입력예제 1<br>\n",
    "4 6\n",
    "\n",
    "4. 출력예제 1<br>\n",
    "5 6 7\n",
    "\n",
    "5 입력 예제2 <br>\n",
    "6 6 - > 7 <br>\n",
    "8 8 - > 9 <br>\n"
   ]
  },
  {
   "cell_type": "code",
   "execution_count": null,
   "metadata": {},
   "outputs": [],
   "source": []
  },
  {
   "cell_type": "code",
   "execution_count": 12,
   "metadata": {},
   "outputs": [
    {
     "name": "stdout",
     "output_type": "stream",
     "text": [
      "[2, 3, 4, 5, 3, 4, 5, 6, 4, 5, 6, 7, 5, 6, 7, 8]\n"
     ]
    }
   ],
   "source": [
    "N = 4; M = 4\n",
    "temp = []\n",
    "for i in range(1, N + 1):\n",
    "    for j in range(1, M + 1):\n",
    "        temp.append(i+j)\n",
    "print(temp)        "
   ]
  },
  {
   "cell_type": "code",
   "execution_count": 13,
   "metadata": {},
   "outputs": [
    {
     "data": {
      "text/plain": [
       "4"
      ]
     },
     "execution_count": 13,
     "metadata": {},
     "output_type": "execute_result"
    }
   ],
   "source": [
    "temp.count(5)"
   ]
  },
  {
   "cell_type": "code",
   "execution_count": null,
   "metadata": {},
   "outputs": [],
   "source": []
  },
  {
   "cell_type": "code",
   "execution_count": 16,
   "metadata": {},
   "outputs": [
    {
     "data": {
      "text/plain": [
       "[2, 3, 4, 5, 3, 4, 5, 6, 4, 5, 6, 7, 5, 6, 7, 8]"
      ]
     },
     "execution_count": 16,
     "metadata": {},
     "output_type": "execute_result"
    }
   ],
   "source": [
    "temp2"
   ]
  },
  {
   "cell_type": "code",
   "execution_count": 15,
   "metadata": {},
   "outputs": [
    {
     "name": "stdout",
     "output_type": "stream",
     "text": [
      "[1, 2, 3, 4, 2, 3, 4, 3, 3, 4, 3, 2, 4, 3, 2, 1]\n"
     ]
    }
   ],
   "source": [
    "temp2 = [i+j for i in range(1, N + 1) for j in range(1, M + 1)]\n",
    "comp = 0\n",
    "lst = []\n",
    "for i in temp2:    \n",
    "    comp = temp2.count(i)\n",
    "    lst.append(comp)\n",
    "print(lst)\n",
    "\n",
    "final = 0\n",
    "\n",
    "    "
   ]
  },
  {
   "cell_type": "code",
   "execution_count": 17,
   "metadata": {},
   "outputs": [],
   "source": [
    "x = map(max, lst)"
   ]
  },
  {
   "cell_type": "code",
   "execution_count": 18,
   "metadata": {},
   "outputs": [
    {
     "data": {
      "text/plain": [
       "[1, 2, 3, 4, 2, 3, 4, 3, 3, 4, 3, 2, 4, 3, 2, 1]"
      ]
     },
     "execution_count": 18,
     "metadata": {},
     "output_type": "execute_result"
    }
   ],
   "source": [
    "lst"
   ]
  },
  {
   "cell_type": "code",
   "execution_count": 19,
   "metadata": {},
   "outputs": [
    {
     "data": {
      "text/plain": [
       "9"
      ]
     },
     "execution_count": 19,
     "metadata": {},
     "output_type": "execute_result"
    }
   ],
   "source": [
    "max(6, 9)"
   ]
  },
  {
   "cell_type": "code",
   "execution_count": 20,
   "metadata": {},
   "outputs": [
    {
     "name": "stdout",
     "output_type": "stream",
     "text": [
      "Variable     Type             Data/Info\n",
      "---------------------------------------\n",
      "M            int              4\n",
      "N            int              4\n",
      "a            list             n=15\n",
      "comp         int              1\n",
      "digit_sum    function         <function digit_sum at 0x00000257B52F8AF0>\n",
      "digit_sum2   function         <function digit_sum2 at 0x00000257B52F85E0>\n",
      "f            TextIOWrapper    <_io.TextIOWrapper name='<...>ode='r' encoding='cp949'>\n",
      "final        int              0\n",
      "i            int              8\n",
      "j            int              4\n",
      "lst          list             n=16\n",
      "max_val      int              20\n",
      "n            int              15\n",
      "temp         list             n=16\n",
      "temp2        list             n=16\n",
      "tot          int              14\n",
      "x            map              <map object at 0x00000257B53CAC70>\n",
      "xx           int              884\n",
      "z            int              6\n"
     ]
    }
   ],
   "source": [
    "whos"
   ]
  },
  {
   "cell_type": "code",
   "execution_count": null,
   "metadata": {},
   "outputs": [],
   "source": []
  },
  {
   "cell_type": "code",
   "execution_count": 27,
   "metadata": {},
   "outputs": [
    {
     "name": "stdout",
     "output_type": "stream",
     "text": [
      "n, m을 컴마로 구분해서 입력하세요=4,4\n",
      "[0, 0, 0, 0, 0, 0, 0, 0, 0, 0, 0, 0, 0, 0, 0, 0]\n",
      "5 "
     ]
    }
   ],
   "source": [
    "# 선생님 버전\n",
    "n, m = map(int, input(\"n, m을 컴마로 구분해서 입력하세요=\").split(','))\n",
    "cnt=[0]*(n*m)\n",
    "print(cnt)\n",
    "max_val=0\n",
    "#cnt값을 초기화\n",
    "\n",
    "for i in range(1, n+1):\n",
    "    for j in range(1, m+1):\n",
    "        index=i+j\n",
    "        cnt[index] += 1\n",
    "# 아래 반복문을 통해서 max_val 이 결정된다.\n",
    "for i in range(n+m+1):\n",
    "    if cnt[i] > max_val:\n",
    "        max_val = cnt[i]\n",
    "# 정답을 display 하는 과정       \n",
    "for i in range(n+m+1):\n",
    "    if cnt[i] == max_val:\n",
    "        print(i, end=' ')\n",
    "        "
   ]
  },
  {
   "cell_type": "code",
   "execution_count": null,
   "metadata": {},
   "outputs": [],
   "source": []
  },
  {
   "cell_type": "code",
   "execution_count": 28,
   "metadata": {},
   "outputs": [],
   "source": [
    "\n",
    "nada=[0]*(4*4)"
   ]
  },
  {
   "cell_type": "code",
   "execution_count": 29,
   "metadata": {},
   "outputs": [
    {
     "data": {
      "text/plain": [
       "[0, 0, 0, 0, 0, 0, 0, 0, 0, 0, 0, 0, 0, 0, 0, 0]"
      ]
     },
     "execution_count": 29,
     "metadata": {},
     "output_type": "execute_result"
    }
   ],
   "source": [
    "nada"
   ]
  },
  {
   "cell_type": "code",
   "execution_count": 32,
   "metadata": {},
   "outputs": [
    {
     "name": "stdout",
     "output_type": "stream",
     "text": [
      "n, m 을 컴마로 구분해서 입력하세요=12,20\n",
      "13 14 15 16 17 18 19 20 21 "
     ]
    }
   ],
   "source": [
    "# 선생님 버전 2\n",
    "n, m = map(int, input(\"n, m 을 컴마로 구분해서 입력하세요=\").split(','))\n",
    "if n == m:\n",
    "    min_val=n; max_val=m\n",
    "elif n > m:\n",
    "    max_val = n; min_val=m\n",
    "else:\n",
    "    min_val=n; max_val=m\n",
    "for i in range(min_val+1, max_val+2):\n",
    "    print(i, end=' ')"
   ]
  },
  {
   "cell_type": "code",
   "execution_count": 44,
   "metadata": {},
   "outputs": [],
   "source": [
    "def m_func(n, m):\n",
    "    if n < m:\n",
    "        return [xx for xx in range(n+1, m+2)]\n",
    "    else:\n",
    "        return [xx for xx in range(m+2, n+1)] \n",
    "    # 동률일땐..?"
   ]
  },
  {
   "cell_type": "code",
   "execution_count": 46,
   "metadata": {},
   "outputs": [
    {
     "data": {
      "text/plain": [
       "[5, 6, 7]"
      ]
     },
     "execution_count": 46,
     "metadata": {},
     "output_type": "execute_result"
    }
   ],
   "source": [
    "m_func(4,6)"
   ]
  },
  {
   "cell_type": "code",
   "execution_count": 47,
   "metadata": {},
   "outputs": [],
   "source": [
    "# 건익이 버전\n",
    "def solution(n, m):\n",
    "    if n == m:\n",
    "        return n+1\n",
    "    elif n < m :\n",
    "        return list(range(n+1, m+2))\n",
    "    elif m < n:\n",
    "        return list(range(m+1, n+2))"
   ]
  },
  {
   "cell_type": "code",
   "execution_count": null,
   "metadata": {},
   "outputs": [],
   "source": []
  },
  {
   "cell_type": "code",
   "execution_count": null,
   "metadata": {},
   "outputs": [],
   "source": []
  },
  {
   "cell_type": "code",
   "execution_count": 49,
   "metadata": {},
   "outputs": [],
   "source": [
    "# 자릿수의 합\n",
    "# N개의 자연수가 입력되면 각 자연수의 자릿수의 합을 구하고, 그합이 최대인 자연수를 출력하는 프로그램을 작성하세요. 각 자연수의 자릿수의 합을 구하는 함수를 def digit_sum(x)를 꼭 작성해서 프로그래밍 하세요\n",
    "# readline 2번\n",
    "\n",
    "# 입력설명 첫 줄에 자연수 개수 N(3<=N<=100)이 주어지고, 그 다음 줄에 N개의 자연수가 주어진다. 각 자연수의 크기는 10,000,000을 넘지 않는다\n",
    "\n",
    "# 출력설명 자릿수의 합이 최대인 자연수를 출력한다\n",
    "\n",
    "# 입력 예제 1\n",
    "# 입력 1>\n",
    "# 97 -- 3\n",
    "# -- 125 15232 97\n",
    "# 출력 1>- 97\n",
    "# 입력 2>\n",
    "# -- 7\n",
    "# -- 137 460 603 40 521 128 125\n",
    "\n",
    "\n",
    "# 출력 2> -> 137, 128"
   ]
  },
  {
   "cell_type": "code",
   "execution_count": 50,
   "metadata": {},
   "outputs": [],
   "source": [
    "def my_mul_digit(x):\n",
    "    return sum(map(int, str(x)))"
   ]
  },
  {
   "cell_type": "code",
   "execution_count": 92,
   "metadata": {},
   "outputs": [
    {
     "data": {
      "text/plain": [
       "12"
      ]
     },
     "execution_count": 92,
     "metadata": {},
     "output_type": "execute_result"
    }
   ],
   "source": [
    "my_mul_digit(156)"
   ]
  },
  {
   "cell_type": "code",
   "execution_count": 100,
   "metadata": {},
   "outputs": [
    {
     "name": "stdout",
     "output_type": "stream",
     "text": [
      "137, 128\n"
     ]
    }
   ],
   "source": [
    "# 내 버전 개량 개량개량\n",
    "with open(\"자릿수합input1.txt\", \"r\") as f:\n",
    "    n = int(f.readline())\n",
    "    num_list = list(map(int, f.readline().split()))\n",
    "    temp = [my_mul_digit(i) for i in num_list]\n",
    "    result = ', '.join(list(map(str, [num_list[i] for i, data in enumerate(temp) if data == max(temp)])))\n",
    "    print(result)\n",
    "    "
   ]
  },
  {
   "cell_type": "code",
   "execution_count": 99,
   "metadata": {},
   "outputs": [
    {
     "name": "stdout",
     "output_type": "stream",
     "text": [
      "7\n",
      "[137, 460, 603, 40, 521, 128, 125]\n",
      "[11, 10, 9, 4, 8, 11, 8]\n",
      "137, 128\n"
     ]
    }
   ],
   "source": [
    "with open(\"자릿수합input1.txt\", \"r\") as f:\n",
    "    n = int(f.readline())\n",
    "    print(n)\n",
    "    num_list = list(map(int, f.readline().split()))\n",
    "    print(num_list)\n",
    "    temp = [my_mul_digit(i) for i in num_list]\n",
    "    print(temp)\n",
    "    \n",
    "#     for i, data in enumerate(temp):\n",
    "#         if data == max(temp):\n",
    "#             result.append(num_list[i])\n",
    "    print(result)\n",
    "    "
   ]
  },
  {
   "cell_type": "code",
   "execution_count": null,
   "metadata": {},
   "outputs": [],
   "source": []
  }
 ],
 "metadata": {
  "kernelspec": {
   "display_name": "Python 3",
   "language": "python",
   "name": "python3"
  },
  "language_info": {
   "codemirror_mode": {
    "name": "ipython",
    "version": 3
   },
   "file_extension": ".py",
   "mimetype": "text/x-python",
   "name": "python",
   "nbconvert_exporter": "python",
   "pygments_lexer": "ipython3",
   "version": "3.8.3"
  }
 },
 "nbformat": 4,
 "nbformat_minor": 4
}
