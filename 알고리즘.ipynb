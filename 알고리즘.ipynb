{
 "cells": [
  {
   "cell_type": "code",
   "execution_count": 3,
   "metadata": {},
   "outputs": [
    {
     "data": {
      "text/plain": [
       "deque([3, 7, 1, 4])"
      ]
     },
     "execution_count": 3,
     "metadata": {},
     "output_type": "execute_result"
    }
   ],
   "source": [
    "from collections import deque\n",
    "# 큐 자료구조 사용할경우 list 자체보다 deque를 쓰면 시간복잡도가 더 간단해진다.\n",
    "dq = deque()\n",
    "dq.append(5)\n",
    "dq.append(2)\n",
    "dq.append(3)\n",
    "dq.append(7)\n",
    "dq.popleft()\n",
    "dq.append(1)\n",
    "dq.append(4)\n",
    "dq.popleft()\n",
    "\n",
    "dq"
   ]
  },
  {
   "cell_type": "code",
   "execution_count": 15,
   "metadata": {},
   "outputs": [
    {
     "name": "stdout",
     "output_type": "stream",
     "text": [
      "1 번째 재귀함수에서 2 번째 재귀함수를 호출한다.\n",
      "2 번째 재귀함수에서 3 번째 재귀함수를 호출한다.\n",
      "3 번째 재귀함수에서 4 번째 재귀함수를 호출한다.\n",
      "4 번째 재귀함수에서 5 번째 재귀함수를 호출한다.\n",
      "5 번째 재귀함수에서 6 번째 재귀함수를 호출한다.\n",
      "6 번째 재귀함수에서 7 번째 재귀함수를 호출한다.\n",
      "7 번째 재귀함수에서 8 번째 재귀함수를 호출한다.\n",
      "8 번째 재귀함수에서 9 번째 재귀함수를 호출한다.\n",
      "9 번째 재귀함수에서 10 번째 재귀함수를 호출한다.\n",
      "9 번째 재귀함수 종료\n",
      "8 번째 재귀함수 종료\n",
      "7 번째 재귀함수 종료\n",
      "6 번째 재귀함수 종료\n",
      "5 번째 재귀함수 종료\n",
      "4 번째 재귀함수 종료\n",
      "3 번째 재귀함수 종료\n",
      "2 번째 재귀함수 종료\n",
      "1 번째 재귀함수 종료\n"
     ]
    }
   ],
   "source": [
    "# 재귀함수\n",
    "def recursive_func(i):\n",
    "    if i == 10:\n",
    "        return\n",
    "    print(i,\"번째 재귀함수에서\", i+1,\"번째 재귀함수를 호출한다.\")\n",
    "    recursive_func(i+1)\n",
    "    print(i,\"번째 재귀함수 종료\")\n",
    "recursive_func(1)"
   ]
  },
  {
   "cell_type": "code",
   "execution_count": 18,
   "metadata": {},
   "outputs": [
    {
     "data": {
      "text/plain": [
       "6"
      ]
     },
     "execution_count": 18,
     "metadata": {},
     "output_type": "execute_result"
    }
   ],
   "source": [
    "# 팩토리얼 재귀 활용\n",
    "def factorial_recursive(n):\n",
    "    if n <=1:\n",
    "        return 1\n",
    "    return n * factorial_recursive(n - 1)\n",
    "\n",
    "factorial_recursive(3)"
   ]
  },
  {
   "cell_type": "code",
   "execution_count": 22,
   "metadata": {},
   "outputs": [
    {
     "name": "stdout",
     "output_type": "stream",
     "text": [
      "a>>> 192\n",
      "b>>> 162\n",
      "a%b>> 30\n",
      "a>>> 162\n",
      "b>>> 30\n",
      "a%b>> 12\n",
      "a>>> 30\n",
      "b>>> 12\n",
      "a%b>> 6\n",
      "6\n"
     ]
    }
   ],
   "source": [
    "# 최대공약수 계산(유클리드 호제법)\n",
    "# 두 자연수 A, B에 대하여 (A > B) A를 B로 나눈 나머지를 R이라고 한다.\n",
    "# 이 때 A와 B의 최대공약수는 B와 R의 최대공약수와 같습니다.\n",
    "def gcd(a, b):\n",
    "    if a % b == 0:\n",
    "        return b\n",
    "    else:\n",
    "        print(\"a>>>\",a)\n",
    "        print(\"b>>>\",b)\n",
    "        print(\"a%b>>\", a%b)\n",
    "        return gcd(b, a % b)\n",
    "print(gcd(192,162))"
   ]
  },
  {
   "cell_type": "code",
   "execution_count": 27,
   "metadata": {},
   "outputs": [
    {
     "name": "stdout",
     "output_type": "stream",
     "text": [
      "1 \n",
      "[False, True, False, False, False, False, False, False, False]\n",
      "2 \n",
      "[False, True, True, False, False, False, False, False, False]\n",
      "7 \n",
      "[False, True, True, False, False, False, False, True, False]\n",
      "6 \n",
      "[False, True, True, False, False, False, True, True, False]\n",
      "8 \n",
      "[False, True, True, False, False, False, True, True, True]\n",
      "3 \n",
      "[False, True, True, True, False, False, True, True, True]\n",
      "4 \n",
      "[False, True, True, True, True, False, True, True, True]\n",
      "5 \n",
      "[False, True, True, True, True, True, True, True, True]\n"
     ]
    }
   ],
   "source": [
    "graph = [\n",
    "    [],\n",
    "    [2,3,8],\n",
    "    [1,7],\n",
    "    [1,4,5],\n",
    "    [3,5],\n",
    "    [3,4],\n",
    "    [7],\n",
    "    [2, 6, 8],\n",
    "    [1, 7]\n",
    "]\n",
    "def DFS(graph, v, visited):\n",
    "    visited[v] = True\n",
    "    print(v, end=' ')\n",
    "    print()\n",
    "    print(visited)\n",
    "    for i in graph[v]:\n",
    "        if not visited[i]:\n",
    "            DFS(graph, i, visited)\n",
    "visited = [False] * 9\n",
    "DFS(graph, 1, visited)"
   ]
  },
  {
   "cell_type": "code",
   "execution_count": 30,
   "metadata": {},
   "outputs": [
    {
     "name": "stdout",
     "output_type": "stream",
     "text": [
      "1 que>> deque([2, 3, 8])\n",
      "[False, True, True, True, False, False, False, False, True]\n",
      "2 que>> deque([3, 8, 7])\n",
      "[False, True, True, True, False, False, False, True, True]\n",
      "3 que>> deque([8, 7, 4, 5])\n",
      "[False, True, True, True, True, True, False, True, True]\n",
      "8 que>> deque([7, 4, 5])\n",
      "[False, True, True, True, True, True, False, True, True]\n",
      "7 que>> deque([4, 5, 6])\n",
      "[False, True, True, True, True, True, True, True, True]\n",
      "4 que>> deque([5, 6])\n",
      "[False, True, True, True, True, True, True, True, True]\n",
      "5 que>> deque([6])\n",
      "[False, True, True, True, True, True, True, True, True]\n",
      "6 que>> deque([])\n",
      "[False, True, True, True, True, True, True, True, True]\n"
     ]
    }
   ],
   "source": [
    "# BFS\n",
    "# 각 노드가 연결된 정보를 표현 (2차원 리스트)\n",
    "graph = [\n",
    "    [],\n",
    "    [2,3,8],\n",
    "    [1,7],\n",
    "    [1,4,5],\n",
    "    [3,5],\n",
    "    [3,4],\n",
    "    [7],\n",
    "    [2, 6, 8],\n",
    "    [1, 7]\n",
    "]\n",
    "# 각 노드가 방문된 정보를 표현(1차원 리스트)\n",
    "visited = [False] * 9\n",
    "\n",
    "\n",
    "from collections import deque\n",
    "\n",
    "def bfs(graph, start, visited):\n",
    "    # 큐 구현을 위해 deque 라이브러리 사용\n",
    "    que = deque([start])\n",
    "    # 현재 노드를 방문 처리\n",
    "    visited[start] = True\n",
    "    while que:\n",
    "        # 큐에서 하나의 원소를 뽑아 출력하기\n",
    "        v = que.popleft()\n",
    "        print(v, end=' ')\n",
    "        # 아직 방문하지 않은 인접한 원소들을 큐에 삽입\n",
    "        for i in graph[v]:\n",
    "            if not visited[i]:\n",
    "                que.append(i)\n",
    "                visited[i] = True\n",
    "        print(\"que>>\",que)\n",
    "        print(visited)\n",
    "\n",
    "        bfs(graph, 1, visited)"
   ]
  },
  {
   "cell_type": "code",
   "execution_count": 3,
   "metadata": {},
   "outputs": [
    {
     "name": "stdout",
     "output_type": "stream",
     "text": [
      "4 5\n",
      "00100\n",
      "11010\n",
      "11110\n",
      "01010\n",
      "[1, 1, 1, 0, 0]\n",
      "[1, 1, 0, 1, 0]\n",
      "[1, 1, 1, 1, 0]\n",
      "[0, 1, 0, 1, 0]\n",
      "\n",
      "[1, 1, 1, 0, 0]\n",
      "[1, 1, 0, 1, 0]\n",
      "[1, 1, 1, 1, 0]\n",
      "[0, 1, 0, 1, 0]\n",
      "\n",
      "[1, 1, 1, 1, 1]\n",
      "[1, 1, 0, 1, 1]\n",
      "[1, 1, 1, 1, 1]\n",
      "[0, 1, 0, 1, 1]\n",
      "\n",
      "[1, 1, 1, 1, 1]\n",
      "[1, 1, 0, 1, 1]\n",
      "[1, 1, 1, 1, 1]\n",
      "[0, 1, 0, 1, 1]\n",
      "\n",
      "[1, 1, 1, 1, 1]\n",
      "[1, 1, 0, 1, 1]\n",
      "[1, 1, 1, 1, 1]\n",
      "[0, 1, 0, 1, 1]\n",
      "\n",
      "[1, 1, 1, 1, 1]\n",
      "[1, 1, 0, 1, 1]\n",
      "[1, 1, 1, 1, 1]\n",
      "[0, 1, 0, 1, 1]\n",
      "\n",
      "[1, 1, 1, 1, 1]\n",
      "[1, 1, 0, 1, 1]\n",
      "[1, 1, 1, 1, 1]\n",
      "[0, 1, 0, 1, 1]\n",
      "\n",
      "[1, 1, 1, 1, 1]\n",
      "[1, 1, 1, 1, 1]\n",
      "[1, 1, 1, 1, 1]\n",
      "[0, 1, 0, 1, 1]\n",
      "\n",
      "[1, 1, 1, 1, 1]\n",
      "[1, 1, 1, 1, 1]\n",
      "[1, 1, 1, 1, 1]\n",
      "[1, 1, 0, 1, 1]\n",
      "\n",
      "[1, 1, 1, 1, 1]\n",
      "[1, 1, 1, 1, 1]\n",
      "[1, 1, 1, 1, 1]\n",
      "[1, 1, 1, 1, 1]\n",
      "\n",
      "5\n"
     ]
    }
   ],
   "source": [
    "def dfs(x, y):\n",
    "    if x <= -1 or x >= n or y <= -1 or y >= m:\n",
    "        return False\n",
    "    if graph[x][y] == 0:\n",
    "        graph[x][y] = 1\n",
    "        dfs(x - 1, y)\n",
    "        dfs(x, y - 1)\n",
    "        dfs(x + 1, y)\n",
    "        dfs(x, y + 1)\n",
    "        for i in graph:\n",
    "            print(i)\n",
    "        print()\n",
    "        return True\n",
    "    return False\n",
    "n, m = map(int, input().split())\n",
    "\n",
    "graph = []\n",
    "for i in range(n):\n",
    "    graph.append(list(map(int, input())))\n",
    "    \n",
    "result = 0\n",
    "for i in range(n):\n",
    "    for j in range(m):\n",
    "        if dfs(i, j) == True:\n",
    "            result += 1\n",
    "print(result)"
   ]
  },
  {
   "cell_type": "code",
   "execution_count": 12,
   "metadata": {},
   "outputs": [
    {
     "name": "stdout",
     "output_type": "stream",
     "text": [
      "3 3\n",
      "111\n",
      "010\n",
      "011\n",
      "[1, 2, 1]\n",
      "[0, 1, 0]\n",
      "[0, 1, 1]\n",
      "\n",
      "[1, 2, 1]\n",
      "[0, 3, 0]\n",
      "[0, 1, 1]\n",
      "\n",
      "[3, 2, 1]\n",
      "[0, 3, 0]\n",
      "[0, 1, 1]\n",
      "\n",
      "[3, 2, 3]\n",
      "[0, 3, 0]\n",
      "[0, 1, 1]\n",
      "\n",
      "[3, 2, 3]\n",
      "[0, 3, 0]\n",
      "[0, 4, 1]\n",
      "\n",
      "[3, 2, 3]\n",
      "[0, 3, 0]\n",
      "[0, 4, 5]\n",
      "\n",
      "5\n"
     ]
    }
   ],
   "source": [
    "from collections import deque\n",
    "\n",
    "def bfs(x, y):\n",
    "    que = deque()\n",
    "    que.append((x, y))\n",
    "    while que:\n",
    "        x, y = que.popleft()\n",
    "        for i in range(4):\n",
    "            nx = x + dx[i]\n",
    "            ny = y + dy[i]\n",
    "            \n",
    "            if nx < 0 or nx >= n or ny < 0 or ny >= m:\n",
    "                continue\n",
    "            if graph[nx][ny] == 0:\n",
    "                continue\n",
    "            if graph[nx][ny] == 1:\n",
    "                graph[nx][ny] = graph[x][y] + 1\n",
    "                que.append((nx, ny))\n",
    "                for i in graph:\n",
    "                    print(i)\n",
    "                print()\n",
    "    return graph[n - 1][m - 1]\n",
    "\n",
    "\n",
    "n, m = map(int, input().split())\n",
    "graph = []\n",
    "for i in range(n):\n",
    "    graph.append(list(map(int, input())))\n",
    "dx = [-1,1,0,0]\n",
    "dy = [0, 0, -1, 1]\n",
    "\n",
    "print(bfs(0, 0))"
   ]
  },
  {
   "cell_type": "code",
   "execution_count": null,
   "metadata": {},
   "outputs": [],
   "source": []
  }
 ],
 "metadata": {
  "kernelspec": {
   "display_name": "Python 3",
   "language": "python",
   "name": "python3"
  },
  "language_info": {
   "codemirror_mode": {
    "name": "ipython",
    "version": 3
   },
   "file_extension": ".py",
   "mimetype": "text/x-python",
   "name": "python",
   "nbconvert_exporter": "python",
   "pygments_lexer": "ipython3",
   "version": "3.8.3"
  }
 },
 "nbformat": 4,
 "nbformat_minor": 4
}
