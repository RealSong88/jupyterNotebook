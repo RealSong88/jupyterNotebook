{
 "cells": [
  {
   "cell_type": "markdown",
   "metadata": {},
   "source": [
    "# 전공 필수 과목 순서 체크\n",
    "\n",
    "### 철수는  1년 과정의 수업계획을 짜야 합니다. 수업중에는 필수과목이 있습니다. 이 필수과목은 반드시 이수해야 하며, 그 순서도 정해져있습니다. 만약 총 과목이 A, B, C, D, E, F가 있고, 여기서 필수과목이 CBA로 주어지면 필수과목은 C, B, A 과목이며, 이 순서대로 꼭 수업계획을 짜야합니다. 여기서 순서란 B과목은 C과목을 이수한 후에 들어야 하고, A과목은 C와 B를 이수한 후에 들어야 한다는 것입니다. 철수가 C, B, D, A, G, E로 수업계획을 짜면 제대로 된 설계이지만 C, G, E, A, D, B 순서로 짯다면 잘 못 설계된 수업계획이 됩니다. 수업계획은 그 순서대로 앞에 수업이 이수되면 다음 수업을 시작 한다는 것으로 해석합니다. 수업계획은 그 순서대로 앞에 수업이 이수 되면 다음 수업을 시작 한다는 것으로 해석합니다. 수업 계획서 상의 각 과목은 무조건 이수된다고 가정합니다. 필수과목순서가 주어지면 철수가 짠 N개의 수업설계가 잘된 것이면 , \"Yes\", 아니면 ,\"No\"를 출력하는 프로그램을 작성하시오.\n",
    "\n",
    "\n",
    "\n",
    "#### 입력 예제 1\n",
    "- CBA\n",
    "- 3\n",
    "- CBDAGE\n",
    "- FGCDAB\n",
    "- CTSBDEA\n",
    "\n",
    "#### 출력 예제 1\n",
    "- #1 YES\n",
    "- #2 NO\n",
    "- #3 YES\n",
    "\n",
    "\n",
    "#### 입력 예제 2\n",
    "- AFS\n",
    "- 1\n",
    "- AFFDCCFF\n",
    "#### 출력 예제\n",
    "- #1 Yes\n",
    "\n",
    "\n",
    "#### < 정답 >\n",
    "- 전공필수in1.txt -> Yes, No, Yes\n",
    "- 전공필수in2.txt -> No, Yes, No, Yes, No\n",
    "- 전공필수in3.txt -> NO, Yes, NO, Yes, NO, Yes, No, No\n",
    "\n"
   ]
  },
  {
   "cell_type": "code",
   "execution_count": 16,
   "metadata": {},
   "outputs": [
    {
     "ename": "IndexError",
     "evalue": "pop from an empty deque",
     "output_type": "error",
     "traceback": [
      "\u001b[1;31m---------------------------------------------------------------------------\u001b[0m",
      "\u001b[1;31mIndexError\u001b[0m                                Traceback (most recent call last)",
      "\u001b[1;32m<ipython-input-16-3c50084e5fdb>\u001b[0m in \u001b[0;36m<module>\u001b[1;34m\u001b[0m\n\u001b[0;32m      8\u001b[0m \u001b[1;32mfor\u001b[0m \u001b[0mword\u001b[0m \u001b[1;32min\u001b[0m \u001b[0mmatrix\u001b[0m\u001b[1;33m:\u001b[0m\u001b[1;33m\u001b[0m\u001b[1;33m\u001b[0m\u001b[0m\n\u001b[0;32m      9\u001b[0m     \u001b[1;32mfor\u001b[0m \u001b[0mj\u001b[0m \u001b[1;32min\u001b[0m \u001b[0mword\u001b[0m\u001b[1;33m:\u001b[0m\u001b[1;33m\u001b[0m\u001b[1;33m\u001b[0m\u001b[0m\n\u001b[1;32m---> 10\u001b[1;33m         \u001b[1;32mif\u001b[0m \u001b[0mj\u001b[0m \u001b[1;33m!=\u001b[0m \u001b[0mQ\u001b[0m\u001b[1;33m.\u001b[0m\u001b[0mpopleft\u001b[0m\u001b[1;33m(\u001b[0m\u001b[1;33m)\u001b[0m\u001b[1;33m:\u001b[0m\u001b[1;33m\u001b[0m\u001b[1;33m\u001b[0m\u001b[0m\n\u001b[0m\u001b[0;32m     11\u001b[0m                 \u001b[1;32mbreak\u001b[0m\u001b[1;33m\u001b[0m\u001b[1;33m\u001b[0m\u001b[0m\n\u001b[0;32m     12\u001b[0m         \u001b[1;32melse\u001b[0m\u001b[1;33m:\u001b[0m\u001b[1;33m\u001b[0m\u001b[1;33m\u001b[0m\u001b[0m\n",
      "\u001b[1;31mIndexError\u001b[0m: pop from an empty deque"
     ]
    }
   ],
   "source": [
    "from collections import deque\n",
    "with open(\"text/전공필수in1.txt\", \"r\") as f:\n",
    "    fixed_sub = list(f.readline().replace(\"\\n\", \"\"))\n",
    "    n = int(f.readline())\n",
    "    matrix = [ list(f.readline().replace(\"\\n\", \"\")) for _ in range(n)]\n",
    "Q = deque(fixed_sub)\n",
    "temp = []\n",
    "for word in matrix:\n",
    "    for j in word:\n",
    "        if j != Q.popleft():\n",
    "                break\n",
    "        else:\n",
    "            if len(Q) == 0:\n",
    "                break\n",
    "            temp.append(j)\n",
    "print(temp)\n",
    "print(temp == Q)\n",
    "                "
   ]
  },
  {
   "cell_type": "code",
   "execution_count": 13,
   "metadata": {},
   "outputs": [
    {
     "data": {
      "text/plain": [
       "['C', 'B', 'A']"
      ]
     },
     "execution_count": 13,
     "metadata": {},
     "output_type": "execute_result"
    }
   ],
   "source": [
    "fixed_sub"
   ]
  },
  {
   "cell_type": "code",
   "execution_count": 5,
   "metadata": {},
   "outputs": [
    {
     "name": "stdout",
     "output_type": "stream",
     "text": [
      "3\n",
      "['C', 'B', 'D', 'A', 'G', 'E']\n",
      "['F', 'G', 'C', 'D', 'A', 'B']\n",
      "['C', 'T', 'S', 'B', 'D', 'E', 'A']\n",
      "C\n"
     ]
    }
   ],
   "source": [
    "print(n)\n",
    "for i in matrix:\n",
    "    for j in i:\n",
    "        if j == \"G\":\n",
    "            break\n",
    "    print(i)\n",
    "print(matrix[0][0])"
   ]
  },
  {
   "cell_type": "code",
   "execution_count": null,
   "metadata": {},
   "outputs": [],
   "source": [
    "x = 'CBA\\n'"
   ]
  },
  {
   "cell_type": "code",
   "execution_count": null,
   "metadata": {},
   "outputs": [],
   "source": [
    "x.replace(\"\\n\", \"\")"
   ]
  },
  {
   "cell_type": "code",
   "execution_count": null,
   "metadata": {},
   "outputs": [],
   "source": [
    "Q"
   ]
  },
  {
   "cell_type": "code",
   "execution_count": 27,
   "metadata": {},
   "outputs": [
    {
     "name": "stdout",
     "output_type": "stream",
     "text": [
      "#1: Yes\n",
      "#2: No\n",
      "deque(['A', '\\n'])\n",
      "#3: Yes\n"
     ]
    }
   ],
   "source": [
    "# 선생님 버전\n",
    "from collections import deque\n",
    "with open(\"text/전공필수in1.txt\", \"r\") as f:\n",
    "    major = f.readline() # 전공 필수 과목\n",
    "    n = int(f.readline()) # 몇칸이 들어오는지\n",
    "    for i in range(n):\n",
    "        schedule = f.readline()\n",
    "        dq = deque(major)\n",
    "        for xx in schedule:\n",
    "            if xx in dq: # 순서를 체크함\n",
    "                if xx != dq.popleft():\n",
    "                    print(\"#{}: No\".format(i+1))\n",
    "                    print(dq)\n",
    "                    break\n",
    "        else:\n",
    "            if len(dq) == 0:\n",
    "                print(\"#{}: Yes\".format(i+1))\n",
    "            else:\n",
    "                print(\"#{}: No\".format(i+1)) # ex) C, 만족하면 B,A 없는 경우\n"
   ]
  },
  {
   "cell_type": "code",
   "execution_count": 19,
   "metadata": {},
   "outputs": [
    {
     "data": {
      "text/plain": [
       "'CTSBDEA\\n'"
      ]
     },
     "execution_count": 19,
     "metadata": {},
     "output_type": "execute_result"
    }
   ],
   "source": [
    "schedule"
   ]
  },
  {
   "cell_type": "code",
   "execution_count": null,
   "metadata": {},
   "outputs": [],
   "source": []
  }
 ],
 "metadata": {
  "kernelspec": {
   "display_name": "Python 3",
   "language": "python",
   "name": "python3"
  },
  "language_info": {
   "codemirror_mode": {
    "name": "ipython",
    "version": 3
   },
   "file_extension": ".py",
   "mimetype": "text/x-python",
   "name": "python",
   "nbconvert_exporter": "python",
   "pygments_lexer": "ipython3",
   "version": "3.8.3"
  }
 },
 "nbformat": 4,
 "nbformat_minor": 4
}
