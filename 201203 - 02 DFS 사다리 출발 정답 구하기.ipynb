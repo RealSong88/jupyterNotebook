{
 "cells": [
  {
   "cell_type": "markdown",
   "metadata": {},
   "source": [
    "# 사다리 출발 정답 구하기\n",
    "\n",
    "### 사다리 표현은 2차원 평명은 o으로 채워지고, 사다리는 1로 표현합니다. 현수는 특정도착지점으로 도착하기 위해서는 몇 번째 열에서 출발해야 하는지 알고 싶습니다. 특정 도착지점은 2로 표기됩니다. 여러분이 도와주세요. 사다리의 지도가 10 X 10이면 특정목적지인 2에 도착하려면 7번 열 출발지에서 출발하면됩니다.\n",
    "\n",
    "#### 입력 예제 1\n",
    "- 1 0 1 0 0 1 0 1 0 1\n",
    "- 1 0 1 1 1 1 0 1 0 1\n",
    "- 1 0 1 0 0 1 0 1 0 1\n",
    "- 1 0 1 0 0 1 0 1 1 1\n",
    "- 1 0 1 0 0 1 0 1 0 1\n",
    "- 1 0 1 1 1 1 0 1 0 1\n",
    "- 1 0 1 0 0 1 0 1 1 1\n",
    "- 1 1 1 0 0 1 0 1 0 1\n",
    "- 1 0 1 0 0 1 1 1 0 1\n",
    "- 1 0 1 0 0 2 0 1 0 1\n",
    "\n",
    "#### 출력 예제 1\n",
    "- 7\n",
    "#### <정답>\n",
    "- 사다리in1.txt -> 7\n",
    "- 사다리in2.txt -> 5"
   ]
  },
  {
   "cell_type": "code",
   "execution_count": 14,
   "metadata": {},
   "outputs": [
    {
     "name": "stdout",
     "output_type": "stream",
     "text": [
      "8 5\n",
      "10 5\n",
      "9 4\n"
     ]
    },
    {
     "ename": "IndexError",
     "evalue": "list index out of range",
     "output_type": "error",
     "traceback": [
      "\u001b[1;31m---------------------------------------------------------------------------\u001b[0m",
      "\u001b[1;31mIndexError\u001b[0m                                Traceback (most recent call last)",
      "\u001b[1;32m<ipython-input-14-c30d24aec622>\u001b[0m in \u001b[0;36m<module>\u001b[1;34m\u001b[0m\n\u001b[0;32m     21\u001b[0m             \u001b[0mmatrix\u001b[0m\u001b[1;33m[\u001b[0m\u001b[0mxx\u001b[0m\u001b[1;33m]\u001b[0m\u001b[1;33m[\u001b[0m\u001b[0myy\u001b[0m\u001b[1;33m]\u001b[0m \u001b[1;33m=\u001b[0m \u001b[1;36m1\u001b[0m\u001b[1;33m\u001b[0m\u001b[1;33m\u001b[0m\u001b[0m\n\u001b[0;32m     22\u001b[0m \u001b[0mmatrix\u001b[0m\u001b[1;33m[\u001b[0m\u001b[1;36m9\u001b[0m\u001b[1;33m]\u001b[0m\u001b[1;33m[\u001b[0m\u001b[1;36m5\u001b[0m\u001b[1;33m]\u001b[0m \u001b[1;33m=\u001b[0m \u001b[1;36m4\u001b[0m\u001b[1;33m\u001b[0m\u001b[1;33m\u001b[0m\u001b[0m\n\u001b[1;32m---> 23\u001b[1;33m \u001b[0mDFS\u001b[0m\u001b[1;33m(\u001b[0m\u001b[1;36m9\u001b[0m\u001b[1;33m,\u001b[0m \u001b[1;36m5\u001b[0m\u001b[1;33m)\u001b[0m\u001b[1;33m\u001b[0m\u001b[1;33m\u001b[0m\u001b[0m\n\u001b[0m\u001b[0;32m     24\u001b[0m \u001b[1;33m\u001b[0m\u001b[0m\n\u001b[0;32m     25\u001b[0m \u001b[1;33m\u001b[0m\u001b[0m\n",
      "\u001b[1;32m<ipython-input-14-c30d24aec622>\u001b[0m in \u001b[0;36mDFS\u001b[1;34m(row, col)\u001b[0m\n\u001b[0;32m     11\u001b[0m     \u001b[1;32melse\u001b[0m\u001b[1;33m:\u001b[0m\u001b[1;33m\u001b[0m\u001b[1;33m\u001b[0m\u001b[0m\n\u001b[0;32m     12\u001b[0m         \u001b[1;32mfor\u001b[0m \u001b[0mi\u001b[0m \u001b[1;32min\u001b[0m \u001b[0mrange\u001b[0m\u001b[1;33m(\u001b[0m\u001b[1;36m4\u001b[0m\u001b[1;33m)\u001b[0m\u001b[1;33m:\u001b[0m\u001b[1;33m\u001b[0m\u001b[1;33m\u001b[0m\u001b[0m\n\u001b[1;32m---> 13\u001b[1;33m             \u001b[0mxx\u001b[0m \u001b[1;33m=\u001b[0m \u001b[0mrow\u001b[0m \u001b[1;33m+\u001b[0m \u001b[0mdx\u001b[0m\u001b[1;33m[\u001b[0m\u001b[0mi\u001b[0m\u001b[1;33m]\u001b[0m\u001b[1;33m\u001b[0m\u001b[1;33m\u001b[0m\u001b[0m\n\u001b[0m\u001b[0;32m     14\u001b[0m             \u001b[0myy\u001b[0m \u001b[1;33m=\u001b[0m \u001b[0mcol\u001b[0m \u001b[1;33m+\u001b[0m \u001b[0mdy\u001b[0m\u001b[1;33m[\u001b[0m\u001b[0mi\u001b[0m\u001b[1;33m]\u001b[0m\u001b[1;33m\u001b[0m\u001b[1;33m\u001b[0m\u001b[0m\n\u001b[0;32m     15\u001b[0m             \u001b[0mprint\u001b[0m\u001b[1;33m(\u001b[0m\u001b[0mxx\u001b[0m\u001b[1;33m,\u001b[0m \u001b[0myy\u001b[0m\u001b[1;33m)\u001b[0m\u001b[1;33m\u001b[0m\u001b[1;33m\u001b[0m\u001b[0m\n",
      "\u001b[1;31mIndexError\u001b[0m: list index out of range"
     ]
    }
   ],
   "source": [
    "with open(\"text/사다리in1.txt\", \"r\") as f:\n",
    "    matrix = [ list(map(int, f.readline().split())) for _ in range(10) ]\n",
    "\n",
    "chk_tbl = [[0] * 10 for _ in range(10)]\n",
    "dx = [-1, 1, 0]\n",
    "dy = [0, 0, -1]\n",
    "\n",
    "def DFS(row, col):\n",
    "    if row == 0:\n",
    "        print(col)\n",
    "    else:\n",
    "        for i in range(4):\n",
    "            xx = row + dx[i]\n",
    "            yy = col + dy[i]\n",
    "            print(xx, yy)\n",
    "        if 0 <= xx < 10 and 0 <= yy < 10 and matrix[xx][yy] == 1:\n",
    "            matrix[xx][yy] = 4\n",
    "            for i in matrix :\n",
    "                print(i)\n",
    "            DFS(xx, yy)\n",
    "            matrix[xx][yy] = 1\n",
    "matrix[9][5] = 4\n",
    "DFS(9, 5)\n",
    "        \n",
    "    "
   ]
  },
  {
   "cell_type": "code",
   "execution_count": 5,
   "metadata": {},
   "outputs": [
    {
     "name": "stdout",
     "output_type": "stream",
     "text": [
      "[1, 0, 1, 0, 0, 1, 0, 1, 0, 1]\n",
      "[1, 0, 1, 1, 1, 1, 0, 1, 0, 1]\n",
      "[1, 0, 1, 0, 0, 1, 0, 1, 0, 1]\n",
      "[1, 0, 1, 0, 0, 1, 0, 1, 1, 1]\n",
      "[1, 0, 1, 0, 0, 1, 0, 1, 0, 1]\n",
      "[1, 0, 1, 1, 1, 1, 0, 1, 0, 1]\n",
      "[1, 0, 1, 0, 0, 1, 0, 1, 1, 1]\n",
      "[1, 1, 1, 0, 0, 1, 0, 1, 0, 1]\n",
      "[1, 0, 1, 0, 0, 1, 1, 1, 0, 1]\n",
      "[1, 0, 1, 0, 0, 2, 0, 1, 0, 1]\n",
      "\n",
      "[0, 0, 0, 0, 0, 0, 0, 0, 0, 0]\n",
      "[0, 0, 0, 0, 0, 0, 0, 0, 0, 0]\n",
      "[0, 0, 0, 0, 0, 0, 0, 0, 0, 0]\n",
      "[0, 0, 0, 0, 0, 0, 0, 0, 0, 0]\n",
      "[0, 0, 0, 0, 0, 0, 0, 0, 0, 0]\n",
      "[0, 0, 0, 0, 0, 0, 0, 0, 0, 0]\n",
      "[0, 0, 0, 0, 0, 0, 0, 0, 0, 0]\n",
      "[0, 0, 0, 0, 0, 0, 0, 0, 0, 0]\n",
      "[0, 0, 0, 0, 0, 0, 0, 0, 0, 0]\n",
      "[0, 0, 0, 0, 0, 0, 0, 0, 0, 0]\n"
     ]
    }
   ],
   "source": [
    "for mm in matrix:\n",
    "    print(mm)\n",
    "print(\"\")\n",
    "for i in chk_tbl:\n",
    "    print(i)"
   ]
  },
  {
   "cell_type": "code",
   "execution_count": 9,
   "metadata": {},
   "outputs": [
    {
     "data": {
      "text/plain": [
       "4"
      ]
     },
     "execution_count": 9,
     "metadata": {},
     "output_type": "execute_result"
    }
   ],
   "source": [
    "matrix[9][5]"
   ]
  },
  {
   "cell_type": "code",
   "execution_count": 18,
   "metadata": {},
   "outputs": [
    {
     "name": "stdout",
     "output_type": "stream",
     "text": [
      "7칸에서 출발하시면 행운!!\n"
     ]
    }
   ],
   "source": [
    "def DFS(row, col):\n",
    "    chk_tbl[row][col] = 1\n",
    "    if row == 0:\n",
    "        print(\"{}칸에서 출발하시면 행운!!\".format(col))\n",
    "    else:\n",
    "        # 왼쪽 길 판단, 인덱스 에러, 벽인지 아닌지 판단, 왔던 곳인지 아닌지\n",
    "        if  col-1 >= 0 and matrix[row][col-1] == 1 and chk_tbl[row][col -1] == 0: \n",
    "            DFS(row, col - 1)\n",
    "        # 오른쪽 길 판단.\n",
    "        elif col + 1 < 10 and matrix[row][col+1] == 1 and chk_tbl[row][col+1] == 0:\n",
    "            DFS(row, col + 1)\n",
    "        else:\n",
    "            # 그외이면 위로 올라간다.\n",
    "            DFS(row - 1, col)\n",
    "# 초기화하기\n",
    "with open(\"text/사다리in1.txt\", \"r\") as f:\n",
    "    matrix = [ list(map(int, f.readline().split())) for _ in range(10)]\n",
    "    chk_tbl = [[0] *10 for _ in range(10)]\n",
    "    \n",
    "for col in range(10):\n",
    "    if matrix[9][col] == 2:\n",
    "        DFS(9, col)"
   ]
  },
  {
   "cell_type": "code",
   "execution_count": 21,
   "metadata": {},
   "outputs": [
    {
     "name": "stdout",
     "output_type": "stream",
     "text": [
      "[0, 0, 0, 0, 0, 0, 0, 1, 0, 0]\n",
      "[0, 0, 0, 0, 0, 0, 0, 1, 0, 0]\n",
      "[0, 0, 0, 0, 0, 0, 0, 1, 0, 0]\n",
      "[0, 0, 0, 0, 0, 0, 0, 1, 1, 1]\n",
      "[0, 0, 0, 0, 0, 0, 0, 0, 0, 1]\n",
      "[0, 0, 0, 0, 0, 0, 0, 0, 0, 1]\n",
      "[0, 0, 0, 0, 0, 0, 0, 1, 1, 1]\n",
      "[0, 0, 0, 0, 0, 0, 0, 1, 0, 0]\n",
      "[0, 0, 0, 0, 0, 1, 1, 1, 0, 0]\n",
      "[0, 0, 0, 0, 0, 1, 0, 0, 0, 0]\n",
      "\n",
      "[1, 0, 1, 0, 0, 1, 0, 1, 0, 1]\n",
      "[1, 0, 1, 1, 1, 1, 0, 1, 0, 1]\n",
      "[1, 0, 1, 0, 0, 1, 0, 1, 0, 1]\n",
      "[1, 0, 1, 0, 0, 1, 0, 1, 1, 1]\n",
      "[1, 0, 1, 0, 0, 1, 0, 1, 0, 1]\n",
      "[1, 0, 1, 1, 1, 1, 0, 1, 0, 1]\n",
      "[1, 0, 1, 0, 0, 1, 0, 1, 1, 1]\n",
      "[1, 1, 1, 0, 0, 1, 0, 1, 0, 1]\n",
      "[1, 0, 1, 0, 0, 1, 1, 1, 0, 1]\n",
      "[1, 0, 1, 0, 0, 2, 0, 1, 0, 1]\n"
     ]
    }
   ],
   "source": [
    "for c in chk_tbl:\n",
    "    print(c)\n",
    "print()\n",
    "for mm in matrix:\n",
    "    print(mm)"
   ]
  },
  {
   "cell_type": "code",
   "execution_count": null,
   "metadata": {},
   "outputs": [],
   "source": []
  }
 ],
 "metadata": {
  "kernelspec": {
   "display_name": "Python 3",
   "language": "python",
   "name": "python3"
  },
  "language_info": {
   "codemirror_mode": {
    "name": "ipython",
    "version": 3
   },
   "file_extension": ".py",
   "mimetype": "text/x-python",
   "name": "python",
   "nbconvert_exporter": "python",
   "pygments_lexer": "ipython3",
   "version": "3.8.3"
  }
 },
 "nbformat": 4,
 "nbformat_minor": 4
}
