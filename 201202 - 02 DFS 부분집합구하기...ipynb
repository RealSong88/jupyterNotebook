{
 "cells": [
  {
   "cell_type": "markdown",
   "metadata": {},
   "source": [
    "# 부분 집합 구하기 (DFS)\n",
    "\n",
    "## 자연수 N이 주어지면 1부터 N까지의 원소를 갖는 집합의 부분집할을 모두 출력하는 프로그램을 작성하시오\n",
    "\n",
    "\n",
    "### 입력 설명\n",
    "- 첫 번째 줄에 자연수 N(1<=N<=10)이 주어집니다.\n",
    "\n",
    "### 출력 설명\n",
    "- 첫 번째 줄부터 각 줄에 하나씩 부분집합을 아래와 출력예제와 같은 순서로 출력한다.\n",
    "- 단 공집합은 출력하지 않는다.\n",
    "\n",
    "#### 입력예제 1\n",
    "- 3\n",
    "\n",
    "#### 출력예제 1\n",
    "- 1 2 3\n",
    "- 1 2\n",
    "- 1 3\n",
    "- 1\n",
    "- 2 3\n",
    "- 2\n",
    "- 3"
   ]
  },
  {
   "cell_type": "code",
   "execution_count": 9,
   "metadata": {},
   "outputs": [
    {
     "name": "stdout",
     "output_type": "stream",
     "text": [
      "3이상 20미만의 홀수를 입력=3\n",
      "1 2 3 \n",
      "1 2 \n",
      "1 3 \n",
      "1 \n",
      "2 3 \n",
      "2 \n",
      "3 \n",
      "\n"
     ]
    }
   ],
   "source": [
    "def DFS(idx):\n",
    "    if idx == n + 1:\n",
    "        for i in range(1, n+1):\n",
    "            if ck_tbl[i]==1:\n",
    "                print(i, end=' ')\n",
    "        print()\n",
    "    else:\n",
    "        ck_tbl[idx] = 1\n",
    "        DFS(idx+1)\n",
    "        ck_tbl[idx] = 0\n",
    "        DFS(idx+1)\n",
    "    \n",
    "n = int(input(\"3이상 20미만의 홀수를 입력=\"))\n",
    "ck_tbl=[0]*(n+1)\n",
    "DFS(1)"
   ]
  },
  {
   "cell_type": "code",
   "execution_count": 3,
   "metadata": {},
   "outputs": [
    {
     "name": "stdout",
     "output_type": "stream",
     "text": [
      "자연수입력= 9\n",
      "[1, 2, 3, 4, 5, 6, 7, 8, 9]\n"
     ]
    }
   ],
   "source": [
    "def solution(n):\n",
    "    n_list = list(range(1, n+1))\n",
    "    \n",
    "    return n_list\n",
    "n = int(input(\"자연수입력= \"))\n",
    "\n",
    "print(solution(n))"
   ]
  },
  {
   "cell_type": "code",
   "execution_count": 4,
   "metadata": {},
   "outputs": [],
   "source": [
    "graph_list = {1: set([3, 4]),\n",
    "              2: set([3, 4, 5]),\n",
    "              3: set([1, 5]),\n",
    "              4: set([1]),\n",
    "              5: set([2, 6]),\n",
    "              6: set([3, 5])}\n",
    "root_node = 1"
   ]
  },
  {
   "cell_type": "code",
   "execution_count": null,
   "metadata": {},
   "outputs": [],
   "source": [
    "from collections import deque\n",
    "def BFS(graph, root):\n",
    "    visited = []\n",
    "    queue = deque([root])\n",
    "    "
   ]
  }
 ],
 "metadata": {
  "kernelspec": {
   "display_name": "Python 3",
   "language": "python",
   "name": "python3"
  },
  "language_info": {
   "codemirror_mode": {
    "name": "ipython",
    "version": 3
   },
   "file_extension": ".py",
   "mimetype": "text/x-python",
   "name": "python",
   "nbconvert_exporter": "python",
   "pygments_lexer": "ipython3",
   "version": "3.8.3"
  }
 },
 "nbformat": 4,
 "nbformat_minor": 4
}
