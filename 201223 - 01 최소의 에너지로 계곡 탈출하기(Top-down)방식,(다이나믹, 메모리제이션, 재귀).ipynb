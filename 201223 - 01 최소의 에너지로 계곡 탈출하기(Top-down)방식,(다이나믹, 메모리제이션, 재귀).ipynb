{
 "cells": [
  {
   "cell_type": "code",
   "execution_count": 46,
   "metadata": {},
   "outputs": [
    {
     "name": "stdout",
     "output_type": "stream",
     "text": [
      "100\n",
      "0.003006458282470703\n"
     ]
    }
   ],
   "source": [
    "import time\n",
    "start = time.time()\n",
    "with open(\"text/계곡탈출in3.txt\", \"r\") as f:\n",
    "    n = int(f.readline())\n",
    "    ar = [list(map(int, f.readline().split())) for _ in range(n)]\n",
    "dp = [[0]*n for _ in range(n)]\n",
    "dp[n-1][n-1] = ar[n-1][n-1]\n",
    "for i in range(n-2, -1, -1):\n",
    "    dp[i][n-1] = ar[i][n-1] + dp[i+1][n-1]\n",
    "    dp[n-1][i] = ar[n-1][i] + dp[n-1][i+1]\n",
    "    \n",
    "for i in range(n-2, -1, -1):\n",
    "    for j in range(n-2, -1, -1):\n",
    "        dp[i][j] = min(dp[i][j+1], dp[i+1][j]) + ar[i][j]\n",
    "#         print(i, j)\n",
    "print(dp[0][0])\n",
    "print(time.time() - start)"
   ]
  },
  {
   "cell_type": "code",
   "execution_count": 41,
   "metadata": {},
   "outputs": [
    {
     "name": "stdout",
     "output_type": "stream",
     "text": [
      "[14, 12, 11]\n",
      "[11, 9, 6]\n",
      "[13, 7, 2]\n"
     ]
    }
   ],
   "source": [
    "for i in dp:\n",
    "    print(i)"
   ]
  },
  {
   "cell_type": "code",
   "execution_count": 9,
   "metadata": {},
   "outputs": [
    {
     "name": "stdout",
     "output_type": "stream",
     "text": [
      "[3, 3, 5]\n",
      "[2, 3, 4]\n",
      "[6, 5, 2]\n"
     ]
    }
   ],
   "source": [
    "for i in ar:\n",
    "    print(i)"
   ]
  },
  {
   "cell_type": "code",
   "execution_count": 34,
   "metadata": {},
   "outputs": [
    {
     "name": "stdout",
     "output_type": "stream",
     "text": [
      "100\n",
      "40.20654845237732\n"
     ]
    }
   ],
   "source": [
    "# 중복 연산되서 속도가 느리다.\n",
    "import time\n",
    "start = time.time()\n",
    "with open(\"text/계곡탈출in3.txt\", \"r\") as f:\n",
    "    n = int(f.readline())\n",
    "    ar = [list(map(int, f.readline().split())) for _ in range(n)]\n",
    "    \n",
    "def DFS(row, col):\n",
    "    if row == 0 and col == 0:\n",
    "        return ar[row][col]\n",
    "    else:\n",
    "        if row==0:\n",
    "            return DFS(row, col-1) + ar[row][col]\n",
    "        elif col==0:\n",
    "            return DFS(row-1,col)+ar[row][col]\n",
    "        else:\n",
    "            return min(DFS(row-1, col), DFS(row, col-1)) + ar[row][col]\n",
    "print(DFS(n-1, n-1))\n",
    "print(time.time()-start)"
   ]
  },
  {
   "cell_type": "code",
   "execution_count": 22,
   "metadata": {},
   "outputs": [
    {
     "data": {
      "text/plain": [
       "15"
      ]
     },
     "execution_count": 22,
     "metadata": {},
     "output_type": "execute_result"
    }
   ],
   "source": [
    "DFS(1,1)"
   ]
  },
  {
   "cell_type": "code",
   "execution_count": 47,
   "metadata": {},
   "outputs": [
    {
     "name": "stdout",
     "output_type": "stream",
     "text": [
      "100\n",
      "0.001995563507080078\n"
     ]
    }
   ],
   "source": [
    "# 메모리제이션 방식\n",
    "import time\n",
    "start = time.time()\n",
    "with open(\"text/계곡탈출in3.txt\", \"r\") as f:\n",
    "    n = int(f.readline())\n",
    "    ar = [list(map(int, f.readline().split())) for _ in range(n)]\n",
    "    \n",
    "def DFS(row, col):\n",
    "    # 메모리제이션 기법을 활용하여 시간단축 cutting and edging\n",
    "    if dt[row][col] > 0 : # 초기화 값 0이 아니면 dt테이블의 값을 사용해라\n",
    "        return dt[row][col]\n",
    "    if row == 0 and col == 0:\n",
    "        return ar[row][col]\n",
    "    else:\n",
    "        if row==0:\n",
    "            dt[row][col] =  DFS(row, col-1) + ar[row][col]\n",
    "        elif col==0:\n",
    "            dt[row][col] = DFS(row-1,col)+ar[row][col]\n",
    "        else:\n",
    "            dt[row][col] = min(DFS(row-1, col), DFS(row, col-1)) + ar[row][col]\n",
    "        return dt[row][col]\n",
    "        \n",
    "dt = [[0]*n for _ in range(n)]\n",
    "print(DFS(n-1, n-1))\n",
    "print(time.time()-start)"
   ]
  },
  {
   "cell_type": "code",
   "execution_count": null,
   "metadata": {},
   "outputs": [],
   "source": []
  }
 ],
 "metadata": {
  "kernelspec": {
   "display_name": "Python 3",
   "language": "python",
   "name": "python3"
  },
  "language_info": {
   "codemirror_mode": {
    "name": "ipython",
    "version": 3
   },
   "file_extension": ".py",
   "mimetype": "text/x-python",
   "name": "python",
   "nbconvert_exporter": "python",
   "pygments_lexer": "ipython3",
   "version": "3.8.3"
  }
 },
 "nbformat": 4,
 "nbformat_minor": 4
}
