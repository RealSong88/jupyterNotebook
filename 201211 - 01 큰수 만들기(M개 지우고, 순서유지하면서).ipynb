{
 "cells": [
  {
   "cell_type": "code",
   "execution_count": 21,
   "metadata": {},
   "outputs": [
    {
     "name": "stdout",
     "output_type": "stream",
     "text": [
      "9977252641 5\n",
      "99776\n"
     ]
    }
   ],
   "source": [
    "# 선생님 버전\n",
    "number, m = map(int, input().split())\n",
    "number = list(map(int, str(number)))\n",
    "stack = []\n",
    "for xx in number:\n",
    "    while stack and m > 0 and stack[-1] < xx :\n",
    "        stack.pop()\n",
    "        m -= 1\n",
    "    stack.append(xx)\n",
    "\n",
    "if m != 0 :\n",
    "    for _ in range(m):\n",
    "        stack.pop()\n",
    "final_result = int(\"\".join(map(str, stack)))\n",
    "print(final_result)"
   ]
  },
  {
   "cell_type": "code",
   "execution_count": 24,
   "metadata": {},
   "outputs": [
    {
     "name": "stdout",
     "output_type": "stream",
     "text": [
      "99776\n",
      "7823\n"
     ]
    }
   ],
   "source": [
    "# 택영버전\n",
    "def pick(num, m):\n",
    "    numbers = str(num)\n",
    "    for i in range(m):\n",
    "        for idx in range(len(numbers[:-1])):\n",
    "            if numbers[idx] < numbers[idx + 1]:\n",
    "                numbers = numbers[:idx] + numbers[idx+1:]\n",
    "                m -= 1\n",
    "                break\n",
    "    \n",
    "    for i in range(m):\n",
    "        numbers = numbers[:-1] #pop과 같은 역할\n",
    "    return numbers\n",
    "print(pick(9977252641, 5))\n",
    "print(pick(5276823, 3))"
   ]
  },
  {
   "cell_type": "code",
   "execution_count": 1,
   "metadata": {},
   "outputs": [],
   "source": [
    "m = 3\n",
    "num = 5276823\n",
    "m2 = 5\n",
    "num2 = 9977252641"
   ]
  },
  {
   "cell_type": "code",
   "execution_count": 17,
   "metadata": {},
   "outputs": [
    {
     "name": "stdout",
     "output_type": "stream",
     "text": [
      "7\n",
      "2\n"
     ]
    }
   ],
   "source": [
    "lst =list(map(int, list(str(num))))\n",
    "idx = len(lst) - m # 시작 숫자, 숫자크기 \n",
    "top = 0\n",
    "for i in range(idx):\n",
    "    if lst[i] > top:\n",
    "        top = lst[i]\n",
    "        lst_idx = i\n",
    "\n",
    "# print(top)\n",
    "# print(lst_idx)\n",
    "\n",
    "lst_temp = lst[lst_idx:]\n",
    "result_lst = []\n",
    "max_t = 0\n",
    "while len(result_lst != idx):\n",
    "    for i in lst_temp:"
   ]
  },
  {
   "cell_type": "code",
   "execution_count": 18,
   "metadata": {},
   "outputs": [
    {
     "data": {
      "text/plain": [
       "[7, 6, 8, 2, 3]"
      ]
     },
     "execution_count": 18,
     "metadata": {},
     "output_type": "execute_result"
    }
   ],
   "source": [
    "lst_temp"
   ]
  },
  {
   "cell_type": "code",
   "execution_count": null,
   "metadata": {},
   "outputs": [],
   "source": []
  }
 ],
 "metadata": {
  "kernelspec": {
   "display_name": "Python 3",
   "language": "python",
   "name": "python3"
  },
  "language_info": {
   "codemirror_mode": {
    "name": "ipython",
    "version": 3
   },
   "file_extension": ".py",
   "mimetype": "text/x-python",
   "name": "python",
   "nbconvert_exporter": "python",
   "pygments_lexer": "ipython3",
   "version": "3.8.3"
  }
 },
 "nbformat": 4,
 "nbformat_minor": 4
}
