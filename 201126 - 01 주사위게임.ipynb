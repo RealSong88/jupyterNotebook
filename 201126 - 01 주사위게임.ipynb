{
 "cells": [
  {
   "cell_type": "markdown",
   "metadata": {},
   "source": [
    "# 주사위 게임\n",
    "\n",
    "### 1에서부터 6까지의 눈을 가진 3개의 주사위를 던져서 다음과 같은 규칙에 따라 상금을 받는 게임이 있다.\n",
    "\n",
    "### 규칙(1) 같은 눈이 3개가 나오면 10,000원 + (같은 눈)X1,000원의 상금을 받게된다.\n",
    "### 규칙(2) 같은 눈이 2개만 나오는 경우에는 1,000원 + (같은 눈)X100원의 상금을 받게된다.\n",
    "### 규칙(3) 모두 다른 눈이 나오는 경우에는 ( 그 중 가장 큰 눈)X100원의 상금을 받게된다.\n",
    "\n",
    "\n",
    "### 예를 들어, 3개의 눈 3, 3, 6이 주어지면 상금은 1,000 + 3X100으로 계산되어 1,300원을 받게 된다. 또 3개의 눈이 2, 2, 2로 주어지면 10,000 +2X1,000 으로 계산되어 600원을 상금으로 받게된다\n",
    "### N 명이 주사위 게임을 참여하였을 때, 가장 많은 상금을 받은 사람의 상금을 출력하는 프로그램을 작성하시오\n",
    "\n",
    "#### 입력 설명\n",
    "- 첫째 줄에는 참여하는 사람 수 N(2<=N<=1,000)이 주어지고 그 다음 줄부터 N개의 줄에 사람들이 주사위를 던진 3개의 눈이 빈칸을 사이에 두고 각각 주어진다.\n",
    "\n",
    "#### 정답\n",
    "- 주사위게임1.txt -> 16,000\n",
    "- 주사위게임2.txt -> 16,000\n",
    "- 주사위게임4.txt -> 1,200\n"
   ]
  },
  {
   "cell_type": "code",
   "execution_count": 39,
   "metadata": {},
   "outputs": [
    {
     "name": "stdout",
     "output_type": "stream",
     "text": [
      "400\n",
      "[16000]\n",
      "[16000, 14000]\n",
      "[16000, 14000, 12000]\n",
      "[16000, 14000, 12000, 15000]\n",
      "[16000, 14000, 12000, 15000, 16000]\n",
      "[16000, 14000, 12000, 15000, 16000, 16000]\n",
      "[16000, 14000, 12000, 15000, 16000, 16000, 11000]\n",
      "[16000, 14000, 12000, 15000, 16000, 16000, 11000, 15000]\n",
      "[16000, 14000, 12000, 15000, 16000, 16000, 11000, 15000, 13000]\n",
      "최대 상금은 = 16000원이다.\n",
      "400\n"
     ]
    }
   ],
   "source": [
    "# 미완성, 같은수가 안걸릴 확률도 있다.\n",
    "with open(\"text/주사위게임2.txt\", \"r\") as f:\n",
    "    n = int(f.readline())\n",
    "    print(n)\n",
    "    price = []\n",
    "    for _ in range(n):        \n",
    "        a, b, c = (map(int, f.readline().split()))\n",
    "        if a == b == c:\n",
    "            getMoney = max(a,b,c) * 1000 + 10000\n",
    "            price.append(getMoney)\n",
    "            print(price)\n",
    "\n",
    "    print(\"최대 상금은 = {}원이다.\".format(max(price)))\n",
    "    print(n)\n",
    "    \n",
    "    "
   ]
  },
  {
   "cell_type": "code",
   "execution_count": 17,
   "metadata": {},
   "outputs": [
    {
     "name": "stdout",
     "output_type": "stream",
     "text": [
      "다른 수\n"
     ]
    }
   ],
   "source": [
    "a, b, c = 3, 1, 4\n",
    "\n",
    "if a == b  == c:\n",
    "    price = 10000 + a * 1000\n",
    "    print(\"성공\")\n",
    "elif a == b != c:\n",
    "    price = 1000 + a * 100\n",
    "elif a != b == c:\n",
    "    price = 1000 + b * 100\n",
    "    print(\"하나만 같은 수\")\n",
    "elif a == c != b:\n",
    "    price = 1000 + c * 100\n",
    "    print(\"하나만 같은 수\")\n",
    "else:\n",
    "    price = max(a, b, c) * 100\n",
    "    print(\"다른 수\")"
   ]
  },
  {
   "cell_type": "code",
   "execution_count": 8,
   "metadata": {},
   "outputs": [
    {
     "name": "stdout",
     "output_type": "stream",
     "text": [
      "0\n",
      "1\n",
      "0\n",
      "2\n",
      "1\n",
      "2\n"
     ]
    }
   ],
   "source": [
    "\n",
    "rank1 = 10000 + max(x) * 1000\n",
    "rank2 = 1000 + max(x) * 100 \n",
    "rank3 = max(x) * 100\n",
    "for i in range(2):\n",
    "    for j in range(1, 3):\n",
    "        if i == j: continue\n",
    "        if x[i] == x[j] :\n",
    "        "
   ]
  },
  {
   "cell_type": "code",
   "execution_count": 37,
   "metadata": {},
   "outputs": [
    {
     "name": "stdout",
     "output_type": "stream",
     "text": [
      "최고 상금은 = 16000원 입니다\n"
     ]
    }
   ],
   "source": [
    "with open(\"text/주사위게임2.txt\", \"r\") as f:\n",
    "    n = int(f.readline())\n",
    "    max_price = 0\n",
    "    for i in range(n):\n",
    "        temp = list(map(int, f.readline().split()))\n",
    "        temp.sort()\n",
    "        a, b, c = temp\n",
    "\n",
    "        if a == b and b == c: # 주사위 눈이 다 같은경우\n",
    "            price = 10000 + a*1000\n",
    "            #주사위 눈이 2개만 같은 경우. sort를 시켰기 때문에  a == c까지 추가할 필요가 없음\n",
    "        elif a == b or b == c: \n",
    "            price = 1000 + (b * 100)\n",
    "        else:\n",
    "            price = c * 100\n",
    "            \n",
    "        if price > max_price :\n",
    "            max_price = price\n",
    "print(\"최고 상금은 = {}원 입니다\".format(max_price))"
   ]
  },
  {
   "cell_type": "code",
   "execution_count": null,
   "metadata": {},
   "outputs": [],
   "source": []
  }
 ],
 "metadata": {
  "kernelspec": {
   "display_name": "Python 3",
   "language": "python",
   "name": "python3"
  },
  "language_info": {
   "codemirror_mode": {
    "name": "ipython",
    "version": 3
   },
   "file_extension": ".py",
   "mimetype": "text/x-python",
   "name": "python",
   "nbconvert_exporter": "python",
   "pygments_lexer": "ipython3",
   "version": "3.8.3"
  }
 },
 "nbformat": 4,
 "nbformat_minor": 4
}
