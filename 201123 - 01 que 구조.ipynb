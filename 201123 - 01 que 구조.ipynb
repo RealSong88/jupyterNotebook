{
 "cells": [
  {
   "cell_type": "markdown",
   "metadata": {},
   "source": [
    "## 공주 구하기( 큐 자료구조로 해결)\n",
    "\n",
    "### 정보 왕국의 이웃 나라 외동딸 공주가 숲속의 괴물에게 잡혀갔습니다.\n",
    "### 정보 왕국에는 왕자가 N명이 있는데 서로 공주를 구하러 가겠다고 합니다. 정보왕국의 왕은 다음과 같은 방법으로 공주를 구하러 갈 왕자를 결정하기로 했습니다\n",
    "### 왕은 왕자들을 나이 순으로 1번부터 N번까지 차례로 번호를 매긴다. 그리고 1번 왕자부터 N번  왕자까지 순서대로 시계방향으로 돌아가며 동그랗게 앉게한다. 그리고 1번 왕자부터 시계방향으로 돌아가며 1부터 시작하여 번호를 외치게한다. 임금님이 숫자 k를 외치면 그 왕자는 공주를 구하러 가는데서 제외되고 원 밖으로 나오게된다. 그리고 다음 왕자부터 다시 1부터 시작하여 번호를 외친다\n",
    "### 이렇게 해서 마지막까지 남은 왕자가 공주를 구하러 갈 수 있다.\n",
    "\n",
    "\n",
    "\n",
    "### 예를 들어 총 8명의 왕자가 있고, 3을 외친 왕자가 제외된다고 하자. 처음에는 3번 왕자가 3을 외쳐 제외한다. 이어 6, 1, 5, 2, 8, 4번 왕자가 차례대로 제외되고 마지막까지 남게 된 7번 왕자에게 공주를 구하러갑니다.\n",
    "### N과 K가 주어질 때 공주를 구하러 갈 왕자의 번호를 출력하는 프로그램을 작성하시오.\n",
    "\n",
    "#### 입력 설명\n",
    "- 첫 줄에 자연수 N(5<=M<=1,000)rhk K(2<=K<=9)가 주어진다.\n",
    "\n",
    "#### 출력설명\n",
    "- 첫 줄에 마지막 남은 왕자의 번호를 출력합니다.\n",
    "\n",
    "#### 입력예제\n",
    "- 8 3\n",
    "\n",
    "#### 출력예제\n",
    "- 7\n",
    "\n",
    "## python 리스트에 pop(), append() 활용\n",
    "#### 리스트에서 줄어드는 경우에는 while 문을 활용하는게 더 편리"
   ]
  },
  {
   "cell_type": "code",
   "execution_count": null,
   "metadata": {},
   "outputs": [],
   "source": []
  },
  {
   "cell_type": "code",
   "execution_count": 7,
   "metadata": {},
   "outputs": [],
   "source": [
    "def solution(n, k):  # ex>> 8, 3\n",
    "    lst = list(range(1, n+1))\n",
    "    print(lst)\n",
    "    for i in range(len(lst)): # lst를 던진다.  0, 1, 2, 3, 4, 5, 6, 7\n",
    "        for j in range(k): # k=3 이면 0, 1, 2 를 던진다.\n",
    "            if len(lst) == 1:\n",
    "                break\n",
    "            if j < k - 1:\n",
    "                lst.append(lst.pop(0))\n",
    "            else:\n",
    "                lst.pop(0)\n",
    "           \n",
    "            print(lst)\n",
    "\n",
    "    return \"공주를 구하러 갈 왕자는 {}번 왕자이다\".format(lst[0])\n",
    "            \n",
    "            "
   ]
  },
  {
   "cell_type": "code",
   "execution_count": 8,
   "metadata": {},
   "outputs": [
    {
     "name": "stdout",
     "output_type": "stream",
     "text": [
      "[1, 2, 3, 4, 5, 6, 7, 8]\n",
      "[2, 3, 4, 5, 6, 7, 8, 1]\n",
      "[3, 4, 5, 6, 7, 8, 1, 2]\n",
      "[4, 5, 6, 7, 8, 1, 2]\n",
      "[5, 6, 7, 8, 1, 2, 4]\n",
      "[6, 7, 8, 1, 2, 4, 5]\n",
      "[7, 8, 1, 2, 4, 5]\n",
      "[8, 1, 2, 4, 5, 7]\n",
      "[1, 2, 4, 5, 7, 8]\n",
      "[2, 4, 5, 7, 8]\n",
      "[4, 5, 7, 8, 2]\n",
      "[5, 7, 8, 2, 4]\n",
      "[7, 8, 2, 4]\n",
      "[8, 2, 4, 7]\n",
      "[2, 4, 7, 8]\n",
      "[4, 7, 8]\n",
      "[7, 8, 4]\n",
      "[8, 4, 7]\n",
      "[4, 7]\n",
      "[7, 4]\n",
      "[4, 7]\n",
      "[7]\n",
      "공주를 구하러 갈 왕자는 7번 왕자이다\n"
     ]
    }
   ],
   "source": [
    "print(solution(8, 3))"
   ]
  },
  {
   "cell_type": "code",
   "execution_count": 9,
   "metadata": {},
   "outputs": [
    {
     "data": {
      "text/plain": [
       "[1, 2, 3, 4, 5, 6, 7, 8]"
      ]
     },
     "execution_count": 9,
     "metadata": {},
     "output_type": "execute_result"
    }
   ],
   "source": [
    "sample = list(range(1, 9))\n",
    "sample"
   ]
  },
  {
   "cell_type": "code",
   "execution_count": 10,
   "metadata": {},
   "outputs": [
    {
     "data": {
      "text/plain": [
       "[2, 3, 4, 5, 6, 7, 8, 1]"
      ]
     },
     "execution_count": 10,
     "metadata": {},
     "output_type": "execute_result"
    }
   ],
   "source": [
    "\n",
    "sample.append(sample.pop(0))\n",
    "sample"
   ]
  },
  {
   "cell_type": "code",
   "execution_count": null,
   "metadata": {},
   "outputs": [],
   "source": []
  },
  {
   "cell_type": "code",
   "execution_count": 11,
   "metadata": {},
   "outputs": [
    {
     "data": {
      "text/plain": [
       "[1, 2, 3, 4, 5, 6, 7, 8]"
      ]
     },
     "execution_count": 11,
     "metadata": {},
     "output_type": "execute_result"
    }
   ],
   "source": [
    "lst = [xx for xx in range(1, 9)]\n",
    "lst"
   ]
  },
  {
   "cell_type": "code",
   "execution_count": 12,
   "metadata": {},
   "outputs": [
    {
     "name": "stdout",
     "output_type": "stream",
     "text": [
      "n과 k를 컴마로 구분해서 입력하세요=8, 3\n",
      "[3, 4, 5, 6, 7, 8, 1, 2]\n",
      "[6, 7, 8, 1, 2, 4, 5]\n",
      "[1, 2, 4, 5, 7, 8]\n",
      "[5, 7, 8, 2, 4]\n",
      "[2, 4, 7, 8]\n",
      "[8, 4, 7]\n",
      "[4, 7]\n",
      "공주를 구하러 갈 왕자는 7번 왕자이다.\n",
      "[]\n"
     ]
    }
   ],
   "source": [
    "# 선생님 버전\n",
    "n, k = map(int, input('n과 k를 컴마로 구분해서 입력하세요=').split(','))\n",
    "princes = list(range(1, n+1))\n",
    "\n",
    "while princes:\n",
    "    for _ in range(k-1):        \n",
    "        princes.append(princes.pop(0))\n",
    "    print(princes)\n",
    "    princes.pop(0)\n",
    "    if len(princes) == 1:\n",
    "        print(\"공주를 구하러 갈 왕자는 {}번 왕자이다.\".format(princes[0]))\n",
    "        princes.pop(0)\n",
    "        print(princes)\n",
    "        "
   ]
  },
  {
   "cell_type": "code",
   "execution_count": 13,
   "metadata": {},
   "outputs": [
    {
     "name": "stdout",
     "output_type": "stream",
     "text": [
      "n과 k를 컴마로 구분해서 입력하세요=8,3\n",
      "공주를 구하러 갈 왕자는 7번 왕자이다.\n"
     ]
    }
   ],
   "source": [
    "# list 를 deque 구조로 바꾸면 pop()시 대용량 리스트나 배열에서 효율적\n",
    "# ``````````````````````\n",
    "from collections import deque\n",
    "n, k = map(int, input('n과 k를 컴마로 구분해서 입력하세요=').split(','))\n",
    "princes = list(range(1, n+1))\n",
    "dq = deque(princes)\n",
    "while dq:\n",
    "    for _ in range(k-1):        \n",
    "        dq.append(dq.popleft())\n",
    "    dq.popleft()\n",
    "\n",
    "    if len(dq) == 1:\n",
    "        print(\"공주를 구하러 갈 왕자는 {}번 왕자이다.\".format(dq[0]))\n",
    "        break\n",
    "        print(princes)"
   ]
  },
  {
   "cell_type": "code",
   "execution_count": null,
   "metadata": {},
   "outputs": [],
   "source": [
    "princes"
   ]
  },
  {
   "cell_type": "code",
   "execution_count": 26,
   "metadata": {},
   "outputs": [
    {
     "data": {
      "text/plain": [
       "[1, 2, 3, 4, 5, 6, 7, 8]"
      ]
     },
     "execution_count": 26,
     "metadata": {},
     "output_type": "execute_result"
    }
   ],
   "source": [
    "lst = [1,2,3,4,5,6,7,8]\n",
    "lst"
   ]
  },
  {
   "cell_type": "code",
   "execution_count": 27,
   "metadata": {},
   "outputs": [
    {
     "name": "stdout",
     "output_type": "stream",
     "text": [
      "7\n",
      "[1, 2, 3, 4, 5, 6, 8]\n",
      "6\n",
      "[1, 2, 3, 4, 5, 8]\n",
      "5\n",
      "[1, 2, 3, 4, 8]\n",
      "4\n",
      "[1, 2, 3, 8]\n",
      "3\n",
      "[1, 2, 8]\n",
      "2\n",
      "[1, 8]\n",
      "1\n",
      "[8]\n"
     ]
    },
    {
     "ename": "ValueError",
     "evalue": "list.remove(x): x not in list",
     "output_type": "error",
     "traceback": [
      "\u001b[1;31m---------------------------------------------------------------------------\u001b[0m",
      "\u001b[1;31mValueError\u001b[0m                                Traceback (most recent call last)",
      "\u001b[1;32m<ipython-input-27-3cdb95c447e2>\u001b[0m in \u001b[0;36m<module>\u001b[1;34m\u001b[0m\n\u001b[0;32m      2\u001b[0m     \u001b[1;32mif\u001b[0m \u001b[0mlen\u001b[0m\u001b[1;33m(\u001b[0m\u001b[0mlst\u001b[0m\u001b[1;33m)\u001b[0m \u001b[1;33m==\u001b[0m \u001b[1;36m0\u001b[0m\u001b[1;33m:\u001b[0m\u001b[1;33m\u001b[0m\u001b[1;33m\u001b[0m\u001b[0m\n\u001b[0;32m      3\u001b[0m         \u001b[1;32mbreak\u001b[0m\u001b[1;33m\u001b[0m\u001b[1;33m\u001b[0m\u001b[0m\n\u001b[1;32m----> 4\u001b[1;33m     \u001b[0mlst\u001b[0m\u001b[1;33m.\u001b[0m\u001b[0mremove\u001b[0m\u001b[1;33m(\u001b[0m\u001b[0mlen\u001b[0m\u001b[1;33m(\u001b[0m\u001b[0mlst\u001b[0m\u001b[1;33m)\u001b[0m\u001b[1;33m-\u001b[0m\u001b[1;36m1\u001b[0m\u001b[1;33m)\u001b[0m\u001b[1;33m\u001b[0m\u001b[1;33m\u001b[0m\u001b[0m\n\u001b[0m\u001b[0;32m      5\u001b[0m     \u001b[0mprint\u001b[0m\u001b[1;33m(\u001b[0m\u001b[0mlen\u001b[0m\u001b[1;33m(\u001b[0m\u001b[0mlst\u001b[0m\u001b[1;33m)\u001b[0m\u001b[1;33m)\u001b[0m\u001b[1;33m\u001b[0m\u001b[1;33m\u001b[0m\u001b[0m\n\u001b[0;32m      6\u001b[0m     \u001b[0mprint\u001b[0m\u001b[1;33m(\u001b[0m\u001b[0mlst\u001b[0m\u001b[1;33m)\u001b[0m\u001b[1;33m\u001b[0m\u001b[1;33m\u001b[0m\u001b[0m\n",
      "\u001b[1;31mValueError\u001b[0m: list.remove(x): x not in list"
     ]
    }
   ],
   "source": [
    "while lst:\n",
    "    if len(lst) == 0:\n",
    "        break\n",
    "    lst.pop(len(lst))\n",
    "    print(len(lst))\n",
    "    print(lst)"
   ]
  },
  {
   "cell_type": "code",
   "execution_count": 14,
   "metadata": {},
   "outputs": [
    {
     "name": "stdout",
     "output_type": "stream",
     "text": [
      "1\n",
      "[2, 3, 4, 5, 6, 7, 8]\n",
      "3\n",
      "[2, 4, 5, 6, 7, 8]\n",
      "5\n",
      "[2, 4, 6, 7, 8]\n",
      "7\n",
      "[2, 4, 6, 8]\n"
     ]
    }
   ],
   "source": [
    "# 앞에서부터 데이터 제거시 큐정렬로 인해 인덱스가 바뀐다.\n",
    "# 큐 정렬로 데이터 제거시 뒤에서부터 역순으로 시작해야 완전히 지울 수 있다.\n",
    "for xx in lst:\n",
    "    print(xx)\n",
    "    lst.remove(xx)\n",
    "    print(lst)"
   ]
  },
  {
   "cell_type": "code",
   "execution_count": 17,
   "metadata": {},
   "outputs": [
    {
     "name": "stdout",
     "output_type": "stream",
     "text": [
      "8\n",
      "[1, 2, 3, 4, 5, 6, 7]\n",
      "7\n",
      "[1, 2, 3, 4, 5, 6]\n",
      "6\n",
      "[1, 2, 3, 4, 5]\n",
      "5\n",
      "[1, 2, 3, 4]\n",
      "4\n",
      "[1, 2, 3]\n",
      "3\n",
      "[1, 2]\n",
      "2\n",
      "[1]\n",
      "1\n",
      "[]\n"
     ]
    }
   ],
   "source": [
    "for i in range(len(lst), 0, -1):\n",
    "    print(i)\n",
    "    lst.remove(i)\n",
    "    print(lst)"
   ]
  },
  {
   "cell_type": "code",
   "execution_count": null,
   "metadata": {},
   "outputs": [],
   "source": [
    "lst"
   ]
  }
 ],
 "metadata": {
  "kernelspec": {
   "display_name": "Python 3",
   "language": "python",
   "name": "python3"
  },
  "language_info": {
   "codemirror_mode": {
    "name": "ipython",
    "version": 3
   },
   "file_extension": ".py",
   "mimetype": "text/x-python",
   "name": "python",
   "nbconvert_exporter": "python",
   "pygments_lexer": "ipython3",
   "version": "3.8.3"
  }
 },
 "nbformat": 4,
 "nbformat_minor": 4
}
