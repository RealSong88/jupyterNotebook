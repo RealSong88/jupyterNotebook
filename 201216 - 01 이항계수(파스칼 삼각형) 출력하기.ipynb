{
 "cells": [
  {
   "cell_type": "code",
   "execution_count": 4,
   "metadata": {},
   "outputs": [
    {
     "name": "stdout",
     "output_type": "stream",
     "text": [
      "3\n",
      "1 \n",
      "1   1 \n",
      "1   2   1 \n",
      "1   3   3   1 \n",
      "[1, 3, 3, 1]\n"
     ]
    }
   ],
   "source": [
    "n = int(input())\n",
    "for i in range(n + 1):\n",
    "    lst = 1\n",
    "    Plist = [lst]\n",
    "    print('1', end = \" \")\n",
    "    for j in range(i):\n",
    "        lst = lst * (i - j) * 1 / (j + 1)\n",
    "        Plist.append(int(lst))\n",
    "        print(str(int(lst)).rjust(3), end= \" \")\n",
    "    print()\n",
    "print(Plist)   "
   ]
  },
  {
   "cell_type": "code",
   "execution_count": 9,
   "metadata": {},
   "outputs": [],
   "source": [
    "# 선생님 버전\n",
    "from math import factorial as f\n",
    "def pascal_t(n, k):\n",
    "    if k < 0 or k > n:\n",
    "        return\n",
    "    else:\n",
    "        return int(f(n)/(f(k)*f(n-k))) # 이항연산자 공식"
   ]
  },
  {
   "cell_type": "code",
   "execution_count": 15,
   "metadata": {},
   "outputs": [
    {
     "name": "stdout",
     "output_type": "stream",
     "text": [
      "4\n",
      "                                        [1]\n",
      "                                       [1, 1]\n",
      "                                      [1, 2, 1]\n",
      "                                     [1, 3, 3, 1]\n"
     ]
    }
   ],
   "source": [
    "n = int(input())\n",
    "for i in range(n):\n",
    "    b = [1] * (i + 1)\n",
    "    for j in range(i):\n",
    "        b[j] = pascal_t(i, j)\n",
    "    calib = 40 - len(b)\n",
    "    print(' '*calib, b)"
   ]
  },
  {
   "cell_type": "code",
   "execution_count": 17,
   "metadata": {},
   "outputs": [
    {
     "name": "stdout",
     "output_type": "stream",
     "text": [
      "4\n",
      "                                        [1]\n",
      "                                       [1, 1]\n",
      "                                      [1, 2, 1]\n",
      "                                     [1, 3, 3, 1]\n"
     ]
    }
   ],
   "source": [
    "# 선생님 간단한 방식\n",
    "n = int(input())\n",
    "for i in range(1, n + 1):\n",
    "    b = [1] * i \n",
    "    for j in range(1, i):\n",
    "        b[j] = b[j - 1] *(i - j) //j\n",
    "    calib = 40 - len(b)\n",
    "    print(' '*calib, b)"
   ]
  },
  {
   "cell_type": "code",
   "execution_count": 6,
   "metadata": {},
   "outputs": [
    {
     "data": {
      "text/plain": [
       "5040"
      ]
     },
     "execution_count": 6,
     "metadata": {},
     "output_type": "execute_result"
    }
   ],
   "source": [
    "def factorial(n):\n",
    "    ans = 1\n",
    "    for i in range(2, n+1):\n",
    "        ans *= i\n",
    "    return ans\n",
    "\n",
    "factorial(7)"
   ]
  },
  {
   "cell_type": "code",
   "execution_count": null,
   "metadata": {},
   "outputs": [],
   "source": []
  }
 ],
 "metadata": {
  "kernelspec": {
   "display_name": "Python 3",
   "language": "python",
   "name": "python3"
  },
  "language_info": {
   "codemirror_mode": {
    "name": "ipython",
    "version": 3
   },
   "file_extension": ".py",
   "mimetype": "text/x-python",
   "name": "python",
   "nbconvert_exporter": "python",
   "pygments_lexer": "ipython3",
   "version": "3.8.3"
  }
 },
 "nbformat": 4,
 "nbformat_minor": 4
}
