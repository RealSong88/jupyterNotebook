{
 "cells": [
  {
   "cell_type": "code",
   "execution_count": 10,
   "metadata": {},
   "outputs": [],
   "source": [
    "# *args 처리해 봅시다\n",
    "# 이선희    이 선희\n",
    "def lastname_and_firstname(*Names):\n",
    "#     print(Names)\n",
    "    for name in Names:\n",
    "        print(\"%s %s\" %(name[0], name[1:]), end=', ')\n",
    "    print(\"\\n\")"
   ]
  },
  {
   "cell_type": "code",
   "execution_count": 11,
   "metadata": {},
   "outputs": [
    {
     "name": "stdout",
     "output_type": "stream",
     "text": [
      "('이선희', '이문세', '곽철용')\n",
      "이 선희, 이 문세, 곽 철용, \n",
      "\n"
     ]
    }
   ],
   "source": [
    "lastname_and_firstname(\"이선희\", \"이문세\", \"곽철용\")"
   ]
  },
  {
   "cell_type": "code",
   "execution_count": 12,
   "metadata": {},
   "outputs": [],
   "source": [
    "star_list = [\"이선희\", \"이문세\", \"곽철용\", \"박준형\"]"
   ]
  },
  {
   "cell_type": "code",
   "execution_count": 13,
   "metadata": {},
   "outputs": [
    {
     "name": "stdout",
     "output_type": "stream",
     "text": [
      "(['이선희', '이문세', '곽철용', '박준형'],)\n",
      "이선희 ['이문세', '곽철용', '박준형'], \n",
      "\n"
     ]
    }
   ],
   "source": [
    "lastname_and_firstname(star_list)"
   ]
  },
  {
   "cell_type": "code",
   "execution_count": 14,
   "metadata": {},
   "outputs": [
    {
     "name": "stdout",
     "output_type": "stream",
     "text": [
      "(['a', 'b', 'c'],)\n",
      "a ['b', 'c'], \n",
      "\n"
     ]
    }
   ],
   "source": [
    "lastname_and_firstname(['a','b','c'])"
   ]
  },
  {
   "cell_type": "code",
   "execution_count": 15,
   "metadata": {},
   "outputs": [
    {
     "data": {
      "text/plain": [
       "3"
      ]
     },
     "execution_count": 15,
     "metadata": {},
     "output_type": "execute_result"
    }
   ],
   "source": [
    "test_str=\"김승환\"\n",
    "len(test_str)"
   ]
  },
  {
   "cell_type": "code",
   "execution_count": 16,
   "metadata": {},
   "outputs": [
    {
     "data": {
      "text/plain": [
       "'김승환'"
      ]
     },
     "execution_count": 16,
     "metadata": {},
     "output_type": "execute_result"
    }
   ],
   "source": [
    "test_str[:100] # slice 함수를 호출한다. range를 벗어놔도 융통성 있게 만들어놔서 error 가 발생하지 않음"
   ]
  },
  {
   "cell_type": "code",
   "execution_count": 17,
   "metadata": {},
   "outputs": [
    {
     "data": {
      "text/plain": [
       "'승환'"
      ]
     },
     "execution_count": 17,
     "metadata": {},
     "output_type": "execute_result"
    }
   ],
   "source": [
    "test_str[slice(1, 1000)]"
   ]
  },
  {
   "cell_type": "code",
   "execution_count": 25,
   "metadata": {},
   "outputs": [],
   "source": [
    "def voca_list(**Words):\n",
    "    for key, value in Words.items():\n",
    "        print(\"{0} is {1} \".format(key, value))"
   ]
  },
  {
   "cell_type": "code",
   "execution_count": 26,
   "metadata": {},
   "outputs": [],
   "source": [
    "a = {\"apple\": \"사과\"}"
   ]
  },
  {
   "cell_type": "code",
   "execution_count": 27,
   "metadata": {},
   "outputs": [
    {
     "ename": "TypeError",
     "evalue": "voca_list() takes 0 positional arguments but 1 was given",
     "output_type": "error",
     "traceback": [
      "\u001b[1;31m---------------------------------------------------------------------------\u001b[0m",
      "\u001b[1;31mTypeError\u001b[0m                                 Traceback (most recent call last)",
      "\u001b[1;32m<ipython-input-27-67abc66ea90d>\u001b[0m in \u001b[0;36m<module>\u001b[1;34m\u001b[0m\n\u001b[1;32m----> 1\u001b[1;33m \u001b[0mvoca_list\u001b[0m\u001b[1;33m(\u001b[0m\u001b[0ma\u001b[0m\u001b[1;33m)\u001b[0m\u001b[1;33m\u001b[0m\u001b[1;33m\u001b[0m\u001b[0m\n\u001b[0m",
      "\u001b[1;31mTypeError\u001b[0m: voca_list() takes 0 positional arguments but 1 was given"
     ]
    }
   ],
   "source": [
    "voca_list(a)"
   ]
  },
  {
   "cell_type": "code",
   "execution_count": 28,
   "metadata": {},
   "outputs": [
    {
     "name": "stdout",
     "output_type": "stream",
     "text": [
      "{'apple': '사과'}\n"
     ]
    }
   ],
   "source": [
    "print(a)"
   ]
  },
  {
   "cell_type": "code",
   "execution_count": 29,
   "metadata": {},
   "outputs": [
    {
     "name": "stdout",
     "output_type": "stream",
     "text": [
      "apple is 사과 \n",
      "banana is 바나나 \n"
     ]
    }
   ],
   "source": [
    "voca_list(apple='사과', banana='바나나')"
   ]
  },
  {
   "cell_type": "code",
   "execution_count": 33,
   "metadata": {},
   "outputs": [],
   "source": [
    "def fruit_store_board(Store_name, *Messages, **fruit_tag):\n",
    "    \"\"\"\n",
    "    Store_name : 가게이름\n",
    "    Message : 오늘 사인보드에 알릴 사항\n",
    "    fruit_tag : 과일표 가격표\n",
    "    \"\"\"\n",
    "    \n",
    "    print(\"*\"*6, Store_name, \" ******\\n\")\n",
    "    for message in Messages:\n",
    "        print(message)\n",
    "    print(\"\\n\")\n",
    "    \n",
    "    for fruit, tag in fruit_tag.items():\n",
    "        print(fruit, \"의 가격은\", tag, \"입니다.\")"
   ]
  },
  {
   "cell_type": "code",
   "execution_count": 34,
   "metadata": {},
   "outputs": [
    {
     "name": "stdout",
     "output_type": "stream",
     "text": [
      "****** KW 과일상회  ******\n",
      "\n",
      "오늘은\n",
      "청과들이\n",
      "신선합니다\n",
      "\n",
      "\n",
      "apple 의 가격은 10 입니다.\n",
      "banana 의 가격은 5 입니다.\n",
      "berry 의 가격은 20 입니다.\n"
     ]
    }
   ],
   "source": [
    "fruit_store_board(\"KW 과일상회\", \"오늘은\", \"청과들이\", \"신선합니다\", apple=10, banana=5, berry=20)"
   ]
  },
  {
   "cell_type": "markdown",
   "metadata": {},
   "source": [
    "### Cafe 스토어 보드 만들기 좌측정렬 우측정렬 활용\n"
   ]
  },
  {
   "cell_type": "code",
   "execution_count": 67,
   "metadata": {},
   "outputs": [],
   "source": [
    "def cafe_store_board(Store_name, *Messages, **cafe_price):\n",
    "    \"\"\"\n",
    "    Store_name : 가게이름\n",
    "    Message : 오늘 사인보드에 알릴 사항\n",
    "    cafe_price : cafe_가격\n",
    "    \"\"\"\n",
    "    print(\"!@#$%^\", Store_name, \"!@#$%^\")\n",
    "    for message in Messages:\n",
    "        print(message)\n",
    "    print(\"\\n\")\n",
    "    \n",
    "    for cafe, price in cafe_price.items():\n",
    "#         print(\"{0:<30}의 가격 : {1:>30}\".format(cafe, price))\n",
    "        print(\"{0:<30}의 가격 :\".format(cafe) + \"{1:>30}\".format(price))"
   ]
  },
  {
   "cell_type": "code",
   "execution_count": 68,
   "metadata": {},
   "outputs": [
    {
     "ename": "SyntaxError",
     "evalue": "invalid syntax (<ipython-input-68-87ddca96a74c>, line 1)",
     "output_type": "error",
     "traceback": [
      "\u001b[1;36m  File \u001b[1;32m\"<ipython-input-68-87ddca96a74c>\"\u001b[1;36m, line \u001b[1;32m1\u001b[0m\n\u001b[1;33m    cafe_store_board(\"KW Cafe\", \"오늘은\", \"키위주스를\", \"추천합니다.\", Americano=2000, Latte=2500, cafeMocha=3500 KiwiJuice=3000)\u001b[0m\n\u001b[1;37m                                                                                                     ^\u001b[0m\n\u001b[1;31mSyntaxError\u001b[0m\u001b[1;31m:\u001b[0m invalid syntax\n"
     ]
    }
   ],
   "source": [
    "cafe_store_board(\"KW Cafe\", \"오늘은\", \"키위주스를\", \"추천합니다.\", Americano=2000, Latte=2500, cafeMocha=3500 KiwiJuice=3000)"
   ]
  },
  {
   "cell_type": "code",
   "execution_count": 47,
   "metadata": {},
   "outputs": [
    {
     "name": "stdout",
     "output_type": "stream",
     "text": [
      "                                              cafe\n"
     ]
    }
   ],
   "source": [
    "a = \"cafe\"\n",
    "print(\"{0:>50}\".format(a))"
   ]
  },
  {
   "cell_type": "code",
   "execution_count": 59,
   "metadata": {
    "scrolled": true
   },
   "outputs": [],
   "source": [
    "# 선생님 버전\n",
    "def cafe_store_board2(Store_name, *Messages, **cafe_tag):\n",
    "    \"\"\"\n",
    "    Store_name : 카페이름\n",
    "    Message : 오늘 사인보드에 알릴 사항\n",
    "    fruit_tag : 메뉴구성 및 가격표\n",
    "    \"\"\"\n",
    "    \n",
    "    print(\"*\"*6, Store_name, \"******\\n\")\n",
    "    for message in Messages:\n",
    "        print(message)\n",
    "    print(\"\\n\")\n",
    "    \n",
    "    for menu, tag in cafe_tag.items():\n",
    "        calib = 40 - len(menu)*2 - len(str(tag)) # menu가 한글이여서 2를 곱한다.\n",
    "        print('{}'.format(menu),'.'*calib, \"{}\".format(tag))"
   ]
  },
  {
   "cell_type": "code",
   "execution_count": 60,
   "metadata": {},
   "outputs": [
    {
     "name": "stdout",
     "output_type": "stream",
     "text": [
      "****** KW 카페 ******\n",
      "\n",
      "키위주스 추천\n",
      "짱짱\n",
      "\n",
      "\n",
      "아메키라노 .......................... 2000\n",
      "모카 ................................ 3000\n",
      "라떼 ................................ 2500\n",
      "키위주스 ............................ 3500\n"
     ]
    }
   ],
   "source": [
    "cafe_store_board2(\"KW 카페\", \"키위주스 추천\", \"짱짱\", 아메키라노=2000, 모카=3000, 라떼=2500, 키위주스=3500)"
   ]
  },
  {
   "cell_type": "code",
   "execution_count": 85,
   "metadata": {},
   "outputs": [],
   "source": [
    "def cafe_store_board3(Store_name, *Messages, **cafe_tag):\n",
    "    \"\"\"\n",
    "    Store_name : 카페이름\n",
    "    Message : 오늘 사인보드에 알릴 사항\n",
    "    fruit_tag : 메뉴구성 및 가격표\n",
    "    \"\"\"\n",
    "    \n",
    "    print(\"*\"*6, Store_name, \"******\\n\")\n",
    "    for message in Messages:\n",
    "        print(message)\n",
    "    print(\"\\n\")\n",
    "    \n",
    "    for menu, tag in cafe_tag.items():\n",
    "        print(\"{0:<30} {1:>30}\".format(menu, tag))\n",
    "#         print(\"{0:<30}의 가격 :\".format(menu) + \"{1:>30}\".format(tag))"
   ]
  },
  {
   "cell_type": "code",
   "execution_count": 86,
   "metadata": {},
   "outputs": [
    {
     "name": "stdout",
     "output_type": "stream",
     "text": [
      "****** KW 카페 ******\n",
      "\n",
      "키위주스 추천\n",
      "짱짱\n",
      "\n",
      "\n",
      "아메키라노                                                    2000\n",
      "모카                                                       3000\n",
      "라떼                                                       2500\n",
      "키위주스                                                     3500\n"
     ]
    }
   ],
   "source": [
    "cafe_store_board3(\"KW 카페\", \"키위주스 추천\", \"짱짱\", 아메키라노=2000, 모카=3000, 라떼=2500, 키위주스=3500)"
   ]
  },
  {
   "cell_type": "code",
   "execution_count": null,
   "metadata": {},
   "outputs": [],
   "source": []
  }
 ],
 "metadata": {
  "kernelspec": {
   "display_name": "Python 3",
   "language": "python",
   "name": "python3"
  },
  "language_info": {
   "codemirror_mode": {
    "name": "ipython",
    "version": 3
   },
   "file_extension": ".py",
   "mimetype": "text/x-python",
   "name": "python",
   "nbconvert_exporter": "python",
   "pygments_lexer": "ipython3",
   "version": "3.8.3"
  }
 },
 "nbformat": 4,
 "nbformat_minor": 4
}
