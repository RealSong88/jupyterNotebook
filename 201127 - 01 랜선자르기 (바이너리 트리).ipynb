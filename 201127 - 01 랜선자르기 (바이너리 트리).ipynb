{
 "cells": [
  {
   "cell_type": "markdown",
   "metadata": {},
   "source": [
    "#### 랜선자르기(결정알고리즘)\n",
    "\n",
    "### 엘리트 학원은 자체적으로 K개의 랜선을 가지고 있다. 그러나 K개의 랜선은 길이가 제각각이다. 선생님은 랜선을 모두 N개의 같은 길이의 랜선으로 만들고 싶었기 때문에 K개의 랜선을 잘라서 만들어야한다. 예를 들어 300cm 짜리 랜선에서 140cm 짜리 랜선을 두개 잘라내면 20cm는 버려야한다. (이미 자른 랜선은 붙일 수 없다.)\n",
    "\n",
    "### 편의를 위해 랜선을 자를때 손실되는 길이는 없다고 가정하며, 기존의 K개의 랜선으로 N개의 랜선을 만들 수 없는 경우는 없다고 가정하자. 그리고 자를 때는 항상 센티미터 단위로 정수길이만큼 자른다고 가정하자. N개보다 많이 만드는 것도 N개를 만드는 것에 포함된다. 이 때 만들 수 있는 최대 랜선의 길이를 구하는 프로그램을 작성하시오\n",
    "\n",
    "\n",
    "#### 입력 설명\n",
    "- 첫째 줄에는 엘리트학원이 이미 가지고 있는 랜선의 개수 K, 그리고 필요한 랜선의 개수 N이 입력된다.\n",
    "- K는 1이상 10,000이하의 정수이고, N은 1이상 1,000,000이하의 정수이다. 그리고 항상 K <= N 이다. \n",
    "- 그 후 K줄에 걸쳐 이미 가지고 있는 각 랜선의 길이가 센티미터 단위의 정수로 입력된다.\n",
    "\n",
    "\n",
    "\n",
    "#### 출력 설명\n",
    "- 첫째 줄에 N개를 만들수 있는 랜선의 최대길이를 센티미터 단위의 정수로 출력한다.\n",
    "\n",
    "#### 입력예제 1\n",
    "- 4 11\n",
    "- 802\n",
    "- 743\n",
    "- 457\n",
    "- 539\n",
    "\n",
    "#### 출력예제 1\n",
    "- 200\n",
    "\n",
    "##### 예제설명) 802cm 랜선에서 4개, 743cm 랜선에서 3개, 457cm 랜선에서 2개, 539cm 랜선에서 2개를 잘라내 모두 11개를 만들 수 있다\n",
    "\n",
    "### < 정답 >\n",
    "\n",
    "- 랜선자르기in1.txt - > 150\n",
    "- 랜선자르기in2.txt - > 166\n",
    "- 랜선자르기in3.txt - > 40198\n",
    "- 랜선자르기in4.txt - > 200"
   ]
  },
  {
   "cell_type": "code",
   "execution_count": 19,
   "metadata": {},
   "outputs": [],
   "source": [
    "\n",
    "        "
   ]
  },
  {
   "cell_type": "code",
   "execution_count": 38,
   "metadata": {},
   "outputs": [
    {
     "name": "stdout",
     "output_type": "stream",
     "text": [
      "800 100000\n",
      "40359\n",
      "케이블의 길이는 40198\n"
     ]
    }
   ],
   "source": [
    " def ave_func(lst, n):\n",
    "    return sum(lst) // n # 랜선의 길이 총합에 만들어야할 N개의 랜선을 나눈다.\n",
    "\n",
    "with open('text/랜선자르기in3.txt', \"r\") as f:\n",
    "        k, n = map(int, f.readline().split())\n",
    "        print(k, n)\n",
    "        lst = [int(f.readline()) for _ in range(k)]\n",
    "#         print(lst)\n",
    "        lst.sort()\n",
    "#         print(lst)\n",
    "middle = ave_func(lst, n)\n",
    "print(middle)\n",
    "while (True):\n",
    "    cnt = 0\n",
    "    for i in lst:\n",
    "        cnt += i // middle\n",
    "    if cnt >= n :\n",
    "        break\n",
    "    middle -= 1\n",
    "print(\"케이블의 길이는\", middle)"
   ]
  },
  {
   "cell_type": "code",
   "execution_count": 10,
   "metadata": {},
   "outputs": [],
   "source": []
  },
  {
   "cell_type": "code",
   "execution_count": 28,
   "metadata": {},
   "outputs": [
    {
     "name": "stdout",
     "output_type": "stream",
     "text": [
      "231\n"
     ]
    }
   ],
   "source": [
    "print(ave_func(lst, n))"
   ]
  },
  {
   "cell_type": "code",
   "execution_count": 42,
   "metadata": {},
   "outputs": [
    {
     "name": "stdout",
     "output_type": "stream",
     "text": [
      "mid, Lan_Cable, lmin, rmax\n",
      "376 3 0 753\n",
      "187 8 0 375\n",
      "93 18 0 186\n",
      "140 10 94 186\n",
      "163 9 141 186\n",
      "151 9 141 162\n",
      "145 10 141 150\n",
      "148 10 146 150\n",
      "149 10 149 150\n",
      "150 10 150 150\n",
      "[93, 140, 145, 148, 149, 150]\n",
      "최대 길이 : 150\n"
     ]
    }
   ],
   "source": [
    "with open(\"text/랜선자르기in1.txt\", \"r\") as f:\n",
    "    k, n = map(int, f.readline().split())\n",
    "    Line = []\n",
    "    answer = []\n",
    "    \n",
    "    for _ in range(k):\n",
    "        Line.append(int(f.readline()))\n",
    "\n",
    "def Lan_Cable(length):\n",
    "    cnt = 0\n",
    "    for x in Line:\n",
    "        cnt += (x // length)\n",
    "    return cnt\n",
    "\n",
    "Line.sort()\n",
    "left_min = 0\n",
    "right_max = Line[-1]\n",
    "print(\"mid, Lan_Cable, lmin, rmax\")\n",
    "while left_min <= right_max :\n",
    "    mid = (left_min + right_max) // 2\n",
    "    print(mid, Lan_Cable(mid), left_min, right_max)\n",
    "    if Lan_Cable(mid) >= n:\n",
    "        answer.append(mid)\n",
    "        left_min = mid + 1\n",
    "    else:\n",
    "        right_max = mid - 1\n",
    "print(answer) # n 개를 만들수있는 길이 리스트\n",
    "print(\"최대 길이 : {}\".format(max(answer)))\n"
   ]
  },
  {
   "cell_type": "code",
   "execution_count": null,
   "metadata": {},
   "outputs": [],
   "source": []
  }
 ],
 "metadata": {
  "kernelspec": {
   "display_name": "Python 3",
   "language": "python",
   "name": "python3"
  },
  "language_info": {
   "codemirror_mode": {
    "name": "ipython",
    "version": 3
   },
   "file_extension": ".py",
   "mimetype": "text/x-python",
   "name": "python",
   "nbconvert_exporter": "python",
   "pygments_lexer": "ipython3",
   "version": "3.8.3"
  }
 },
 "nbformat": 4,
 "nbformat_minor": 4
}
