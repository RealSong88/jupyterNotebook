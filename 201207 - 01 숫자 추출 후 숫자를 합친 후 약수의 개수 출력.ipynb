{
 "cells": [
  {
   "cell_type": "markdown",
   "metadata": {},
   "source": [
    "### 문자와 숫자가 섞여있는 문자열이 주어지면 그 중 숫자만 추출하여 그 순서대로 자연수를 만듭니다. 만들어진 자연수와 그 자연수의 약수 개수를 출력합니다.\n",
    "\n",
    "### 만약 \"TOEOA1C2HOER\"에서 숫자만 추출하면 0, 0, 1, 2, 0 이고 이것을 자연수를 만들면 120이 니다. 즉 첫자리 0은 자연수화 할 때 무시합니다. 출력은 120을 출력하고, 다음줄에 120의 약수의 개수를 출력하면 됩니다.\n",
    "\n",
    "#### 입력예제 1\n",
    "- g0en2Ts8eSoft\n",
    "\n",
    "#### 출력예제 1\n",
    "- 28\n",
    "- 6\n",
    "\n"
   ]
  },
  {
   "cell_type": "code",
   "execution_count": 3,
   "metadata": {},
   "outputs": [
    {
     "name": "stdout",
     "output_type": "stream",
     "text": [
      "28\n"
     ]
    }
   ],
   "source": [
    "x = \"g0en2Ts8eSoft\"\n",
    "temp_num = \"\"\n",
    "for i in x:\n",
    "    if i.isnumeric():\n",
    "        temp_num += i\n",
    "print(int(temp_num))"
   ]
  },
  {
   "cell_type": "code",
   "execution_count": 16,
   "metadata": {},
   "outputs": [],
   "source": [
    "def solution(s):\n",
    "    cnt = 0\n",
    "    temp_num = \"\"\n",
    "    for i in s:\n",
    "        if i.isnumeric():\n",
    "            temp_num += i\n",
    "    real_num = int(temp_num)\n",
    "#     print(real_num)\n",
    "    for i in range(1, real_num + 1):\n",
    "        if real_num % i == 0:\n",
    "            cnt+=1\n",
    "    return \"약수의 개수는 : %d\" %cnt\n"
   ]
  },
  {
   "cell_type": "code",
   "execution_count": 17,
   "metadata": {},
   "outputs": [
    {
     "name": "stdout",
     "output_type": "stream",
     "text": [
      "약수의 개수는 : 6\n",
      "약수의 개수는 : 16\n"
     ]
    }
   ],
   "source": [
    "print(solution(x))\n",
    "print(solution(\"TOEOA1C2H0ER\"))"
   ]
  },
  {
   "cell_type": "code",
   "execution_count": 19,
   "metadata": {},
   "outputs": [
    {
     "name": "stdout",
     "output_type": "stream",
     "text": [
      "12930jsdalj41j2ljlj\n",
      "12930412\n",
      "24\n"
     ]
    }
   ],
   "source": [
    "# 선생님버전\n",
    "temp_str = input()\n",
    "num = 0\n",
    "for xx in temp_str:\n",
    "    if xx.isdecimal():\n",
    "        num = num * 10 + int(xx)\n",
    "print(num)\n",
    "cnt = 0\n",
    "for i in range(1, num+1):\n",
    "    if(num % i == 0):\n",
    "        cnt += 1\n",
    "print(cnt)"
   ]
  },
  {
   "cell_type": "code",
   "execution_count": null,
   "metadata": {},
   "outputs": [],
   "source": []
  }
 ],
 "metadata": {
  "kernelspec": {
   "display_name": "Python 3",
   "language": "python",
   "name": "python3"
  },
  "language_info": {
   "codemirror_mode": {
    "name": "ipython",
    "version": 3
   },
   "file_extension": ".py",
   "mimetype": "text/x-python",
   "name": "python",
   "nbconvert_exporter": "python",
   "pygments_lexer": "ipython3",
   "version": "3.8.3"
  }
 },
 "nbformat": 4,
 "nbformat_minor": 4
}
