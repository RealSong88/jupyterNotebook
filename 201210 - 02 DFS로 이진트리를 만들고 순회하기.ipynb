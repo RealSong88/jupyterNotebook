{
 "cells": [
  {
   "cell_type": "code",
   "execution_count": 5,
   "metadata": {},
   "outputs": [
    {
     "name": "stdout",
     "output_type": "stream",
     "text": [
      "4 5 2 6 7 3 1 "
     ]
    }
   ],
   "source": [
    "def DFS(n): # 후위 순회\n",
    "    if n > 7:\n",
    "#         print(n, end= \" \")\n",
    "        return\n",
    "    else:\n",
    "        DFS(n*2)\n",
    "        DFS(n*2 + 1)\n",
    "        print(n, end = \" \")\n",
    "DFS(1)"
   ]
  },
  {
   "cell_type": "code",
   "execution_count": 8,
   "metadata": {},
   "outputs": [
    {
     "name": "stdout",
     "output_type": "stream",
     "text": [
      "4 2 5 1 6 3 7 "
     ]
    }
   ],
   "source": [
    "def DFS(n): # 중위 순회\n",
    "    if n > 7:\n",
    "#         print(n, end= \" \")\n",
    "        return\n",
    "    else:       \n",
    "        DFS(n*2)\n",
    "        print(n, end = \" \")\n",
    "        DFS(n*2 + 1)\n",
    "        \n",
    "DFS(1)"
   ]
  },
  {
   "cell_type": "code",
   "execution_count": 9,
   "metadata": {},
   "outputs": [
    {
     "name": "stdout",
     "output_type": "stream",
     "text": [
      "1 2 4 5 3 6 7 "
     ]
    }
   ],
   "source": [
    "def DFS(n): # 전위 순회\n",
    "    if n > 7:\n",
    "#         print(n, end= \" \")\n",
    "        return\n",
    "    else:\n",
    "        print(n, end = \" \")\n",
    "        DFS(n*2)        \n",
    "        DFS(n*2 + 1)\n",
    "        \n",
    "DFS(1)"
   ]
  },
  {
   "cell_type": "code",
   "execution_count": null,
   "metadata": {},
   "outputs": [],
   "source": []
  }
 ],
 "metadata": {
  "kernelspec": {
   "display_name": "Python 3",
   "language": "python",
   "name": "python3"
  },
  "language_info": {
   "codemirror_mode": {
    "name": "ipython",
    "version": 3
   },
   "file_extension": ".py",
   "mimetype": "text/x-python",
   "name": "python",
   "nbconvert_exporter": "python",
   "pygments_lexer": "ipython3",
   "version": "3.8.3"
  }
 },
 "nbformat": 4,
 "nbformat_minor": 4
}
