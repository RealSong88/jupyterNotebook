{
 "cells": [
  {
   "cell_type": "markdown",
   "metadata": {},
   "source": [
    "# DFS로 십진수 이진수로 변환\n",
    "\n",
    "### 재귀함수를 이용한 이진수 출력, 10진수 N이 입력되면 2진수로 변환하여 출력하는 프로그램을 작성하세요, 단 재귀함수를 이용 해서 출력\n",
    "\n",
    "#### 입력설명\n",
    "- 첫 번째 줄에 10진수 N(1<=N<1000)이 주어진다.\n",
    "\n",
    "### 출력설명\n",
    "- 첫 번째 줄에 이진수를 출력하세요\n",
    "\n",
    "#### 입력예제1\n",
    "- 11\n",
    "#### 출력예제1\n",
    "- 1011"
   ]
  },
  {
   "cell_type": "code",
   "execution_count": 24,
   "metadata": {},
   "outputs": [
    {
     "name": "stdout",
     "output_type": "stream",
     "text": [
      "5\n",
      "101"
     ]
    }
   ],
   "source": [
    "def DFS(n):\n",
    "    if n == 0 :\n",
    "#         print(n, end=\"\")\n",
    "        return \n",
    "    else:\n",
    "#         print(n%2, end=\"\") ## DFS들어가기전에 출력을 하면 2진수값에 역순으로 찍힌다.\n",
    "        DFS(n//2)\n",
    "        print(n%2, end=\"\")\n",
    "N = int(input())\n",
    "DFS(N)"
   ]
  },
  {
   "cell_type": "code",
   "execution_count": 22,
   "metadata": {},
   "outputs": [
    {
     "name": "stdout",
     "output_type": "stream",
     "text": [
      "100001"
     ]
    }
   ],
   "source": [
    "DFS(33)"
   ]
  },
  {
   "cell_type": "code",
   "execution_count": 11,
   "metadata": {},
   "outputs": [
    {
     "data": {
      "text/plain": [
       "2"
      ]
     },
     "execution_count": 11,
     "metadata": {},
     "output_type": "execute_result"
    }
   ],
   "source": [
    "5//2"
   ]
  },
  {
   "cell_type": "code",
   "execution_count": 12,
   "metadata": {},
   "outputs": [
    {
     "data": {
      "text/plain": [
       "1"
      ]
     },
     "execution_count": 12,
     "metadata": {},
     "output_type": "execute_result"
    }
   ],
   "source": [
    "2//2"
   ]
  },
  {
   "cell_type": "code",
   "execution_count": 13,
   "metadata": {},
   "outputs": [
    {
     "data": {
      "text/plain": [
       "0"
      ]
     },
     "execution_count": 13,
     "metadata": {},
     "output_type": "execute_result"
    }
   ],
   "source": [
    "1//2"
   ]
  },
  {
   "cell_type": "code",
   "execution_count": null,
   "metadata": {},
   "outputs": [],
   "source": []
  }
 ],
 "metadata": {
  "kernelspec": {
   "display_name": "Python 3",
   "language": "python",
   "name": "python3"
  },
  "language_info": {
   "codemirror_mode": {
    "name": "ipython",
    "version": 3
   },
   "file_extension": ".py",
   "mimetype": "text/x-python",
   "name": "python",
   "nbconvert_exporter": "python",
   "pygments_lexer": "ipython3",
   "version": "3.8.3"
  }
 },
 "nbformat": 4,
 "nbformat_minor": 4
}
