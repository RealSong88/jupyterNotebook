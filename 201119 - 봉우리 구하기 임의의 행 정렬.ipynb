{
 "cells": [
  {
   "cell_type": "markdown",
   "metadata": {},
   "source": [
    "# 봉우리\n",
    "\n",
    "지도 정보가 N X N 격자판에 주어집니다. 각 격자에는 그 지역의 높이가 쓰여있습니다. 각 격자 판의 숫자 중 자신의 상하좌우 숫자보다 큰 숫자는 봉우리 지역입니다. 봉우리 지역이 몇 개 있는 지 알아내는 프로그램을 작성하시오\n",
    "\n",
    "#### 격자의 가장자리는 0으로 초기화 되었다고 가정한다. 만약 N=5 이고, 격자판의 숫자가 다음과 같다면 봉우리의 개수는 10개입니다\n",
    "\n",
    "#### 입력 설명\n",
    "#### 첫 줄에 자연수 N이 주어진다(1<=N<=50)\n",
    "#### 두번 째 줄부터 N줄에 걸쳐 각 줄에 N개의 자연수가 주어진다. 각 자연수는 100을 넘지 않는다."
   ]
  },
  {
   "cell_type": "code",
   "execution_count": null,
   "metadata": {},
   "outputs": [],
   "source": []
  },
  {
   "cell_type": "code",
   "execution_count": 57,
   "metadata": {},
   "outputs": [
    {
     "name": "stdout",
     "output_type": "stream",
     "text": [
      "5\n",
      "[[5, 3, 7, 2, 3], [3, 7, 1, 6, 1], [7, 2, 5, 3, 4], [4, 3, 6, 4, 1], [8, 7, 3, 5, 2]]\n"
     ]
    }
   ],
   "source": [
    "with open(\"봉우리in3.txt\", \"r\") as f:\n",
    "    n = int(f.readline())\n",
    "    print(n)\n",
    "    lst = [list(map(int, f.readline().split())) for _ in range(n)]\n",
    "    print(lst)\n",
    "    "
   ]
  },
  {
   "cell_type": "code",
   "execution_count": 58,
   "metadata": {},
   "outputs": [
    {
     "data": {
      "text/plain": [
       "[[5, 3, 7, 2, 3],\n",
       " [3, 7, 1, 6, 1],\n",
       " [7, 2, 5, 3, 4],\n",
       " [4, 3, 6, 4, 1],\n",
       " [8, 7, 3, 5, 2]]"
      ]
     },
     "execution_count": 58,
     "metadata": {},
     "output_type": "execute_result"
    }
   ],
   "source": [
    "lst"
   ]
  },
  {
   "cell_type": "code",
   "execution_count": 59,
   "metadata": {},
   "outputs": [],
   "source": [
    "lst\n",
    "lst.insert(0, [0,0,0,0,0,0,0])\n",
    "lst[1].insert(0, 0)\n",
    "lst[1].insert(n+1, 0)\n",
    "lst[2].insert(0, 0)\n",
    "lst[2].insert(n+1, 0)\n",
    "lst[3].insert(0, 0)\n",
    "lst[3].insert(n+1, 0)\n",
    "lst[4].insert(0, 0)\n",
    "lst[4].insert(n+1, 0)\n",
    "lst[5].insert(0, 0)\n",
    "lst[5].insert(n+1, 0)\n",
    "lst.append([0, 0, 0, 0, 0, 0, 0])"
   ]
  },
  {
   "cell_type": "code",
   "execution_count": 60,
   "metadata": {},
   "outputs": [
    {
     "data": {
      "text/plain": [
       "[[0, 0, 0, 0, 0, 0, 0],\n",
       " [0, 5, 3, 7, 2, 3, 0],\n",
       " [0, 3, 7, 1, 6, 1, 0],\n",
       " [0, 7, 2, 5, 3, 4, 0],\n",
       " [0, 4, 3, 6, 4, 1, 0],\n",
       " [0, 8, 7, 3, 5, 2, 0],\n",
       " [0, 0, 0, 0, 0, 0, 0]]"
      ]
     },
     "execution_count": 60,
     "metadata": {},
     "output_type": "execute_result"
    }
   ],
   "source": [
    "lst\n"
   ]
  },
  {
   "cell_type": "code",
   "execution_count": null,
   "metadata": {},
   "outputs": [],
   "source": []
  },
  {
   "cell_type": "code",
   "execution_count": null,
   "metadata": {},
   "outputs": [],
   "source": []
  },
  {
   "cell_type": "code",
   "execution_count": 14,
   "metadata": {},
   "outputs": [],
   "source": [
    "x = [([0]*(5+2))]*(5+2)"
   ]
  },
  {
   "cell_type": "code",
   "execution_count": 15,
   "metadata": {},
   "outputs": [
    {
     "data": {
      "text/plain": [
       "[[0, 0, 0, 0, 0, 0, 0],\n",
       " [0, 0, 0, 0, 0, 0, 0],\n",
       " [0, 0, 0, 0, 0, 0, 0],\n",
       " [0, 0, 0, 0, 0, 0, 0],\n",
       " [0, 0, 0, 0, 0, 0, 0],\n",
       " [0, 0, 0, 0, 0, 0, 0],\n",
       " [0, 0, 0, 0, 0, 0, 0]]"
      ]
     },
     "execution_count": 15,
     "metadata": {},
     "output_type": "execute_result"
    }
   ],
   "source": [
    "x"
   ]
  },
  {
   "cell_type": "code",
   "execution_count": 64,
   "metadata": {},
   "outputs": [
    {
     "name": "stdout",
     "output_type": "stream",
     "text": [
      "봉우리 갯수는 11개 입니다. \n"
     ]
    }
   ],
   "source": [
    "# 선생님 버전 filter 활용하자\n",
    "f = open(\"봉우리in1.txt\", \"r\")\n",
    "n = int(f.readline())\n",
    "a = [list(map(int, f.readline().split())) for _ in range(n)]\n",
    "a.insert(0, [0]*n)\n",
    "a.append([0]*n)\n",
    "\n",
    "for xx in a:\n",
    "    xx.insert(0, 0)\n",
    "    xx.append(0)\n",
    "all()\n",
    "cnt = 0\n",
    "dx = [-1, 0, 1, 0]\n",
    "dy = [ 0, 1, 0, -1]\n",
    "for i in range(1, n+1):\n",
    "    for j in range(1, n+1):\n",
    "        if all(a[i][j] > a[i + dx[k]][j + dy[k]] for k in range(4)): # all() 함수\n",
    "            cnt += 1\n",
    "print(\"봉우리 갯수는 {}개 입니다. \".format(cnt))"
   ]
  },
  {
   "cell_type": "code",
   "execution_count": 65,
   "metadata": {},
   "outputs": [],
   "source": [
    "# zero_lst = [0, 0, 0, 0, 0, 0, 0]\n",
    "# a.insert(0, zero_lst)\n",
    "# a.append(zero_lst)"
   ]
  },
  {
   "cell_type": "code",
   "execution_count": 68,
   "metadata": {},
   "outputs": [
    {
     "name": "stdout",
     "output_type": "stream",
     "text": [
      "봉우리 갯수는 91개 입니다. \n"
     ]
    }
   ],
   "source": [
    "# 소애씨 버전\n",
    "f = open(\"봉우리in2.txt\", \"r\")\n",
    "n = int(f.readline())\n",
    "a = [list(map(int, f.readline().split())) for _ in range(n)]\n",
    "a.insert(0, [0]*n)\n",
    "a.append([0]*n)\n",
    "\n",
    "for xx in a:\n",
    "    xx.insert(0, 0)\n",
    "    xx.append(0)\n",
    "\n",
    "cnt = 0\n",
    "\n",
    "for i in range(1, n+1):\n",
    "    for j in range(1, n+1):\n",
    "        #                 위                    아래                      왼쪽                    오른쪽\n",
    "        if (a[i][j] > a[i-1][j] and a[i][j] > a[i+1][j] and a[i][j] > a[i][j-1] and a[i][j] > a[i][j+1]):\n",
    "            cnt += 1\n",
    "            \n",
    "print(\"봉우리 갯수는 {}개 입니다. \".format(cnt))"
   ]
  },
  {
   "cell_type": "markdown",
   "metadata": {},
   "source": [
    "### 이차원 배열에서 원하는 column 기준으로 정렬하기\n",
    "### 많이 쓰임\n",
    "### "
   ]
  },
  {
   "cell_type": "code",
   "execution_count": 3,
   "metadata": {},
   "outputs": [],
   "source": [
    "timetable = [(2, 3), (6, 9), (1, 2), (7, 9), (10, 12), (4, 6), (5, 9), (2, 11), (3, 17)]\n"
   ]
  },
  {
   "cell_type": "code",
   "execution_count": 79,
   "metadata": {},
   "outputs": [],
   "source": [
    "timetable.sort(key=lambda x: (x[1], x[0]))"
   ]
  },
  {
   "cell_type": "code",
   "execution_count": 10,
   "metadata": {},
   "outputs": [
    {
     "data": {
      "text/plain": [
       "[(2, 3), (6, 9), (1, 2), (7, 9), (10, 12), (4, 6), (5, 9), (2, 11), (3, 17)]"
      ]
     },
     "execution_count": 10,
     "metadata": {},
     "output_type": "execute_result"
    }
   ],
   "source": [
    "timetable"
   ]
  },
  {
   "cell_type": "code",
   "execution_count": 78,
   "metadata": {},
   "outputs": [
    {
     "name": "stdout",
     "output_type": "stream",
     "text": [
      "0 (2, 3)\n",
      "1 (6, 9)\n",
      "2 (1, 2)\n",
      "3 (7, 9)\n",
      "4 (10, 12)\n",
      "5 (4, 6)\n",
      "6 (5, 9)\n",
      "7 (2, 11)\n",
      "8 (3, 17)\n"
     ]
    }
   ],
   "source": [
    "min_val = 0\n",
    "for i, num in enumerate(timetable):\n",
    "    print(i, num)\n",
    "    if num[1] > min_val:\n",
    "        min_val = num[1]\n",
    "sort()\n",
    "    \n",
    "    "
   ]
  },
  {
   "cell_type": "code",
   "execution_count": 13,
   "metadata": {},
   "outputs": [
    {
     "data": {
      "text/plain": [
       "[(2, 3), (6, 9), (1, 2), (7, 9), (10, 12), (4, 6), (5, 9), (2, 11), (3, 17)]"
      ]
     },
     "execution_count": 13,
     "metadata": {},
     "output_type": "execute_result"
    }
   ],
   "source": [
    "timetable\n",
    "    "
   ]
  },
  {
   "cell_type": "code",
   "execution_count": 15,
   "metadata": {},
   "outputs": [],
   "source": [
    "def myfunc(timetable):\n",
    "    print(timetable)\n",
    "#     print(timetable[1], timetable[0])\n",
    "#     return timetable[1], timetable[0]\n",
    "\n",
    "# x = sorted(timetable, key=myfunc)"
   ]
  },
  {
   "cell_type": "code",
   "execution_count": 57,
   "metadata": {},
   "outputs": [
    {
     "data": {
      "text/plain": [
       "[3, 9, 2, 9, 12, 6, 9, 11, 17]"
      ]
     },
     "execution_count": 57,
     "metadata": {},
     "output_type": "execute_result"
    }
   ],
   "source": [
    "list(map(myfunc, timetable))"
   ]
  },
  {
   "cell_type": "code",
   "execution_count": 58,
   "metadata": {},
   "outputs": [
    {
     "data": {
      "text/plain": [
       "[(1, 2), (2, 3), (4, 6), (6, 9), (7, 9), (5, 9), (2, 11), (10, 12), (3, 17)]"
      ]
     },
     "execution_count": 58,
     "metadata": {},
     "output_type": "execute_result"
    }
   ],
   "source": [
    "x"
   ]
  },
  {
   "cell_type": "code",
   "execution_count": 24,
   "metadata": {},
   "outputs": [
    {
     "name": "stdout",
     "output_type": "stream",
     "text": [
      "[(1, 2), (4, 5)]\n"
     ]
    },
    {
     "data": {
      "text/plain": [
       "((4, 5), (1, 2))"
      ]
     },
     "execution_count": 24,
     "metadata": {},
     "output_type": "execute_result"
    }
   ],
   "source": [
    "myfunc([(1, 2), (4, 5)])"
   ]
  },
  {
   "cell_type": "markdown",
   "metadata": {},
   "source": [
    "# 회의실 배정(그리드)\n",
    "### 한 개의 회의실이 있는데 이를 사용하고자 하는 n개의 회의들에 대하여 회의실 사용표를 만들려고 한다. \n",
    "### 각 회의에 대해 시작시간과 끝나는 시간이 주어져 있고, 각 회의가 겹지지않게 하면서 회의실을 사용할 수 있는 최대수의 회의를 찾아라, 단, 회의는 한번 시작하면 중간에 중단 될 수 없으며 한 회의가 끝나는 것과 동시에 다음 회의가 시작될 수 있다.\n",
    "\n",
    "#### 입력 설명 <br> 첫째 줄에 회의의 수 n(1<=n<=100,000)이 주어진다. 둘째 줄부터 n+1 줄까지 각회의의 정보가 주어지는데\n",
    "\n",
    "\n",
    "\n",
    "#### 입력 예제 1\n",
    "## 5\n",
    "- 1 4\n",
    "- 2 3\n",
    "- 3 5\n",
    "- 4 6\n",
    "- 5 7\n",
    "\n",
    "### 출력 예제 1\n",
    "## 3\n",
    "\n",
    "##### 예제 설명\n",
    "###### (2, 3), (3, 5), (5, 7)이 회의실을 이용할 수 있다.\n"
   ]
  },
  {
   "cell_type": "code",
   "execution_count": 27,
   "metadata": {},
   "outputs": [
    {
     "name": "stdout",
     "output_type": "stream",
     "text": [
      "20\n",
      "[(18, 19), (2, 20), (4, 21), (2, 22), (12, 15), (12, 23), (2, 8), (5, 20), (22, 23), (1, 5), (13, 21), (16, 20), (9, 19), (5, 9), (14, 20), (16, 22), (11, 12), (4, 16), (21, 23), (11, 13)]\n",
      "\n",
      "[(1, 5), (2, 8), (5, 9), (11, 12), (11, 13), (12, 15), (4, 16), (9, 19), (18, 19), (2, 20), (5, 20), (14, 20), (16, 20), (4, 21), (13, 21), (2, 22), (16, 22), (12, 23), (21, 23), (22, 23)]\n"
     ]
    }
   ],
   "source": [
    "with open(\"text/회의실in1.txt\") as f:\n",
    "    n = int(f.readline())\n",
    "    print(n)\n",
    "    a = [tuple(map(int, f.readline().split())) for _ in range(n)]\n",
    "    print(a)\n",
    "    print(\"\")\n",
    "    sort_a = sorted(a, key=lambda x: (x[1], x[0]))\n",
    "    print(sort_a)"
   ]
  },
  {
   "cell_type": "code",
   "execution_count": 51,
   "metadata": {},
   "outputs": [
    {
     "name": "stdout",
     "output_type": "stream",
     "text": [
      "회의실 최대 예약 횟수 = 3\n",
      "[(2, 3), (3, 5), (5, 7)]\n"
     ]
    }
   ],
   "source": [
    "with open(\"text/회의실in3.txt\") as f:\n",
    "    n = int(f.readline())\n",
    "#     print(n)\n",
    "    a = [tuple(map(int, f.readline().split())) for _ in range(n)]\n",
    "#     print(a)\n",
    "#     print(\"\")\n",
    "    sort_a = sorted(a, key=lambda x: (x[1], x[0]))\n",
    "#     print(sort_a)\n",
    "    result = []\n",
    "    answer = e = 0\n",
    "    \n",
    "    for i, j in sort_a:\n",
    "        if i >= e:\n",
    "            e = j\n",
    "            answer += 1\n",
    "            result.append((i, j))\n",
    "            \n",
    "    print(\"회의실 최대 예약 횟수 =\", answer)\n",
    "    print(result)\n",
    "                \n",
    "            "
   ]
  },
  {
   "cell_type": "code",
   "execution_count": 53,
   "metadata": {},
   "outputs": [
    {
     "name": "stdout",
     "output_type": "stream",
     "text": [
      "[(2, 3), (1, 4), (3, 5), (4, 6), (5, 7)]\n",
      "회의가 가능한 횟수는 = 3\n",
      "[(2, 3), (3, 5), (5, 7)]\n"
     ]
    }
   ],
   "source": [
    "# 선생님버전\n",
    "with open(\"text/회의실in3.txt\", \"r\") as f:\n",
    "    n = int(f.readline())\n",
    "    meeting = []\n",
    "    for i in range(n):\n",
    "        st, et = map(int, f.readline().split())\n",
    "        meeting.append((st, et))\n",
    "    meeting.sort(key=lambda x: (x[1], x[0]))\n",
    "#     print(meeting)\n",
    "    temp = []\n",
    "    cnt = 0 \n",
    "    et = 0\n",
    "    print(meeting)\n",
    "    for s, e in meeting:\n",
    "        if s >= et :\n",
    "            et = e # 이전 미팅의 마지막 시간을 보관한다.\n",
    "            cnt += 1\n",
    "            temp.append((s, e))\n",
    "    print(\"회의가 가능한 횟수는 =\", cnt)\n",
    "    print(temp)"
   ]
  },
  {
   "cell_type": "code",
   "execution_count": null,
   "metadata": {},
   "outputs": [],
   "source": [
    "#  선생님버전 가능\n",
    "with open(\"text/회의실in1.txt\", \"r\") as f:\n",
    "    n = int(f.readline())\n",
    "    meeting = []\n",
    "    for i in range(n):\n",
    "        st, et = map(int, f.readline().split())\n",
    "        meeting.append((st, et))\n",
    "        \n",
    "    meeting.sort(key=lambda x: (x[1], x[0]))\n",
    "    c_meeting = meeting.copy()\n",
    "    for xx in c_meeting:\n",
    "        cnt = 0\n",
    "        et = 0\n",
    "        for s, e in meeting:\n",
    "            if s >= et:\n",
    "                et = e\n",
    "                cnt += 1\n",
    "                \n",
    "    \n",
    "        print(\"{}로 시작할때 회의가 가능한 횟수는 = {}\".format)\n",
    "        meeting.append(meeting.pop(0))"
   ]
  }
 ],
 "metadata": {
  "kernelspec": {
   "display_name": "Python 3",
   "language": "python",
   "name": "python3"
  },
  "language_info": {
   "codemirror_mode": {
    "name": "ipython",
    "version": 3
   },
   "file_extension": ".py",
   "mimetype": "text/x-python",
   "name": "python",
   "nbconvert_exporter": "python",
   "pygments_lexer": "ipython3",
   "version": "3.8.3"
  }
 },
 "nbformat": 4,
 "nbformat_minor": 4
}
