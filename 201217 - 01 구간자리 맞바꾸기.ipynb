{
 "cells": [
  {
   "cell_type": "code",
   "execution_count": 38,
   "metadata": {},
   "outputs": [
    {
     "name": "stdout",
     "output_type": "stream",
     "text": [
      "[2, 7, 6, 4, 5, 9, 3, 8, 1, 10, 11, 12, 13, 14, 15, 16, 17, 18, 19, 20]\n"
     ]
    }
   ],
   "source": [
    "# 내버전\n",
    "def solution(s, e):\n",
    "    temp = cards[s-1:e] # 0번 idx 값은 1부터 시작해서 -1 \n",
    "    cards[s-1:e] = temp[::-1]\n",
    "    return cards\n",
    "\n",
    "with open(\"text/구간자리in3.txt\", \"r\") as f:\n",
    "    lst = [ list(map(int, f.readline().split())) for _ in range(10) ]\n",
    "    \n",
    "cards = [ i for i in range(1, 21) ]\n",
    "\n",
    "for s, e in lst:\n",
    "    cards = solution(s, e)\n",
    "print(cards)\n"
   ]
  },
  {
   "cell_type": "code",
   "execution_count": 43,
   "metadata": {},
   "outputs": [
    {
     "name": "stdout",
     "output_type": "stream",
     "text": [
      "[2, 7, 6, 4, 5, 9, 3, 1, 8, 10, 11, 12, 13, 14, 15, 16, 17, 18, 19, 20]\n"
     ]
    }
   ],
   "source": [
    "# 선생님 버전, idx 활용해서\n",
    "with open(\"text/구간자리in3.txt\", \"r\") as f:\n",
    "    ar = list(range(21))\n",
    "    for _ in range(10):\n",
    "        s, e = map(int, f.readline().split())\n",
    "        for i in range((e-s)//2):\n",
    "            ar[s+i], ar[e-i] = ar[e-i], ar[s+i] # swap 활용\n",
    "    print(ar[1:])"
   ]
  },
  {
   "cell_type": "code",
   "execution_count": 41,
   "metadata": {},
   "outputs": [
    {
     "data": {
      "text/plain": [
       "[0, 1, 2, 3, 4, 5, 6, 7, 8, 9, 10, 11, 12, 13, 14, 15, 16, 17, 18, 19, 20]"
      ]
     },
     "execution_count": 41,
     "metadata": {},
     "output_type": "execute_result"
    }
   ],
   "source": [
    "ar"
   ]
  },
  {
   "cell_type": "code",
   "execution_count": 44,
   "metadata": {},
   "outputs": [
    {
     "name": "stdout",
     "output_type": "stream",
     "text": [
      "[2, 7, 6, 4, 5, 9, 3, 8, 1, 10, 11, 12, 13, 14, 15, 16, 17, 18, 19, 20]\n"
     ]
    }
   ],
   "source": [
    "# 건익 버전\n",
    "def reverse(n,m):\n",
    "    card[n-1:m] = list(reversed(card[n-1:m]))\n",
    "\n",
    "with open(\"text/구간자리in3.txt\", \"r\") as f:\n",
    "    temp = [ list(map(int, f.readline().split())) for _ in range(10) ]\n",
    "    card = list(range(1, 21))\n",
    "    for n, m in temp:\n",
    "        reverse(n, m)\n",
    "    print(card)"
   ]
  },
  {
   "cell_type": "code",
   "execution_count": 57,
   "metadata": {},
   "outputs": [
    {
     "name": "stdout",
     "output_type": "stream",
     "text": [
      "                         1                         \n",
      "                         11                        \n",
      "                        121                        \n",
      "                        1331                       \n",
      "                       14641                       \n",
      "                       161051                      \n",
      "                      1771561                      \n",
      "                      19487171                     \n",
      "                     214358881                     \n",
      "                     2357947691                    \n"
     ]
    }
   ],
   "source": [
    "def trian(n):\n",
    "    for i in range(n):\n",
    "        print(str(11**i).center(51, \" \"))\n",
    "        \n",
    "trian(10)"
   ]
  },
  {
   "cell_type": "code",
   "execution_count": 59,
   "metadata": {},
   "outputs": [
    {
     "name": "stdout",
     "output_type": "stream",
     "text": [
      "love\n",
      "44 47 54 37 "
     ]
    }
   ],
   "source": [
    "code = list(map(str, input()))\n",
    "for xx in code:\n",
    "    print(ord(xx)-64, end=\" \")"
   ]
  },
  {
   "cell_type": "code",
   "execution_count": 63,
   "metadata": {},
   "outputs": [
    {
     "ename": "TypeError",
     "evalue": "ord() expected string of length 1, but int found",
     "output_type": "error",
     "traceback": [
      "\u001b[1;31m---------------------------------------------------------------------------\u001b[0m",
      "\u001b[1;31mTypeError\u001b[0m                                 Traceback (most recent call last)",
      "\u001b[1;32m<ipython-input-63-77e5aeef42fb>\u001b[0m in \u001b[0;36m<module>\u001b[1;34m\u001b[0m\n\u001b[1;32m----> 1\u001b[1;33m \u001b[0mord\u001b[0m\u001b[1;33m(\u001b[0m\u001b[1;36m1\u001b[0m\u001b[1;33m)\u001b[0m\u001b[1;33m\u001b[0m\u001b[1;33m\u001b[0m\u001b[0m\n\u001b[0m",
      "\u001b[1;31mTypeError\u001b[0m: ord() expected string of length 1, but int found"
     ]
    }
   ],
   "source": [
    "ord(\"A\") - 6"
   ]
  },
  {
   "cell_type": "code",
   "execution_count": null,
   "metadata": {},
   "outputs": [],
   "source": []
  }
 ],
 "metadata": {
  "kernelspec": {
   "display_name": "Python 3",
   "language": "python",
   "name": "python3"
  },
  "language_info": {
   "codemirror_mode": {
    "name": "ipython",
    "version": 3
   },
   "file_extension": ".py",
   "mimetype": "text/x-python",
   "name": "python",
   "nbconvert_exporter": "python",
   "pygments_lexer": "ipython3",
   "version": "3.8.3"
  }
 },
 "nbformat": 4,
 "nbformat_minor": 4
}
