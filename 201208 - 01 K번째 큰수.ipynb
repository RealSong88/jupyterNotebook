{
 "cells": [
  {
   "cell_type": "markdown",
   "metadata": {},
   "source": [
    "# K번째 큰 수\n",
    "\n",
    "### 현수는 1부터 100사이의 자연수가 적힌 N장의 카드를 가지고 있습니다. 같은 숫자의 카드가 여러장 있을수 있습니다. 현수는 이 중 3장을 뽑아 각 카드에 적힌 수를 합한 값을 기록하려고 합니다. 3장을 뽑을수 있는 모든 경우를 기록합니다.\n",
    "\n",
    "### 만약 큰 수부터 만들어진 수가 25 25 23 23 22 20 19 ... 이고 K값이 3이라면 K번째 큰 값은 22이다.\n",
    "\n",
    "#### 입력 설명\n",
    "- 첫 줄에 자연수 N(3<=N<=100) 과 K(1<=K<50) 입력되고, 그다음줄에 N개의 카드값이 입력된다.\n",
    "\n",
    "#### 출력 설명\n",
    "- 첫 줄에 K번째 수를 출력합니다. K번째 수는 반드시 존재합니다.\n",
    "\n",
    "#### 입력 예제1\n",
    "- 10 3\n",
    "- 13 15 34 23 45 65 33 11 26 42\n",
    "\n",
    "#### 출력 예제 1\n",
    "\n",
    "- 143\n",
    "\n",
    "#### < 정답 >\n",
    "- K번째큰수in1.txt -> 152\n",
    "- K번째큰수in2.txt -> 150"
   ]
  },
  {
   "cell_type": "code",
   "execution_count": 46,
   "metadata": {},
   "outputs": [
    {
     "name": "stdout",
     "output_type": "stream",
     "text": [
      "[159, 153, 152, 151, 147, 146, 145, 140, 139, 138, 135, 134, 133, 130, 129, 128, 127, 126, 125, 124, 123, 122, 121, 120, 118, 117, 116, 115, 114, 112, 111, 110, 109, 108, 105, 104, 103, 102, 100, 99, 98, 97, 96, 95, 94, 93, 92, 91, 90, 87, 86, 85, 81, 80, 79, 78, 74, 73, 69, 68, 63]\n",
      "3\n",
      "K번째 큰수는 : 140\n"
     ]
    }
   ],
   "source": [
    "with open(\"text/k번째큰수in1.txt\", \"r\") as f:\n",
    "    n, k = map(int, f.readline().split())\n",
    "    lst = list(map(int, f.readline().split()))\n",
    "n, k = 10, 3\n",
    "lst = [13, 15, 34, 23, 45, 65, 33, 11, 26, 42]\n",
    "sum_lst = []\n",
    "temp_sum = 0\n",
    "for i in range(n - 2):\n",
    "    for j in range(i+2, n):       # 더하는 부분이 빠지는 부분이 있음 틀린 로직\n",
    "        temp_sum = lst[i] + lst[i+1] + lst[j]\n",
    "        sum_lst.append(temp_sum)\n",
    "print(sorted(result_lst, reverse=True))\n",
    "print(k)\n",
    "result_lst = list(sorted(set(sum_lst), reverse=True))\n",
    "print(\"K번째 큰수는 : {}\".format(result_lst[k-1]))\n"
   ]
  },
  {
   "cell_type": "code",
   "execution_count": 3,
   "metadata": {},
   "outputs": [
    {
     "data": {
      "text/plain": [
       "[18, 54, 46, 52, 28, 22, 23, 53, 28, 40]"
      ]
     },
     "execution_count": 3,
     "metadata": {},
     "output_type": "execute_result"
    }
   ],
   "source": [
    "lst"
   ]
  },
  {
   "cell_type": "code",
   "execution_count": 51,
   "metadata": {},
   "outputs": [
    {
     "name": "stdout",
     "output_type": "stream",
     "text": [
      "[159, 153, 152, 151, 147, 146, 145, 140, 139, 138, 135, 135, 134, 134, 133, 133, 130, 129, 129, 128, 128, 128, 128, 127, 127, 127, 126, 126, 125, 124, 123, 123, 122, 122, 122, 122, 121, 121, 121, 121, 120, 120, 120, 118, 117, 117, 116, 116, 116, 115, 115, 114, 114, 114, 112, 111, 110, 110, 109, 109, 108, 108, 105, 105, 104, 104, 104, 104, 104, 103, 103, 103, 103, 102, 102, 102, 100, 100, 99, 99, 99, 98, 98, 98, 97, 97, 97, 96, 96, 96, 95, 94, 94, 93, 93, 92, 92, 92, 91, 91, 91, 90, 90, 87, 86, 86, 86, 85, 81, 80, 79, 78, 74, 73, 73, 69, 69, 68, 68, 63]\n",
      "120\n",
      "K번째 큰수는 : 152\n"
     ]
    }
   ],
   "source": [
    "with open(\"text/k번째큰수in1.txt\", \"r\") as f:\n",
    "    n, K = map(int, f.readline().split())\n",
    "    lst = list(map(int, f.readline().split()))\n",
    "    \n",
    "# n, K = 10, 3\n",
    "# lst = [13, 15, 34, 23, 45, 65, 33, 11, 26, 42]\n",
    "    \n",
    "sum_lst = []\n",
    "temp_sum = 0\n",
    "for i in range(n - 2):\n",
    "    for j in range(i+1, n-1):\n",
    "        for k in range(j+1, n):\n",
    "            temp_sum = lst[i] + lst[j] + lst[k]\n",
    "            sum_lst.append(temp_sum)\n",
    "print(sorted(sum_lst, reverse=True))\n",
    "print(len(sum_lst))\n",
    "\n",
    "result_lst = list(sorted(set(sum_lst), reverse=True))\n",
    "print(\"K번째 큰수는 : {}\".format(result_lst[K-1]))"
   ]
  },
  {
   "cell_type": "code",
   "execution_count": 45,
   "metadata": {},
   "outputs": [
    {
     "name": "stdout",
     "output_type": "stream",
     "text": [
      "152\n"
     ]
    }
   ],
   "source": [
    "# 선생님 버전\n",
    "with open(\"text/k번째큰수in1.txt\", \"r\") as f:\n",
    "    n, k = map(int, f.readline().split())\n",
    "    arr = list(map(int, f.readline().split()))\n",
    "\n",
    "sum_lst = set()\n",
    "for i in range(n):\n",
    "    for j in range(i+1, n):\n",
    "            for l in range(j+1, n):\n",
    "                sum_lst.add(arr[i]+arr[j]+arr[l]) # 들어가면서 합의 중복이 제거된다.\n",
    "sum_lst = list(sum_lst)\n",
    "sum_lst.sort(reverse=True)\n",
    "print(sum_lst[k-1])\n",
    "               "
   ]
  },
  {
   "cell_type": "code",
   "execution_count": 44,
   "metadata": {},
   "outputs": [
    {
     "data": {
      "text/plain": [
       "[]"
      ]
     },
     "execution_count": 44,
     "metadata": {},
     "output_type": "execute_result"
    }
   ],
   "source": [
    "list(range(11, 10))"
   ]
  },
  {
   "cell_type": "code",
   "execution_count": 52,
   "metadata": {},
   "outputs": [],
   "source": [
    "samp = [0]*3"
   ]
  },
  {
   "cell_type": "code",
   "execution_count": 53,
   "metadata": {},
   "outputs": [
    {
     "data": {
      "text/plain": [
       "[0, 0, 0]"
      ]
     },
     "execution_count": 53,
     "metadata": {},
     "output_type": "execute_result"
    }
   ],
   "source": [
    "samp"
   ]
  },
  {
   "cell_type": "code",
   "execution_count": null,
   "metadata": {},
   "outputs": [],
   "source": []
  }
 ],
 "metadata": {
  "kernelspec": {
   "display_name": "Python 3",
   "language": "python",
   "name": "python3"
  },
  "language_info": {
   "codemirror_mode": {
    "name": "ipython",
    "version": 3
   },
   "file_extension": ".py",
   "mimetype": "text/x-python",
   "name": "python",
   "nbconvert_exporter": "python",
   "pygments_lexer": "ipython3",
   "version": "3.8.3"
  }
 },
 "nbformat": 4,
 "nbformat_minor": 4
}
