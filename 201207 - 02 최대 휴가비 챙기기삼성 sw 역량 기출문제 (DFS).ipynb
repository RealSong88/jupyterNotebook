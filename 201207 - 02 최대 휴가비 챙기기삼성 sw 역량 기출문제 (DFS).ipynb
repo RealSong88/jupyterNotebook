{
 "cells": [
  {
   "cell_type": "markdown",
   "metadata": {},
   "source": [
    "# 최대 휴가비 챙기기 (DFS)\n",
    "\n",
    "### 카운셀러로 일하고 있는 현수는 오늘부터 N+1일째 되는 날 휴가를 가기 위해서, 남은 N일동안 최대한 많은 상담을 해서 휴가비를 넉넉히 만들어 휴가를 떠나려 한다. 현수가 다니는 회사에 하루에 하나씩 서로다른사람의 상담이 예약되어있다. 각각의 상담은 상담을 완료하는데 걸리는 날수 T와 상담을 했을 때 받을수 있는 금액 P로 이루어져 있다. 만약 N-7이고, 아래와 같이 예약이 잡혀있다면 1일에 잡혀잇는 상담은 총 4일이 걸리며, 상담했을때 받을 수 있는 금액은 20이다. 만약 1일에 예약된 상담을 하면 4일까지는 상담을 할 수가 없다.\n",
    "\n",
    "### 하나의 상담이 하루를 넘어가는 경우가 많기 때문에 현수는 예약된 모든 상담을 혼자 할 수 없어 최대 이익이 나는 상담 스케쥴을 짜기로 했다. 휴가를 떠나기전에 할 수 있는 상담의 최대 이익은 1일, 5일, 7일에 있는 상담을 하는 것이며, 이 때의 이익은 20 + 30 + 10 = 60이다. 현수가 휴가를 가기 위해 얻을 수 있는 최대 수익을 구하는 프로그램을 작성하시오.\n",
    "\n",
    "||1일|2일|3일|4일|5일|6일|7일|\n",
    "|---|---:|---:|---:|---:|---:|---:|---:|\n",
    "|T|4|2|3|3|2|2|1|\n",
    "|P|20|10|15|20|30|20|10|\n",
    "\n",
    "#### 입력 예제 1\n",
    "- 7\n",
    "- 4 20\n",
    "- 2 20\n",
    "- 2 10\n",
    "- 3 15\n",
    "- 3 20\n",
    "- 2 30\n",
    "- 2 20\n",
    "- 1 10\n",
    "\n",
    "#### 출력예제 1\n",
    "- 69\n",
    "#### < 정답 >\n",
    "\n",
    "- 45 80 100"
   ]
  },
  {
   "cell_type": "code",
   "execution_count": 1,
   "metadata": {},
   "outputs": [],
   "source": [
    "t = [4, 2, 3, 3, 2, 2, 1]\n",
    "p = [20, 10, 15, 20, 30, 20, 10]"
   ]
  },
  {
   "cell_type": "code",
   "execution_count": 2,
   "metadata": {},
   "outputs": [
    {
     "data": {
      "text/plain": [
       "([4, 2, 3, 3, 2, 2, 1], [20, 10, 15, 20, 30, 20, 10])"
      ]
     },
     "execution_count": 2,
     "metadata": {},
     "output_type": "execute_result"
    }
   ],
   "source": [
    "t, p"
   ]
  },
  {
   "cell_type": "code",
   "execution_count": 11,
   "metadata": {},
   "outputs": [],
   "source": [
    "def DFS(t, p):\n",
    "    pass\n",
    "\n",
    "with open(\"text/휴가비in1.txt\", \"r\") as f:\n",
    "    n = int(f.readline())\n",
    "    matrix = [list(map(int, f.readline().split())) for _ in range(n) ]\n",
    "\n",
    "chk_tbl = [ [0]*2 for _ in range(n) ]\n",
    "day_idx = 0\n",
    "max_money = 0\n",
    "for i in range(n):\n",
    "    for j in range(i+1, n):\n",
    "        day_idx += matrix[i][0] "
   ]
  },
  {
   "cell_type": "code",
   "execution_count": 12,
   "metadata": {},
   "outputs": [
    {
     "name": "stdout",
     "output_type": "stream",
     "text": [
      "[3, 10]\n",
      "[2, 15]\n",
      "[1, 10]\n",
      "[1, 30]\n",
      "[2, 10]\n",
      "\n",
      "[0, 0]\n",
      "[0, 0]\n",
      "[0, 0]\n",
      "[0, 0]\n",
      "[0, 0]\n"
     ]
    }
   ],
   "source": [
    "for tt in t:\n",
    "    print(tt)\n",
    "print()\n",
    "for xx in chk_tbl:\n",
    "    print(xx)"
   ]
  },
  {
   "cell_type": "code",
   "execution_count": 30,
   "metadata": {},
   "outputs": [
    {
     "name": "stdout",
     "output_type": "stream",
     "text": [
      "80\n"
     ]
    }
   ],
   "source": [
    "def DFS(td, total):\n",
    "    global max_result\n",
    "    if td == n+1:\n",
    "        if total > max_result:\n",
    "            max_result = total\n",
    "#             print(\"total=\", total)\n",
    "#             print(\"\")\n",
    "    else:\n",
    "        if td + t[td] <= n + 1: \n",
    "#             print(\"DFS({}.{})\".format(td + t[td], total+p[td], end =\" \"))\n",
    "            DFS(td + t[td], total + p[td])\n",
    "#         print(\"DFS({},{})\".format(td+1, total), end =\" \")\n",
    "        DFS(td + 1, total)\n",
    "\n",
    "# 초기화 세팅\n",
    "with open(\"text/휴가비in2.txt\", \"r\") as f:\n",
    "    n = int(f.readline())\n",
    "    t = []; p = [];\n",
    "\n",
    "    for _ in range(n):\n",
    "        a, b = map(int, f.readline().split())\n",
    "        t.append(a), p.append(b)\n",
    "\n",
    "t.insert(0, 0) # 0번째에 0을 넣어 문제의 1부터 시작하는 인덱스를 맞춘다. 테크닉\n",
    "p.insert(0, 0)\n",
    "max_result = 0\n",
    "# print(\"DFS(1,0)\", end = \" \")\n",
    "DFS(1, 0)\n",
    "print(max_result)"
   ]
  },
  {
   "cell_type": "code",
   "execution_count": 19,
   "metadata": {},
   "outputs": [
    {
     "data": {
      "text/plain": [
       "([0, 3, 2, 1, 1, 2], [0, 10, 15, 10, 30, 10])"
      ]
     },
     "execution_count": 19,
     "metadata": {},
     "output_type": "execute_result"
    }
   ],
   "source": [
    "t, p"
   ]
  },
  {
   "cell_type": "code",
   "execution_count": null,
   "metadata": {},
   "outputs": [],
   "source": []
  }
 ],
 "metadata": {
  "kernelspec": {
   "display_name": "Python 3",
   "language": "python",
   "name": "python3"
  },
  "language_info": {
   "codemirror_mode": {
    "name": "ipython",
    "version": 3
   },
   "file_extension": ".py",
   "mimetype": "text/x-python",
   "name": "python",
   "nbconvert_exporter": "python",
   "pygments_lexer": "ipython3",
   "version": "3.8.3"
  }
 },
 "nbformat": 4,
 "nbformat_minor": 4
}
