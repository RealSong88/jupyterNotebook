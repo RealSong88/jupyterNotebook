{
 "cells": [
  {
   "cell_type": "code",
   "execution_count": 1,
   "metadata": {},
   "outputs": [],
   "source": [
    "# Camel 형태의 문자열을 snake 형으로 문자열 변경\n",
    "# - to_snake_case(text)  함수를 만들고 camel형의 문자열 들어오면 snake 형으로 변경\n",
    "# 입력 예) 'MyFunctionName'\n",
    "#  -출력 예) to_snake_case('MyFunctionName') 호출하면 ' my_function_name'로 출력\n",
    "# - to_camel_case(data) 시간되면\n",
    "#  String 처리함수를 이용하세요"
   ]
  },
  {
   "cell_type": "code",
   "execution_count": null,
   "metadata": {},
   "outputs": [],
   "source": [
    "#내버전\n",
    "# 아스키 65 ~ 90 대문자\n",
    "# 아스키 97 ~ 122 소문자\n",
    "# 대문자이면 32를 더한다\n",
    "# 첫번째가 대문자이면 pass 두번째부터 앞에 _를 붙인다."
   ]
  },
  {
   "cell_type": "code",
   "execution_count": 9,
   "metadata": {},
   "outputs": [],
   "source": [
    "def snake_case(text):\n",
    "    temp_snake = []\n",
    "    for i in text:\n",
    "        if ord(i) >= 65 and ord(i) <= 90:\n",
    "            i = chr(ord(i) + 32)\n",
    "            if len(temp_snake) > 0:\n",
    "                temp_snake.append(\"_\")           \n",
    "        temp_snake.append(i)\n",
    "    snake_case_name = ''.join(temp_snake)\n",
    "\n",
    "    return snake_case_name"
   ]
  },
  {
   "cell_type": "code",
   "execution_count": 10,
   "metadata": {},
   "outputs": [
    {
     "name": "stdout",
     "output_type": "stream",
     "text": [
      "my_function_name\n"
     ]
    }
   ],
   "source": [
    "name = \"MyFunctionName\"\n",
    "print(snake_case(name))"
   ]
  },
  {
   "cell_type": "code",
   "execution_count": 12,
   "metadata": {},
   "outputs": [],
   "source": [
    "# 선생님 버전\n",
    "def snake_case2(data):\n",
    "    for letter in data:\n",
    "        if letter.isupper():\n",
    "            data=data.replace(letter,'_'+letter.lower())\n",
    "    return data.strip('_')"
   ]
  },
  {
   "cell_type": "code",
   "execution_count": 13,
   "metadata": {},
   "outputs": [
    {
     "name": "stdout",
     "output_type": "stream",
     "text": [
      "my_function_name\n"
     ]
    }
   ],
   "source": [
    "print(snake_case2(name))"
   ]
  },
  {
   "cell_type": "code",
   "execution_count": 17,
   "metadata": {},
   "outputs": [],
   "source": [
    "to_snake_case = snake_case2"
   ]
  },
  {
   "cell_type": "code",
   "execution_count": 14,
   "metadata": {},
   "outputs": [],
   "source": [
    "xyz= \"ThisFunctionIsVeryFunny\""
   ]
  },
  {
   "cell_type": "code",
   "execution_count": 18,
   "metadata": {},
   "outputs": [
    {
     "data": {
      "text/plain": [
       "'This_Function_Is_Very_Funny'"
      ]
     },
     "execution_count": 18,
     "metadata": {},
     "output_type": "execute_result"
    }
   ],
   "source": [
    "to_snake_case(xyz).title()"
   ]
  },
  {
   "cell_type": "code",
   "execution_count": 22,
   "metadata": {},
   "outputs": [],
   "source": [
    "# 선생님 버전 \n",
    "def to_camel_case(text):\n",
    "    return text.title().replace('_','')"
   ]
  },
  {
   "cell_type": "code",
   "execution_count": 23,
   "metadata": {},
   "outputs": [
    {
     "name": "stdout",
     "output_type": "stream",
     "text": [
      "ThisFunctionIsVeryFunny\n"
     ]
    }
   ],
   "source": [
    "print(to_camel_case(\"this_function_is_very_funny\"))"
   ]
  },
  {
   "cell_type": "code",
   "execution_count": null,
   "metadata": {},
   "outputs": [],
   "source": [
    "to_camel_case(to_snake_case(xyz)).title()"
   ]
  }
 ],
 "metadata": {
  "kernelspec": {
   "display_name": "Python 3",
   "language": "python",
   "name": "python3"
  },
  "language_info": {
   "codemirror_mode": {
    "name": "ipython",
    "version": 3
   },
   "file_extension": ".py",
   "mimetype": "text/x-python",
   "name": "python",
   "nbconvert_exporter": "python",
   "pygments_lexer": "ipython3",
   "version": "3.8.3"
  }
 },
 "nbformat": 4,
 "nbformat_minor": 4
}
