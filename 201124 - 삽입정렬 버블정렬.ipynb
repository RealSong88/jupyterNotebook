{
 "cells": [
  {
   "cell_type": "code",
   "execution_count": 6,
   "metadata": {},
   "outputs": [],
   "source": [
    "\n",
    "\n",
    "lst = [1, 10, 5, 8, 7, 6, 4, 3, 2, 9]\n",
    "for i in range(9):\n",
    "    j = i\n",
    "    # 선택 정렬이나 버블정렬보다 빠른경우가 있다.  \n",
    "    # 왼쪽이 오른쪽보다 작으면 1번만 연산하기때문    \n",
    "    while(lst[j] > lst[j + 1]): \n",
    "        temp = lst[j]\n",
    "        lst[j] = lst[j + 1]\n",
    "        lst[j + 1] = temp\n",
    "        j -= 1 # i가 증가할 때 j를 감소시켜 왼쪽 끝까지 비교"
   ]
  },
  {
   "cell_type": "code",
   "execution_count": 5,
   "metadata": {},
   "outputs": [
    {
     "name": "stdout",
     "output_type": "stream",
     "text": [
      "[1, 5, 8, 7, 6, 4, 3, 2, 9, 10]\n"
     ]
    }
   ],
   "source": [
    "print(lst)"
   ]
  },
  {
   "cell_type": "code",
   "execution_count": 33,
   "metadata": {},
   "outputs": [],
   "source": [
    "lst = [5, 9, 3, 1, 2, 4, 8, 6, 7]"
   ]
  },
  {
   "cell_type": "code",
   "execution_count": 34,
   "metadata": {},
   "outputs": [
    {
     "name": "stdout",
     "output_type": "stream",
     "text": [
      "[5, 9, 3, 1, 2, 4, 6, 8, 7]\n",
      "[5, 9, 1, 3, 2, 4, 6, 8, 7]\n",
      "[5, 1, 9, 3, 2, 4, 6, 8, 7]\n",
      "[1, 5, 9, 3, 2, 4, 6, 8, 7]\n",
      "[1, 5, 9, 3, 2, 4, 6, 7, 8]\n",
      "[1, 5, 9, 2, 3, 4, 6, 7, 8]\n",
      "[1, 5, 2, 9, 3, 4, 6, 7, 8]\n",
      "[1, 2, 5, 9, 3, 4, 6, 7, 8]\n",
      "[1, 2, 5, 3, 9, 4, 6, 7, 8]\n",
      "[1, 2, 3, 5, 9, 4, 6, 7, 8]\n",
      "[1, 2, 3, 5, 4, 9, 6, 7, 8]\n",
      "[1, 2, 3, 4, 5, 9, 6, 7, 8]\n",
      "[1, 2, 3, 4, 5, 6, 9, 7, 8]\n",
      "[1, 2, 3, 4, 5, 6, 7, 9, 8]\n",
      "[1, 2, 3, 4, 5, 6, 7, 8, 9]\n"
     ]
    }
   ],
   "source": [
    "for i in range(len(lst)):\n",
    "    for j in range(len(lst) - 1, i, -1):\n",
    "#         if j == 0 : continue\n",
    "        if lst[j] < lst[j-1] :\n",
    "            temp = lst[j-1]\n",
    "            lst[j-1] = lst[j]\n",
    "            lst[j] = temp\n",
    "            print(lst)"
   ]
  },
  {
   "cell_type": "code",
   "execution_count": 35,
   "metadata": {},
   "outputs": [
    {
     "data": {
      "text/plain": [
       "[1, 2, 3, 4, 5, 6, 7, 8, 9]"
      ]
     },
     "execution_count": 35,
     "metadata": {},
     "output_type": "execute_result"
    }
   ],
   "source": [
    "lst"
   ]
  },
  {
   "cell_type": "code",
   "execution_count": null,
   "metadata": {},
   "outputs": [],
   "source": []
  }
 ],
 "metadata": {
  "kernelspec": {
   "display_name": "Python 3",
   "language": "python",
   "name": "python3"
  },
  "language_info": {
   "codemirror_mode": {
    "name": "ipython",
    "version": 3
   },
   "file_extension": ".py",
   "mimetype": "text/x-python",
   "name": "python",
   "nbconvert_exporter": "python",
   "pygments_lexer": "ipython3",
   "version": "3.8.3"
  }
 },
 "nbformat": 4,
 "nbformat_minor": 4
}
