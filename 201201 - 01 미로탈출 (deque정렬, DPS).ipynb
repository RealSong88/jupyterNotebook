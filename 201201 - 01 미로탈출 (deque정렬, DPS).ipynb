{
 "cells": [
  {
   "cell_type": "markdown",
   "metadata": {},
   "source": [
    "# 미로 탈출( 가장 빠른 시간으로 탈출하기)\n",
    "### 7x7격자판 미로를 탈출하는 최단경로의 경로수를 출력하는 프로그램을 작성하세요, 경로수는 출발점에서 도착점까지 가는데 이동한 횟수를 의미한다. 출발점은 격자의 (1, 1) 좌표이고, 탈출 도착점은 (7, 7) 좌표이다. 격자판의 1은 벽이고, 0은 도로이다.\n",
    "\n",
    "### 격자판의 움직임은 상하좌우로만 움직인다. 미로가 다음과 같다면 위와같은 경로가 최단 경로이며 경로수는 12이다. 첫 번째 줄에 최단으로 움직인 칸의 수를 출력한다. 도착할 수 없으면 -1을 출력한다.\n",
    "\n",
    "#### 입력 예제 1\n",
    "- 0 0 0 0 0 0 0\n",
    "- 0 1 1 1 1 1 0\n",
    "- 0 0 0 1 0 0 0\n",
    "- 1 1 0 1 0 1 1 \n",
    "- 1 1 0 1 0 0 0 \n",
    "- 1 0 0 0 1 0 0 \n",
    "- 1 0 1 0 0 0 0 \n",
    "\n",
    "#### 출력 예제 1\n",
    "- 12\n",
    "\n",
    "#### < 정답 >\n",
    "- 미로탈출in1.txt -> 12\n",
    "- 미로탈출in2.txt -> 14"
   ]
  },
  {
   "cell_type": "code",
   "execution_count": 3,
   "metadata": {},
   "outputs": [],
   "source": [
    "with open(\"text/미로탈출in1.txt\", \"r\") as f:\n",
    "    lst = [ list(map(int, f.readline().split())) for _ in range(7) ]\n",
    "    lst\n",
    "a = lst[0][0]    \n",
    "cnt = 0\n",
    "while(a != lst[6][6]):"
   ]
  },
  {
   "cell_type": "code",
   "execution_count": 26,
   "metadata": {},
   "outputs": [
    {
     "name": "stdout",
     "output_type": "stream",
     "text": [
      "[0, 0, 0, 0, 0, 0, 0]\n",
      "[0, 1, 1, 1, 1, 1, 0]\n",
      "[0, 0, 0, 1, 0, 0, 0]\n",
      "[1, 1, 0, 1, 0, 1, 1]\n",
      "[1, 1, 0, 0, 0, 0, 1]\n",
      "[1, 1, 0, 1, 1, 1, 0]\n",
      "[1, 0, 0, 0, 0, 0, 0]\n"
     ]
    }
   ],
   "source": [
    "for i in lst:\n",
    "    print(i)"
   ]
  },
  {
   "cell_type": "code",
   "execution_count": 28,
   "metadata": {},
   "outputs": [
    {
     "name": "stdout",
     "output_type": "stream",
     "text": [
      "[0, 0, 0, 0, 0, 0, 0]\n",
      "[0, 0, 0, 0, 0, 0, 0]\n",
      "[0, 0, 0, 0, 0, 0, 0]\n",
      "[0, 0, 0, 0, 0, 0, 0]\n",
      "[0, 0, 0, 0, 0, 0, 0]\n",
      "[0, 0, 0, 0, 0, 0, 0]\n",
      "[0, 0, 0, 0, 0, 0, 0]\n"
     ]
    }
   ],
   "source": [
    "x = [[0] * 7] * 7\n",
    "for j in x :\n",
    "    print(j)"
   ]
  },
  {
   "cell_type": "code",
   "execution_count": null,
   "metadata": {},
   "outputs": [],
   "source": [
    "\n",
    "dx = [-1, 0, 1, 0]\n",
    "dy = [ 0, 1, 0, -1]"
   ]
  },
  {
   "cell_type": "code",
   "execution_count": 5,
   "metadata": {},
   "outputs": [],
   "source": []
  },
  {
   "cell_type": "code",
   "execution_count": 6,
   "metadata": {},
   "outputs": [
    {
     "data": {
      "text/plain": [
       "[[0, 0, 0, 0, 0, 0, 0],\n",
       " [0, 0, 0, 0, 0, 0, 0],\n",
       " [0, 0, 0, 0, 0, 0, 0],\n",
       " [0, 0, 0, 0, 0, 0, 0],\n",
       " [0, 0, 0, 0, 0, 0, 0],\n",
       " [0, 0, 0, 0, 0, 0, 0],\n",
       " [0, 0, 0, 0, 0, 0, 0]]"
      ]
     },
     "execution_count": 6,
     "metadata": {},
     "output_type": "execute_result"
    }
   ],
   "source": [
    "x"
   ]
  },
  {
   "cell_type": "code",
   "execution_count": 55,
   "metadata": {},
   "outputs": [
    {
     "name": "stdout",
     "output_type": "stream",
     "text": [
      "12\n"
     ]
    }
   ],
   "source": [
    "# 선생님 버전\n",
    "from collections import deque\n",
    "# matrix = [[0, 0, 0, 1, 1],\n",
    "#           [0, 1, 0, 0, 1],\n",
    "#           [0, 1, 1, 0, 1],\n",
    "#           [0, 1, 1, 0, 0],\n",
    "#           [0, 0, 0, 0, 0,]]\n",
    "f=open(\"text/미로탈출in1.txt\", \"r\")\n",
    "matrix = [ list(map(int,f.readline().split())) for _ in range(7)]\n",
    "\n",
    "dx = [-1, 0, 1, 0]\n",
    "dy = [ 0, 1, 0, -1]\n",
    "dis = [[0] * 7 for _ in range(7)]\n",
    "Q=deque()\n",
    "\n",
    "Q.append((0, 0))\n",
    "matrix[0][0] = 1 # 처음 시작점을 체크한후 시작\n",
    "# print(Q)\n",
    "while Q:\n",
    "#     print(Q)\n",
    "    temp = Q.popleft() # 첫 temp = (0, 0)\n",
    "    for i in range(4): # 위, 아래, 왼쪽, 오른쪽 좌표값 계산\n",
    "        x = temp[0] + dx[i]\n",
    "        y = temp[1] + dy[i]\n",
    "        if 0 <= x <=6 and 0 <= y <= 6 and matrix[x][y] == 0:\n",
    "            matrix[x][y] = 1\n",
    "            dis[x][y] = dis[temp[0]][temp[1]] + 1\n",
    "            Q.append((x, y))\n",
    "            \n",
    "if dis[6][6] == 0 :\n",
    "    print(-1)\n",
    "else:\n",
    "    print(dis[6][6])\n",
    "    \n",
    "f.close()"
   ]
  },
  {
   "cell_type": "code",
   "execution_count": null,
   "metadata": {},
   "outputs": [],
   "source": []
  },
  {
   "cell_type": "code",
   "execution_count": 54,
   "metadata": {},
   "outputs": [
    {
     "name": "stdout",
     "output_type": "stream",
     "text": [
      "[0, 0, 0, 0, 0, 0, 0]\n",
      "[0, 1, 1, 1, 1, 1, 0]\n",
      "[0, 0, 0, 1, 0, 0, 0]\n",
      "[1, 1, 0, 1, 0, 1, 1]\n",
      "[1, 1, 0, 0, 0, 0, 1]\n",
      "[1, 1, 0, 1, 1, 1, 0]\n",
      "[1, 0, 0, 0, 0, 0, 0]\n"
     ]
    }
   ],
   "source": [
    "for xx in matrix :\n",
    "    print(xx)"
   ]
  },
  {
   "cell_type": "code",
   "execution_count": 40,
   "metadata": {},
   "outputs": [
    {
     "name": "stdout",
     "output_type": "stream",
     "text": [
      "[0, 1, 2, 3, 4, 5, 6]\n",
      "[1, 0, 0, 0, 0, 0, 7]\n",
      "[2, 3, 4, 0, 10, 9, 8]\n",
      "[0, 0, 5, 0, 9, 0, 0]\n",
      "[0, 0, 6, 7, 8, 9, 0]\n",
      "[0, 0, 7, 0, 0, 0, 13]\n",
      "[0, 9, 8, 9, 10, 11, 12]\n"
     ]
    }
   ],
   "source": [
    "for dd in dis:\n",
    "    print(dd)"
   ]
  },
  {
   "cell_type": "code",
   "execution_count": null,
   "metadata": {},
   "outputs": [],
   "source": []
  }
 ],
 "metadata": {
  "kernelspec": {
   "display_name": "Python 3",
   "language": "python",
   "name": "python3"
  },
  "language_info": {
   "codemirror_mode": {
    "name": "ipython",
    "version": 3
   },
   "file_extension": ".py",
   "mimetype": "text/x-python",
   "name": "python",
   "nbconvert_exporter": "python",
   "pygments_lexer": "ipython3",
   "version": "3.8.3"
  }
 },
 "nbformat": 4,
 "nbformat_minor": 4
}
