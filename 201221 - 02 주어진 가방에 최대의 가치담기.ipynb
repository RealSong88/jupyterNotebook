{
 "cells": [
  {
   "cell_type": "code",
   "execution_count": 1,
   "metadata": {},
   "outputs": [
    {
     "name": "stdout",
     "output_type": "stream",
     "text": [
      "28\n"
     ]
    }
   ],
   "source": [
    "def DFS(w, t_value):\n",
    "    global answer\n",
    "    if w > limit_w:\n",
    "        return\n",
    "    if w == limit_w:\n",
    "        answer.append(t_value)\n",
    "#         print(t_value)\n",
    "    else:\n",
    "        for i in range(n):\n",
    "            DFS(w + gem[i], t_value + value[i])\n",
    "\n",
    "\n",
    "gem = [3,4,5,6]\n",
    "value = [8,8,12,14]\n",
    "\n",
    "\n",
    "n = 4\n",
    "limit_w = 11\n",
    "answer = []\n",
    "\n",
    "DFS(0, 0)\n",
    "print(max(answer))"
   ]
  },
  {
   "cell_type": "code",
   "execution_count": 3,
   "metadata": {},
   "outputs": [
    {
     "name": "stdout",
     "output_type": "stream",
     "text": [
      "90\n"
     ]
    }
   ],
   "source": [
    "def DFS(w, t_value):\n",
    "    global answer\n",
    "    if w > limit_w:\n",
    "        return\n",
    "    if w == limit_w:\n",
    "        answer.append(t_value)\n",
    "        \n",
    "    for i in range(n):\n",
    "        DFS(w + gem[i], t_value + value[i])\n",
    "#         print(gem[i], value[i])\n",
    "\n",
    "with open(\"text/가방담기in3.txt\", \"r\") as f:\n",
    "    n, limit_w = map(int, f.readline().split())\n",
    "    gem = []\n",
    "    value = []\n",
    "    for i in range(n):\n",
    "        g, v = map(int, f.readline().split())        \n",
    "        gem.append(g)\n",
    "        value.append(v)\n",
    "\n",
    "answer = []\n",
    "\n",
    "DFS(0, 0)\n",
    "print(max(answer))    \n"
   ]
  },
  {
   "cell_type": "code",
   "execution_count": null,
   "metadata": {},
   "outputs": [],
   "source": [
    "print(n, limit_w)\n",
    "print(gem, value)"
   ]
  },
  {
   "cell_type": "code",
   "execution_count": 16,
   "metadata": {},
   "outputs": [
    {
     "name": "stdout",
     "output_type": "stream",
     "text": [
      "4 11\n",
      "[[5, 12], [3, 8], [6, 14], [4, 8]]\n",
      "28\n"
     ]
    }
   ],
   "source": [
    "def DFS(xx, yy):\n",
    "    global chk_max\n",
    "    if xx > k:\n",
    "        return\n",
    "    if xx <= k:\n",
    "        if chk_max < yy:\n",
    "            chk_max = yy\n",
    "#     else:\n",
    "    for i in range(n):\n",
    "#         xx += lst[i][0]\n",
    "#         yy += lst[i][1]\n",
    "#         print(xx, yy)\n",
    "#         DFS(xx, yy)\n",
    "        DFS(xx + lst[i][0],yy + lst[i][1])\n",
    "\n",
    "with open(\"text/가방담기in1.txt\", 'r') as f:\n",
    "    n,k = map(int,f.readline().split())\n",
    "    lst = [list(map(int,f.readline().split())) for _ in range(n)]\n",
    "#     lst.sort()\n",
    "print(n, k)\n",
    "print(lst)\n",
    "chk_max = 0\n",
    "DFS(0,0)\n",
    "print(chk_max)"
   ]
  },
  {
   "cell_type": "code",
   "execution_count": 25,
   "metadata": {},
   "outputs": [
    {
     "name": "stdout",
     "output_type": "stream",
     "text": [
      "90\n"
     ]
    }
   ],
   "source": [
    "# 선생님\n",
    "\n",
    "def DFS(wsum, vsum):\n",
    "    global result\n",
    "    if wsum > limit_kg:\n",
    "        return\n",
    "    if vsum > result:\n",
    "        result = vsum\n",
    "    for w, v in gem:\n",
    "        DFS(wsum+w, vsum+v)\n",
    "\n",
    "with open(\"text/가방담기in3.txt\", \"r\") as f:\n",
    "    n, limit_kg = map(int, f.readline().split())\n",
    "    gem = []\n",
    "    for _ in range(n):\n",
    "        a, b = map(int, f.readline().split())\n",
    "        gem.append((a,b))\n",
    "    gem.sort()\n",
    "    \n",
    "    \n",
    "result = 0\n",
    "bag_lst = []\n",
    "DFS(0, 0)\n",
    "print(result)"
   ]
  },
  {
   "cell_type": "code",
   "execution_count": 21,
   "metadata": {},
   "outputs": [
    {
     "data": {
      "text/plain": [
       "[5, 3, 6, 4]"
      ]
     },
     "execution_count": 21,
     "metadata": {},
     "output_type": "execute_result"
    }
   ],
   "source": [
    "gem"
   ]
  },
  {
   "cell_type": "code",
   "execution_count": 30,
   "metadata": {},
   "outputs": [
    {
     "name": "stdout",
     "output_type": "stream",
     "text": [
      "90\n"
     ]
    }
   ],
   "source": [
    "# 버전 2 냅색알고리즘 >> DFS보다 속도가 빠르다.\n",
    "with open(\"text/가방담기in3.txt\", \"r\") as f:\n",
    "    n, limit_kg = map(int, f.readline().split())\n",
    "    wbag_idx = [0] * (limit_kg+1)\n",
    "\n",
    "    for i in range(n):\n",
    "        w, v = map(int, f.readline().split())\n",
    "#         print(w, v)\n",
    "        for j in range(w, limit_kg+1):\n",
    "            wbag_idx[j] = max(wbag_idx[j], wbag_idx[j-w]+v) # 핵심 알고리즘\n",
    "#             print(wbag_idx)\n",
    "print(wbag_idx[limit_kg])"
   ]
  },
  {
   "cell_type": "code",
   "execution_count": 19,
   "metadata": {},
   "outputs": [
    {
     "data": {
      "text/plain": [
       "[0, 0, 0, 0, 0, 0, 0, 0, 0, 0, 0, 0]"
      ]
     },
     "execution_count": 19,
     "metadata": {},
     "output_type": "execute_result"
    }
   ],
   "source": [
    "wbag_idx"
   ]
  },
  {
   "cell_type": "code",
   "execution_count": null,
   "metadata": {},
   "outputs": [],
   "source": []
  }
 ],
 "metadata": {
  "kernelspec": {
   "display_name": "Python 3",
   "language": "python",
   "name": "python3"
  },
  "language_info": {
   "codemirror_mode": {
    "name": "ipython",
    "version": 3
   },
   "file_extension": ".py",
   "mimetype": "text/x-python",
   "name": "python",
   "nbconvert_exporter": "python",
   "pygments_lexer": "ipython3",
   "version": "3.8.3"
  }
 },
 "nbformat": 4,
 "nbformat_minor": 4
}
