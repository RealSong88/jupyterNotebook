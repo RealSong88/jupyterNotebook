{
 "cells": [
  {
   "cell_type": "markdown",
   "metadata": {},
   "source": [
    "# 부분 집합 구하기 (DFS)\n",
    "\n",
    "## 자연수 N이 주어지면 1부터 N까지의 원소를 갖는 집합의 부분집할을 모두 출력하는 프로그램을 작성하시오\n",
    "\n",
    "\n",
    "### 입력 설명\n",
    "- 첫 번째 줄에 자연수 N(1<=N<=10)이 주어집니다.\n",
    "\n",
    "### 출력 설명\n",
    "- 첫 번째 줄부터 각 줄에 하나씩 부분집합을 아래와 출력예제와 같은 순서로 출력한다.\n",
    "- 단 공집합은 출력하지 않는다.\n",
    "\n",
    "#### 입력예제 1\n",
    "- 3\n",
    "\n",
    "#### 출력예제 1\n",
    "- 1 2 3\n",
    "- 1 2\n",
    "- 1 3\n",
    "- 1\n",
    "- 2 3\n",
    "- 2\n",
    "- 3\n"
   ]
  },
  {
   "cell_type": "code",
   "execution_count": 6,
   "metadata": {},
   "outputs": [],
   "source": [
    "def solution(n):\n",
    "    b_lst = [0 for _ in range(n)]\n",
    "    n_lst = [i for i in range(1, n+1)]\n",
    "    print(b_lst)\n",
    "    print(n_lst)\n",
    "    for b_ \n",
    "    \n",
    "        \n",
    "    for j in range(len(n_lst)):\n",
    "        if b_lst[j] == 1:\n",
    "            print(n_lst[j], end=\" \")"
   ]
  },
  {
   "cell_type": "code",
   "execution_count": 7,
   "metadata": {},
   "outputs": [
    {
     "name": "stdout",
     "output_type": "stream",
     "text": [
      "[0, 0, 0]\n",
      "[1, 2, 3]\n"
     ]
    }
   ],
   "source": [
    "solution(3)"
   ]
  },
  {
   "cell_type": "code",
   "execution_count": null,
   "metadata": {},
   "outputs": [],
   "source": []
  },
  {
   "cell_type": "code",
   "execution_count": null,
   "metadata": {},
   "outputs": [],
   "source": []
  },
  {
   "cell_type": "code",
   "execution_count": null,
   "metadata": {},
   "outputs": [],
   "source": []
  },
  {
   "cell_type": "code",
   "execution_count": null,
   "metadata": {},
   "outputs": [],
   "source": []
  },
  {
   "cell_type": "code",
   "execution_count": 14,
   "metadata": {},
   "outputs": [],
   "source": [
    "def MarkBit(x, c):\n",
    "    a=[0]*c\n",
    "    for i in range(c):\n",
    "        a[c-i-1] = x % 2\n",
    "        x = x//2\n",
    "    return a"
   ]
  },
  {
   "cell_type": "code",
   "execution_count": 18,
   "metadata": {},
   "outputs": [
    {
     "name": "stdout",
     "output_type": "stream",
     "text": [
      "[0, 0, 0, 0]\n",
      "[1, 1, 1, 1]\n",
      "[1, 1, 1, 0]\n",
      "[1, 1, 0, 1]\n",
      "[1, 1, 0, 0]\n",
      "[1, 0, 1, 1]\n",
      "[1, 0, 1, 0]\n",
      "[1, 0, 0, 1]\n",
      "[1, 0, 0, 0]\n",
      "[0, 1, 1, 1]\n",
      "[0, 1, 1, 0]\n",
      "[0, 1, 0, 1]\n",
      "[0, 1, 0, 0]\n",
      "[0, 0, 1, 1]\n",
      "[0, 0, 1, 0]\n",
      "[0, 0, 0, 1]\n"
     ]
    }
   ],
   "source": [
    "n = 4\n",
    "for i in range(2**n):\n",
    "    idx = MarkBit(2**n - i, n)\n",
    "    print(idx)"
   ]
  },
  {
   "cell_type": "code",
   "execution_count": 20,
   "metadata": {},
   "outputs": [
    {
     "name": "stdout",
     "output_type": "stream",
     "text": [
      "n=3\n",
      "\n",
      "1 2 3 \n",
      "1 2 \n",
      "1 3 \n",
      "1 \n",
      "2 3 \n",
      "2 \n",
      "3 \n"
     ]
    }
   ],
   "source": [
    "# 선생님 풀이\n",
    "def MarkBit(x, c):\n",
    "    a=[0]*c\n",
    "    for i in range(c):\n",
    "        a[c-i-1] = x % 2\n",
    "        x = x//2\n",
    "    return a\n",
    "\n",
    "n = int(input('n='))\n",
    "tt = [ i for i in range(1, n+1) ]\n",
    "\n",
    "for i in range(2**n):\n",
    "    idx = MarkBit(2**n - i, n)\n",
    "    for j in range(n):\n",
    "        if idx[j] == 1:\n",
    "            print(tt[j], end= \" \")\n",
    "    print()\n",
    "    "
   ]
  },
  {
   "cell_type": "code",
   "execution_count": null,
   "metadata": {},
   "outputs": [],
   "source": []
  }
 ],
 "metadata": {
  "kernelspec": {
   "display_name": "Python 3",
   "language": "python",
   "name": "python3"
  },
  "language_info": {
   "codemirror_mode": {
    "name": "ipython",
    "version": 3
   },
   "file_extension": ".py",
   "mimetype": "text/x-python",
   "name": "python",
   "nbconvert_exporter": "python",
   "pygments_lexer": "ipython3",
   "version": "3.8.3"
  }
 },
 "nbformat": 4,
 "nbformat_minor": 4
}
