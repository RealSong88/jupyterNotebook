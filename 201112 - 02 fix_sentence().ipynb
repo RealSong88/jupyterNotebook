{
 "cells": [
  {
   "cell_type": "code",
   "execution_count": 1,
   "metadata": {},
   "outputs": [],
   "source": [
    "# 문자열 대문자로 전환하는 함수\n",
    "# str.upper() - 주어진 문자열에서 모든 알파벳들을 대문자로 변환시킨다.\n",
    "# str.capitalize() - 주어진 문자열에서 맨 첫 글자를 대문자로 변환시킨다.\n",
    "# str.title() - 주어진 문자열에서 알파벳 외의 문자(숫자, 특수기호, 띄어쓰기 등)로 나누어져 있는 영단어들의 첫 글자를 모두 대문자로 변환시킨다.\n",
    "\n",
    "\n",
    "\n",
    "# 문장을 완성하세요\n",
    "# -endswith()  함수(요소를 집어넣어 true or false구분) 사용 capitalize(문장의 첫번째만 대문자)\n",
    "# fix_sentence(text) 함수를 만들고 문장의 첫글자는 대문자로 마침표가 없을때는 \n",
    "# 마침표를 추가하여 text return 하는 함수를 만드시오\n",
    "# 입력 예) sample_sentence = \"hello, everybody\"\n",
    "# 출력 예) fix_sentence(sample_sentence) 호출하면 \"Hello, everybody.\" 로 출력\n",
    "# string 처리함수를 이용"
   ]
  },
  {
   "cell_type": "code",
   "execution_count": 8,
   "metadata": {},
   "outputs": [],
   "source": [
    "sample_sentence = \"hello, everybody\""
   ]
  },
  {
   "cell_type": "code",
   "execution_count": 11,
   "metadata": {},
   "outputs": [],
   "source": [
    "# 내 버전\n",
    "def fix_sentence(text):\n",
    "    fix = text.capitalize()\n",
    "    if text.endswith('.') == False:\n",
    "        fix += '.'\n",
    "    return fix"
   ]
  },
  {
   "cell_type": "code",
   "execution_count": 12,
   "metadata": {},
   "outputs": [
    {
     "data": {
      "text/plain": [
       "'Hello, everybody.'"
      ]
     },
     "execution_count": 12,
     "metadata": {},
     "output_type": "execute_result"
    }
   ],
   "source": [
    "fix_sentence(sample_sentence)"
   ]
  },
  {
   "cell_type": "code",
   "execution_count": 14,
   "metadata": {},
   "outputs": [],
   "source": [
    "# 선생님 버전\n",
    "def fix_sentence2(text):\n",
    "    text = text.capitalize()\n",
    "    if not text.endswith('.'):\n",
    "        text += '.'\n",
    "    return text\n",
    "    "
   ]
  },
  {
   "cell_type": "code",
   "execution_count": 15,
   "metadata": {},
   "outputs": [
    {
     "data": {
      "text/plain": [
       "'Hello, everybody.'"
      ]
     },
     "execution_count": 15,
     "metadata": {},
     "output_type": "execute_result"
    }
   ],
   "source": [
    "fix_sentence2(sample_sentence)"
   ]
  },
  {
   "cell_type": "code",
   "execution_count": null,
   "metadata": {},
   "outputs": [],
   "source": []
  }
 ],
 "metadata": {
  "kernelspec": {
   "display_name": "Python 3",
   "language": "python",
   "name": "python3"
  },
  "language_info": {
   "codemirror_mode": {
    "name": "ipython",
    "version": 3
   },
   "file_extension": ".py",
   "mimetype": "text/x-python",
   "name": "python",
   "nbconvert_exporter": "python",
   "pygments_lexer": "ipython3",
   "version": "3.8.3"
  }
 },
 "nbformat": 4,
 "nbformat_minor": 4
}
