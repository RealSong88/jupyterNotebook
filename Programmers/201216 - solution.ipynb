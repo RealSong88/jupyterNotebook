{
 "cells": [
  {
   "cell_type": "code",
   "execution_count": 4,
   "metadata": {},
   "outputs": [
    {
     "name": "stdout",
     "output_type": "stream",
     "text": [
      "[3, 5, 1, 2, 4]\n"
     ]
    }
   ],
   "source": [
    "# 랭킹 구하기\n",
    "scores = [75, 56, 98, 88, 66]\n",
    "ranking = [1] * len(scores)\n",
    "\n",
    "for i in range(len(scores)):\n",
    "    for j in range(len(scores)):\n",
    "        if scores[i] < scores[j]:\n",
    "            ranking[i] += 1\n",
    "print(ranking)"
   ]
  },
  {
   "cell_type": "code",
   "execution_count": null,
   "metadata": {},
   "outputs": [],
   "source": []
  }
 ],
 "metadata": {
  "kernelspec": {
   "display_name": "Python 3",
   "language": "python",
   "name": "python3"
  },
  "language_info": {
   "codemirror_mode": {
    "name": "ipython",
    "version": 3
   },
   "file_extension": ".py",
   "mimetype": "text/x-python",
   "name": "python",
   "nbconvert_exporter": "python",
   "pygments_lexer": "ipython3",
   "version": "3.8.3"
  }
 },
 "nbformat": 4,
 "nbformat_minor": 4
}
