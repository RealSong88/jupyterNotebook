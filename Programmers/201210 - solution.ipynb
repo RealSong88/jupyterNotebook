{
 "cells": [
  {
   "cell_type": "code",
   "execution_count": 2,
   "metadata": {},
   "outputs": [],
   "source": [
    "n = 3\n",
    "lost = [3]\n",
    "reverse = [1]\n",
    "\n",
    "def solution(n, lost, reverse): # 체육복 (greedy)\n",
    "    dx = [0, -1, 1]\n",
    "    chk_tbl= [1]*n\n",
    "    for i in lost:\n",
    "        chk_tbl[i - 1]=0\n",
    "\n",
    "    for i in reverse:\n",
    "        for j in range(3):\n",
    "            x = i + dx[j]\n",
    "            if 0 <= x < n and chk_tbl[x] == 0:\n",
    "                chk_tbl[x] = 1\n",
    "    for i in chk_tbl:\n",
    "        print(i)\n",
    "    return chk_tbl.count(1)\n"
   ]
  },
  {
   "cell_type": "code",
   "execution_count": 17,
   "metadata": {},
   "outputs": [],
   "source": [
    "n = 5\n",
    "lost = [2, 4]\n",
    "reverse = [3]\n",
    "\n",
    "dx = [0, -1, 1]\n",
    "chk_tbl = [1] * (n+1)\n",
    "for i in lost:\n",
    "    chk_tbl[i] = 0\n",
    "for i in reverse:\n",
    "    for j in range(3):\n",
    "        nx = i + dx[j]\n",
    "        if 0 < nx <= n and chk_tbl[nx] ==0:\n",
    "            chk_tbl[nx] = 1\n",
    "            break\n",
    "chk_tbl[1:].count(1)\n",
    "     \n"
   ]
  },
  {
   "cell_type": "code",
   "execution_count": 21,
   "metadata": {},
   "outputs": [
    {
     "data": {
      "text/plain": [
       "4"
      ]
     },
     "execution_count": 21,
     "metadata": {},
     "output_type": "execute_result"
    }
   ],
   "source": [
    "n = 5\n",
    "lost = [2, 4]\n",
    "reverse = [3]\n",
    "\n",
    "def solution(n, lost, reverse):\n",
    "    dx = [-1, 1]\n",
    "    chk_tbl = [1] * (n+1)\n",
    "    for i in lost:\n",
    "        chk_tbl[i] = 0\n",
    "    for i in reverse:\n",
    "        if i in lost:\n",
    "            chk_tbl[i] = 1\n",
    "        else:\n",
    "            for j in range(2):\n",
    "                nx = i + dx[j]\n",
    "                if 0 < nx <= n and chk_tbl[nx] ==0:\n",
    "                    chk_tbl[nx] = 1\n",
    "                    break\n",
    "    return chk_tbl[1:].count(1)"
   ]
  },
  {
   "cell_type": "code",
   "execution_count": 24,
   "metadata": {},
   "outputs": [
    {
     "name": "stdout",
     "output_type": "stream",
     "text": [
      "[1, 2, 3, 4, 5]\n",
      "[1, 3, 5]\n",
      "1->> [1, 3, 3, 5]\n",
      "print-0> [1, 3, 3, 5] 2\n",
      "print-0> [1, 3, 5] 4\n",
      "have [1, 3, 5]\n",
      "4\n"
     ]
    }
   ],
   "source": [
    "n = 5\n",
    "lost = [2, 4]\n",
    "reverse = [3]\n",
    "def solution(n,lost,reserve):\n",
    "    count = 0\n",
    "    have = [i for i in range(1,n+1)]\n",
    "    print(have)\n",
    "    have = [i for i in have if i not in lost]\n",
    "    print(have)\n",
    "    have = have + reserve\n",
    "    have = sorted(have)\n",
    "    print('1->>',have)\n",
    "    for i in lost:\n",
    "        print('print-0>',have,i)\n",
    "        if i not in have:\n",
    "            if i+1 in have and have.count(i+1) != 1:\n",
    "                have.remove(i+1)\n",
    "                count +=1\n",
    "            elif i-1 in have and have.count(i+1) !=1:\n",
    "                have.remove(i-1)\n",
    "                count +=1\n",
    "    print('have',have)\n",
    "    result =len(set(have)) + count\n",
    "    #print(have)\n",
    "    return result\n",
    "print(solution(n, lost, reverse))"
   ]
  },
  {
   "cell_type": "code",
   "execution_count": null,
   "metadata": {},
   "outputs": [],
   "source": [
    "500, 100, 50, 10"
   ]
  },
  {
   "cell_type": "code",
   "execution_count": 25,
   "metadata": {},
   "outputs": [],
   "source": [
    "def solution(n): # 거스름돈 최소 개수\n",
    "    cnt = 0\n",
    "    arr = [500, 100, 50, 10]\n",
    "    for i in arr:\n",
    "        cnt += n // i\n",
    "        n = n % i \n",
    "    return cnt\n",
    "    "
   ]
  },
  {
   "cell_type": "code",
   "execution_count": 26,
   "metadata": {},
   "outputs": [
    {
     "name": "stdout",
     "output_type": "stream",
     "text": [
      "6\n"
     ]
    }
   ],
   "source": [
    "print(solution(1260))"
   ]
  },
  {
   "cell_type": "code",
   "execution_count": 43,
   "metadata": {},
   "outputs": [],
   "source": [
    "def solution(n, k): # 1이 될때 까지\n",
    "    cnt=0\n",
    "    while n != 1:\n",
    "        if n % k == 0:\n",
    "            n = n / k\n",
    "        else:\n",
    "            n -= 1\n",
    "        print(n)\n",
    "        cnt += 1\n",
    "    return cnt"
   ]
  },
  {
   "cell_type": "code",
   "execution_count": 45,
   "metadata": {},
   "outputs": [
    {
     "name": "stdout",
     "output_type": "stream",
     "text": [
      "25 3\n",
      "24\n",
      "8.0\n",
      "7.0\n",
      "6.0\n",
      "2.0\n",
      "1.0\n"
     ]
    },
    {
     "data": {
      "text/plain": [
       "6"
      ]
     },
     "execution_count": 45,
     "metadata": {},
     "output_type": "execute_result"
    }
   ],
   "source": [
    "n, m = map(int, input().split())\n",
    "solution(n, m)"
   ]
  },
  {
   "cell_type": "code",
   "execution_count": 49,
   "metadata": {},
   "outputs": [
    {
     "name": "stdout",
     "output_type": "stream",
     "text": [
      "25 3\n",
      "target >> 24\n",
      "result >> 1\n",
      "8\n",
      "target >> 6\n",
      "result >> 4\n",
      "2\n",
      "target >> 0\n",
      "result >> 7\n",
      "6\n"
     ]
    }
   ],
   "source": [
    "n, k = map(int, input().split())\n",
    "result = 0\n",
    "while True:\n",
    "    target = (n // k) * k\n",
    "    print(\"target >>\", target)\n",
    "    result += (n - target)\n",
    "    print(\"result >>\", result)\n",
    "    n = target\n",
    "    if n < k:\n",
    "        break\n",
    "    result += 1\n",
    "    n //= k\n",
    "    print(n)\n",
    "result += (n - 1)\n",
    "print(result)"
   ]
  },
  {
   "cell_type": "code",
   "execution_count": null,
   "metadata": {},
   "outputs": [],
   "source": []
  },
  {
   "cell_type": "code",
   "execution_count": null,
   "metadata": {},
   "outputs": [],
   "source": []
  },
  {
   "cell_type": "code",
   "execution_count": null,
   "metadata": {},
   "outputs": [],
   "source": []
  }
 ],
 "metadata": {
  "kernelspec": {
   "display_name": "Python 3",
   "language": "python",
   "name": "python3"
  },
  "language_info": {
   "codemirror_mode": {
    "name": "ipython",
    "version": 3
   },
   "file_extension": ".py",
   "mimetype": "text/x-python",
   "name": "python",
   "nbconvert_exporter": "python",
   "pygments_lexer": "ipython3",
   "version": "3.8.3"
  }
 },
 "nbformat": 4,
 "nbformat_minor": 4
}
