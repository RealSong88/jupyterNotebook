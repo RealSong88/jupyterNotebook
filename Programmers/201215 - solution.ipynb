{
 "cells": [
  {
   "cell_type": "code",
   "execution_count": null,
   "metadata": {},
   "outputs": [],
   "source": [
    "def solution(answers): # 모의고사\n",
    "    s1 = [1,2,3,4,5]\n",
    "    s2 = [2,1,2,3,2,4,2,5]\n",
    "    s3 = [3,3,1,1,2,2,4,4,5,5]\n",
    "    students[s1, s2, s3]\n",
    "    cnt = [0, 0, 0]\n",
    "    answer = []\n",
    "    for aa in range(len(answers)):   \n",
    "        if answers[aa] == s1[aa % 5]:        \n",
    "            cnt[0] += 1       \n",
    "        if answers[aa] == s2[aa % 8]:\n",
    "            cnt[1] += 1\n",
    "        if answers[aa] == s3[aa % 10]:\n",
    "            cnt[2] += 1\n",
    "    for i in range(3):\n",
    "        if max(cnt) == cnt[i]:\n",
    "            answer.append(i+1)\n",
    "    return answer"
   ]
  },
  {
   "cell_type": "code",
   "execution_count": 23,
   "metadata": {},
   "outputs": [
    {
     "data": {
      "text/plain": [
       "'FRI'"
      ]
     },
     "execution_count": 23,
     "metadata": {},
     "output_type": "execute_result"
    }
   ],
   "source": [
    "import datetime\n",
    "def solution(a, b): # 2016년\n",
    "    return datetime.date(2016, a, b).strftime(\"%a\").upper()\n"
   ]
  },
  {
   "cell_type": "code",
   "execution_count": 22,
   "metadata": {},
   "outputs": [
    {
     "data": {
      "text/plain": [
       "str"
      ]
     },
     "execution_count": 22,
     "metadata": {},
     "output_type": "execute_result"
    }
   ],
   "source": [
    "import datetime\n",
    "datetime.date(2016, 5, 13).strftime(\"%Y-%m-%d-%a\")"
   ]
  },
  {
   "cell_type": "code",
   "execution_count": 59,
   "metadata": {},
   "outputs": [],
   "source": [
    "def solution(s, n): # 시저암호\n",
    "    answer = \"\"\n",
    "    for i in s:\n",
    "        if i == \" \":\n",
    "            answer += \" \"\n",
    "        else:\n",
    "            if not i.islower(): # 대문자일 경우\n",
    "                if (ord(i.lower()) + n) > 122: # 소문자의 아스키코드 + n 이 > 122(='z')\n",
    "                    answer += chr(ord(i.lower()) + n - 26).upper()\n",
    "                else:\n",
    "                    answer += chr(ord(i) + n)\n",
    "\n",
    "            elif i.islower():\n",
    "                if (ord(i) + n) > 122:\n",
    "                    answer += chr(ord(i) + n - 26)\n",
    "                else:\n",
    "                    answer += chr(ord(i) + n)\n",
    "    return answer"
   ]
  },
  {
   "cell_type": "code",
   "execution_count": 63,
   "metadata": {},
   "outputs": [
    {
     "name": "stdout",
     "output_type": "stream",
     "text": [
      "bZa\n"
     ]
    }
   ],
   "source": [
    "s = \"cAb\"\n",
    "n = 25\n",
    "\n",
    "\n",
    "print(solution(s, n))"
   ]
  },
  {
   "cell_type": "code",
   "execution_count": 51,
   "metadata": {},
   "outputs": [
    {
     "name": "stdout",
     "output_type": "stream",
     "text": [
      "97 122 66 90\n"
     ]
    }
   ],
   "source": [
    "print(ord('a'), ord('z'), ord('B'), ord('Z'))"
   ]
  },
  {
   "cell_type": "code",
   "execution_count": 55,
   "metadata": {},
   "outputs": [
    {
     "data": {
      "text/plain": [
       "97"
      ]
     },
     "execution_count": 55,
     "metadata": {},
     "output_type": "execute_result"
    }
   ],
   "source": [
    "123 - 26"
   ]
  },
  {
   "cell_type": "code",
   "execution_count": 57,
   "metadata": {},
   "outputs": [
    {
     "data": {
      "text/plain": [
       "'['"
      ]
     },
     "execution_count": 57,
     "metadata": {},
     "output_type": "execute_result"
    }
   ],
   "source": [
    "chr(90+1)"
   ]
  },
  {
   "cell_type": "code",
   "execution_count": 68,
   "metadata": {},
   "outputs": [
    {
     "data": {
      "text/plain": [
       "122"
      ]
     },
     "execution_count": 68,
     "metadata": {},
     "output_type": "execute_result"
    }
   ],
   "source": [
    "ord('z')"
   ]
  },
  {
   "cell_type": "code",
   "execution_count": 72,
   "metadata": {},
   "outputs": [
    {
     "data": {
      "text/plain": [
       "'y'"
      ]
     },
     "execution_count": 72,
     "metadata": {},
     "output_type": "execute_result"
    }
   ],
   "source": [
    "chr(121)"
   ]
  },
  {
   "cell_type": "code",
   "execution_count": 73,
   "metadata": {},
   "outputs": [],
   "source": [
    "# 시저함수 이렇게 고쳤으면 좋겠다.\n",
    "def caesar(s, n):\n",
    "    result = \"\"\n",
    "    for i in s:\n",
    "        if i.isalpha():\n",
    "            if i.islower():\n",
    "                result += chr((ord(i) - ord(\"a\") + n) % 26 + ord(\"a\"))\n",
    "            else:\n",
    "                result += chr((ord(i) - ord(\"A\") + n) % 26 + ord(\"A\"))\n",
    "        else:\n",
    "            result += i\n",
    "    return result"
   ]
  },
  {
   "cell_type": "code",
   "execution_count": 74,
   "metadata": {},
   "outputs": [],
   "source": [
    "# 내적\n",
    "def solution(a, b):\n",
    "    total = 0\n",
    "    for i in range(len(a)):\n",
    "        total += a[i]*b[i]\n",
    "    return total"
   ]
  },
  {
   "cell_type": "code",
   "execution_count": 134,
   "metadata": {},
   "outputs": [],
   "source": [
    "# 이상한 문자만들기\n",
    "def solution3(s):    \n",
    "    temp = []\n",
    "    lst = s.split(' ')\n",
    "    print(lst)\n",
    "    for i in lst:\n",
    "        answer = ''\n",
    "        for j in range(len(i)):\n",
    "            if j % 2 == 0:\n",
    "                answer += i[j].upper()\n",
    "            else:\n",
    "                answer += i[j].lower()\n",
    "        temp.append(answer)    \n",
    "    return \" \".join(temp)\n",
    "    \n",
    "#     return answer"
   ]
  },
  {
   "cell_type": "code",
   "execution_count": 136,
   "metadata": {},
   "outputs": [
    {
     "name": "stdout",
     "output_type": "stream",
     "text": [
      "['Hello', 'eVeryone']\n",
      "['HeLlO', 'EvErYoNe']\n",
      "HeLlO EvErYoNe\n"
     ]
    }
   ],
   "source": [
    "s = \"try hello world\"\n",
    "s = \"Hello eVeryone\"\n",
    "print(solution3(s))"
   ]
  },
  {
   "cell_type": "code",
   "execution_count": 131,
   "metadata": {},
   "outputs": [],
   "source": [
    "x = [\"a\", \"b\", \"c\"]"
   ]
  },
  {
   "cell_type": "code",
   "execution_count": 133,
   "metadata": {},
   "outputs": [
    {
     "data": {
      "text/plain": [
       "'a b c'"
      ]
     },
     "execution_count": 133,
     "metadata": {},
     "output_type": "execute_result"
    }
   ],
   "source": [
    "\" \".join(x)"
   ]
  },
  {
   "cell_type": "code",
   "execution_count": 150,
   "metadata": {},
   "outputs": [
    {
     "name": "stdout",
     "output_type": "stream",
     "text": [
      "['python is', 'an', 'easy;language', 'to', 'learn.']\n"
     ]
    }
   ],
   "source": [
    "import re\n",
    "\n",
    "text = \"python is# an% easy;language- to, learn.\"\n",
    "print(re.split(\"; |, |# |% |- |' '  \", text))"
   ]
  },
  {
   "cell_type": "code",
   "execution_count": null,
   "metadata": {},
   "outputs": [],
   "source": []
  }
 ],
 "metadata": {
  "kernelspec": {
   "display_name": "Python 3",
   "language": "python",
   "name": "python3"
  },
  "language_info": {
   "codemirror_mode": {
    "name": "ipython",
    "version": 3
   },
   "file_extension": ".py",
   "mimetype": "text/x-python",
   "name": "python",
   "nbconvert_exporter": "python",
   "pygments_lexer": "ipython3",
   "version": "3.8.3"
  }
 },
 "nbformat": 4,
 "nbformat_minor": 4
}
