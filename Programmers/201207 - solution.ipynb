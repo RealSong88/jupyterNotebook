{
 "cells": [
  {
   "cell_type": "code",
   "execution_count": null,
   "metadata": {},
   "outputs": [],
   "source": [
    "s = \"Zbcdefg\"\n",
    "def solution(s): # 문자열 내림차순으로 배치하기\n",
    "    return \"\".join(sorted(s, reverse=True))"
   ]
  },
  {
   "cell_type": "code",
   "execution_count": null,
   "metadata": {},
   "outputs": [],
   "source": [
    "ord('Z')"
   ]
  },
  {
   "cell_type": "code",
   "execution_count": null,
   "metadata": {},
   "outputs": [],
   "source": [
    "ord('z')"
   ]
  },
  {
   "cell_type": "code",
   "execution_count": null,
   "metadata": {},
   "outputs": [],
   "source": [
    "print(solution(s))"
   ]
  },
  {
   "cell_type": "code",
   "execution_count": null,
   "metadata": {},
   "outputs": [],
   "source": [
    "from math import sqrt\n",
    "def is_prime(num):\n",
    "    for i in range(2, int(sqrt(num) + 1)):\n",
    "        if num % i == 0:\n",
    "            return False\n",
    "    return True\n",
    "def solution2(n): #소수 개수 구하기\n",
    "    temp = []\n",
    "    for i in range(2, n + 1):\n",
    "        if is_prime(i):\n",
    "            temp.append(i)\n",
    "    return len(temp)\n",
    "    "
   ]
  },
  {
   "cell_type": "code",
   "execution_count": null,
   "metadata": {},
   "outputs": [],
   "source": [
    "solution2(10)"
   ]
  },
  {
   "cell_type": "code",
   "execution_count": null,
   "metadata": {},
   "outputs": [],
   "source": [
    "def solution3(n): # 수박수박수박수?\n",
    "    result = \"\"\n",
    "    a = \"수\"\n",
    "    b = \"박\"\n",
    "    for i in range(n):\n",
    "        if i % 2 == 1:\n",
    "            result += b\n",
    "        else:\n",
    "            result += a\n",
    "    return result\n",
    "        "
   ]
  },
  {
   "cell_type": "code",
   "execution_count": null,
   "metadata": {},
   "outputs": [],
   "source": [
    "print(solution3(4))"
   ]
  },
  {
   "cell_type": "code",
   "execution_count": 12,
   "metadata": {},
   "outputs": [],
   "source": [
    "def solution4(n, arr1, arr2): # 비밀지도\n",
    "    temp1 = [ format(i, 'b') for i in arr1]   \n",
    "    temp2 = [ format(i, 'b') for i in arr2]                       \n",
    "\n",
    "    mid_ps1 = []\n",
    "    mid_ps2 = []\n",
    "    for i in range(n):\n",
    "        lst_1 = list(temp1[i])\n",
    "        lst_2 = list(temp2[i])\n",
    "        while (len(lst_1) != n): # 2진수 중에 n자리까지 0이 없는경우 채워준다.\n",
    "            lst_1.insert(0, \"0\")\n",
    "        mid_ps1.append(\"\".join(lst_1))\n",
    "        while (len(lst_2) != n):\n",
    "            lst_2.insert(0, \"0\")\n",
    "        mid_ps2.append(\"\".join(lst_2))\n",
    "\n",
    "    answer = []\n",
    "    for i in range(n):\n",
    "        temp = \"\"\n",
    "        for j in range(n):        \n",
    "            if mid_ps1[i][j] == \"1\" or mid_ps2[i][j] == \"1\":\n",
    "                temp += \"#\"\n",
    "            else:\n",
    "                temp += \" \"\n",
    "        answer.append(temp)\n",
    "    return answer"
   ]
  },
  {
   "cell_type": "code",
   "execution_count": 2,
   "metadata": {},
   "outputs": [],
   "source": [
    "n  = 5\n",
    "arr1 = [9, 20, 28, 18, 11]\n",
    "arr2 = [30, 1, 21, 17, 28]"
   ]
  },
  {
   "cell_type": "code",
   "execution_count": 13,
   "metadata": {},
   "outputs": [
    {
     "name": "stdout",
     "output_type": "stream",
     "text": [
      "['#####', '# # #', '### #', '#  ##', '#####']\n"
     ]
    }
   ],
   "source": [
    "print(solution4(n, arr1, arr2))"
   ]
  },
  {
   "cell_type": "code",
   "execution_count": 3,
   "metadata": {},
   "outputs": [
    {
     "name": "stdout",
     "output_type": "stream",
     "text": [
      "['1001', '10100', '11100', '10010', '1011']\n",
      "['11110', '1', '10101', '10001', '11100']\n"
     ]
    }
   ],
   "source": [
    "temp1 = [ format(i, 'b') for i in arr1]\n",
    "print(temp1)\n",
    "temp2 = [ format(i, 'b') for i in arr2]\n",
    "print(temp2)                       "
   ]
  },
  {
   "cell_type": "code",
   "execution_count": 4,
   "metadata": {},
   "outputs": [
    {
     "name": "stdout",
     "output_type": "stream",
     "text": [
      "['11110', '1', '10101', '10001', '11100'] 5\n"
     ]
    }
   ],
   "source": [
    "\n",
    "print(temp2, n)"
   ]
  },
  {
   "cell_type": "code",
   "execution_count": null,
   "metadata": {},
   "outputs": [],
   "source": []
  },
  {
   "cell_type": "code",
   "execution_count": 9,
   "metadata": {},
   "outputs": [],
   "source": [
    "mid_ps1 = []\n",
    "mid_ps2 = []\n",
    "for i in range(n):\n",
    "    lst_1 = list(temp1[i])\n",
    "    lst_2 = list(temp2[i])\n",
    "    while (len(lst_1) != n): # 2진수 중에 n자리까지 0이 없는경우 채워준다.\n",
    "        lst_1.insert(0, \"0\")\n",
    "    mid_ps1.append(\"\".join(lst_1))\n",
    "    while (len(lst_2) != n):\n",
    "        lst_2.insert(0, \"0\")\n",
    "    mid_ps2.append(\"\".join(lst_2))\n",
    "    \n",
    "answer = []\n",
    "for i in range(n):\n",
    "    temp = \"\"\n",
    "    for j in range(n):        \n",
    "        if mid_ps1[i][j] == \"1\" or mid_ps2[i][j] == \"1\":\n",
    "            temp += \"#\"\n",
    "        else:\n",
    "            temp += \" \"\n",
    "    answer.append(temp)"
   ]
  },
  {
   "cell_type": "code",
   "execution_count": 10,
   "metadata": {},
   "outputs": [
    {
     "name": "stdout",
     "output_type": "stream",
     "text": [
      "['#####', '# # #', '### #', '#  ##', '#####']\n"
     ]
    }
   ],
   "source": [
    "print(answer)"
   ]
  },
  {
   "cell_type": "code",
   "execution_count": null,
   "metadata": {},
   "outputs": [],
   "source": [
    "temp1"
   ]
  },
  {
   "cell_type": "code",
   "execution_count": null,
   "metadata": {},
   "outputs": [],
   "source": [
    "a = '1001'"
   ]
  },
  {
   "cell_type": "code",
   "execution_count": null,
   "metadata": {},
   "outputs": [],
   "source": [
    "lst_a = list(a)\n",
    "while(len(lst_a) != 5):\n",
    "    lst_a.insert(0, \"0\")"
   ]
  },
  {
   "cell_type": "code",
   "execution_count": null,
   "metadata": {},
   "outputs": [],
   "source": [
    "\"\".join(lst_a)"
   ]
  },
  {
   "cell_type": "code",
   "execution_count": null,
   "metadata": {},
   "outputs": [],
   "source": []
  }
 ],
 "metadata": {
  "kernelspec": {
   "display_name": "Python 3",
   "language": "python",
   "name": "python3"
  },
  "language_info": {
   "codemirror_mode": {
    "name": "ipython",
    "version": 3
   },
   "file_extension": ".py",
   "mimetype": "text/x-python",
   "name": "python",
   "nbconvert_exporter": "python",
   "pygments_lexer": "ipython3",
   "version": "3.8.3"
  }
 },
 "nbformat": 4,
 "nbformat_minor": 4
}
