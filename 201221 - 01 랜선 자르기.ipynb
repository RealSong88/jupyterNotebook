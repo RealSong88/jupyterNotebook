{
 "cells": [
  {
   "cell_type": "code",
   "execution_count": null,
   "metadata": {},
   "outputs": [],
   "source": [
    "def DFS(s):\n",
    "    global cnt\n",
    "    if s > n:\n",
    "        return\n",
    "    if s == n:\n",
    "        cnt += 1\n",
    "    else:\n",
    "        for i in lst:\n",
    "            DFS(s+i)\n",
    "    \n",
    "n = int(input())\n",
    "\n",
    "lst = [1, 2]\n",
    "\n",
    "cnt = 0\n",
    "DFS(0)\n",
    "print(cnt)"
   ]
  },
  {
   "cell_type": "code",
   "execution_count": null,
   "metadata": {},
   "outputs": [],
   "source": [
    "def DFS(node):\n",
    "    global cnt, combi\n",
    "    if node > n :\n",
    "        return\n",
    "    if node == n:\n",
    "        cnt += 1\n",
    "        print(combi)\n",
    "    else:\n",
    "        for i in range(2):\n",
    "            combi.append(ar[i])\n",
    "            DFS(node + ar[i])\n",
    "            combi.pop()\n",
    "            \n",
    "n = int(input(\"n=\"))\n",
    "ar = [1, 2]\n",
    "combi = []\n",
    "cnt = 0\n",
    "DFS(0)\n",
    "print(cnt)"
   ]
  },
  {
   "cell_type": "code",
   "execution_count": null,
   "metadata": {},
   "outputs": [],
   "source": [
    "# Recursive 사용한 1, 2미터 랜선 갯수 구하기 \n",
    "# 중복되는 연산이 많으므로 시간이 많이 소요됨\n",
    "import time\n",
    "start = time.time()\n",
    "def Num_Cable(L):\n",
    "    if L == 1 or L==2 :\n",
    "        return L\n",
    "    return Num_Cable(L-1) + Num_Cable(L-2)\n",
    "n = int(input())\n",
    "print(Num_Cable(n))\n",
    "print(\"소요시간>>\",time.time()-start)"
   ]
  },
  {
   "cell_type": "code",
   "execution_count": null,
   "metadata": {},
   "outputs": [],
   "source": [
    "# 메모이제이션(Memoization) 사용한 1, 2미터 랜선 갯수 구하기\n",
    "# 동적으로 속도가 빠름\n",
    "import time\n",
    "start = time.time()\n",
    "def Num_Cable(L):\n",
    "    if dt[L] > 0:\n",
    "        return dt[L]\n",
    "    if L == 1 or L==2 :\n",
    "        return L\n",
    "    else:\n",
    "        dt[L]=Num_Cable(L-1) + Num_Cable(L-2)\n",
    "        return dt[L]\n",
    "    \n",
    "n = int(input())\n",
    "df =[0]*(n+1)\n",
    "print(Num_Cable(n))\n",
    "print(\"소요시간>>\",time.time()-start)"
   ]
  },
  {
   "cell_type": "code",
   "execution_count": null,
   "metadata": {},
   "outputs": [],
   "source": [
    "# 피보나치 활용 \n",
    "def func(n):\n",
    "    if n <= 2:\n",
    "#         print(n, end = \" \")\n",
    "        return n\n",
    "    else:      \n",
    "        return func(n-1) + func(n-2)\n",
    "n = int(input())\n",
    "print(func(n))\n",
    "\n"
   ]
  },
  {
   "cell_type": "code",
   "execution_count": null,
   "metadata": {},
   "outputs": [],
   "source": [
    "# 랜선 1m 2m 다이나믹 프로그래밍 방식\n",
    "import time\n",
    "start = time.time()\n",
    "n = int(input())\n",
    "dt = [0]*(n+1)\n",
    "dt[1] = 1\n",
    "dt[2] = 2 \n",
    "for i in range(3, n+1):\n",
    "    dt[i]=dt[i-1] + dt[i-2]\n",
    "print(dt[n])\n",
    "print(dt)\n",
    "print(\"소요시간\", time.time()-start)"
   ]
  },
  {
   "cell_type": "code",
   "execution_count": null,
   "metadata": {},
   "outputs": [],
   "source": []
  }
 ],
 "metadata": {
  "kernelspec": {
   "display_name": "Python 3",
   "language": "python",
   "name": "python3"
  },
  "language_info": {
   "codemirror_mode": {
    "name": "ipython",
    "version": 3
   },
   "file_extension": ".py",
   "mimetype": "text/x-python",
   "name": "python",
   "nbconvert_exporter": "python",
   "pygments_lexer": "ipython3",
   "version": "3.8.3"
  }
 },
 "nbformat": 4,
 "nbformat_minor": 4
}
