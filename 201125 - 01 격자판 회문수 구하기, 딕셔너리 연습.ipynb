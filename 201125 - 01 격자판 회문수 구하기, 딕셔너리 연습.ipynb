{
 "cells": [
  {
   "cell_type": "markdown",
   "metadata": {},
   "source": [
    "# 격자판 회문수\n",
    "\n",
    "### 1부터 9까지의 자연수로 채워진 7*7 격자판이 주어지면 격자판 위에서 가로방향 또는 세로방향으로 길이 5자리 회문수가 몇 개 있는지 구하는 프로그램을 작성하세요.\n",
    "### 회문수란 121과 같이 앞에서부터 읽으나 뒤에서부터 읽으나 같은 수를 말합니다.\n",
    "\n",
    "#### 입력설명\n",
    "- 1부터 9까지의 자연수로 채워진 7*7 격자판이 주어집니다.\n",
    "\n",
    "#### 출력설명\n",
    "- 5자리 회문수의 개수를 출력합니다.\n",
    "\n",
    "#### 입력예제 1\n",
    "- 2 4 1 5 3 2 6\n",
    "- 3 5 1 8 7 1 7\n",
    "- 8 3 2 7 1 3 8\n",
    "- 6 1 2 3 2 1 1 \n",
    "- 1 3 1 3 5 3 2\n",
    "- 1 1 2 5 6 5 2\n",
    "- 1 2 2 2 2 1 5\n",
    "\n",
    "\n",
    "#### 출력예제 1\n",
    "\n",
    "\n",
    "#### <정답>\n",
    "- 격자판회문수1.txt -> 3\n",
    "- 격자판회문수2.txt -> 1"
   ]
  },
  {
   "cell_type": "code",
   "execution_count": 85,
   "metadata": {},
   "outputs": [
    {
     "name": "stdout",
     "output_type": "stream",
     "text": [
      "7\n",
      "가로의 같은 회문수 리스트 = [1, 2, 3, 2, 1]\n",
      "가로의 같은 회문수 리스트 = [2, 5, 6, 5, 2]\n",
      "세로의 같은 회문수 리스트 = [2, 2, 1, 2, 2]\n",
      "회문수는 = 3\n"
     ]
    }
   ],
   "source": [
    "with open(\"text/격자판회문수1.txt\", \"r\") as f:\n",
    "    lst = [list(map(int, f.readline().split())) for _ in range(7)]\n",
    "cnt = 0\n",
    "temp_lst = []\n",
    "print(len(lst[0]))\n",
    "# 가로에서 회문수 찾기\n",
    "for i in range(len(lst)):\n",
    "    for j in range(3):\n",
    "        if lst[i][j:j+5] == list(reversed(lst[i][j:j+5])):\n",
    "            cnt +=1\n",
    "            print(\"가로의 같은 회문수 리스트 =\",lst[i][j:j+5])\n",
    "\n",
    "# 세로에서 회문수 찾기\n",
    "for i in range(len(lst)):\n",
    "    for j in range(3):\n",
    "        temp_lst = [lst[j + x][i] for x in range(5)]\n",
    "        if temp_lst == list(reversed(temp_lst)):\n",
    "            cnt += 1\n",
    "            print(\"세로의 같은 회문수 리스트 =\",temp_lst)\n",
    "# print(\"temp_lst=\", temp_lst)        \n",
    "print(\"회문수는 =\",cnt)"
   ]
  },
  {
   "cell_type": "code",
   "execution_count": 34,
   "metadata": {},
   "outputs": [
    {
     "data": {
      "text/plain": [
       "[2, 4, 1, 5, 3]"
      ]
     },
     "execution_count": 34,
     "metadata": {},
     "output_type": "execute_result"
    }
   ],
   "source": [
    "x = [2, 4, 1, 5, 3]\n",
    "x"
   ]
  },
  {
   "cell_type": "code",
   "execution_count": 35,
   "metadata": {},
   "outputs": [],
   "source": [
    "y = list(reversed(x))\n"
   ]
  },
  {
   "cell_type": "code",
   "execution_count": 36,
   "metadata": {},
   "outputs": [
    {
     "data": {
      "text/plain": [
       "[2, 4, 1, 5, 3]"
      ]
     },
     "execution_count": 36,
     "metadata": {},
     "output_type": "execute_result"
    }
   ],
   "source": [
    "x"
   ]
  },
  {
   "cell_type": "code",
   "execution_count": 37,
   "metadata": {},
   "outputs": [
    {
     "data": {
      "text/plain": [
       "[3, 5, 1, 4, 2]"
      ]
     },
     "execution_count": 37,
     "metadata": {},
     "output_type": "execute_result"
    }
   ],
   "source": [
    "y"
   ]
  },
  {
   "cell_type": "code",
   "execution_count": 38,
   "metadata": {},
   "outputs": [
    {
     "data": {
      "text/plain": [
       "[3, 5, 1, 4, 2]"
      ]
     },
     "execution_count": 38,
     "metadata": {},
     "output_type": "execute_result"
    }
   ],
   "source": [
    "y[0:5]"
   ]
  },
  {
   "cell_type": "code",
   "execution_count": 39,
   "metadata": {},
   "outputs": [],
   "source": [
    "z = [[2,4,1,5,3], [3,4,5,2,3]]"
   ]
  },
  {
   "cell_type": "code",
   "execution_count": 40,
   "metadata": {},
   "outputs": [
    {
     "data": {
      "text/plain": [
       "[2, 4, 1]"
      ]
     },
     "execution_count": 40,
     "metadata": {},
     "output_type": "execute_result"
    }
   ],
   "source": [
    "z[0][0:3]"
   ]
  },
  {
   "cell_type": "code",
   "execution_count": null,
   "metadata": {},
   "outputs": [],
   "source": []
  },
  {
   "cell_type": "code",
   "execution_count": 86,
   "metadata": {},
   "outputs": [
    {
     "name": "stdout",
     "output_type": "stream",
     "text": [
      "3\n"
     ]
    }
   ],
   "source": [
    "# 선생님 버전\n",
    "with open(\"text/격자판회문수1.txt\", \"r\") as f:\n",
    "    mat = [list(map(int, f.readline().split())) for _ in range(7)]\n",
    "\n",
    "cnt = 0 # 항상 무엇을 셀때는 카운트 변수 반드시 필요\n",
    "\n",
    "for i in range(3):\n",
    "    for j in range(7):\n",
    "        temp = mat[j][i:i+5]\n",
    "        if temp == temp[::-1]: # 행의 회문수를 찾기\n",
    "            cnt += 1\n",
    "        for k in range(2): # 옆의 회문수 찾기\n",
    "            if mat[i+k][j] != mat[i+4-k][j]:\n",
    "                break\n",
    "        else:\n",
    "            cnt += 1\n",
    "print(cnt)\n",
    "        "
   ]
  },
  {
   "cell_type": "code",
   "execution_count": 90,
   "metadata": {},
   "outputs": [
    {
     "name": "stdout",
     "output_type": "stream",
     "text": [
      "5 번 돌껍니다\n"
     ]
    }
   ],
   "source": [
    "for i in range(10):\n",
    "    if i == 5 :    \n",
    "        break\n",
    "else :\n",
    "    print(\"Break문은 수행되지않았습니다.\")"
   ]
  },
  {
   "cell_type": "code",
   "execution_count": 76,
   "metadata": {},
   "outputs": [],
   "source": [
    "test = [1,2,3,2,1]"
   ]
  },
  {
   "cell_type": "code",
   "execution_count": 77,
   "metadata": {},
   "outputs": [
    {
     "data": {
      "text/plain": [
       "[1, 2, 3, 2, 1]"
      ]
     },
     "execution_count": 77,
     "metadata": {},
     "output_type": "execute_result"
    }
   ],
   "source": [
    "test"
   ]
  },
  {
   "cell_type": "code",
   "execution_count": 78,
   "metadata": {},
   "outputs": [
    {
     "data": {
      "text/plain": [
       "[1, 2, 3, 2, 1]"
      ]
     },
     "execution_count": 78,
     "metadata": {},
     "output_type": "execute_result"
    }
   ],
   "source": [
    "test[-1: -6:-1]"
   ]
  },
  {
   "cell_type": "code",
   "execution_count": 79,
   "metadata": {},
   "outputs": [
    {
     "data": {
      "text/plain": [
       "[1, 2, 3, 2, 1]"
      ]
     },
     "execution_count": 79,
     "metadata": {},
     "output_type": "execute_result"
    }
   ],
   "source": [
    "test[::-1]"
   ]
  },
  {
   "cell_type": "code",
   "execution_count": 80,
   "metadata": {},
   "outputs": [
    {
     "data": {
      "text/plain": [
       "True"
      ]
     },
     "execution_count": 80,
     "metadata": {},
     "output_type": "execute_result"
    }
   ],
   "source": [
    "test == test[::-1]"
   ]
  },
  {
   "cell_type": "markdown",
   "metadata": {},
   "source": [
    "# 단어 빈도수 알아내기\n",
    "## Korea Times의 HeadLine 기사를 복사한 후 전체를 문장으로 만든다. 그 후에 단어별 빈도수를 dictionary 스타일로 만든 후 가장 많이 출현한 단어 Tot 10만 출력 하시오.\n",
    "\n",
    "## 처리 조건\n",
    "- Korea Times 기사하나를 복사한 후 스트링 처리 후에 단어별로 빈도수 사전스타일로 만들기\n",
    "\n",
    "## 처리 예\n",
    "- [('a',70), ('on', 26), ('in', 22), ('the', 13), ('at', 9)]"
   ]
  },
  {
   "cell_type": "code",
   "execution_count": 91,
   "metadata": {},
   "outputs": [],
   "source": [
    "news_article = '''\n",
    "Justice Minister Choo Mi-ae on Tuesday suspended Prosecutor General Yoon Seok-youl from his duty, in an unprecedented move amid a feud over prosecution reforms and various investigations involving Yoon's aide and family members.\n",
    "\n",
    "\"The ministry has been investigating various allegations against the top prosecutor and found out some serious misconduct,\" the justice minister said during a briefing.\n",
    "\n",
    "As reasons to bar him from his duty and seek disciplinary actions, the minister cited what she called an \"improper\" meeting with a media executive, the illegal inspection of judges involved in controversial cases, interference with the prosecution's investigations to protect people close to him and damage to public trust in the political neutrality of the prosecution. She also cited his alleged leak of information to the press on the Supreme Prosecutors Office's launch of an audit into his close aide involved in an alleged blackmail case.\n",
    "\n",
    "She said that Yoon violated ethics by meeting with Hong Seok-hyun, chairman of JoongAng Holdings, the media group that owns local daily JoongAng Ilbo and cable channel JTBC, in November 2018, who could be an interested party in a case being probed by prosecutors. Yoon was the chief prosecutor at the Seoul Central District Prosecutors Office at that time. Choo didn't offer further details.\n",
    "\n",
    "She also said Yoon had impeded the ministry's lawful probe by not responding to recent written investigation inquiries.\n",
    "'''"
   ]
  },
  {
   "cell_type": "code",
   "execution_count": 92,
   "metadata": {},
   "outputs": [
    {
     "data": {
      "text/plain": [
       "'\\nJustice Minister Choo Mi-ae on Tuesday suspended Prosecutor General Yoon Seok-youl from his duty, in an unprecedented move amid a feud over prosecution reforms and various investigations involving Yoon\\'s aide and family members.\\n\\n\"The ministry has been investigating various allegations against the top prosecutor and found out some serious misconduct,\" the justice minister said during a briefing.\\n\\nAs reasons to bar him from his duty and seek disciplinary actions, the minister cited what she called an \"improper\" meeting with a media executive, the illegal inspection of judges involved in controversial cases, interference with the prosecution\\'s investigations to protect people close to him and damage to public trust in the political neutrality of the prosecution. She also cited his alleged leak of information to the press on the Supreme Prosecutors Office\\'s launch of an audit into his close aide involved in an alleged blackmail case.\\n\\nShe said that Yoon violated ethics by meeting with Hong Seok-hyun, chairman of JoongAng Holdings, the media group that owns local daily JoongAng Ilbo and cable channel JTBC, in November 2018, who could be an interested party in a case being probed by prosecutors. Yoon was the chief prosecutor at the Seoul Central District Prosecutors Office at that time. Choo didn\\'t offer further details.\\n\\nShe also said Yoon had impeded the ministry\\'s lawful probe by not responding to recent written investigation inquiries.\\n'"
      ]
     },
     "execution_count": 92,
     "metadata": {},
     "output_type": "execute_result"
    }
   ],
   "source": [
    "news_article"
   ]
  },
  {
   "cell_type": "code",
   "execution_count": 93,
   "metadata": {},
   "outputs": [
    {
     "data": {
      "text/plain": [
       "['Justice',\n",
       " 'Minister',\n",
       " 'Choo',\n",
       " 'Mi-ae',\n",
       " 'on',\n",
       " 'Tuesday',\n",
       " 'suspended',\n",
       " 'Prosecutor',\n",
       " 'General',\n",
       " 'Yoon',\n",
       " 'Seok-youl',\n",
       " 'from',\n",
       " 'his',\n",
       " 'duty,',\n",
       " 'in',\n",
       " 'an',\n",
       " 'unprecedented',\n",
       " 'move',\n",
       " 'amid',\n",
       " 'a',\n",
       " 'feud',\n",
       " 'over',\n",
       " 'prosecution',\n",
       " 'reforms',\n",
       " 'and',\n",
       " 'various',\n",
       " 'investigations',\n",
       " 'involving',\n",
       " \"Yoon's\",\n",
       " 'aide',\n",
       " 'and',\n",
       " 'family',\n",
       " 'members.',\n",
       " '\"The',\n",
       " 'ministry',\n",
       " 'has',\n",
       " 'been',\n",
       " 'investigating',\n",
       " 'various',\n",
       " 'allegations',\n",
       " 'against',\n",
       " 'the',\n",
       " 'top',\n",
       " 'prosecutor',\n",
       " 'and',\n",
       " 'found',\n",
       " 'out',\n",
       " 'some',\n",
       " 'serious',\n",
       " 'misconduct,\"',\n",
       " 'the',\n",
       " 'justice',\n",
       " 'minister',\n",
       " 'said',\n",
       " 'during',\n",
       " 'a',\n",
       " 'briefing.',\n",
       " 'As',\n",
       " 'reasons',\n",
       " 'to',\n",
       " 'bar',\n",
       " 'him',\n",
       " 'from',\n",
       " 'his',\n",
       " 'duty',\n",
       " 'and',\n",
       " 'seek',\n",
       " 'disciplinary',\n",
       " 'actions,',\n",
       " 'the',\n",
       " 'minister',\n",
       " 'cited',\n",
       " 'what',\n",
       " 'she',\n",
       " 'called',\n",
       " 'an',\n",
       " '\"improper\"',\n",
       " 'meeting',\n",
       " 'with',\n",
       " 'a',\n",
       " 'media',\n",
       " 'executive,',\n",
       " 'the',\n",
       " 'illegal',\n",
       " 'inspection',\n",
       " 'of',\n",
       " 'judges',\n",
       " 'involved',\n",
       " 'in',\n",
       " 'controversial',\n",
       " 'cases,',\n",
       " 'interference',\n",
       " 'with',\n",
       " 'the',\n",
       " \"prosecution's\",\n",
       " 'investigations',\n",
       " 'to',\n",
       " 'protect',\n",
       " 'people',\n",
       " 'close',\n",
       " 'to',\n",
       " 'him',\n",
       " 'and',\n",
       " 'damage',\n",
       " 'to',\n",
       " 'public',\n",
       " 'trust',\n",
       " 'in',\n",
       " 'the',\n",
       " 'political',\n",
       " 'neutrality',\n",
       " 'of',\n",
       " 'the',\n",
       " 'prosecution.',\n",
       " 'She',\n",
       " 'also',\n",
       " 'cited',\n",
       " 'his',\n",
       " 'alleged',\n",
       " 'leak',\n",
       " 'of',\n",
       " 'information',\n",
       " 'to',\n",
       " 'the',\n",
       " 'press',\n",
       " 'on',\n",
       " 'the',\n",
       " 'Supreme',\n",
       " 'Prosecutors',\n",
       " \"Office's\",\n",
       " 'launch',\n",
       " 'of',\n",
       " 'an',\n",
       " 'audit',\n",
       " 'into',\n",
       " 'his',\n",
       " 'close',\n",
       " 'aide',\n",
       " 'involved',\n",
       " 'in',\n",
       " 'an',\n",
       " 'alleged',\n",
       " 'blackmail',\n",
       " 'case.',\n",
       " 'She',\n",
       " 'said',\n",
       " 'that',\n",
       " 'Yoon',\n",
       " 'violated',\n",
       " 'ethics',\n",
       " 'by',\n",
       " 'meeting',\n",
       " 'with',\n",
       " 'Hong',\n",
       " 'Seok-hyun,',\n",
       " 'chairman',\n",
       " 'of',\n",
       " 'JoongAng',\n",
       " 'Holdings,',\n",
       " 'the',\n",
       " 'media',\n",
       " 'group',\n",
       " 'that',\n",
       " 'owns',\n",
       " 'local',\n",
       " 'daily',\n",
       " 'JoongAng',\n",
       " 'Ilbo',\n",
       " 'and',\n",
       " 'cable',\n",
       " 'channel',\n",
       " 'JTBC,',\n",
       " 'in',\n",
       " 'November',\n",
       " '2018,',\n",
       " 'who',\n",
       " 'could',\n",
       " 'be',\n",
       " 'an',\n",
       " 'interested',\n",
       " 'party',\n",
       " 'in',\n",
       " 'a',\n",
       " 'case',\n",
       " 'being',\n",
       " 'probed',\n",
       " 'by',\n",
       " 'prosecutors.',\n",
       " 'Yoon',\n",
       " 'was',\n",
       " 'the',\n",
       " 'chief',\n",
       " 'prosecutor',\n",
       " 'at',\n",
       " 'the',\n",
       " 'Seoul',\n",
       " 'Central',\n",
       " 'District',\n",
       " 'Prosecutors',\n",
       " 'Office',\n",
       " 'at',\n",
       " 'that',\n",
       " 'time.',\n",
       " 'Choo',\n",
       " \"didn't\",\n",
       " 'offer',\n",
       " 'further',\n",
       " 'details.',\n",
       " 'She',\n",
       " 'also',\n",
       " 'said',\n",
       " 'Yoon',\n",
       " 'had',\n",
       " 'impeded',\n",
       " 'the',\n",
       " \"ministry's\",\n",
       " 'lawful',\n",
       " 'probe',\n",
       " 'by',\n",
       " 'not',\n",
       " 'responding',\n",
       " 'to',\n",
       " 'recent',\n",
       " 'written',\n",
       " 'investigation',\n",
       " 'inquiries.']"
      ]
     },
     "execution_count": 93,
     "metadata": {},
     "output_type": "execute_result"
    }
   ],
   "source": [
    "news_article.split()"
   ]
  },
  {
   "cell_type": "code",
   "execution_count": 94,
   "metadata": {},
   "outputs": [
    {
     "data": {
      "text/plain": [
       "['what', 'she', 'called', 'what']"
      ]
     },
     "execution_count": 94,
     "metadata": {},
     "output_type": "execute_result"
    }
   ],
   "source": [
    "sample = ['what','she','called', 'what']\n",
    "sample"
   ]
  },
  {
   "cell_type": "code",
   "execution_count": 162,
   "metadata": {},
   "outputs": [
    {
     "name": "stdout",
     "output_type": "stream",
     "text": [
      "False\n",
      "<class 'dict'>\n",
      "True\n",
      "{}\n"
     ]
    }
   ],
   "source": [
    "\n",
    "ss_dict = {}\n",
    "word_lst = news_article.split()\n",
    "print(ss_dict == None)\n",
    "print(type(ss_dict))\n",
    "print(ss_dict == dict)\n",
    "\n",
    "# for i in range(len(sample)):\n",
    "#     for j in sample:\n",
    "#         if i = j:\n",
    "#             ss_dict[j] = 1\n",
    "#         else:\n",
    "#             ss_dict[j] += 1\n",
    "print(ss_dict)\n"
   ]
  },
  {
   "cell_type": "code",
   "execution_count": 117,
   "metadata": {},
   "outputs": [
    {
     "data": {
      "text/plain": [
       "{'what': 0}"
      ]
     },
     "execution_count": 117,
     "metadata": {},
     "output_type": "execute_result"
    }
   ],
   "source": [
    "s_dict = {'what': 0}\n",
    "s_dict"
   ]
  },
  {
   "cell_type": "code",
   "execution_count": 118,
   "metadata": {},
   "outputs": [
    {
     "data": {
      "text/plain": [
       "{'what': 0, 'she': 0}"
      ]
     },
     "execution_count": 118,
     "metadata": {},
     "output_type": "execute_result"
    }
   ],
   "source": [
    "s_dict['she'] = 0\n",
    "s_dict"
   ]
  },
  {
   "cell_type": "code",
   "execution_count": 119,
   "metadata": {},
   "outputs": [
    {
     "data": {
      "text/plain": [
       "0"
      ]
     },
     "execution_count": 119,
     "metadata": {},
     "output_type": "execute_result"
    }
   ],
   "source": [
    "s_dict['what']"
   ]
  },
  {
   "cell_type": "code",
   "execution_count": 122,
   "metadata": {},
   "outputs": [
    {
     "data": {
      "text/plain": [
       "dict"
      ]
     },
     "execution_count": 122,
     "metadata": {},
     "output_type": "execute_result"
    }
   ],
   "source": [
    "type(s_dict)"
   ]
  },
  {
   "cell_type": "code",
   "execution_count": 141,
   "metadata": {},
   "outputs": [
    {
     "name": "stdout",
     "output_type": "stream",
     "text": [
      "what\n",
      "실행\n",
      "1\n",
      "she\n",
      "실행\n"
     ]
    }
   ],
   "source": [
    "for i in s_dict.keys():\n",
    "    if i == 'what':\n",
    "        print(i)\n",
    "        print(\"실행\")\n",
    "        s_dict[i] += 1\n",
    "        print(s_dict[i])\n",
    "    else:\n",
    "        print(i)\n",
    "        print(\"실행\")\n",
    "        s_dict['what'] = 0"
   ]
  },
  {
   "cell_type": "code",
   "execution_count": 140,
   "metadata": {},
   "outputs": [
    {
     "data": {
      "text/plain": [
       "{'what': 0, 'she': 0}"
      ]
     },
     "execution_count": 140,
     "metadata": {},
     "output_type": "execute_result"
    }
   ],
   "source": [
    "s_dict"
   ]
  },
  {
   "cell_type": "code",
   "execution_count": 144,
   "metadata": {},
   "outputs": [
    {
     "ename": "KeyError",
     "evalue": "'b'",
     "output_type": "error",
     "traceback": [
      "\u001b[1;31m---------------------------------------------------------------------------\u001b[0m",
      "\u001b[1;31mKeyError\u001b[0m                                  Traceback (most recent call last)",
      "\u001b[1;32m<ipython-input-144-26eea9f270f6>\u001b[0m in \u001b[0;36m<module>\u001b[1;34m\u001b[0m\n\u001b[1;32m----> 1\u001b[1;33m \u001b[0ms_dict\u001b[0m\u001b[1;33m[\u001b[0m\u001b[1;34m'b'\u001b[0m\u001b[1;33m]\u001b[0m \u001b[1;33m==\u001b[0m \u001b[0mnull\u001b[0m\u001b[1;33m\u001b[0m\u001b[1;33m\u001b[0m\u001b[0m\n\u001b[0m",
      "\u001b[1;31mKeyError\u001b[0m: 'b'"
     ]
    }
   ],
   "source": [
    "s_dict['b'] == null"
   ]
  },
  {
   "cell_type": "code",
   "execution_count": 146,
   "metadata": {},
   "outputs": [],
   "source": [
    "if s_dict.keys() != 'her':\n",
    "    s_dict['her'] = 0"
   ]
  },
  {
   "cell_type": "code",
   "execution_count": 147,
   "metadata": {},
   "outputs": [
    {
     "data": {
      "text/plain": [
       "{'what': 0, 'she': 0, 'her': 0}"
      ]
     },
     "execution_count": 147,
     "metadata": {},
     "output_type": "execute_result"
    }
   ],
   "source": [
    "s_dict"
   ]
  },
  {
   "cell_type": "code",
   "execution_count": null,
   "metadata": {},
   "outputs": [],
   "source": []
  },
  {
   "cell_type": "code",
   "execution_count": null,
   "metadata": {},
   "outputs": [],
   "source": []
  },
  {
   "cell_type": "code",
   "execution_count": 151,
   "metadata": {},
   "outputs": [
    {
     "data": {
      "text/plain": [
       "[('a', 81),\n",
       " ('in', 35),\n",
       " ('on', 24),\n",
       " ('the', 14),\n",
       " ('to', 14),\n",
       " ('an', 13),\n",
       " ('at', 13),\n",
       " ('be', 7),\n",
       " ('and', 6),\n",
       " ('of', 6)]"
      ]
     },
     "execution_count": 151,
     "metadata": {},
     "output_type": "execute_result"
    }
   ],
   "source": [
    "# 선생님 버전\n",
    "word_lst = news_article.split(' ')\n",
    "word_dic = {}\n",
    "for word in word_lst:\n",
    "    word_dic[word] = news_article.count(word) # 중복된 단어가 있는 list도 카운트하기때문에 에러\n",
    "sorted(word_dic.items(), reverse=True, key=lambda xx:xx[1])[0:10]"
   ]
  },
  {
   "cell_type": "code",
   "execution_count": 152,
   "metadata": {},
   "outputs": [
    {
     "data": {
      "text/plain": [
       "[('the', 13),\n",
       " ('in', 6),\n",
       " ('and', 6),\n",
       " ('to', 6),\n",
       " ('an', 5),\n",
       " ('of', 5),\n",
       " ('Yoon', 4),\n",
       " ('his', 4),\n",
       " ('a', 4),\n",
       " ('said', 3)]"
      ]
     },
     "execution_count": 152,
     "metadata": {},
     "output_type": "execute_result"
    }
   ],
   "source": [
    "# 다른 버전\n",
    "paper_dic = {}\n",
    "for word in word_lst:\n",
    "    if paper_dic.get(word) == None:\n",
    "        paper_dic[word]=1\n",
    "    else:\n",
    "        paper_dic[word] += 1\n",
    "sorted(paper_dic.items(), reverse=True, key=lambda xx: xx[1])[0:10]"
   ]
  },
  {
   "cell_type": "code",
   "execution_count": 156,
   "metadata": {},
   "outputs": [
    {
     "data": {
      "text/plain": [
       "[('the', 13),\n",
       " ('in', 6),\n",
       " ('and', 6),\n",
       " ('to', 6),\n",
       " ('an', 5),\n",
       " ('of', 5),\n",
       " ('Yoon', 4),\n",
       " ('his', 4),\n",
       " ('a', 4),\n",
       " ('said', 3)]"
      ]
     },
     "execution_count": 156,
     "metadata": {},
     "output_type": "execute_result"
    }
   ],
   "source": [
    "# 또다른 버전\n",
    "import collections\n",
    "lst = collections.Counter(news_article.split(\" \"))\n",
    "lst.most_common(10)"
   ]
  },
  {
   "cell_type": "code",
   "execution_count": null,
   "metadata": {},
   "outputs": [],
   "source": []
  },
  {
   "cell_type": "code",
   "execution_count": 157,
   "metadata": {},
   "outputs": [
    {
     "data": {
      "text/plain": [
       "'what'"
      ]
     },
     "execution_count": 157,
     "metadata": {},
     "output_type": "execute_result"
    }
   ],
   "source": [
    "word = \"what\"\n",
    "word"
   ]
  },
  {
   "cell_type": "code",
   "execution_count": 159,
   "metadata": {},
   "outputs": [
    {
     "data": {
      "text/plain": [
       "0"
      ]
     },
     "execution_count": 159,
     "metadata": {},
     "output_type": "execute_result"
    }
   ],
   "source": [
    "word.count(\"c\")"
   ]
  },
  {
   "cell_type": "code",
   "execution_count": null,
   "metadata": {},
   "outputs": [],
   "source": []
  }
 ],
 "metadata": {
  "kernelspec": {
   "display_name": "Python 3",
   "language": "python",
   "name": "python3"
  },
  "language_info": {
   "codemirror_mode": {
    "name": "ipython",
    "version": 3
   },
   "file_extension": ".py",
   "mimetype": "text/x-python",
   "name": "python",
   "nbconvert_exporter": "python",
   "pygments_lexer": "ipython3",
   "version": "3.8.3"
  }
 },
 "nbformat": 4,
 "nbformat_minor": 4
}
