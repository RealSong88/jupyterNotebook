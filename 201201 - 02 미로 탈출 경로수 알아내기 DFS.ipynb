{
 "cells": [
  {
   "cell_type": "markdown",
   "metadata": {},
   "source": [
    "# 미로탈출 경로수 알아내기\n",
    "\n",
    "### 7x7 격자판 미로를 탈출하는 경로의 가지수를 출력하는 프로그램을 작성하세요. 출발점은 격자의 (1, 1) 좌표이고, 탈출 도착점은 (7, 7) 좌표이다. 격자판의 1은 벽이고, 0은 통로이다. 격자판의 움직임은 상하좌우로만 움직인다. 미로가 다음과 같다면\n",
    "\n",
    "### 위의 지도에서 출발점에서 도착점까지 갈 수 있는 방법의 수는 8가지이다.\n",
    "\n",
    "\n",
    "#### 입력 예제 1\n",
    "- 0 0 0 0 0 0 0\n",
    "- 0 1 1 1 1 1 0\n",
    "- 0 0 0 1 0 0 0\n",
    "- 1 1 0 1 0 1 1 \n",
    "- 1 1 0 0 0 0 1\n",
    "- 1 1 0 1 1 0 0\n",
    "- 1 0 0 0 0 0 0\n",
    "\n",
    "#### 출력 예제 1\n",
    "- 8\n",
    "#### < 정답 >\n",
    "- 미로경로수in1.txt -> 2\n",
    "- 미로경로수in2.txt -> 46"
   ]
  },
  {
   "cell_type": "code",
   "execution_count": 5,
   "metadata": {},
   "outputs": [],
   "source": [
    "with open(\"text/미로경로수in1.txt\", \"r\") as f:\n",
    "    matrix = [ list(map(int, f.readline().split())) for _ in range(7)]\n",
    "    matrix\n",
    "dis = [[0] * 7] * 7\n",
    "dx = [-1, 0, 1, 0]\n",
    "dy = [ 0, 1, 0, -1]"
   ]
  },
  {
   "cell_type": "code",
   "execution_count": null,
   "metadata": {},
   "outputs": [],
   "source": []
  },
  {
   "cell_type": "code",
   "execution_count": 4,
   "metadata": {},
   "outputs": [
    {
     "name": "stdout",
     "output_type": "stream",
     "text": [
      "[0, 0, 0, 0, 0, 0, 0]\n",
      "[0, 1, 1, 1, 1, 1, 0]\n",
      "[0, 0, 0, 1, 0, 0, 0]\n",
      "[1, 1, 0, 1, 0, 1, 1]\n",
      "[1, 1, 0, 0, 0, 0, 1]\n",
      "[1, 1, 0, 1, 1, 1, 0]\n",
      "[1, 0, 0, 0, 0, 0, 0]\n"
     ]
    }
   ],
   "source": [
    "for mm in matrix:\n",
    "    print(mm)"
   ]
  },
  {
   "cell_type": "code",
   "execution_count": 6,
   "metadata": {},
   "outputs": [
    {
     "name": "stdout",
     "output_type": "stream",
     "text": [
      "[0, 0, 0, 0, 0, 0, 0]\n",
      "[0, 0, 0, 0, 0, 0, 0]\n",
      "[0, 0, 0, 0, 0, 0, 0]\n",
      "[0, 0, 0, 0, 0, 0, 0]\n",
      "[0, 0, 0, 0, 0, 0, 0]\n",
      "[0, 0, 0, 0, 0, 0, 0]\n",
      "[0, 0, 0, 0, 0, 0, 0]\n"
     ]
    }
   ],
   "source": [
    "for dd in dis:\n",
    "    print(dd)"
   ]
  },
  {
   "cell_type": "code",
   "execution_count": 5,
   "metadata": {},
   "outputs": [
    {
     "name": "stdout",
     "output_type": "stream",
     "text": [
      "미로탈출 경로의 수는 46이다.\n"
     ]
    }
   ],
   "source": [
    "# mat = [[0, 0, 0],\n",
    "#       [0, 1, 0],\n",
    "#       [0, 0, 0,]]\n",
    "with open('text/미로경로수in2.txt', 'r') as f:\n",
    "    mat = [ list(map(int, f.readline().split())) for _ in range(7) ]\n",
    "\n",
    "dx = [-1, 0, 1, 0]\n",
    "dy = [ 0, 1, 0, -1]\n",
    "\n",
    "cnt = 0\n",
    "def DFS(x, y) : # Depth First Search(DFS)\n",
    "    global cnt\n",
    "    if x == 6 and y == 6:\n",
    "        cnt += 1\n",
    "    else:\n",
    "        for i in range(4):\n",
    "            xx = x + dx[i]\n",
    "            yy = y + dy[i]\n",
    "#             print(xx, yy)\n",
    "            if 0 <= xx <=6 and 0 <= yy <= 6 and mat[xx][yy] == 0:\n",
    "                mat[xx][yy] = 8\n",
    "#                 beautiful_print(mat)                \n",
    "                DFS(xx, yy)\n",
    "#                 beautiful_print(mat)               \n",
    "                mat[xx][yy] = 0\n",
    "                \n",
    "def beautiful_print(matrix):\n",
    "    for xx in matrix:\n",
    "        print(xx)\n",
    "    print()\n",
    "       \n",
    "                \n",
    "mat[0][0] = 8\n",
    "DFS(0,0)\n",
    "print(\"미로탈출 경로의 수는 {}이다.\".format(cnt))"
   ]
  },
  {
   "cell_type": "code",
   "execution_count": null,
   "metadata": {},
   "outputs": [],
   "source": []
  }
 ],
 "metadata": {
  "kernelspec": {
   "display_name": "Python 3",
   "language": "python",
   "name": "python3"
  },
  "language_info": {
   "codemirror_mode": {
    "name": "ipython",
    "version": 3
   },
   "file_extension": ".py",
   "mimetype": "text/x-python",
   "name": "python",
   "nbconvert_exporter": "python",
   "pygments_lexer": "ipython3",
   "version": "3.8.3"
  }
 },
 "nbformat": 4,
 "nbformat_minor": 4
}
