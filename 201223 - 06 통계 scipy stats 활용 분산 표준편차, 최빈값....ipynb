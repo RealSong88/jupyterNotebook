{
 "cells": [
  {
   "cell_type": "code",
   "execution_count": 1,
   "metadata": {},
   "outputs": [],
   "source": [
    "import numpy as np\n",
    "from scipy import stats #통계 관련 라이브러리 왠만한 통계 관련한 기능이 다있음"
   ]
  },
  {
   "cell_type": "code",
   "execution_count": 93,
   "metadata": {},
   "outputs": [
    {
     "name": "stdout",
     "output_type": "stream",
     "text": [
      "평균= 49.17\n",
      "중앙값= 49.0\n",
      "최빈값= 3\n",
      "최빈값의 출현 횟수= 125\n"
     ]
    }
   ],
   "source": [
    "np.random.seed(0)\n",
    "data=np.random.randint(0, 100, 10000)\n",
    "mean = np.mean(data); print('평균=', mean.round(2))\n",
    "median = np.median(data); print(\"중앙값=\", median)\n",
    "# numpy에는 최빈값이 없다.\n",
    "print('최빈값=', stats.mode(data)[0][0]) \n",
    "print(\"최빈값의 출현 횟수=\", stats.mode(data).count[0])\n"
   ]
  },
  {
   "cell_type": "code",
   "execution_count": 6,
   "metadata": {},
   "outputs": [
    {
     "name": "stdout",
     "output_type": "stream",
     "text": [
      "[3] [125]\n"
     ]
    }
   ],
   "source": [
    "a, b = stats.mode(data)\n",
    "print(a, b)"
   ]
  },
  {
   "cell_type": "code",
   "execution_count": 24,
   "metadata": {},
   "outputs": [],
   "source": [
    "temp = [7,7,7,7,7,8, 2, 5,1,6,4, 8,4,9]"
   ]
  },
  {
   "cell_type": "code",
   "execution_count": 25,
   "metadata": {},
   "outputs": [
    {
     "name": "stdout",
     "output_type": "stream",
     "text": [
      "평균= 5.86\n",
      "중앙값= 7.0\n",
      "최빈값= 7\n",
      "최빈값의 출현 횟수= 5\n"
     ]
    }
   ],
   "source": [
    "np.random.seed(0)\n",
    "mean = np.mean(temp); print('평균=', mean.round(2))\n",
    "median = np.median(temp); print(\"중앙값=\", median)\n",
    "# numpy에는 최빈값이 없다.\n",
    "print('최빈값=', stats.mode(temp).mode[0]) \n",
    "print(\"최빈값의 출현 횟수=\", stats.mode(temp).count[0])"
   ]
  },
  {
   "cell_type": "code",
   "execution_count": 39,
   "metadata": {},
   "outputs": [
    {
     "name": "stdout",
     "output_type": "stream",
     "text": [
      "[7, 1, 33, 33, 35, 22, 5, 22, 10, 39, 16, 27, 5, 48, 18, 27, 10, 23, 31, 51, 3, 46, 32, 18, 25, 9, 30, 30, 27, 31, 50, 29, 3, 44, 13, 44, 5, 10, 29, 42, 11, 40, 41, 44, 51, 13, 41, 5, 1, 5, 38, 14, 12, 22, 17, 14, 21, 7, 51, 23, 49, 30, 12, 13, 15, 5, 42, 9, 49, 41, 23, 26, 34, 41, 44, 25, 15, 22, 8, 36, 33, 44, 41, 39, 18, 43, 51, 31, 29, 38, 26, 16, 24, 48, 42, 12, 9, 3, 15, 6]\n"
     ]
    }
   ],
   "source": [
    "import random\n",
    "a=[random.randint(1,51) for xx in range(1, 101)]\n",
    "# a=np.arange(1,101) \n",
    "print(a)"
   ]
  },
  {
   "cell_type": "code",
   "execution_count": 45,
   "metadata": {},
   "outputs": [
    {
     "data": {
      "text/plain": [
       "1.0"
      ]
     },
     "execution_count": 45,
     "metadata": {},
     "output_type": "execute_result"
    }
   ],
   "source": [
    "np.percentile(a,0)"
   ]
  },
  {
   "cell_type": "code",
   "execution_count": 46,
   "metadata": {},
   "outputs": [
    {
     "data": {
      "text/plain": [
       "12.75"
      ]
     },
     "execution_count": 46,
     "metadata": {},
     "output_type": "execute_result"
    }
   ],
   "source": [
    "np.percentile(a,25)"
   ]
  },
  {
   "cell_type": "code",
   "execution_count": 47,
   "metadata": {},
   "outputs": [
    {
     "data": {
      "text/plain": [
       "25.5"
      ]
     },
     "execution_count": 47,
     "metadata": {},
     "output_type": "execute_result"
    }
   ],
   "source": [
    "np.percentile(a,50)"
   ]
  },
  {
   "cell_type": "code",
   "execution_count": 49,
   "metadata": {},
   "outputs": [
    {
     "data": {
      "text/plain": [
       "39.25"
      ]
     },
     "execution_count": 49,
     "metadata": {},
     "output_type": "execute_result"
    }
   ],
   "source": [
    "np.percentile(a,75)"
   ]
  },
  {
   "cell_type": "code",
   "execution_count": 50,
   "metadata": {},
   "outputs": [
    {
     "data": {
      "text/plain": [
       "99.2"
      ]
     },
     "execution_count": 50,
     "metadata": {},
     "output_type": "execute_result"
    }
   ],
   "source": [
    "50 + 24.6*2"
   ]
  },
  {
   "cell_type": "markdown",
   "metadata": {},
   "source": [
    "### 표준편차, 범위, 사분위수, IQR 구하기\n"
   ]
  },
  {
   "cell_type": "code",
   "execution_count": 85,
   "metadata": {},
   "outputs": [
    {
     "name": "stdout",
     "output_type": "stream",
     "text": [
      "분산 : 848\n",
      "표준편차 : 29.12\n",
      "범위 : 99\n",
      "사분위수:\n",
      "0% => 0.0\n",
      "25% => 25.0\n",
      "50% => 49.0\n",
      "75% => 75.0\n",
      "100% => 99.0\n",
      "IQR:  50.0\n"
     ]
    }
   ],
   "source": [
    "from statistics import variance, stdev\n",
    "\n",
    "np.random.seed(0)\n",
    "# 표본이 많을수록 표준편차는 줄어든다.\n",
    "points = np.random.randint(0, 100, 1000) \n",
    "# print(\"points>>>\", points)\n",
    "var = variance(points); print(\"분산 :\", var)\n",
    "std = stdev(points); print(\"표준편차 :\", np.round(std, 2))\n",
    "Range = np.max(points) - np.min(points); print(\"범위 :\", Range)\n",
    "print(\"사분위수:\")\n",
    "for val in [0, 25, 50, 75, 100]:\n",
    "    quantile = np.percentile(points, val)\n",
    "    print(\"{}% => {}\".format(val, quantile))\n",
    "q1, q3 = np.percentile(points, [25, 75])\n",
    "print(\"IQR: \", q3 - q1)"
   ]
  },
  {
   "cell_type": "code",
   "execution_count": 87,
   "metadata": {},
   "outputs": [
    {
     "name": "stdout",
     "output_type": "stream",
     "text": [
      "검정 통계량 -3.38\n"
     ]
    }
   ],
   "source": [
    "\n",
    "from scipy import stats\n",
    "x_bar, mu, sigma, n = 196, 200, 5.3, 20\n",
    "t_sample = (x_bar - mu)/(sigma/np.sqrt(float(n)))\n",
    "print(\"검정 통계량\", np.round(t_sample, 2))"
   ]
  },
  {
   "cell_type": "code",
   "execution_count": 89,
   "metadata": {},
   "outputs": [
    {
     "name": "stdout",
     "output_type": "stream",
     "text": [
      "t-table로부터 임계값 -1.729\n"
     ]
    }
   ],
   "source": [
    "alpha = 0.05\n",
    "t_alpha = stats.t.ppf(alpha, n-1)\n",
    "print('t-table로부터 임계값', np.round(t_alpha, 3))"
   ]
  },
  {
   "cell_type": "code",
   "execution_count": 90,
   "metadata": {},
   "outputs": [
    {
     "name": "stdout",
     "output_type": "stream",
     "text": [
      "t-table의 아랫쪽 꼬리값 P값 0.0016\n"
     ]
    }
   ],
   "source": [
    "p_val=stats.t.sf(np.abs(t_sample), n-1)\n",
    "print('t-table의 아랫쪽 꼬리값 P값', np.round(p_val, 4))"
   ]
  },
  {
   "cell_type": "code",
   "execution_count": 92,
   "metadata": {},
   "outputs": [
    {
     "name": "stdout",
     "output_type": "stream",
     "text": [
      "ModeResult(mode=array([[1, 3, 2, 2, 1, 1]]), count=array([[1, 2, 2, 2, 1, 2]]))\n"
     ]
    }
   ],
   "source": [
    "import numpy as np\n",
    "from scipy import stats\n",
    "\n",
    "a = np.array([[1, 3, 4, 2, 2, 7],\n",
    "[5, 2, 2, 1, 4, 1],\n",
    "[3, 3, 2, 2, 1, 1]])\n",
    "\n",
    "m = stats.mode(a)\n",
    "print(m)"
   ]
  },
  {
   "cell_type": "code",
   "execution_count": null,
   "metadata": {},
   "outputs": [],
   "source": []
  }
 ],
 "metadata": {
  "kernelspec": {
   "display_name": "Python 3",
   "language": "python",
   "name": "python3"
  },
  "language_info": {
   "codemirror_mode": {
    "name": "ipython",
    "version": 3
   },
   "file_extension": ".py",
   "mimetype": "text/x-python",
   "name": "python",
   "nbconvert_exporter": "python",
   "pygments_lexer": "ipython3",
   "version": "3.8.3"
  },
  "widgets": {
   "application/vnd.jupyter.widget-state+json": {
    "state": {},
    "version_major": 2,
    "version_minor": 0
   }
  }
 },
 "nbformat": 4,
 "nbformat_minor": 4
}
