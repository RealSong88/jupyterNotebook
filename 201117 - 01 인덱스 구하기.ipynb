{
 "cells": [
  {
   "cell_type": "code",
   "execution_count": null,
   "metadata": {},
   "outputs": [],
   "source": []
  },
  {
   "cell_type": "code",
   "execution_count": null,
   "metadata": {},
   "outputs": [],
   "source": [
    "# 사과나무 (다이아몬드) ---------- 인덱스 문제\n",
    "# 현수의 농장은 N X N 격자판으로 이루어져 있으며, 각 격자안에는 한 그루의 사과나무가 심어져 있다.\n",
    "# N의 크기는 항상 홀수이다. 가을이 되어 사과를 수확해야 하는데 현수는 격자판안의 사과를 수확할 때\n",
    "# 다이아몬드 모양의 격자판만 수확하고 나머지 격자안의 사과는 새들을 위해서 남겨놓는다.\n",
    "# 만약 N이 5이면 아래 그림과 같이 진한 부분의 사과를 수확한다.\n",
    "# 3X3 으로 쪼개서 생각한다. 첫번째 줄은 가운데 인덱스를 구한다.\n",
    "# 사과나무in1.txt. -> 1049 , 사과나무in2.txt -> 1991\n",
    "# 마방진 인덱스문제 찾아서 풀어보자.."
   ]
  },
  {
   "cell_type": "code",
   "execution_count": 18,
   "metadata": {},
   "outputs": [
    {
     "name": "stdout",
     "output_type": "stream",
     "text": [
      "1991\n"
     ]
    }
   ],
   "source": [
    "temp = []\n",
    "with open('사과나무in2.txt', 'r') as f:\n",
    "    \n",
    "    n = int(f.readline())\n",
    "    a = [list(map(int, f.readline().split())) for _ in range(n)]\n",
    "    sum = 0\n",
    "    s=e=n//2  \n",
    "    for i in range(n):        \n",
    "        for j in range(s, e+1):\n",
    "            sum += a[i][j]\n",
    "        if i < n // 2:\n",
    "            s -= 1; e += 1\n",
    "        else:\n",
    "            s+=1; e-=1\n",
    "    print(sum)\n",
    "\n",
    "    "
   ]
  },
  {
   "cell_type": "code",
   "execution_count": 9,
   "metadata": {},
   "outputs": [
    {
     "name": "stdout",
     "output_type": "stream",
     "text": [
      "['3', '6', '9']\n"
     ]
    }
   ],
   "source": [
    "x = \"3 6 9\"\n",
    "y = x.split(' ')\n",
    "print(y)\n",
    "x.split()"
   ]
  },
  {
   "cell_type": "code",
   "execution_count": 24,
   "metadata": {},
   "outputs": [],
   "source": [
    "abc, _ = 3, 4  # 필요없는 값을 담을 필요 없을 때 _"
   ]
  },
  {
   "cell_type": "code",
   "execution_count": 52,
   "metadata": {},
   "outputs": [
    {
     "name": "stdout",
     "output_type": "stream",
     "text": [
      "20\n"
     ]
    }
   ],
   "source": [
    "# 선생님 버전\n",
    "with open(\"사과나무in3.txt\", 'r') as f:\n",
    "    n = int(f.readline())\n",
    "    a = [list(map(int, f.readline().split())) for _ in range(n)] # i 를 인덱스로 활용안하기때문에 변수낭비하지않기위해 _ 사용\n",
    "\n",
    "    sum = 0\n",
    "    s=e=n//2 # 시작은 s index, 마지막은 e index\n",
    "    for i in range(n):\n",
    "        for j in range(s, e+1):\n",
    "            sum = sum + a[i][j]\n",
    "        if i < n // 2:\n",
    "            s = s - 1; e = e + 1         \n",
    "        else:\n",
    "            s = s + 1; e = e - 1\n",
    "    print(sum)"
   ]
  },
  {
   "cell_type": "code",
   "execution_count": 20,
   "metadata": {},
   "outputs": [
    {
     "data": {
      "text/plain": [
       "[[1, 5, 9], [4, 3, 2], [2, 6, 6]]"
      ]
     },
     "execution_count": 20,
     "metadata": {},
     "output_type": "execute_result"
    }
   ],
   "source": [
    "a"
   ]
  },
  {
   "cell_type": "code",
   "execution_count": 22,
   "metadata": {},
   "outputs": [
    {
     "data": {
      "text/plain": [
       "(5, 4, 3, 2, 6)"
      ]
     },
     "execution_count": 22,
     "metadata": {},
     "output_type": "execute_result"
    }
   ],
   "source": [
    "a[0][1], a[1][0],a[1][1], a[1][2], a[2][1]"
   ]
  },
  {
   "cell_type": "code",
   "execution_count": 23,
   "metadata": {},
   "outputs": [
    {
     "data": {
      "text/plain": [
       "3"
      ]
     },
     "execution_count": 23,
     "metadata": {},
     "output_type": "execute_result"
    }
   ],
   "source": [
    "n"
   ]
  },
  {
   "cell_type": "code",
   "execution_count": 32,
   "metadata": {},
   "outputs": [
    {
     "name": "stdout",
     "output_type": "stream",
     "text": [
      "[1, 5, 9]\n",
      "[4, 3, 2]\n",
      "[2, 6, 6]\n"
     ]
    }
   ],
   "source": [
    "temp = []\n",
    "for i in a:\n",
    "    for j in range(len(a)):\n",
    "        pass\n",
    "    print(i)\n"
   ]
  },
  {
   "cell_type": "code",
   "execution_count": null,
   "metadata": {},
   "outputs": [],
   "source": []
  },
  {
   "cell_type": "code",
   "execution_count": 43,
   "metadata": {},
   "outputs": [],
   "source": [
    "#선생님 버전\n",
    "def N_matrix(n):\n",
    "    import random\n",
    "    random.seed(0) # 랜덤결과를 다른 프로그램에서도 동일하게 나온다.\n",
    "    return [[random.randint(1, n*n) for i in range(n)] for j in range(n)]"
   ]
  },
  {
   "cell_type": "code",
   "execution_count": 46,
   "metadata": {},
   "outputs": [
    {
     "name": "stdout",
     "output_type": "stream",
     "text": [
      "[7, 7, 1]\n",
      "[5, 9, 8]\n",
      "[7, 5, 8]\n"
     ]
    }
   ],
   "source": [
    "X = 3\n",
    "m1 = N_matrix(X)\n",
    "for i in range(X):\n",
    "    print(m1[i])"
   ]
  },
  {
   "cell_type": "markdown",
   "metadata": {},
   "source": [
    "# 마방진은 자연수를 정사각형 모양으로 나열했을때 가로, 세로, 대각선의 합이 전부 같은 형태의 배열\n",
    "## 마방진 구하기 3X3 부터...\n",
    "# N*N Matrix 마방진을 만들어보세요..\n",
    "# N은 홀수로 입력 받는다. N은 3이상이다.\n",
    "# 가로, 세로, 대각선의 합이 같은 매트릭스를 만드시오\n",
    "\n"
   ]
  },
  {
   "cell_type": "code",
   "execution_count": 60,
   "metadata": {},
   "outputs": [
    {
     "name": "stdout",
     "output_type": "stream",
     "text": [
      "n*n 마방진을 위한 n값을 입력(3이상, 홀수만)>>7\n",
      "[[30 39 48  1 10 19 28]\n",
      " [38 47  7  9 18 27 29]\n",
      " [46  6  8 17 26 35 37]\n",
      " [ 5 14 16 25 34 36 45]\n",
      " [13 15 24 33 42 44  4]\n",
      " [21 23 32 41 43  3 12]\n",
      " [22 31 40 49  2 11 20]]\n"
     ]
    }
   ],
   "source": [
    "import numpy as np\n",
    "n = int(input(\"n*n 마방진을 위한 n값을 입력(3이상, 홀수만)>>\"))\n",
    "matrix = np.zeros((n,n), dtype=int)\n",
    "matrix\n",
    "s_row=0; s_col=n//2\n",
    "matrix[s_row, s_col]=1\n",
    "row=0; col=0\n",
    "\n",
    "for i in range(2, n * n + 1):\n",
    "    row = s_row # 전 위치값 row값 보관\n",
    "    col = s_col # 전 위치 col값 보관\n",
    "    \n",
    "    s_row  = s_row - 1; s_col = s_col + 1\n",
    "    if s_row < 0 :\n",
    "        s_row = n - 1 \n",
    "    if s_col > n - 1:\n",
    "        s_col = 0\n",
    "        \n",
    "    if matrix[s_row, s_col] == 0 :\n",
    "        matrix[s_row, s_col] = i\n",
    "    else: # 0이 아니면 다른 숫자가 있다\n",
    "        s_row = row + 1; s_col = col\n",
    "        matrix[s_row, s_col] = i\n",
    "\n",
    "print(matrix)"
   ]
  },
  {
   "cell_type": "code",
   "execution_count": null,
   "metadata": {},
   "outputs": [],
   "source": []
  },
  {
   "cell_type": "code",
   "execution_count": null,
   "metadata": {},
   "outputs": [],
   "source": []
  }
 ],
 "metadata": {
  "kernelspec": {
   "display_name": "Python 3",
   "language": "python",
   "name": "python3"
  },
  "language_info": {
   "codemirror_mode": {
    "name": "ipython",
    "version": 3
   },
   "file_extension": ".py",
   "mimetype": "text/x-python",
   "name": "python",
   "nbconvert_exporter": "python",
   "pygments_lexer": "ipython3",
   "version": "3.8.3"
  }
 },
 "nbformat": 4,
 "nbformat_minor": 4
}
