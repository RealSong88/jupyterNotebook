{
 "cells": [
  {
   "cell_type": "code",
   "execution_count": 15,
   "metadata": {},
   "outputs": [
    {
     "name": "stdout",
     "output_type": "stream",
     "text": [
      "[5, 3, 4, 0, 2, 1, 1, 0]\n",
      "[0, 0, 0, 0, 0, 0, 0, 0]\n"
     ]
    }
   ],
   "source": [
    "n= 8\n",
    "lst = [5, 3, 4, 0, 2, 1, 1, 0]\n",
    "# lst.insert(0, 0) # 1번 인덱스 부터 시작하기위해\n",
    "print(lst)\n",
    "chk = [0]*(n)\n",
    "print(chk)\n",
    "\n",
    "for i in range(n):\n",
    "    for j in range(n):\n",
    "        if chk[j]\n",
    "    \n"
   ]
  },
  {
   "cell_type": "code",
   "execution_count": 4,
   "metadata": {},
   "outputs": [
    {
     "data": {
      "text/plain": [
       "[4, 8, 4, 0, 5, 2, 3, 0, 0, 0]"
      ]
     },
     "execution_count": 4,
     "metadata": {},
     "output_type": "execute_result"
    }
   ],
   "source": [
    "with open(\"text/역수열in1.txt\", \"r\") as f:\n",
    "    n = int(f.readline())\n",
    "    lst = list(map(int, f.readline().split()))\n",
    "lst"
   ]
  },
  {
   "cell_type": "code",
   "execution_count": 26,
   "metadata": {},
   "outputs": [
    {
     "name": "stdout",
     "output_type": "stream",
     "text": [
      "4 8 9 6 1 3 10 7 5 2 "
     ]
    }
   ],
   "source": [
    "# 선생님버전\n",
    "with open(\"text/역수열in1.txt\", \"r\") as f:\n",
    "    n = int(f.readline())\n",
    "    ar = list(map(int, f.readline().split()))\n",
    "    asem_ar = [0]*n\n",
    "    for i in range(n):\n",
    "        for j in range(n):\n",
    "            if (ar[i]==0 and asem_ar[j]==0) : \n",
    "                asem_ar[j] = i+1\n",
    "                break\n",
    "            elif asem_ar[j]==0:\n",
    "                ar[i] -= 1\n",
    "#         print(i)\n",
    "#         print(ar)\n",
    "#         print(asem_ar)\n",
    "for i in asem_ar:\n",
    "    print(i, end=' ')"
   ]
  },
  {
   "cell_type": "code",
   "execution_count": 22,
   "metadata": {},
   "outputs": [
    {
     "data": {
      "text/plain": [
       "[0, 0, 0, 0, 0, 0, 0, 0, 0, 0]"
      ]
     },
     "execution_count": 22,
     "metadata": {},
     "output_type": "execute_result"
    }
   ],
   "source": [
    "ar"
   ]
  },
  {
   "cell_type": "code",
   "execution_count": 31,
   "metadata": {},
   "outputs": [
    {
     "name": "stdout",
     "output_type": "stream",
     "text": [
      "[4, 8, 4, 0, 5, 2, 3, 0, 0, 0]\n",
      "[0, 0, 0, 3, 2, 5, 0, 4, 8, 4]\n",
      "0 10\n",
      "[10]\n",
      "0 9\n",
      "[9, 10]\n",
      "0 8\n",
      "[8, 9, 10]\n",
      "3 7\n",
      "[8, 9, 10, 7]\n",
      "2 6\n",
      "[8, 9, 6, 10, 7]\n",
      "5 5\n",
      "[8, 9, 6, 10, 7, 5]\n",
      "0 4\n",
      "[4, 8, 9, 6, 10, 7, 5]\n",
      "4 3\n",
      "[4, 8, 9, 6, 3, 10, 7, 5]\n",
      "8 2\n",
      "[4, 8, 9, 6, 3, 10, 7, 5, 2]\n",
      "4 1\n",
      "[4, 8, 9, 6, 1, 3, 10, 7, 5, 2]\n",
      "[4, 8, 9, 6, 1, 3, 10, 7, 5, 2]\n"
     ]
    }
   ],
   "source": [
    "# 승환버전\n",
    "with open(\"text/역수열in1.txt\", \"r\") as f:\n",
    "    n = int(f.readline())\n",
    "    k = list(map(int, f.readline().split()))\n",
    "dis = []\n",
    "print(k)\n",
    "k = k[::-1] # 리버스 시켜서 자기 자리 idx\n",
    "print(k)\n",
    "for i in k:\n",
    "    print(i, n)\n",
    "    dis.insert(i, n)\n",
    "    print(dis)\n",
    "    n -= 1\n",
    "print(dis)"
   ]
  },
  {
   "cell_type": "code",
   "execution_count": null,
   "metadata": {},
   "outputs": [],
   "source": []
  }
 ],
 "metadata": {
  "kernelspec": {
   "display_name": "Python 3",
   "language": "python",
   "name": "python3"
  },
  "language_info": {
   "codemirror_mode": {
    "name": "ipython",
    "version": 3
   },
   "file_extension": ".py",
   "mimetype": "text/x-python",
   "name": "python",
   "nbconvert_exporter": "python",
   "pygments_lexer": "ipython3",
   "version": "3.8.3"
  }
 },
 "nbformat": 4,
 "nbformat_minor": 4
}
