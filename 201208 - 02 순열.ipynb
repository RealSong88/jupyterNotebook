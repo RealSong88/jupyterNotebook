{
 "cells": [
  {
   "cell_type": "markdown",
   "metadata": {},
   "source": [
    "# 순열 (DFS) - 파이썬에 내장함수 존재\n",
    "\n",
    "### 1부터 N까지 번호가 적힌 구슬이 있습니다. 이 중 M개를 뽑아 일렬로 나열하는 방법을 모두 출력합니다.\n",
    "### 입력 설명\n",
    "- 첫 번째 줄에 자연수 N(3<=N<=10)과 M(2<=M<=N)이 주어진다.\n",
    "\n",
    "### 출력 설명\n",
    "- 첫 번째 줄에 결과를 출력합니다. 맨 마지막 총 경우의 수를 출력합니다. 출력 순서는 사전순으로 오름차순으로 출력합니다.\n",
    "\n",
    "#### 입력 예제 1\n",
    "- 3 2\n",
    "\n",
    "#### 출력 에제 2\n",
    "- 1 2 \n",
    "- 1 3\n",
    "- 2 1\n",
    "- 2 3\n",
    "- 3 1\n",
    "- 3 2\n",
    "- 6"
   ]
  },
  {
   "cell_type": "code",
   "execution_count": null,
   "metadata": {},
   "outputs": [],
   "source": [
    "n = 3; m = 2\n",
    "n_lst = list(range(1, n + 1))"
   ]
  },
  {
   "cell_type": "code",
   "execution_count": 7,
   "metadata": {},
   "outputs": [
    {
     "name": "stdout",
     "output_type": "stream",
     "text": [
      "3 2\n",
      "1 2 \n",
      "1 3 \n",
      "2 1 \n",
      "2 3 \n",
      "3 1 \n",
      "3 2 \n",
      "6\n"
     ]
    }
   ],
   "source": [
    "def DFS(level):\n",
    "    global cnt\n",
    "    if level == m:\n",
    "        for i in range(m):\n",
    "            print(disp[i], end=\" \")\n",
    "        print()\n",
    "        cnt += 1\n",
    "    else:\n",
    "        for i in range(1, n+1):\n",
    "            if chk_tbl[i]==0:\n",
    "                chk_tbl[i] = 1\n",
    "                disp[level] = i\n",
    "                DFS(level+1)\n",
    "                chk_tbl[i]=0\n",
    "        \n",
    "n, m = map(int, input().split())\n",
    "disp = [0] * n\n",
    "chk_tbl=[0] * (n+1)\n",
    "cnt = 0\n",
    "DFS(0)\n",
    "print(cnt)\n"
   ]
  },
  {
   "cell_type": "code",
   "execution_count": null,
   "metadata": {},
   "outputs": [],
   "source": [
    "n = 3\n",
    "\n",
    "\n",
    "def DFS(v):\n",
    "    if v==n+1:\n",
    "        for i in range(1, n+1):\n",
    "            if ch[i]==1:\n",
    "                print(i, end=' ')\n",
    "        print()\n",
    "    else:\n",
    "        ch[v]=1\n",
    "        DFS(v+1)\n",
    "        for i in ch:\n",
    "            print(i)\n",
    "        print()\n",
    "        ch[v]=0\n",
    "        DFS(v+1)\n",
    "        \n",
    "ch = [0] * (3+1)\n",
    "DFS(1)"
   ]
  },
  {
   "cell_type": "code",
   "execution_count": null,
   "metadata": {},
   "outputs": [],
   "source": [
    " "
   ]
  }
 ],
 "metadata": {
  "kernelspec": {
   "display_name": "Python 3",
   "language": "python",
   "name": "python3"
  },
  "language_info": {
   "codemirror_mode": {
    "name": "ipython",
    "version": 3
   },
   "file_extension": ".py",
   "mimetype": "text/x-python",
   "name": "python",
   "nbconvert_exporter": "python",
   "pygments_lexer": "ipython3",
   "version": "3.8.3"
  }
 },
 "nbformat": 4,
 "nbformat_minor": 4
}
