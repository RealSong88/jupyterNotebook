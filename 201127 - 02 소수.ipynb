{
 "cells": [
  {
   "cell_type": "markdown",
   "metadata": {},
   "source": [
    "### 자연수 num 이 소수인지 아닌지 분별하는 is_prime_num(num) 함수를 만드시오, 그리고 이 함수를 호출하여 주어진 숫자 N을 소수로만 곱해지는 수이면 그 솟수들을 출력 하세요\n",
    "\n",
    "### 처리조건\n",
    "- 가능한 빠른 시간에 출력하는 알고리즘으로 작성하세요.\n",
    "- 입력조건은 자연수 2부터 10에 12승까지 허용\n",
    "\n",
    "### 처리 예)\n",
    "- 6을 입력하면 2, 3 출력 6 - > 2, 3\n",
    "- 9를 입력하면 9 -> 3, 3\n",
    "- 21을 입력하면 21 -> 3, 7\n",
    "- 처리할 수 없으면 '솟수로만 곱하기 불가' 메시지 출력\n"
   ]
  },
  {
   "cell_type": "code",
   "execution_count": 39,
   "metadata": {},
   "outputs": [],
   "source": [
    "def is_prime_num(num):\n",
    "    for i in range(2, num):\n",
    "#         print(i)\n",
    "        if num % i == 0:            \n",
    "            return False\n",
    "    return True"
   ]
  },
  {
   "cell_type": "code",
   "execution_count": 40,
   "metadata": {},
   "outputs": [
    {
     "name": "stdout",
     "output_type": "stream",
     "text": [
      "숫자를 입력 = 7\n",
      "솟수\n"
     ]
    }
   ],
   "source": [
    "N = int(input(\"숫자를 입력 = \" ))\n",
    "if is_prime_num(N) :\n",
    "    print(\"솟수\")\n",
    "else:\n",
    "    print(\"솟수 아님\")"
   ]
  },
  {
   "cell_type": "code",
   "execution_count": 50,
   "metadata": {},
   "outputs": [
    {
     "name": "stdout",
     "output_type": "stream",
     "text": [
      "숫자를 입력 = 5541566351\n",
      "5541566351 ==> 66041 * 83911\n"
     ]
    }
   ],
   "source": [
    "from math import sqrt\n",
    "def is_prime(num):\n",
    "    for i in range(2, int(sqrt(num)+1)):\n",
    "        if num % i == 0:            \n",
    "            return False\n",
    "    return True\n",
    "mul_prime=False\n",
    "N = int(input(\"숫자를 입력 = \" ))\n",
    "for i in range(2, int(sqrt(N)+1)):\n",
    "    if is_prime(i):\n",
    "        m = N % i\n",
    "        if m == 0 and is_prime(N // i)  : # 소수로 나눈 자리\n",
    "            print(\"{} ==> {} * {}\".format(N, i, N // i))\n",
    "            mul_prime = True\n",
    "            break\n",
    "if not mul_prime : print(\"처리불가\")"
   ]
  },
  {
   "cell_type": "code",
   "execution_count": 51,
   "metadata": {},
   "outputs": [
    {
     "name": "stdout",
     "output_type": "stream",
     "text": [
      "2, 3, 5, 7, 11, 13, 17, 19, 23, 29, 31, 37, 41, 43, 47, 53, 59, 61, 67, 71, 73, 79, 83, 89, 97, 101, 103, 107, 109, 113, 127, 131, 137, 139, 149, 151, 157, 163, 167, 173, 179, 181, 191, 193, 197, 199, 211, 223, 227, 229, 233, 239, 241, 251, 257, 263, 269, 271, 277, 281, 283, 293, 307, 311, 313, 317, 331, 337, 347, 349, 353, 359, 367, 373, 379, 383, 389, 397, 401, 409, 419, 421, 431, 433, 439, 443, 449, 457, 461, 463, 467, 479, 487, 491, 499, 503, 509, 521, 523, 541, 547, 557, 563, 569, 571, 577, 587, 593, 599, 601, 607, 613, 617, 619, 631, 641, 643, 647, 653, 659, 661, 673, 677, 683, 691, 701, 709, 719, 727, 733, 739, 743, 751, 757, 761, 769, 773, 787, 797, 809, 811, 821, 823, 827, 829, 839, 853, 857, 859, 863, 877, 881, 883, 887, 907, 911, 919, 929, 937, 941, 947, 953, 967, 971, 977, 983, 991, 997, "
     ]
    }
   ],
   "source": [
    "for i in range(2, 1000):\n",
    "    if is_prime(i):\n",
    "        print(i, end=\", \")"
   ]
  },
  {
   "cell_type": "code",
   "execution_count": 52,
   "metadata": {},
   "outputs": [
    {
     "name": "stdout",
     "output_type": "stream",
     "text": [
      "2, 3, 5, 7, 11, 13, 17, 19, 23, 29, 31, 37, 41, 43, 47, 53, 59, 61, 67, 71, 73, 79, 83, 89, 97, 101, 103, 107, 109, 113, 127, 131, 137, 139, 149, 151, 157, 163, 167, 173, 179, 181, 191, 193, 197, 199, 211, 223, 227, 229, 233, 239, 241, 251, 257, 263, 269, 271, 277, 281, 283, 293, 307, 311, 313, 317, 331, 337, 347, 349, 353, 359, 367, 373, 379, 383, 389, 397, 401, 409, 419, 421, 431, 433, 439, 443, 449, 457, 461, 463, 467, 479, 487, 491, 499, 503, 509, 521, 523, 541, 547, 557, 563, 569, 571, 577, 587, 593, 599, 601, 607, 613, 617, 619, 631, 641, 643, 647, 653, 659, 661, 673, 677, 683, 691, 701, 709, 719, 727, 733, 739, 743, 751, 757, 761, 769, 773, 787, 797, 809, 811, 821, 823, 827, 829, 839, 853, 857, 859, 863, 877, 881, 883, 887, 907, 911, 919, 929, 937, 941, 947, 953, 967, 971, 977, 983, 991, 997, "
     ]
    }
   ],
   "source": [
    "for i in range(2, 1000):\n",
    "    if is_prime_num(i):\n",
    "        print(i, end=\", \")"
   ]
  },
  {
   "cell_type": "code",
   "execution_count": null,
   "metadata": {},
   "outputs": [],
   "source": []
  }
 ],
 "metadata": {
  "kernelspec": {
   "display_name": "Python 3",
   "language": "python",
   "name": "python3"
  },
  "language_info": {
   "codemirror_mode": {
    "name": "ipython",
    "version": 3
   },
   "file_extension": ".py",
   "mimetype": "text/x-python",
   "name": "python",
   "nbconvert_exporter": "python",
   "pygments_lexer": "ipython3",
   "version": "3.8.3"
  }
 },
 "nbformat": 4,
 "nbformat_minor": 4
}
