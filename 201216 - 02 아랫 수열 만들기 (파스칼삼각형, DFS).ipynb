{
 "cells": [
  {
   "cell_type": "code",
   "execution_count": 9,
   "metadata": {},
   "outputs": [
    {
     "name": "stdout",
     "output_type": "stream",
     "text": [
      "4 16\n",
      "\n",
      "3 1 2 4 \n",
      "3 2 1 4 \n",
      "4 1 2 3 \n",
      "4 2 1 3 \n"
     ]
    }
   ],
   "source": [
    "def DFS(level, SUM):\n",
    "    if level == n and SUM == make_num:\n",
    "        for xx in p:\n",
    "            print(xx, end=\" \")\n",
    "        print()\n",
    "    else:\n",
    "        for i in range(1, n+1):\n",
    "            if chk[i] == 0:\n",
    "                chk[i] = 1\n",
    "                p[level] = i\n",
    "                DFS(level+1, SUM+(p[level])*b[level])\n",
    "                chk[i] = 0\n",
    "        \n",
    "n, make_num = map(int, input().split())\n",
    "p = [0] * n\n",
    "b = [1] * n \n",
    "chk = [0] * (n+1)\n",
    "for i in range(1, n):\n",
    "    b[i] = b[i-1] *(n-i) //i\n",
    "print()\n",
    "DFS(0, 0)\n"
   ]
  },
  {
   "cell_type": "code",
   "execution_count": 2,
   "metadata": {},
   "outputs": [
    {
     "data": {
      "text/plain": [
       "[1, 3, 3, 1]"
      ]
     },
     "execution_count": 2,
     "metadata": {},
     "output_type": "execute_result"
    }
   ],
   "source": [
    "b"
   ]
  },
  {
   "cell_type": "code",
   "execution_count": 12,
   "metadata": {},
   "outputs": [
    {
     "name": "stdout",
     "output_type": "stream",
     "text": [
      "(3, 1, 2, 4)\n"
     ]
    }
   ],
   "source": [
    "# 택영버전\n",
    "from itertools import permutations\n",
    "\n",
    "def reversed_pascal(n, m):\n",
    "    first_lst = [i for i in range(1, n+1)]\n",
    "    for per in permutations(first_lst):\n",
    "        if below(per) == m:\n",
    "            return per\n",
    "        \n",
    "def below(lst):\n",
    "    length = len(lst)\n",
    "    if length == 1:\n",
    "        return lst[0]\n",
    "    temp = []\n",
    "    for i in range(length - 1):\n",
    "        temp.append(lst[i] + lst[i+1])\n",
    "    return below(temp)\n",
    "\n",
    "if __name__ == \"__main__\":\n",
    "    print(reversed_pascal(4, 16))"
   ]
  },
  {
   "cell_type": "code",
   "execution_count": 16,
   "metadata": {},
   "outputs": [
    {
     "name": "stdout",
     "output_type": "stream",
     "text": [
      "(1, 2, 3, 4)\n",
      "(1, 2, 4, 3)\n",
      "(1, 3, 2, 4)\n",
      "(1, 3, 4, 2)\n",
      "(1, 4, 2, 3)\n",
      "(1, 4, 3, 2)\n",
      "(2, 1, 3, 4)\n",
      "(2, 1, 4, 3)\n",
      "(2, 3, 1, 4)\n",
      "(2, 3, 4, 1)\n",
      "(2, 4, 1, 3)\n",
      "(2, 4, 3, 1)\n",
      "(3, 1, 2, 4)\n",
      "(3, 1, 4, 2)\n",
      "(3, 2, 1, 4)\n",
      "(3, 2, 4, 1)\n",
      "(3, 4, 1, 2)\n",
      "(3, 4, 2, 1)\n",
      "(4, 1, 2, 3)\n",
      "(4, 1, 3, 2)\n",
      "(4, 2, 1, 3)\n",
      "(4, 2, 3, 1)\n",
      "(4, 3, 1, 2)\n",
      "(4, 3, 2, 1)\n"
     ]
    }
   ],
   "source": [
    "from itertools import permutations\n",
    "first_lst = [i for i in range(1, n+1)]\n",
    "for per in permutations(first_lst):\n",
    "    print(per)"
   ]
  },
  {
   "cell_type": "code",
   "execution_count": 11,
   "metadata": {},
   "outputs": [
    {
     "name": "stdout",
     "output_type": "stream",
     "text": [
      "Variable       Type        Data/Info\n",
      "------------------------------------\n",
      "DFS            function    <function DFS at 0x00000221D54415E0>\n",
      "b              list        n=4\n",
      "chk            list        n=5\n",
      "first_lst      list        n=4\n",
      "i              int         3\n",
      "make_num       int         16\n",
      "n              int         4\n",
      "p              list        n=4\n",
      "per            tuple       n=4\n",
      "permutations   type        <class 'itertools.permutations'>\n",
      "sys            module      <module 'sys' (built-in)>\n"
     ]
    }
   ],
   "source": [
    "whos"
   ]
  },
  {
   "cell_type": "code",
   "execution_count": null,
   "metadata": {},
   "outputs": [],
   "source": []
  }
 ],
 "metadata": {
  "kernelspec": {
   "display_name": "Python 3",
   "language": "python",
   "name": "python3"
  },
  "language_info": {
   "codemirror_mode": {
    "name": "ipython",
    "version": 3
   },
   "file_extension": ".py",
   "mimetype": "text/x-python",
   "name": "python",
   "nbconvert_exporter": "python",
   "pygments_lexer": "ipython3",
   "version": "3.8.3"
  }
 },
 "nbformat": 4,
 "nbformat_minor": 4
}
