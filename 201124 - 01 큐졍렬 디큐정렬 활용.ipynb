{
 "cells": [
  {
   "cell_type": "markdown",
   "metadata": {},
   "source": [
    "## 침몰하는 타이타닉(그리디)\n",
    "\n",
    "### 유럽에서 가장 유명했던 유람선 타이타닉이 침몰하고 있습니다. 유람선에는 N명의 승객이 타고 있습니다. 구명보트를 타고 탈출해야하는데 타이타닉에 있는 구명보트는 2명 이하로만 탈 수 있으며, 보트 한 개에 탈 수 있는 총 무게도 M kg 이하로 제한되어 있습니다.\n",
    "### N명의 승객 몸무게가 주어졌을 때 승객 모두가 탈출하기 위한 구명보트의 최소개수를 출력하는 프로그램을 작성하시오\n",
    "\n",
    "\n",
    "### 입력설명\n",
    "- 첫째 줄에 자연수 N(5<=N<=1000)과 M(70<=M<=250)이 주어집니다.\n",
    "- 두 번째 줄에 N개로 구성된 몸무게 수열이 주어집니다. 몸무게는 50이상 150이하입니다.\n",
    "- 각 승객의 몸무게는 M을 넘지는 않습니다. 즉 탈출을 못하는 경우는 없습니다.\n",
    "\n",
    "### 출력설명\n",
    "- 첫째 줄에 구명보트의 최소 개수를 출력합니다.\n",
    "\n",
    "### 입력예제 1\n",
    "- 5 140\n",
    "- 90 50 70 100 60\n",
    "\n",
    "### 출력예제 1\n",
    "- 3\n",
    "\n",
    "#### <정답>\n",
    "- 침몰타이타닉1.txt -> 5\n",
    "- 침몰타이타닉2.txt -> 14\n",
    "- 침몰타이타닉4.txt -> 250"
   ]
  },
  {
   "cell_type": "code",
   "execution_count": 23,
   "metadata": {},
   "outputs": [
    {
     "name": "stdout",
     "output_type": "stream",
     "text": [
      "10 150\n",
      "[22, 38, 49, 53, 67, 78, 86, 95, 107, 116]\n",
      "5\n"
     ]
    }
   ],
   "source": [
    "with open(\"text/침몰타이타닉1.txt\", \"r\") as f:\n",
    "    s = e = cnt = 0\n",
    "    n, m = map(int, f.readline().split())\n",
    "    print(n, m)\n",
    "    a = sorted(list(map(int, f.readline().split())))\n",
    "    print(a)\n",
    "    \n",
    "    while(a):        \n",
    "        if len(a) == 1:            \n",
    "            cnt += 1\n",
    "            a.pop()\n",
    "            break\n",
    "        if a[0] + a[i] <= m:\n",
    "            a.pop(0)\n",
    "            a.pop()\n",
    "            cnt += 1\n",
    "        else :     # 한명만 태울수 있기때문에 sort 시킨 가장 뒤에 사람을 제외\n",
    "            cnt += 1\n",
    "            a.pop()        \n",
    "    print(cnt)"
   ]
  },
  {
   "cell_type": "code",
   "execution_count": null,
   "metadata": {},
   "outputs": [],
   "source": [
    "a"
   ]
  },
  {
   "cell_type": "code",
   "execution_count": null,
   "metadata": {},
   "outputs": [],
   "source": [
    "a.pop()"
   ]
  },
  {
   "cell_type": "code",
   "execution_count": null,
   "metadata": {},
   "outputs": [],
   "source": []
  },
  {
   "cell_type": "code",
   "execution_count": 18,
   "metadata": {},
   "outputs": [
    {
     "name": "stdout",
     "output_type": "stream",
     "text": [
      "14\n"
     ]
    }
   ],
   "source": [
    "# 선생님 버전\n",
    "with open(\"text/침몰타이타닉2.txt\", \"r\") as f:\n",
    "    n, weight_max = map(int, f.readline().split())\n",
    "    vote_people = list(map(int, f.readline().split()))\n",
    "    \n",
    "vote_people.sort()\n",
    "cnt = 0\n",
    "\n",
    "while vote_people:\n",
    "    if len(vote_people) == 1:\n",
    "        cnt += 1\n",
    "        vote_people.pop()\n",
    "    # 제일 가벼운사람과 무거운사람이 최대무게보다 클 경우, 무조건 보트 하나를 띄워야하고, 무거운사람은 제외시킨다.\n",
    "    if vote_people[0] + vote_people[-1] > weight_max: \n",
    "        cnt += 1\n",
    "        vote_people.pop()\n",
    "    else :\n",
    "        cnt += 1\n",
    "        vote_people.pop(0) # 맨 앞사람 내보내기\n",
    "        vote_people.pop() # 뒷사람 내보내기\n",
    "print(cnt)"
   ]
  },
  {
   "cell_type": "code",
   "execution_count": 26,
   "metadata": {},
   "outputs": [
    {
     "name": "stdout",
     "output_type": "stream",
     "text": [
      "deque([50, 60, 70, 90, 100])\n",
      "필요한 최소의 보트수량 = 3\n"
     ]
    }
   ],
   "source": [
    "# deque 버전  \n",
    "\n",
    "from collections import deque\n",
    "with open(\"text/침몰타이타닉3.txt\", \"r\") as f:\n",
    "    n, weight_max = map(int, f.readline().split())\n",
    "    vote_people = list(map(int, f.readline().split()))\n",
    "    \n",
    "cnt = 0   \n",
    "vote_people.sort()    \n",
    "dq = deque(vote_people)\n",
    "\n",
    "print(dq)\n",
    "\n",
    "while dq:\n",
    "    if len(dq) == 1:\n",
    "        cnt += 1\n",
    "        dq.pop()\n",
    "    if dq[0] + dq[-1] > weight_max:\n",
    "        cnt += 1\n",
    "        dq.pop()\n",
    "    else:\n",
    "        cnt += 1\n",
    "        dq.popleft()\n",
    "        dq.pop()\n",
    "print(\"필요한 최소의 보트수량 =\", cnt)\n",
    "    "
   ]
  },
  {
   "cell_type": "code",
   "execution_count": null,
   "metadata": {},
   "outputs": [],
   "source": []
  }
 ],
 "metadata": {
  "kernelspec": {
   "display_name": "Python 3",
   "language": "python",
   "name": "python3"
  },
  "language_info": {
   "codemirror_mode": {
    "name": "ipython",
    "version": 3
   },
   "file_extension": ".py",
   "mimetype": "text/x-python",
   "name": "python",
   "nbconvert_exporter": "python",
   "pygments_lexer": "ipython3",
   "version": "3.8.3"
  }
 },
 "nbformat": 4,
 "nbformat_minor": 4
}
