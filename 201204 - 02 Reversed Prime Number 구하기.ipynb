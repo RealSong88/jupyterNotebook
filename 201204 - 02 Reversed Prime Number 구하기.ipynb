{
 "cells": [
  {
   "cell_type": "markdown",
   "metadata": {},
   "source": [
    "# Reversed Prime Number 구하기\n",
    "\n",
    "### N개의 자연수가 입력되면 각 자연수를 뒤집은 후 그 뒤집은 수가 소수이면 그 수를 출력하는 프로그램을 작성하세요. 예를 들어 32를 뒤집으려면 23이고, 23은 소수이다. 그러면 23을 출력한다. 단 910을 뒤집으면 19로 숫자화 해야한다. 첫 자리부터의 연속된 0은 무시한다. 뒤집는 함수인 def reverse(x) 와 소수인지를 확인하는 함수 def isPrime(x)를 반드시 작성하여 프로그래밍한다.\n",
    "\n",
    "\n",
    "#### 입력예제 1\n",
    "- 32 55 62 3700 250\n",
    "\n",
    "#### 출력예제 1\n",
    "- 23 73\n",
    "\n"
   ]
  },
  {
   "cell_type": "code",
   "execution_count": 1,
   "metadata": {},
   "outputs": [],
   "source": [
    "from math import sqrt\n",
    "def isPrime(num):\n",
    "    for i in range(2, int(sqrt(num)+1)):\n",
    "        if num % i == 0: return False\n",
    "    return True\n",
    "\n",
    "def change_num(num_lst):\n",
    "    temp = []\n",
    "    for xx in a:\n",
    "        temp.append(int(str(xx)[-1::-1]))\n",
    "    return temp\n",
    "\n",
    "a = [32, 55, 62, 3700, 250]\n"
   ]
  },
  {
   "cell_type": "code",
   "execution_count": 34,
   "metadata": {},
   "outputs": [
    {
     "name": "stdout",
     "output_type": "stream",
     "text": [
      "23 73 "
     ]
    }
   ],
   "source": [
    "for i in change_num(a):\n",
    "    if isPrime(i):\n",
    "        print(i, end=\" \")"
   ]
  },
  {
   "cell_type": "code",
   "execution_count": 24,
   "metadata": {},
   "outputs": [
    {
     "name": "stdout",
     "output_type": "stream",
     "text": [
      "73\n"
     ]
    }
   ],
   "source": [
    "x = [3, 7, 0, 0]\n",
    "y = \"\"\n",
    "for xx in x[-1::-1]:\n",
    "    y += str(xx)\n",
    "print(int(y))"
   ]
  },
  {
   "cell_type": "code",
   "execution_count": 27,
   "metadata": {},
   "outputs": [
    {
     "data": {
      "text/plain": [
       "[23, 55, 26, 73, 52]"
      ]
     },
     "execution_count": 27,
     "metadata": {},
     "output_type": "execute_result"
    }
   ],
   "source": [
    "temp = []\n",
    "for xx in a:\n",
    "    temp.append(int(str(xx)[-1::-1]))\n",
    "temp"
   ]
  },
  {
   "cell_type": "code",
   "execution_count": 43,
   "metadata": {},
   "outputs": [
    {
     "name": "stdout",
     "output_type": "stream",
     "text": [
      "23 73 "
     ]
    }
   ],
   "source": [
    "# 선생님 버전\n",
    "from math import sqrt\n",
    "a = [32, 55, 62, 3700, 250]\n",
    "\n",
    "def reverse(x):\n",
    "    tmp = 0\n",
    "    while x > 0:\n",
    "        t = x % 10\n",
    "        tmp = tmp * 10 + t\n",
    "        x = x // 10\n",
    "    return tmp\n",
    "\n",
    "def isPrime(num):\n",
    "    for i in range(2, int(sqrt(num)+1)):\n",
    "        if num % i == 0: return False\n",
    "    return True\n",
    "\n",
    "for xx in a:\n",
    "    if isPrime(reverse(xx)):\n",
    "        print(reverse(xx), end=\" \")"
   ]
  },
  {
   "cell_type": "code",
   "execution_count": 44,
   "metadata": {},
   "outputs": [],
   "source": [
    "# 택영버전\n",
    "from math import sqrt\n",
    "a = [32, 55, 62, 3700, 250]\n",
    "\n",
    "def reverse(x):\n",
    "    answer = \"\"\n",
    "    b = reversed(list(str(x)))\n",
    "    for i in b:\n",
    "        answer += i\n",
    "    return int(answer)"
   ]
  },
  {
   "cell_type": "code",
   "execution_count": 45,
   "metadata": {},
   "outputs": [
    {
     "data": {
      "text/plain": [
       "73"
      ]
     },
     "execution_count": 45,
     "metadata": {},
     "output_type": "execute_result"
    }
   ],
   "source": [
    "reverse(37)"
   ]
  },
  {
   "cell_type": "code",
   "execution_count": 46,
   "metadata": {},
   "outputs": [],
   "source": [
    "# 혜은버전\n",
    "from math import sqrt\n",
    "a = [32, 55, 62, 3700, 250]\n",
    "\n",
    "def reverse(x):\n",
    "    return int(str(x)[::-1])"
   ]
  },
  {
   "cell_type": "code",
   "execution_count": null,
   "metadata": {},
   "outputs": [],
   "source": []
  }
 ],
 "metadata": {
  "kernelspec": {
   "display_name": "Python 3",
   "language": "python",
   "name": "python3"
  },
  "language_info": {
   "codemirror_mode": {
    "name": "ipython",
    "version": 3
   },
   "file_extension": ".py",
   "mimetype": "text/x-python",
   "name": "python",
   "nbconvert_exporter": "python",
   "pygments_lexer": "ipython3",
   "version": "3.8.3"
  }
 },
 "nbformat": 4,
 "nbformat_minor": 4
}
