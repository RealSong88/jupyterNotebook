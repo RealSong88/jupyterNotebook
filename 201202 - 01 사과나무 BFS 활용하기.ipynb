{
 "cells": [
  {
   "cell_type": "code",
   "execution_count": null,
   "metadata": {},
   "outputs": [],
   "source": [
    "# 사과나무 (다이아몬드) ---------- 인덱스 문제\n",
    "# 현수의 농장은 N X N 격자판으로 이루어져 있으며, 각 격자안에는 한 그루의 사과나무가 심어져 있다.\n",
    "# N의 크기는 항상 홀수이다. 가을이 되어 사과를 수확해야 하는데 현수는 격자판안의 사과를 수확할 때\n",
    "# 다이아몬드 모양의 격자판만 수확하고 나머지 격자안의 사과는 새들을 위해서 남겨놓는다.\n",
    "# 만약 N이 5이면 아래 그림과 같이 진한 부분의 사과를 수확한다.\n",
    "# 3X3 으로 쪼개서 생각한다. 첫번째 줄은 가운데 인덱스를 구한다.\n",
    "# 사과나무in1.txt. -> 1049 , 사과나무in2.txt -> 1991\n",
    "# 마방진 인덱스문제 찾아서 풀어보자.."
   ]
  },
  {
   "cell_type": "code",
   "execution_count": 10,
   "metadata": {},
   "outputs": [
    {
     "name": "stdout",
     "output_type": "stream",
     "text": [
      "deque([(1, 1)])\n",
      "[0, 5, 0]\n",
      "[0, 5, 0]\n",
      "[0, 5, 0]\n",
      "\n",
      "[0, 5, 2]\n",
      "[0, 5, 2]\n",
      "[0, 5, 2]\n",
      "\n",
      "[0, 6, 2]\n",
      "[0, 6, 2]\n",
      "[0, 6, 2]\n",
      "\n",
      "[4, 6, 2]\n",
      "[4, 6, 2]\n",
      "[4, 6, 2]\n",
      "\n",
      "다이아몬드 총합은= 36\n"
     ]
    }
   ],
   "source": [
    "from collections import deque\n",
    "with open(\"text/사과나무in3.txt\", \"r\") as f:\n",
    "    n = int(f.readline())\n",
    "    matrix = [ list(map(int, f.readline().split())) for _ in range(n) ]\n",
    "level, total = 0, 0\n",
    "dis = [[0] * n ] * n\n",
    "dx = [-1, 0, 1, 0]\n",
    "dy = [ 0, 1, 0, -1]\n",
    "\n",
    "Q = deque()\n",
    "Q.append((n//2, n//2))\n",
    "\n",
    "print(Q)\n",
    "while Q:\n",
    "    if level == n//2 :\n",
    "        break\n",
    "    temp = Q.popleft() # n//2, n//2\n",
    "    for i in range(4):\n",
    "        x = temp[0] + dx[i] \n",
    "        y = temp[1] + dy[i]\n",
    "        # (0, 1) , (1, 2), (2, 1), (1, 0)\n",
    "        if 0 <= x <= (n-1) and 0 <= y <= (n-1) and matrix[x][y] != dis[x][y]:\n",
    "            dis[x][y] = matrix[x][y]\n",
    "            Q.append((x, y))\n",
    "            for i in dis:\n",
    "                print(i)\n",
    "            print()\n",
    "    level += 1\n",
    "for xx in dis:\n",
    "    total += sum(xx)\n",
    "print(\"다이아몬드 총합은=\", total)\n",
    "    "
   ]
  },
  {
   "cell_type": "code",
   "execution_count": 4,
   "metadata": {},
   "outputs": [
    {
     "name": "stdout",
     "output_type": "stream",
     "text": [
      "[4, 6, 2]\n",
      "[4, 6, 2]\n",
      "[4, 6, 2]\n",
      "\n",
      "[1, 5, 9]\n",
      "[4, 3, 2]\n",
      "[2, 6, 6]\n"
     ]
    }
   ],
   "source": [
    "\n",
    "for mm in dis:\n",
    "    print(mm)\n",
    "print()\n",
    "for xx in matrix:\n",
    "    print(xx)"
   ]
  },
  {
   "cell_type": "code",
   "execution_count": 5,
   "metadata": {},
   "outputs": [
    {
     "data": {
      "text/plain": [
       "(0, 1)"
      ]
     },
     "execution_count": 5,
     "metadata": {},
     "output_type": "execute_result"
    }
   ],
   "source": [
    "Q[0]"
   ]
  },
  {
   "cell_type": "code",
   "execution_count": null,
   "metadata": {},
   "outputs": [],
   "source": [
    "a = 0\n",
    "for xx in lst:\n",
    "    a += sum(xx)\n",
    "print(a)"
   ]
  },
  {
   "cell_type": "code",
   "execution_count": 11,
   "metadata": {},
   "outputs": [
    {
     "name": "stdout",
     "output_type": "stream",
     "text": [
      "level=0, Q_size= 1, (x=0,y=1))\n",
      "[0, 1, 0]\n",
      "[0, 1, 0]\n",
      "[0, 0, 0]\n",
      "\n",
      "level=0, Q_size= 1, (x=1,y=2))\n",
      "[0, 1, 0]\n",
      "[0, 1, 1]\n",
      "[0, 0, 0]\n",
      "\n",
      "level=0, Q_size= 1, (x=2,y=1))\n",
      "[0, 1, 0]\n",
      "[0, 1, 1]\n",
      "[0, 1, 0]\n",
      "\n",
      "level=0, Q_size= 1, (x=1,y=0))\n",
      "[0, 1, 0]\n",
      "[1, 1, 1]\n",
      "[0, 1, 0]\n",
      "\n",
      "20\n"
     ]
    }
   ],
   "source": [
    "#선생님 버전\n",
    "from collections import deque\n",
    "with open (\"text/사과나무in3.txt\", \"r\") as f:\n",
    "    n = int(f.readline())\n",
    "    matrix = [ list(map(int, f.readline().split())) for _ in range(n) ]\n",
    "    \n",
    "dx = [-1, 0, 1, 0]\n",
    "dy = [ 0, 1, 0, -1]\n",
    "# 초기화 작업    \n",
    "level, total = 0, 0\n",
    "Q = deque()\n",
    "ck_tbl = [ [0] * n for _ in range(n)]\n",
    "total += matrix[n//2][n//2]\n",
    "ck_tbl[n//2][n//2] = 1\n",
    "Q.append((n//2, n//2))\n",
    "\n",
    "while True:\n",
    "    if level == n//2: \n",
    "        break\n",
    "    size = len(Q) # 첫번째 루프 후 len(Q) = 4\n",
    "    for i in range(size):\n",
    "        temp=Q.popleft()\n",
    "        for j in range(4):\n",
    "            x = temp[0] + dx[j]\n",
    "            y = temp[1] + dy[j]\n",
    "            if ck_tbl[x][y] == 0 :\n",
    "                total += matrix[x][y]\n",
    "                ck_tbl[x][y] = 1\n",
    "                Q.append((x, y)) # 첫번째 루프를 돌면 네개의 좌표가 append\n",
    "                print(\"level={}, Q_size= {}, (x={},y={}))\".format(level, size, x, y))\n",
    "                for xx in ck_tbl:\n",
    "                    print(xx)\n",
    "                print()\n",
    "    level += 1\n",
    "print(total)          \n",
    "    "
   ]
  },
  {
   "cell_type": "code",
   "execution_count": null,
   "metadata": {},
   "outputs": [],
   "source": [
    "for mm in matrix:\n",
    "    print(mm)\n",
    "print(\"\")\n",
    "for xx in ck_tbl:\n",
    "    print(xx)"
   ]
  },
  {
   "cell_type": "code",
   "execution_count": null,
   "metadata": {},
   "outputs": [],
   "source": []
  }
 ],
 "metadata": {
  "kernelspec": {
   "display_name": "Python 3",
   "language": "python",
   "name": "python3"
  },
  "language_info": {
   "codemirror_mode": {
    "name": "ipython",
    "version": 3
   },
   "file_extension": ".py",
   "mimetype": "text/x-python",
   "name": "python",
   "nbconvert_exporter": "python",
   "pygments_lexer": "ipython3",
   "version": "3.8.3"
  }
 },
 "nbformat": 4,
 "nbformat_minor": 4
}
