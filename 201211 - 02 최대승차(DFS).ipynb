{
 "cells": [
  {
   "cell_type": "code",
   "execution_count": null,
   "metadata": {},
   "outputs": [],
   "source": [
    "def DFS(idx, tot):\n",
    "    if idx == n:\n",
    "        return\n",
    "    else:\n",
    "        DFS(idx + 1, tot+= weight_l[idx] )"
   ]
  },
  {
   "cell_type": "code",
   "execution_count": 6,
   "metadata": {},
   "outputs": [
    {
     "name": "stdout",
     "output_type": "stream",
     "text": [
      "4000 16\n",
      "[27, 303, 251, 121, 50, 55, 123, 93, 360, 84, 353, 429, 765, 391, 562, 77]\n"
     ]
    }
   ],
   "source": [
    "with open(\"text/최대승차in1.txt\", \"r\") as f:\n",
    "    c, n = map(int, f.readline().split())\n",
    "    weight_l =  [ int(f.readline().replace(\"\\n\", \"\")) for _ in range(n) ]\n",
    "\n",
    "final_w = 0\n",
    "print(c, n)\n",
    "print(weight_l)\n",
    "    "
   ]
  },
  {
   "cell_type": "code",
   "execution_count": 2,
   "metadata": {},
   "outputs": [
    {
     "name": "stdout",
     "output_type": "stream",
     "text": [
      "[27, 303, 251, 121, 50, 55, 123, 93, 360, 84, 353, 429, 765, 391, 562, 77]\n",
      "3994\n"
     ]
    }
   ],
   "source": [
    "# 선생님 버전\n",
    "def DFS(index, tot):\n",
    "    global final_w\n",
    "    if tot > c:\n",
    "        return\n",
    "    if index == n:\n",
    "        if tot > final_w:\n",
    "            final_w = tot\n",
    "    else:\n",
    "        DFS(index+1, tot + ar[index])\n",
    "        DFS(index+1, tot)\n",
    "\n",
    "with open(\"text/최대승차in1.txt\", \"r\") as f:\n",
    "    c, n = map(int, f.readline().split())\n",
    "    ar = [0]*n\n",
    "    final_w = 0\n",
    "    for i in range(n):\n",
    "        ar[i]= int(f.readline())\n",
    "DFS(0, 0)\n",
    "print(ar)\n",
    "print(final_w)"
   ]
  },
  {
   "cell_type": "code",
   "execution_count": null,
   "metadata": {},
   "outputs": [],
   "source": []
  }
 ],
 "metadata": {
  "kernelspec": {
   "display_name": "Python 3",
   "language": "python",
   "name": "python3"
  },
  "language_info": {
   "codemirror_mode": {
    "name": "ipython",
    "version": 3
   },
   "file_extension": ".py",
   "mimetype": "text/x-python",
   "name": "python",
   "nbconvert_exporter": "python",
   "pygments_lexer": "ipython3",
   "version": "3.8.3"
  }
 },
 "nbformat": 4,
 "nbformat_minor": 4
}
