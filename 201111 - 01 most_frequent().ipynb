{
 "cells": [
  {
   "cell_type": "code",
   "execution_count": 1,
   "metadata": {},
   "outputs": [],
   "source": [
    "# most_frequent(data) 함수를 만드시오\n",
    "#처리조건\n",
    "#-함수호출인수의 데이타 타입은 리스트\n",
    "#-가장 번번히 나오는 단어를 찾아 return 시키는 Function을 만드시오\n",
    "# -빈도수가 같은 경우는 맨먼저 자주사용하는 단어가 출력됨\n",
    "# ex) print(most_frequent(['apple', 'samsung', 'apple', 'lg', 'lotte']))\n",
    "# ex) print(most_frequent(['a','bi','a', 'bi', 'c','d']))"
   ]
  },
  {
   "cell_type": "code",
   "execution_count": 4,
   "metadata": {},
   "outputs": [],
   "source": [
    "abc = ['aa','aa','bb','cc','dd','ee','ee','aa']"
   ]
  },
  {
   "cell_type": "code",
   "execution_count": 3,
   "metadata": {},
   "outputs": [
    {
     "name": "stdout",
     "output_type": "stream",
     "text": [
      "['aa', 'aa', 'bb', 'cc', 'dd', 'ee', 'ee', 'aa']\n"
     ]
    }
   ],
   "source": [
    "print(abc)\n",
    "max()"
   ]
  },
  {
   "cell_type": "code",
   "execution_count": 10,
   "metadata": {},
   "outputs": [],
   "source": [
    "def most_frequent0(data): # 선생님버전\n",
    "    return max(data, key = data.count)"
   ]
  },
  {
   "cell_type": "code",
   "execution_count": 11,
   "metadata": {},
   "outputs": [
    {
     "data": {
      "text/plain": [
       "'aa'"
      ]
     },
     "execution_count": 11,
     "metadata": {},
     "output_type": "execute_result"
    }
   ],
   "source": [
    "most_frequent0(abc)"
   ]
  },
  {
   "cell_type": "code",
   "execution_count": 8,
   "metadata": {},
   "outputs": [],
   "source": [
    "def most_frequent1(data): # 택영버전\n",
    "    count_list = []\n",
    "    for x in data:\n",
    "        count_list.append(data.count(x))\n",
    "        \n",
    "    print(count_list)\n",
    "    return data[count_list.index(max(count_list))]"
   ]
  },
  {
   "cell_type": "code",
   "execution_count": 14,
   "metadata": {},
   "outputs": [
    {
     "name": "stdout",
     "output_type": "stream",
     "text": [
      "[3, 3, 1, 1, 1, 2, 2, 3]\n",
      "aa\n"
     ]
    }
   ],
   "source": [
    "print(most_frequent1(abc))"
   ]
  },
  {
   "cell_type": "code",
   "execution_count": null,
   "metadata": {},
   "outputs": [],
   "source": [
    "max"
   ]
  },
  {
   "cell_type": "code",
   "execution_count": 15,
   "metadata": {},
   "outputs": [
    {
     "data": {
      "text/plain": [
       "'aa'"
      ]
     },
     "execution_count": 15,
     "metadata": {},
     "output_type": "execute_result"
    }
   ],
   "source": [
    "max(abc, key=abc.count)"
   ]
  },
  {
   "cell_type": "code",
   "execution_count": 17,
   "metadata": {},
   "outputs": [],
   "source": [
    "def most_frequent(data): #소애님 버전\n",
    "    length = len(data)\n",
    "    arr = [0 for i in range (length)]\n",
    "    print(arr)\n",
    "    for i in range(length):\n",
    "        for j in range(i+1, length):\n",
    "            if data[i] == data[j]:\n",
    "                    arr[i] += 1\n",
    "    max = 0\n",
    "    for i in range(length):\n",
    "        for j in range(i+1, length):\n",
    "            if arr[i] > arr[j]:\n",
    "                max = j\n",
    "    return data[max]"
   ]
  },
  {
   "cell_type": "code",
   "execution_count": 18,
   "metadata": {},
   "outputs": [
    {
     "name": "stdout",
     "output_type": "stream",
     "text": [
      "[0, 0, 0, 0, 0, 0, 0, 0]\n",
      "aa\n"
     ]
    }
   ],
   "source": [
    "print(most_frequent(abc))"
   ]
  },
  {
   "cell_type": "code",
   "execution_count": 3,
   "metadata": {},
   "outputs": [
    {
     "data": {
      "text/plain": [
       "8"
      ]
     },
     "execution_count": 3,
     "metadata": {},
     "output_type": "execute_result"
    }
   ],
   "source": [
    "max(1,3,4,2,8)"
   ]
  },
  {
   "cell_type": "code",
   "execution_count": 7,
   "metadata": {},
   "outputs": [
    {
     "data": {
      "text/plain": [
       "3"
      ]
     },
     "execution_count": 7,
     "metadata": {},
     "output_type": "execute_result"
    }
   ],
   "source": [
    "abc.count('aa')"
   ]
  },
  {
   "cell_type": "code",
   "execution_count": null,
   "metadata": {},
   "outputs": [],
   "source": []
  }
 ],
 "metadata": {
  "kernelspec": {
   "display_name": "Python 3",
   "language": "python",
   "name": "python3"
  },
  "language_info": {
   "codemirror_mode": {
    "name": "ipython",
    "version": 3
   },
   "file_extension": ".py",
   "mimetype": "text/x-python",
   "name": "python",
   "nbconvert_exporter": "python",
   "pygments_lexer": "ipython3",
   "version": "3.8.3"
  }
 },
 "nbformat": 4,
 "nbformat_minor": 4
}
