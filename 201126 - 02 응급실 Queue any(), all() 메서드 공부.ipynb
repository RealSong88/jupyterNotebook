{
 "cells": [
  {
   "cell_type": "markdown",
   "metadata": {},
   "source": [
    "# 응급실\n",
    "\n",
    "### 메디컬 병원 응급실에는 의사가 한 명밖에 없습니다.\n",
    "### 응급실은 환자가 도착한 순서대로 진료를 합니다. 하지만 위험도가 높은 환자는 빨리 응급조치를 의사가 해야 합니다. 이런 문제를 보완하기 위해 응급실은 다음과 같은 방법으로 환자의 진료순서를 정합니다.\n",
    "- 환자가 접수한 순서대로의 목록에서 제일 앞에 있는 환자 목록을 꺼냅니다.\n",
    "- 나머지 대기 목록에서 꺼낸 환자 보다 위험도가 높은 환자가 존재하면 대기목록 제일 뒤로 다시 넣습니다. 그렇지 않으면 진료를 받습니다.\n",
    "\n",
    "### 현재 N명의 환자가 대기목록에 있습니다.\n",
    "### N명의 대기목록 순서의 환자 위험도가 주어지면, 대기목록상의 M번째 환자는 몇 번째로 진료를 받는지 출력하는 프로그램을 작성하세요.\n",
    "### 대기목록상의 M번째는 대기목록의 제일 처음 환자를 0번째로 간주하여 표현한 것입니다.\n",
    "\n",
    "### 입력 설명\n",
    "- 첫 줄에 자연수 N(5<=N<=100)과 M(0<=M<N) 주어집니다.\n",
    "- 두 번째 줄에 접수한 순서대로 환자의 위험도(50<=위험도<=100)가 주어집니다.\n",
    "- 위험도는 값이 높을 수록 더 위험하다는 뜻입니다. 같은 값의 위험도가 존재할 수 있습니다.\n",
    "\n",
    "#### 출력 설명\n",
    "- M번째 환자의 몇 번째로 진료받는지 출력하세요\n",
    "\n",
    "#### 입력 예제 1\n",
    "- 5 2\n",
    "- 60 50 70 80 90\n",
    "\n",
    "#### 출력 예제 1\n",
    "- 3\n",
    "\n",
    "#### 입력 예제 2\n",
    "- 6 0\n",
    "- 60 60 90 60 60 60 \n",
    "\n",
    "#### 출력 예제 2\n",
    "- 5\n",
    "\n",
    "#### <정답>\n",
    "- 응급실in1.txt -> 3\n",
    "- 응급실in2.txt -> 5"
   ]
  },
  {
   "cell_type": "code",
   "execution_count": 22,
   "metadata": {},
   "outputs": [],
   "source": [
    "n=6; m=0\n",
    "lst = [60, 60, 90, 60, 60, 60]\n"
   ]
  },
  {
   "cell_type": "code",
   "execution_count": 23,
   "metadata": {},
   "outputs": [
    {
     "name": "stdout",
     "output_type": "stream",
     "text": [
      "[60, 90, 60, 60, 60, 60]\n",
      "[90, 60, 60, 60, 60, 60]\n",
      "[90, 60, 60, 60, 60, 60]\n",
      "2\n"
     ]
    }
   ],
   "source": [
    "count = 0\n",
    "while max(lst) != lst[0]:\n",
    "    for i in range(n - 1):\n",
    "        if lst[0] < lst[i+1]:\n",
    "            lst.append(lst.pop(0))\n",
    "            print(lst)\n",
    "            count += 1\n",
    "\n",
    "print(lst)\n",
    "print(count)"
   ]
  },
  {
   "cell_type": "code",
   "execution_count": null,
   "metadata": {},
   "outputs": [],
   "source": [
    "lst.append(lst.pop(0))\n",
    "lst"
   ]
  },
  {
   "cell_type": "code",
   "execution_count": null,
   "metadata": {},
   "outputs": [],
   "source": []
  },
  {
   "cell_type": "code",
   "execution_count": 20,
   "metadata": {},
   "outputs": [
    {
     "name": "stdout",
     "output_type": "stream",
     "text": [
      "deque([(1, 60), (2, 90), (3, 60), (4, 60), (5, 60), (0, 60)])\n",
      "deque([(2, 90), (3, 60), (4, 60), (5, 60), (0, 60), (1, 60)])\n",
      "deque([(3, 60), (4, 60), (5, 60), (0, 60), (1, 60)])\n",
      "deque([(4, 60), (5, 60), (0, 60), (1, 60)])\n",
      "deque([(5, 60), (0, 60), (1, 60)])\n",
      "deque([(0, 60), (1, 60)])\n",
      "지정하신 0 환자의 진료 차례는 5 번째 입니다.\n"
     ]
    }
   ],
   "source": [
    "# 선생님 버전\n",
    "from collections import deque\n",
    "with open(\"text/응급실in2.txt\", \"r\") as f:\n",
    "    n, m = map(int, f.readline().split())\n",
    "#     lst = list(map(int, f.readline().split()))\n",
    "    emer_lst = [(idx, int(xx)) for idx, xx in enumerate(f.readline().split())]\n",
    "\n",
    "Q = deque(emer_lst)\n",
    "cnt = 0\n",
    "while True :\n",
    "    now = Q.popleft()\n",
    "    if any(now[1] < x[1] for x in Q): # python oriented programming\n",
    "        Q.append(now)\n",
    "    else : \n",
    "        cnt += 1 # 이사람은 진료를 받는다.\n",
    "        if now[0] == m:\n",
    "            break\n",
    "    print(Q)\n",
    "\n",
    "print(\"지정하신 {} 환자의 진료 차례는 {} 번째 입니다.\".format(m, cnt))"
   ]
  },
  {
   "cell_type": "code",
   "execution_count": 11,
   "metadata": {},
   "outputs": [
    {
     "data": {
      "text/plain": [
       "[(0, 60), (1, 50), (2, 70), (3, 80), (4, 90)]"
      ]
     },
     "execution_count": 11,
     "metadata": {},
     "output_type": "execute_result"
    }
   ],
   "source": [
    "emer_lst"
   ]
  },
  {
   "cell_type": "code",
   "execution_count": 3,
   "metadata": {},
   "outputs": [
    {
     "name": "stdout",
     "output_type": "stream",
     "text": [
      "0 1\n",
      "1 4\n",
      "2 2\n",
      "3 7\n",
      "4 3\n",
      "5 5\n"
     ]
    }
   ],
   "source": [
    "sample = [1,4,2,7,3, 5]\n",
    "for i, samp in enumerate(sample):\n",
    "    print(i, samp)\n",
    "\n",
    "\n",
    "# for idx, xx in enumerate(f.readline().split()):\n",
    "#     print(idx, (int) xx)"
   ]
  },
  {
   "cell_type": "code",
   "execution_count": null,
   "metadata": {},
   "outputs": [],
   "source": []
  },
  {
   "cell_type": "code",
   "execution_count": null,
   "metadata": {},
   "outputs": [],
   "source": []
  }
 ],
 "metadata": {
  "kernelspec": {
   "display_name": "Python 3",
   "language": "python",
   "name": "python3"
  },
  "language_info": {
   "codemirror_mode": {
    "name": "ipython",
    "version": 3
   },
   "file_extension": ".py",
   "mimetype": "text/x-python",
   "name": "python",
   "nbconvert_exporter": "python",
   "pygments_lexer": "ipython3",
   "version": "3.8.3"
  }
 },
 "nbformat": 4,
 "nbformat_minor": 4
}
