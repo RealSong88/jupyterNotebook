{
 "cells": [
  {
   "cell_type": "code",
   "execution_count": 5,
   "metadata": {},
   "outputs": [],
   "source": [
    "# 다음의 select_common(first, second) 함수를 만드시오\n",
    "# 처리조건\n",
    "# - 두개의 스트링 문자열을 받아 공통의 단어를 뽑아내시오.\n",
    "# - 각 스트링의 단어는 컴마로 구분한다.\n",
    "# 처리 예\n",
    "# print(select_common('one,two,three,six', 'two,five,six')) === six , two\n",
    "# print(select_common('Hello, World', 'The, World, is, very, beautiful'))  === World\n",
    "# 중복되는 경우 set이나 not in 을 활용하자"
   ]
  },
  {
   "cell_type": "code",
   "execution_count": 6,
   "metadata": {},
   "outputs": [],
   "source": [
    "a = 'one, two, three,six, two'\n",
    "b = 'two, five, six'\n",
    "c = \"Hello, World\"\n",
    "d = \"The, World, is, very, beautiful\""
   ]
  },
  {
   "cell_type": "code",
   "execution_count": 7,
   "metadata": {},
   "outputs": [],
   "source": [
    "# 내 버전 컴프리핸서 사용\n",
    "def select_common2(first, second):\n",
    "    a_list = sorted(first.split(','))\n",
    "    b_list = sorted(second.split(','))\n",
    "    temp = []\n",
    "    temp = [i.strip() for i in a_list for j in b_list if i.strip() == j.strip()]\n",
    "    return ','.join(sorted(set(temp)))"
   ]
  },
  {
   "cell_type": "code",
   "execution_count": 8,
   "metadata": {},
   "outputs": [
    {
     "data": {
      "text/plain": [
       "'six,two'"
      ]
     },
     "execution_count": 8,
     "metadata": {},
     "output_type": "execute_result"
    }
   ],
   "source": [
    "select_common2(a, b)"
   ]
  },
  {
   "cell_type": "code",
   "execution_count": 9,
   "metadata": {},
   "outputs": [
    {
     "data": {
      "text/plain": [
       "'World'"
      ]
     },
     "execution_count": 9,
     "metadata": {},
     "output_type": "execute_result"
    }
   ],
   "source": [
    "select_common2(c,d)"
   ]
  },
  {
   "cell_type": "code",
   "execution_count": null,
   "metadata": {},
   "outputs": [],
   "source": []
  },
  {
   "cell_type": "code",
   "execution_count": 10,
   "metadata": {},
   "outputs": [],
   "source": [
    "fword = 'one, two, three,six, two'\n",
    "sword = 'two, five, six'"
   ]
  },
  {
   "cell_type": "code",
   "execution_count": 11,
   "metadata": {},
   "outputs": [
    {
     "name": "stdout",
     "output_type": "stream",
     "text": [
      "one\n",
      "two\n",
      "three\n",
      "six\n",
      "two\n"
     ]
    }
   ],
   "source": [
    "for i in fword.replace(' ', '').split(','):\n",
    "    print(i)"
   ]
  },
  {
   "cell_type": "code",
   "execution_count": 12,
   "metadata": {},
   "outputs": [],
   "source": [
    "aset = set(fword.replace(\" \", \"\").split(','))"
   ]
  },
  {
   "cell_type": "code",
   "execution_count": 13,
   "metadata": {},
   "outputs": [],
   "source": [
    "bset = set(sword.replace(\" \", \"\").split(','))"
   ]
  },
  {
   "cell_type": "code",
   "execution_count": 14,
   "metadata": {},
   "outputs": [
    {
     "name": "stdout",
     "output_type": "stream",
     "text": [
      "{'six', 'three', 'one', 'two'} {'six', 'two', 'five'}\n"
     ]
    }
   ],
   "source": [
    "print(aset, bset)"
   ]
  },
  {
   "cell_type": "code",
   "execution_count": 15,
   "metadata": {},
   "outputs": [
    {
     "data": {
      "text/plain": [
       "{'six', 'two'}"
      ]
     },
     "execution_count": 15,
     "metadata": {},
     "output_type": "execute_result"
    }
   ],
   "source": [
    "aset & bset"
   ]
  },
  {
   "cell_type": "code",
   "execution_count": null,
   "metadata": {},
   "outputs": [],
   "source": [
    "# 선생님 버전\n",
    "def select_common3(first, second):\n",
    "    aset, bset = set(first.replace(\" \", \"\").split(',')), set(second.replace(\" \", \"\").split(','))\n",
    "    return ','.join(sorted(aset & bset))"
   ]
  },
  {
   "cell_type": "code",
   "execution_count": null,
   "metadata": {},
   "outputs": [],
   "source": [
    "select_common3(a, b)"
   ]
  },
  {
   "cell_type": "code",
   "execution_count": null,
   "metadata": {},
   "outputs": [],
   "source": [
    "# 로또번호 구하기 (1 ~ 45)\n",
    "# 중복 빼기"
   ]
  },
  {
   "cell_type": "code",
   "execution_count": null,
   "metadata": {},
   "outputs": [],
   "source": [
    "import random\n",
    "random.randint(1, 45)"
   ]
  },
  {
   "cell_type": "code",
   "execution_count": null,
   "metadata": {},
   "outputs": [],
   "source": []
  },
  {
   "cell_type": "code",
   "execution_count": null,
   "metadata": {},
   "outputs": [],
   "source": [
    "# 내 버전\n",
    "def make_lotto():\n",
    "    random_n = []\n",
    "    cnt = 0\n",
    "    while(cnt < 6):\n",
    "        if not cnt in random_n:\n",
    "            random_n.append(random.randint(1, 45))\n",
    "            cnt += 1\n",
    "    return sorted(random_n)"
   ]
  },
  {
   "cell_type": "code",
   "execution_count": null,
   "metadata": {},
   "outputs": [],
   "source": [
    "print(make_lotto())"
   ]
  },
  {
   "cell_type": "code",
   "execution_count": null,
   "metadata": {},
   "outputs": [],
   "source": [
    "# 선생님 버전\n",
    "lotto_numlist = []\n",
    "cnt = 0\n",
    "while cnt < 6:\n",
    "    xx = random.randint(1, 45)\n",
    "    if xx not in lotto_numlist:\n",
    "        lotto_numlist.append(xx)\n",
    "        cnt += 1\n",
    "print(lotto_numlist)"
   ]
  },
  {
   "cell_type": "code",
   "execution_count": null,
   "metadata": {},
   "outputs": [],
   "source": [
    "lotto_numlist2 =[]\n",
    "while len(set(lotto_numlist2)) != 6:\n",
    "    xx = random.randint(1, 45)\n",
    "    lotto_numlist2.append(xx)\n",
    "print(lotto_numlist2)"
   ]
  },
  {
   "cell_type": "code",
   "execution_count": null,
   "metadata": {},
   "outputs": [],
   "source": []
  },
  {
   "cell_type": "code",
   "execution_count": null,
   "metadata": {},
   "outputs": [],
   "source": [
    "# 파이써닉한 문법\n",
    "random.sample(range(1,46),6)"
   ]
  },
  {
   "cell_type": "code",
   "execution_count": null,
   "metadata": {},
   "outputs": [],
   "source": [
    "# 다음의 is_goodpw(data) 함수를 만드시오\n",
    "# 처리조건\n",
    "# - 10자 이상, 최소 한 대문자, 소문자, 숫자 한 개는 반드시 포함하는 조합으로 패스워드를 만들어 이조건을 만족하면 True 그렇지 않으면 False\n",
    "# 를 출력하는 함수를 만드시오\n",
    "# - 위의 조건을 만족하는 함수를 만들었다면 이제는 특수문자를 반드시 포함하는 is_realgoodpw(data)함수로 확장해보시오\n",
    "# 처리 예)\n",
    "# - print(is_goodpw('sdfjHksdfjl34$$')) // True\n",
    "# - print(is_goodpw('sdfjl3jQ%4dd')) // True\n",
    "# - is_realgoodpw('Korea2020fight!!!') // True"
   ]
  },
  {
   "cell_type": "code",
   "execution_count": null,
   "metadata": {},
   "outputs": [],
   "source": [
    "# 내꺼 \n",
    "def is_goodpw(data):\n",
    "    if len(data) < 10: return False\n",
    "    if data.upper() == data: return False\n",
    "    if data.lower() == data: return False\n",
    "    if any(xx in [\"~\",\"@\",\"#\",\"$\",\"%\", \"^\", \"&\", \"*\", \"(\", \")\", \"-\", \"_\", \"+\", \"=\"] for xx in data):\n",
    "        return any(xx.isdigit() for xx in data)\n",
    "    return False\n",
    "    \n",
    "    "
   ]
  },
  {
   "cell_type": "code",
   "execution_count": null,
   "metadata": {},
   "outputs": [],
   "source": [
    "pw = 'Abddfs1414'\n",
    "is_goodpw(pw)"
   ]
  },
  {
   "cell_type": "code",
   "execution_count": null,
   "metadata": {},
   "outputs": [],
   "source": [
    "# 선생님 버전\n",
    "def is_goodpw2(data):\n",
    "    if len(data) < 10 : return False\n",
    "    if data.upper() == data: return False # 소문자가 없다는 뜻\n",
    "    if data.lower() == data: return False # 대문자가 없다는 뜻\n",
    "    return any(xx.isdigit() for xx in data)  # any함수, isdigit() 함수 기능 확인"
   ]
  },
  {
   "cell_type": "code",
   "execution_count": null,
   "metadata": {},
   "outputs": [],
   "source": [
    "is_goodpw2(pw)"
   ]
  },
  {
   "cell_type": "code",
   "execution_count": null,
   "metadata": {},
   "outputs": [],
   "source": []
  },
  {
   "cell_type": "code",
   "execution_count": null,
   "metadata": {},
   "outputs": [],
   "source": [
    "def is_realgoodpw(data):\n",
    "    if len(data) < 10 : return False\n",
    "    if data.upper() == data: return False # 소문자가 없다는 뜻wq"
   ]
  },
  {
   "cell_type": "code",
   "execution_count": null,
   "metadata": {},
   "outputs": [],
   "source": [
    "pw2 = \"!@Awer9axd\""
   ]
  },
  {
   "cell_type": "code",
   "execution_count": null,
   "metadata": {},
   "outputs": [],
   "source": [
    "is_realgoodpw(pw2)"
   ]
  },
  {
   "cell_type": "code",
   "execution_count": null,
   "metadata": {},
   "outputs": [],
   "source": [
    "any(xx.isdigit() for xx in \"bw123\")"
   ]
  },
  {
   "cell_type": "code",
   "execution_count": null,
   "metadata": {},
   "outputs": [],
   "source": [
    "def solution(array, commands):\n",
    "    return list(map(lambda x:sorted(array[x[0]-1:x[1]])[x[2]-1], commands))"
   ]
  }
 ],
 "metadata": {
  "kernelspec": {
   "display_name": "Python 3",
   "language": "python",
   "name": "python3"
  },
  "language_info": {
   "codemirror_mode": {
    "name": "ipython",
    "version": 3
   },
   "file_extension": ".py",
   "mimetype": "text/x-python",
   "name": "python",
   "nbconvert_exporter": "python",
   "pygments_lexer": "ipython3",
   "version": "3.8.3"
  }
 },
 "nbformat": 4,
 "nbformat_minor": 4
}
