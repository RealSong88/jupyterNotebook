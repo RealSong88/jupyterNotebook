{
 "cells": [
  {
   "cell_type": "markdown",
   "metadata": {},
   "source": [
    "# 단어 매치게임\n",
    "\n",
    "### 같은 단어끼리 match를 맺는데 match가 안되는 단어를 찾아 출력을 하세요\n",
    "\n",
    "### 입력 설명\n",
    "- 2n-1개의 단어가 들어온다.\n",
    "\n",
    "#### 입력예제\n",
    "- 5\n",
    "- big\n",
    "- good\n",
    "- sky\n",
    "- mouse\n",
    "- sky\n",
    "- good\n",
    "- mouse\n",
    "- big\n",
    "#### 출력예제\n",
    "- blue\n",
    "\n",
    "#### <정답>\n",
    "- 단어매치in1.txt -> blue\n",
    "- 단어매치in2.txt -> dkfjkqhgk\n",
    "- 단어매치in3.txt -> back"
   ]
  },
  {
   "cell_type": "code",
   "execution_count": 19,
   "metadata": {},
   "outputs": [
    {
     "name": "stdout",
     "output_type": "stream",
     "text": [
      "match 안된 정답은 blue\n",
      "\n"
     ]
    }
   ],
   "source": [
    "with open(\"text/단어매치in1.txt\", \"r\") as f:\n",
    "    n = int(f.readline())\n",
    "\n",
    "    dic_c = {}\n",
    "    for word in [f.readline() for _ in range(2*n - 1)]:\n",
    "        if dic_c.get(word) == None:\n",
    "            dic_c[word] = 1\n",
    "        else:\n",
    "            dic_c[word] += 1\n",
    "\n",
    "    for i in dic_c.items():\n",
    "        if i[1] == 1:\n",
    "            print(\"match 안된 정답은 {}\".format(i[0]))\n"
   ]
  },
  {
   "cell_type": "code",
   "execution_count": null,
   "metadata": {},
   "outputs": [],
   "source": []
  },
  {
   "cell_type": "code",
   "execution_count": 20,
   "metadata": {},
   "outputs": [
    {
     "name": "stdout",
     "output_type": "stream",
     "text": [
      "{'big\\n': 2, 'good\\n': 2, 'sky\\n': 2, 'blue\\n': 1, 'mouse\\n': 2}\n"
     ]
    }
   ],
   "source": [
    "print(dic_c)"
   ]
  },
  {
   "cell_type": "code",
   "execution_count": 16,
   "metadata": {},
   "outputs": [
    {
     "name": "stdout",
     "output_type": "stream",
     "text": [
      "<class 'dict_items'>\n"
     ]
    }
   ],
   "source": [
    "print(type(dic_c.items()))\n"
   ]
  },
  {
   "cell_type": "code",
   "execution_count": 2,
   "metadata": {},
   "outputs": [
    {
     "name": "stdout",
     "output_type": "stream",
     "text": [
      "blue\n",
      "\n"
     ]
    }
   ],
   "source": [
    "# 선생님버전\n",
    "with open(\"text/단어매치in1.txt\") as f:\n",
    "    n = int(f.readline())\n",
    "    sw = dict()\n",
    "    for i in range(2*n-1):\n",
    "        word = f.readline()\n",
    "        if sw.get(word) == None:\n",
    "            sw[word] = 1\n",
    "        else:\n",
    "            sw[word] += 1\n",
    "    for key, val in sw.items():\n",
    "        if val == 1:\n",
    "            print(key)\n",
    "            break"
   ]
  },
  {
   "cell_type": "code",
   "execution_count": 3,
   "metadata": {},
   "outputs": [
    {
     "name": "stdout",
     "output_type": "stream",
     "text": [
      "blue\n"
     ]
    }
   ],
   "source": [
    "# 승환버전\n",
    "with open(\"text/단어매치in1.txt\") as f:\n",
    "    n = int(f.readline())\n",
    "    ma = []\n",
    "    for _ in range(2*n-1):\n",
    "        ma += (f.readline().split())\n",
    "    for i in ma:\n",
    "        if ma.count(i) == 1:\n",
    "            print(i)"
   ]
  },
  {
   "cell_type": "code",
   "execution_count": 16,
   "metadata": {},
   "outputs": [
    {
     "name": "stdout",
     "output_type": "stream",
     "text": [
      "blue\n",
      "\n"
     ]
    }
   ],
   "source": [
    "# 건익버전\n",
    "from collections import Counter\n",
    "with open(\"text/단어매치in1.txt\") as f:\n",
    "    n = int(f.readline())\n",
    "    word = [ x for x in f.readlines() ]\n",
    "    word = Counter(word) # Counter 명령에 의해 자동 word가 count 되고 dict형으로 변경\n",
    "    for key, value in word.items():\n",
    "        if value==1:\n",
    "            print(key)"
   ]
  },
  {
   "cell_type": "code",
   "execution_count": 14,
   "metadata": {},
   "outputs": [
    {
     "data": {
      "text/plain": [
       "Counter({'big\\n': 2, 'good\\n': 2, 'sky\\n': 2, 'blue\\n': 1, 'mouse\\n': 2})"
      ]
     },
     "execution_count": 14,
     "metadata": {},
     "output_type": "execute_result"
    }
   ],
   "source": [
    "word"
   ]
  },
  {
   "cell_type": "code",
   "execution_count": 12,
   "metadata": {},
   "outputs": [
    {
     "name": "stdout",
     "output_type": "stream",
     "text": [
      "big 2\n",
      "good 2\n",
      "sky 2\n",
      "blue 1\n",
      "mouse 2\n"
     ]
    }
   ],
   "source": [
    "for i, j in word.items():\n",
    "    print(i.replace(\"\\n\", \"\"), j)"
   ]
  },
  {
   "cell_type": "code",
   "execution_count": null,
   "metadata": {},
   "outputs": [],
   "source": []
  }
 ],
 "metadata": {
  "kernelspec": {
   "display_name": "Python 3",
   "language": "python",
   "name": "python3"
  },
  "language_info": {
   "codemirror_mode": {
    "name": "ipython",
    "version": 3
   },
   "file_extension": ".py",
   "mimetype": "text/x-python",
   "name": "python",
   "nbconvert_exporter": "python",
   "pygments_lexer": "ipython3",
   "version": "3.8.3"
  }
 },
 "nbformat": 4,
 "nbformat_minor": 4
}
