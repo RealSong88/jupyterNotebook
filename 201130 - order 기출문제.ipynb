{
 "cells": [
  {
   "cell_type": "markdown",
   "metadata": {},
   "source": [
    "## 기출 문제\n",
    "\n",
    "### orders\n",
    "#### [\"alex pizza pasta\", \"alex pizza  pizza\", \"alex noodle\", \"bob pasta\", \"bob noodle sandwich pasta\", \"bob steak noodle\"]\n",
    "\n",
    "#### result [\"bob\"]\n",
    "\n",
    "#### [\"alex pizza pasta steak\", \"bob noodle sandwich pasta\", \"choi pizza sandwich pizza\", \"alex pizza pasta steak\"]\n",
    "\n",
    "#### result [\"alex\", \"bob\"]\n",
    "\n",
    "#### 입출력 예 설명\n",
    "- \"alex\"와 \"bob\"은 음식 세 종류를 주문했으며, \"choi\"는 두 종류를 주문했습니다. 따라서 오름차순 정렬하여 [\"alex\", \"bob\"] 을 return 하면 됩니다."
   ]
  },
  {
   "cell_type": "code",
   "execution_count": 1,
   "metadata": {},
   "outputs": [],
   "source": [
    "order_first = [\"alex pizza pasta\", \"alex pizza pizza\", \"alex noodle\", \n",
    "               \"bob pasta\", \"bob noodle sandwich pasta\", \"bob steak noodle\"]\n",
    "order_second = [\"alex pizza pasta steak\", \"bob noodle sandwich pasta\",\n",
    "                \"choi pizza sandwich pizza\", \"alex pizza pasta steak\"]"
   ]
  },
  {
   "cell_type": "code",
   "execution_count": 21,
   "metadata": {},
   "outputs": [
    {
     "data": {
      "text/plain": [
       "6"
      ]
     },
     "execution_count": 21,
     "metadata": {},
     "output_type": "execute_result"
    }
   ],
   "source": [
    "len(order_first)"
   ]
  },
  {
   "cell_type": "code",
   "execution_count": 55,
   "metadata": {},
   "outputs": [],
   "source": [
    "def myFunc(lst):\n",
    "    names = list(set([ x.split()[0] for x in lst ]))\n",
    "    print(names)\n",
    "    name_menu_cnt = []\n",
    "    for name in names:\n",
    "        order_list = []\n",
    "        for xx in lst:\n",
    "            order = xx.split()\n",
    "            print(order)\n",
    "            if name == order[0]:\n",
    "                for k in range(1, len(order)):\n",
    "                    order_list.append(order[k])\n",
    "        name_menu_cnt.append((name, len(set(order_list))))\n",
    "    name_menu_cnt.sort(key=lambda x: (x[1],x[0]), reverse=True)\n",
    "    print(name_menu_cnt)\n",
    "    result = []\n",
    "    top = 0\n",
    "    for i in name_menu_cnt:\n",
    "        if i[1] >= top :\n",
    "            top = i[1]\n",
    "            result.append(i[0])\n",
    "    result.sort()\n",
    "    return result"
   ]
  },
  {
   "cell_type": "code",
   "execution_count": 56,
   "metadata": {},
   "outputs": [
    {
     "name": "stdout",
     "output_type": "stream",
     "text": [
      "['choi', 'alex', 'bob']\n",
      "['alex', 'pizza', 'pasta', 'steak']\n",
      "['bob', 'noodle', 'sandwich', 'pasta']\n",
      "['choi', 'pizza', 'sandwich', 'pizza']\n",
      "['alex', 'pizza', 'pasta', 'steak']\n",
      "['alex', 'pizza', 'pasta', 'steak']\n",
      "['bob', 'noodle', 'sandwich', 'pasta']\n",
      "['choi', 'pizza', 'sandwich', 'pizza']\n",
      "['alex', 'pizza', 'pasta', 'steak']\n",
      "['alex', 'pizza', 'pasta', 'steak']\n",
      "['bob', 'noodle', 'sandwich', 'pasta']\n",
      "['choi', 'pizza', 'sandwich', 'pizza']\n",
      "['alex', 'pizza', 'pasta', 'steak']\n",
      "[('bob', 3), ('alex', 3), ('choi', 2)]\n"
     ]
    },
    {
     "data": {
      "text/plain": [
       "['alex', 'bob']"
      ]
     },
     "execution_count": 56,
     "metadata": {},
     "output_type": "execute_result"
    }
   ],
   "source": [
    "myFunc(order_second)"
   ]
  },
  {
   "cell_type": "code",
   "execution_count": 15,
   "metadata": {},
   "outputs": [],
   "source": [
    "def solution(lst):\n",
    "    names = []\n",
    "    for i in lst:\n",
    "        name_order = i.split()\n",
    "        names.append(name_order[0])\n",
    "    names = list(set(names))\n",
    "\n",
    "    name_menu_cnt = []\n",
    "    for name in names:\n",
    "        order_list = []\n",
    "        for xx in lst:\n",
    "            order = xx.split()\n",
    "            if name == order[0]:\n",
    "                for k in range(1, len(order)):\n",
    "                    order_list.append(order[k])\n",
    "#                 print(name, order_list)\n",
    "        name_menu_cnt.append((name, len(set(order_list))))\n",
    "    name_menu_cnt.sort(key=lambda x: (x[1], x[0]), reverse=True)\n",
    "#     print(name_menu_cnt)\n",
    "\n",
    "    top = 0\n",
    "    result = \"\"\n",
    "    for i in name_menu_cnt:\n",
    "        if i[1] >= top :\n",
    "            top =i[1]\n",
    "            result = i[0]\n",
    "    return \"정답은 \" + result\n",
    "        "
   ]
  },
  {
   "cell_type": "code",
   "execution_count": 18,
   "metadata": {},
   "outputs": [
    {
     "name": "stdout",
     "output_type": "stream",
     "text": [
      "정답은 alex\n"
     ]
    }
   ],
   "source": [
    "print(solution(order_second))"
   ]
  },
  {
   "cell_type": "code",
   "execution_count": 42,
   "metadata": {},
   "outputs": [
    {
     "name": "stdout",
     "output_type": "stream",
     "text": [
      "choi ['pizza', 'sandwich', 'pizza']\n",
      "alex ['pizza', 'pasta', 'steak']\n",
      "alex ['pizza', 'pasta', 'steak', 'pizza', 'pasta', 'steak']\n",
      "bob ['noodle', 'sandwich', 'pasta']\n",
      "[('bob', 3), ('alex', 3), ('choi', 2)]\n",
      "bob\n",
      "alex\n"
     ]
    }
   ],
   "source": [
    "# 선생님 버전\n",
    "names = []\n",
    "for xx in order_second:\n",
    "    name_order = xx.split()\n",
    "    names.append(name_order[0])\n",
    "names = list(set(names))\n",
    "\n",
    "name_menu_cnt = []\n",
    "for name in names:\n",
    "    order_list = []\n",
    "    for xx in order_second :\n",
    "        order = xx.split()\n",
    "        if name == order[0]:\n",
    "            for k in range(1, len(order)):\n",
    "                order_list.append(order[k])\n",
    "            print(name, order_list)\n",
    "    name_menu_cnt.append((name, len(set(order_list))))\n",
    "    \n",
    "# print(name_menu_cnt)\n",
    "name_menu_cnt.sort(key=lambda x: (x[1], x[0]), reverse=True)\n",
    "print(name_menu_cnt)\n",
    "\n",
    "top = 0\n",
    "for xx in name_menu_cnt:\n",
    "    if xx[1] >= top :\n",
    "        print(xx[0])\n",
    "        top = xx[1]"
   ]
  },
  {
   "cell_type": "code",
   "execution_count": null,
   "metadata": {},
   "outputs": [],
   "source": [
    "names"
   ]
  },
  {
   "cell_type": "code",
   "execution_count": 19,
   "metadata": {},
   "outputs": [],
   "source": [
    "# r근호씨  버전\n",
    "\n",
    "def taster(order):\n",
    "    taster_dict = {}\n",
    "    \n",
    "    for i in order:\n",
    "        i = i.split()\n",
    "        if i[0] not in taster_dict: # 0번인덱스는 이름\n",
    "            taster_dict[i[0]] = set(i[1:])\n",
    "        else:\n",
    "            taster_dict[i[0]].update(i[1:])\n",
    "            \n",
    "    for j in taster_dict:\n",
    "        taster_dict[j] = len(taster_dict[j])\n",
    "    print(taster_dict)\n",
    "    \n",
    "    name_menu_cnt = []\n",
    "    for key, value in taster_dict.items() :\n",
    "        name_menu_cnt.append((key, value))\n",
    "    \n",
    "    return sorted(taster_dict.items(), key=lambda x: (x[1],x[0]), reverse=True)"
   ]
  },
  {
   "cell_type": "code",
   "execution_count": 20,
   "metadata": {},
   "outputs": [
    {
     "name": "stdout",
     "output_type": "stream",
     "text": [
      "{'alex': 3, 'bob': 3, 'choi': 2}\n"
     ]
    },
    {
     "data": {
      "text/plain": [
       "[('bob', 3), ('alex', 3), ('choi', 2)]"
      ]
     },
     "execution_count": 20,
     "metadata": {},
     "output_type": "execute_result"
    }
   ],
   "source": [
    "taster(order_second)"
   ]
  },
  {
   "cell_type": "code",
   "execution_count": null,
   "metadata": {},
   "outputs": [],
   "source": []
  },
  {
   "cell_type": "code",
   "execution_count": null,
   "metadata": {},
   "outputs": [],
   "source": []
  },
  {
   "cell_type": "code",
   "execution_count": null,
   "metadata": {},
   "outputs": [],
   "source": []
  },
  {
   "cell_type": "code",
   "execution_count": null,
   "metadata": {},
   "outputs": [],
   "source": []
  }
 ],
 "metadata": {
  "kernelspec": {
   "display_name": "Python 3",
   "language": "python",
   "name": "python3"
  },
  "language_info": {
   "codemirror_mode": {
    "name": "ipython",
    "version": 3
   },
   "file_extension": ".py",
   "mimetype": "text/x-python",
   "name": "python",
   "nbconvert_exporter": "python",
   "pygments_lexer": "ipython3",
   "version": "3.8.3"
  }
 },
 "nbformat": 4,
 "nbformat_minor": 4
}
