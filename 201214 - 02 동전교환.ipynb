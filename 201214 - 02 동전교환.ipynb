{
 "cells": [
  {
   "cell_type": "code",
   "execution_count": 11,
   "metadata": {},
   "outputs": [
    {
     "name": "stdout",
     "output_type": "stream",
     "text": [
      "5 [50, 25, 20, 8, 1] 129\n",
      "7\n"
     ]
    }
   ],
   "source": [
    "with open(\"text/동전in3.txt\", \"r\") as f:\n",
    "    n = int(f.readline())\n",
    "    arr = sorted(list(map(int, f.readline().split())), reverse=True)\n",
    "    k = int(f.readline())\n",
    "cnt = 0\n",
    "print(n, arr, k)\n",
    "for i in arr:\n",
    "    cnt += k // i\n",
    "    k = k % i\n",
    "print(cnt)"
   ]
  },
  {
   "cell_type": "code",
   "execution_count": 12,
   "metadata": {},
   "outputs": [
    {
     "name": "stdout",
     "output_type": "stream",
     "text": [
      "5 [50, 25, 20, 8, 1] 129\n",
      "5\n"
     ]
    }
   ],
   "source": [
    "# 최저 동전 개수 구하기\n",
    "with open(\"text/동전in3.txt\", \"r\") as f:\n",
    "    n = int(f.readline())\n",
    "    arr = sorted(list(map(int, f.readline().split())), reverse=True)\n",
    "    k = int(f.readline())\n",
    "print(n, arr, k)\n",
    "def DFS(coin_cnt, total):\n",
    "    global final_cnt\n",
    "    # cutting edge coin_cnt 가 final_cnt보다 커지면  return\n",
    "    if coin_cnt >= final_cnt or total > k: \n",
    "        return\n",
    "    if total == k:\n",
    "        if coin_cnt < final_cnt:\n",
    "            final_cnt = coin_cnt\n",
    "    else:\n",
    "        for i in range(n):\n",
    "            DFS(coin_cnt + 1, total+arr[i])\n",
    "final_cnt = 99999999    \n",
    "DFS(0, 0) # 초기화 중요. 첫번째 파라미터 동전갯수, 두번째  동전의 합\n",
    "print(final_cnt)"
   ]
  },
  {
   "cell_type": "code",
   "execution_count": 15,
   "metadata": {},
   "outputs": [
    {
     "name": "stdout",
     "output_type": "stream",
     "text": [
      "5 [1, 8, 20, 25, 50]\n",
      "129\n"
     ]
    }
   ],
   "source": [
    "# 최대 동전개수 \n",
    "with open(\"text/동전in3.txt\", \"r\") as f:\n",
    "    n = int(f.readline())\n",
    "    arr = sorted(list(map(int, f.readline().split())))\n",
    "    k = int(f.readline())\n",
    "                 \n",
    "print(n, arr)\n",
    "def DFS(coin_cnt, total):\n",
    "    global final_cnt\n",
    "    # cutting edge coin_cnt 가 final_cnt보다 커지면  return\n",
    "    if coin_cnt < final_cnt or total > k: \n",
    "        return\n",
    "    if total == k:\n",
    "        if coin_cnt > final_cnt:\n",
    "            final_cnt = coin_cnt\n",
    "    else:\n",
    "        for i in range(n):\n",
    "            DFS(coin_cnt + 1, total+arr[i])\n",
    "final_cnt = -9999999  \n",
    "DFS(0, 0) # 초기화 중요. 첫번째 파라미터 동전갯수, 두번째  동전의 합\n",
    "print(final_cnt)"
   ]
  },
  {
   "cell_type": "code",
   "execution_count": 13,
   "metadata": {},
   "outputs": [
    {
     "name": "stdout",
     "output_type": "stream",
     "text": [
      "3 [5, 2, 1] 15\n",
      "DFS(0,0) DFS(1,5) DFS(2,10) DFS(3,15) DFS(3,12) DFS(3,11) DFS(2,7) DFS(3,12) DFS(3,9) DFS(3,8) DFS(2,6) DFS(3,11) DFS(3,8) DFS(3,7) DFS(1,2) DFS(2,7) DFS(3,12) DFS(3,9) DFS(3,8) DFS(2,4) DFS(3,9) DFS(3,6) DFS(3,5) DFS(2,3) DFS(3,8) DFS(3,5) DFS(3,4) DFS(1,1) DFS(2,6) DFS(3,11) DFS(3,8) DFS(3,7) DFS(2,3) DFS(3,8) DFS(3,5) DFS(3,4) DFS(2,2) DFS(3,7) DFS(3,4) DFS(3,3) 3\n"
     ]
    }
   ],
   "source": [
    "with open(\"text/동전in1.txt\", \"r\") as f:\n",
    "    n = int(f.readline())\n",
    "    arr = sorted(list(map(int, f.readline().split())), reverse=True)\n",
    "    k = int(f.readline())\n",
    "print(n, arr, k)\n",
    "\n",
    "def DFS(cnt, total):\n",
    "    global final_cnt\n",
    "    print(\"DFS({},{})\".format(cnt, total), end= \" \")\n",
    "    if cnt >= final_cnt or total > k:\n",
    "        return\n",
    "    if total == k:\n",
    "        if cnt < final_cnt:\n",
    "            final_cnt = cnt\n",
    "    else:\n",
    "        for i in range(n):\n",
    "            DFS(cnt + 1, total + arr[i])\n",
    "final_cnt = 99999999\n",
    "DFS(0, 0)\n",
    "print(final_cnt)"
   ]
  },
  {
   "cell_type": "code",
   "execution_count": 10,
   "metadata": {},
   "outputs": [
    {
     "name": "stdout",
     "output_type": "stream",
     "text": [
      "3 [5, 2, 1] 15\n",
      "3\n"
     ]
    }
   ],
   "source": [
    "# 최저 동전 개수 구하기\n",
    "with open(\"text/동전in1.txt\", \"r\") as f:\n",
    "    n = int(f.readline())\n",
    "    arr = sorted(list(map(int, f.readline().split())), reverse=True)\n",
    "    k = int(f.readline())\n",
    "print(n, arr, k)\n",
    "def DFS(coin_cnt, total):\n",
    "    global final_cnt\n",
    "    # cutting edge coin_cnt 가 final_cnt보다 커지면  return\n",
    "    if coin_cnt >= final_cnt or total > k: \n",
    "        return\n",
    "    if total == k:\n",
    "        if coin_cnt < final_cnt:\n",
    "            final_cnt = coin_cnt\n",
    "    else:\n",
    "        for i in range(n):\n",
    "            DFS(coin_cnt + 1, total+arr[i])\n",
    "final_cnt = 99999999    \n",
    "DFS(0, 0) # 초기화 중요. 첫번째 파라미터 동전갯수, 두번째  동전의 합\n",
    "print(final_cnt)"
   ]
  },
  {
   "cell_type": "code",
   "execution_count": null,
   "metadata": {},
   "outputs": [],
   "source": []
  }
 ],
 "metadata": {
  "kernelspec": {
   "display_name": "Python 3",
   "language": "python",
   "name": "python3"
  },
  "language_info": {
   "codemirror_mode": {
    "name": "ipython",
    "version": 3
   },
   "file_extension": ".py",
   "mimetype": "text/x-python",
   "name": "python",
   "nbconvert_exporter": "python",
   "pygments_lexer": "ipython3",
   "version": "3.8.3"
  }
 },
 "nbformat": 4,
 "nbformat_minor": 4
}
