{
 "cells": [
  {
   "cell_type": "code",
   "execution_count": 1,
   "metadata": {},
   "outputs": [],
   "source": [
    "# 다음의 monkey_typing(data, words) 함수를 만드시오.\n",
    "# 처리조건\n",
    "# - 원숭이가 마구 컴퓨터 자판을 두드린다.\n",
    "# - 호출 함수의 인자는 첫번째는 스트링, 두번째는 소문자 단어 set으로 넘어간다.\n",
    "# - 몇개의 단어가 의미가 있었는지 확인한다.\n",
    "\n",
    "# 처리 예)\n",
    "# print(monkey_typing('how  asdfjsalfjsaas you sadfsf idol', {'how', 'are', 'you', 'hello'}))"
   ]
  },
  {
   "cell_type": "code",
   "execution_count": 11,
   "metadata": {},
   "outputs": [],
   "source": [
    "# 내버전\n",
    "\n",
    "def monkey_typing(data, words):\n",
    "    cnt = 0\n",
    "    for i in words:\n",
    "        if i in data:\n",
    "            cnt += 1\n",
    "    return cnt"
   ]
  },
  {
   "cell_type": "code",
   "execution_count": 12,
   "metadata": {},
   "outputs": [],
   "source": [
    "a = \"asjdlf;asdjklorangeasdjfklashowsafdjlasdjflyou\"\n",
    "b = {\"how\", 'are', \"you\", \"orange\"}"
   ]
  },
  {
   "cell_type": "code",
   "execution_count": 13,
   "metadata": {},
   "outputs": [
    {
     "name": "stdout",
     "output_type": "stream",
     "text": [
      "3\n"
     ]
    }
   ],
   "source": [
    "print(monkey_typing(a, b))"
   ]
  },
  {
   "cell_type": "code",
   "execution_count": 20,
   "metadata": {},
   "outputs": [],
   "source": [
    "# 선생님 버전\n",
    "def moneky_typing2(data, words):\n",
    "    cnt = 0\n",
    "    for xx in words:\n",
    "        if xx in data:\n",
    "            cnt += 1\n",
    "    return cnt"
   ]
  },
  {
   "cell_type": "code",
   "execution_count": 21,
   "metadata": {},
   "outputs": [
    {
     "name": "stdout",
     "output_type": "stream",
     "text": [
      "3\n"
     ]
    }
   ],
   "source": [
    "print(moneky_typing2(a, b))"
   ]
  },
  {
   "cell_type": "code",
   "execution_count": 27,
   "metadata": {},
   "outputs": [],
   "source": [
    "# 선생님 버전2\n",
    "# 리스트 컴프리핸서 활용\n",
    "def monkey_typing3(data, words):\n",
    "    return len([xx for xx in words if xx in data])"
   ]
  },
  {
   "cell_type": "code",
   "execution_count": 26,
   "metadata": {},
   "outputs": [
    {
     "name": "stdout",
     "output_type": "stream",
     "text": [
      "3\n"
     ]
    }
   ],
   "source": [
    "print(monkey_typing3(a, b))"
   ]
  },
  {
   "cell_type": "code",
   "execution_count": null,
   "metadata": {},
   "outputs": [],
   "source": []
  }
 ],
 "metadata": {
  "kernelspec": {
   "display_name": "Python 3",
   "language": "python",
   "name": "python3"
  },
  "language_info": {
   "codemirror_mode": {
    "name": "ipython",
    "version": 3
   },
   "file_extension": ".py",
   "mimetype": "text/x-python",
   "name": "python",
   "nbconvert_exporter": "python",
   "pygments_lexer": "ipython3",
   "version": "3.8.3"
  }
 },
 "nbformat": 4,
 "nbformat_minor": 4
}
