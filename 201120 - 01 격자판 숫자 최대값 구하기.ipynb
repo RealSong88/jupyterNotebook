{
 "cells": [
  {
   "cell_type": "markdown",
   "metadata": {},
   "source": [
    "# 격자판 최대합\n",
    "### 5X5  격자판에 아래와 같이 숫자가 적혀있습니다\n",
    "### 격자판최대합1.txt => 614\n",
    "### 격자판최대합2.txt => 1234\n",
    "\n",
    "### NXN의 격자판이 주어지는 각 행의 합, 각 열의 합, 두 대각선의 합 중 가장 큰 합을 출력합니다.\n",
    "\n",
    "### 입력설명\n",
    "- 첫 줄에 자연수 N이 주어진다(1<=N<=50)\n",
    "- 두 번째 줄부터 N줄에 걸쳐 각 줄에 N개의 자연수가 주어진다. 각 자연수는 100을 넘지 않는다.\n",
    "\n",
    "### 출력설명\n",
    "- 최대합을 출력합니다\n"
   ]
  },
  {
   "cell_type": "code",
   "execution_count": 26,
   "metadata": {},
   "outputs": [
    {
     "name": "stdout",
     "output_type": "stream",
     "text": [
      "[[4, 2, 7], [5, 3, 6], [8, 1, 9]]\n",
      "최대합은 : 22\n"
     ]
    }
   ],
   "source": [
    "with open(\"text/격자판최대합3.txt\", \"r\") as f:\n",
    "    n = int(f.readline())\n",
    "    a = [list(map(int, f.readline().split())) for _ in range(n)]\n",
    "    print(a)\n",
    "    max_sum = 0\n",
    "    # 가로 합\n",
    "    for i in a:\n",
    "        if sum(i) > max_sum:\n",
    "            max_sum = sum(i)\n",
    "    temp_sum = 0\n",
    "    temp_sum1 = temp_sum2 = 0\n",
    "    \n",
    "    # 세로 합\n",
    "    for i in range(n):\n",
    "        for j in range(n):\n",
    "            temp_sum += a[j][i]        \n",
    "        if temp_sum > max_sum:\n",
    "            max_sum = temp_sum            \n",
    "        temp_sum = 0\n",
    "#     print(temp_sum) \n",
    "    \n",
    "    # 대각선 합\n",
    "    for i in range(n):\n",
    "        temp_sum1 += a[i][i]\n",
    "        temp_sum2 += a[i][n - 1 - i]\n",
    "    if temp_sum1 > max_sum:\n",
    "        max_sum = temp_sum1\n",
    "    if temp_sum2 > max_sum:\n",
    "        max_sum = temp_sum2\n",
    "        \n",
    "    print(\"최대합은 :\", max_sum)"
   ]
  },
  {
   "cell_type": "code",
   "execution_count": 23,
   "metadata": {},
   "outputs": [
    {
     "name": "stdout",
     "output_type": "stream",
     "text": [
      "614\n"
     ]
    }
   ],
   "source": [
    "f = open(\"text/격자판최대합1.txt\", \"r\") \n",
    "n = int(f.readline())\n",
    "a = [ list(map(int, f.readline().split())) for _ in range(n) ]\n",
    "# print(a)\n",
    "\n",
    "# 가로와 세로의 합을 구하고 최대값을 구하기\n",
    "result = 0\n",
    "for i in range(n):\n",
    "    garosum = serosum = 0\n",
    "    for j in range(n):\n",
    "        garosum = garosum + a[i][j]\n",
    "        serosum = serosum + a[j][i]\n",
    "    if garosum > result :\n",
    "        result = garosum\n",
    "    if serosum > result :\n",
    "        result = serosum\n",
    "\n",
    "# 대각선 합을 구하고 최대값 갱신하기\n",
    "dagak1 = dagak2 = 0\n",
    "for i in range(n):\n",
    "    dagak1 += a[i][i]\n",
    "    dagak2 += a[i][n - 1 - i] # 대각선 역순 인덱스 구하기\n",
    "\n",
    "if dagak1 > result:\n",
    "    result = dagak1\n",
    "if dagak2 > result:\n",
    "    result = dagak2\n",
    "\n",
    "print(result)"
   ]
  },
  {
   "cell_type": "markdown",
   "metadata": {},
   "source": [
    "### 모든 합을 리스트로 만들어 max() 함수로 최대값 뽑아내면 if문을 줄일 수 있다."
   ]
  },
  {
   "cell_type": "code",
   "execution_count": null,
   "metadata": {},
   "outputs": [],
   "source": []
  }
 ],
 "metadata": {
  "kernelspec": {
   "display_name": "Python 3",
   "language": "python",
   "name": "python3"
  },
  "language_info": {
   "codemirror_mode": {
    "name": "ipython",
    "version": 3
   },
   "file_extension": ".py",
   "mimetype": "text/x-python",
   "name": "python",
   "nbconvert_exporter": "python",
   "pygments_lexer": "ipython3",
   "version": "3.8.3"
  }
 },
 "nbformat": 4,
 "nbformat_minor": 4
}
