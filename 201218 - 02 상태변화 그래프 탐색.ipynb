{
 "cells": [
  {
   "cell_type": "code",
   "execution_count": 17,
   "metadata": {},
   "outputs": [
    {
     "name": "stdout",
     "output_type": "stream",
     "text": [
      "[[1, 2], [1, 3], [1, 4], [2, 1], [2, 3], [2, 5], [3, 4], [4, 2], [4, 5]]\n",
      "[0, 1, 1, 1, 0]\n",
      "[1, 0, 1, 0, 1]\n",
      "[0, 0, 0, 1, 0]\n",
      "[0, 1, 0, 0, 1]\n",
      "[0, 0, 0, 0, 0]\n"
     ]
    }
   ],
   "source": [
    "with open(\"text/상태변화in1.txt\", \"r\") as f:\n",
    "    n, m = map(int, f.readline().split())\n",
    "    lst = [list(map(int, f.readline().split())) for _ in range(m)]\n",
    "matrix = [[0]*n for _ in range(n)]    \n",
    "print(lst)\n",
    "for i, j in lst:\n",
    "    matrix[i-1][j-1] = 1\n",
    "for xx in matrix:\n",
    "    print(xx)\n",
    "\n",
    "chk_tbl = [[0]*n for _ in range(n)]"
   ]
  },
  {
   "cell_type": "code",
   "execution_count": 4,
   "metadata": {},
   "outputs": [
    {
     "data": {
      "text/plain": [
       "[[0, 0, 0, 0, 0],\n",
       " [0, 0, 0, 0, 0],\n",
       " [0, 0, 0, 0, 0],\n",
       " [0, 0, 0, 0, 0],\n",
       " [0, 0, 0, 0, 0]]"
      ]
     },
     "execution_count": 4,
     "metadata": {},
     "output_type": "execute_result"
    }
   ],
   "source": [
    "chk_tbl"
   ]
  },
  {
   "cell_type": "code",
   "execution_count": 34,
   "metadata": {},
   "outputs": [
    {
     "name": "stdout",
     "output_type": "stream",
     "text": [
      "5\n"
     ]
    }
   ],
   "source": [
    "# 선생님 버전\n",
    "with open(\"text/상태변화in3.txt\", \"r\") as f:\n",
    "    n, m = map(int, f.readline().split())\n",
    "    mat = [[0]*(n+1) for _ in range(n+1)]\n",
    "    for i in range(m):\n",
    "        a, b = map(int, f.readline().split())\n",
    "        mat[a][b] = 1\n",
    "def DFS(node):\n",
    "    global cnt\n",
    "    if node == n:\n",
    "        cnt += 1\n",
    "    else:\n",
    "        for i in range(1, n+1):\n",
    "            if ckd[i]==0 and mat[node][i]==1:\n",
    "                ckd[i]=1\n",
    "                DFS(i)\n",
    "                ckd[i]=0\n",
    "ckd  = [0]*(n+1)    \n",
    "cnt = 0\n",
    "ckd[1]=1\n",
    "DFS(1)\n",
    "print(cnt)\n"
   ]
  },
  {
   "cell_type": "code",
   "execution_count": 37,
   "metadata": {},
   "outputs": [
    {
     "name": "stdout",
     "output_type": "stream",
     "text": [
      "[1, 2, 3, 4, 5]\n",
      "[1, 2, 5]\n",
      "[1, 3, 4, 2, 5]\n",
      "[1, 3, 4, 5]\n",
      "[1, 4, 2, 5]\n",
      "[1, 4, 5]\n",
      "6\n"
     ]
    }
   ],
   "source": [
    "# 선생님 버전\n",
    "with open(\"text/상태변화in1.txt\", \"r\") as f:\n",
    "    n, m = map(int, f.readline().split())\n",
    "    mat = [[0]*(n+1) for _ in range(n+1)]\n",
    "    for i in range(m):\n",
    "        a, b = map(int, f.readline().split())\n",
    "        mat[a][b] = 1\n",
    "def DFS(node):\n",
    "    global cnt, trace\n",
    "    if node == n:\n",
    "        cnt += 1\n",
    "        print(trace)\n",
    "    else:\n",
    "        for i in range(1, n+1):\n",
    "            if ckd[i]==0 and mat[node][i]==1:\n",
    "                ckd[i]=1\n",
    "                trace.append(i)\n",
    "                DFS(i)\n",
    "                trace.pop()\n",
    "                ckd[i]=0\n",
    "trace = []\n",
    "ckd  = [0]*(n+1)    \n",
    "cnt = 0\n",
    "ckd[1]=1\n",
    "trace.append(1)\n",
    "DFS(1)\n",
    "print(cnt)\n"
   ]
  },
  {
   "cell_type": "code",
   "execution_count": 38,
   "metadata": {},
   "outputs": [
    {
     "data": {
      "text/plain": [
       "[[0, 0, 0, 0, 0, 0],\n",
       " [0, 0, 1, 1, 1, 0],\n",
       " [0, 1, 0, 1, 0, 1],\n",
       " [0, 0, 0, 0, 1, 0],\n",
       " [0, 0, 1, 0, 0, 1],\n",
       " [0, 0, 0, 0, 0, 0]]"
      ]
     },
     "execution_count": 38,
     "metadata": {},
     "output_type": "execute_result"
    }
   ],
   "source": [
    "mat"
   ]
  },
  {
   "cell_type": "code",
   "execution_count": null,
   "metadata": {},
   "outputs": [],
   "source": []
  }
 ],
 "metadata": {
  "kernelspec": {
   "display_name": "Python 3",
   "language": "python",
   "name": "python3"
  },
  "language_info": {
   "codemirror_mode": {
    "name": "ipython",
    "version": 3
   },
   "file_extension": ".py",
   "mimetype": "text/x-python",
   "name": "python",
   "nbconvert_exporter": "python",
   "pygments_lexer": "ipython3",
   "version": "3.8.3"
  }
 },
 "nbformat": 4,
 "nbformat_minor": 4
}
