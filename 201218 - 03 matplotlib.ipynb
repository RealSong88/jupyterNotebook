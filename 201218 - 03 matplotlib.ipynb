{
 "cells": [
  {
   "cell_type": "code",
   "execution_count": 9,
   "metadata": {},
   "outputs": [
    {
     "name": "stdout",
     "output_type": "stream",
     "text": [
      "버전:  3.2.2\n",
      "설치 위치:  C:\\Users\\RealSongBook\\anaconda3\\lib\\site-packages\\matplotlib\\__init__.py\n",
      "설정 위치:  C:\\Users\\RealSongBook\\.matplotlib\n",
      "캐시 위치:  C:\\Users\\RealSongBook\\.matplotlib\n",
      "설정파일 위치:  C:\\Users\\RealSongBook\\anaconda3\\lib\\site-packages\\matplotlib\\mpl-data\\matplotlibrc\n",
      "['C:\\\\Windows\\\\Fonts\\\\malgun.ttf', 'C:\\\\Windows\\\\Fonts\\\\malgunbd.ttf', 'C:\\\\Windows\\\\Fonts\\\\malgunsl.ttf']\n"
     ]
    }
   ],
   "source": [
    "print ('버전: ', matplotlib.__version__)\n",
    "print ('설치 위치: ', matplotlib.__file__)\n",
    "print ('설정 위치: ', matplotlib.get_configdir())\n",
    "print ('캐시 위치: ', matplotlib.get_cachedir())\n",
    "print ('설정파일 위치: ', matplotlib.matplotlib_fname())\n",
    "font_list = fm.findSystemFonts(fontpaths=None, fontext='ttf')\n",
    "# print(font_list)\n",
    "print([i for i in font_list if \"malgun\" in i])\n"
   ]
  },
  {
   "cell_type": "code",
   "execution_count": 5,
   "metadata": {},
   "outputs": [
    {
     "name": "stdout",
     "output_type": "stream",
     "text": [
      "D2Coding\n"
     ]
    }
   ],
   "source": [
    "import numpy as np\n",
    "import matplotlib\n",
    "import matplotlib.font_manager as fm\n",
    "import seaborn as sns\n",
    "import matplotlib.pyplot as plt\n",
    "fm.get_fontconfig_fonts()\n",
    "# font_location = '/usr/share/fonts/truetype/nanum/NanumGothicOTF.ttf'\n",
    "# font_location = 'C:/Windows/Fonts/malgun.ttf'\n",
    "font_location = 'C:\\\\Users\\\\RealSongBook\\\\AppData\\\\Local\\\\Microsoft\\\\Windows\\\\Fonts\\\\D2Coding-Ver1.3.2-20180524.ttc'\n",
    "font_name = fm.FontProperties(fname=font_location).get_name()\n",
    "matplotlib.rc('font', family=font_name)\n",
    "# 그래프에서 마이너스 폰트 깨지는 문제에 대한 대처\n",
    "matplotlib.rcParams['axes.unicode_minus'] = False\n",
    "# import warnings\n",
    "# warnings.filterwarnings('ignore')\n",
    "%matplotlib inline\n",
    "print(font_name)\n",
    "matplotlib.rc()"
   ]
  },
  {
   "cell_type": "code",
   "execution_count": null,
   "metadata": {},
   "outputs": [],
   "source": [
    "[(f.name, f.fname) for f in fm.fontManager.ttflist if 'D2' in f.name]\n",
    "# fm.fontManager.ttflist\n",
    "plt.rc('font', family='D2Coding')\n",
    "plt.text(0.3, 0.3, '한글', size=100)"
   ]
  },
  {
   "cell_type": "code",
   "execution_count": 6,
   "metadata": {
    "scrolled": true
   },
   "outputs": [
    {
     "data": {
      "image/png": "[encoded data removed]",
      "text/plain": [
       "<Figure size 432x288 with 1 Axes>"
      ]
     },
     "metadata": {},
     "output_type": "display_data"
    }
   ],
   "source": [
    "# plt.rcParams['font.family'] = 'NanumGothicCoding'\n",
    "sns.set(style='white')\n",
    "temp = [0,0,3,7,5,3,0,1]\n",
    "y = np.array(temp)\n",
    "x = [ str(i)+'일' for i in range(1, len(y)+1)]\n",
    "plt.rc('font', family='D2Coding')\n",
    "plt.bar(x,y)\n",
    "plt.show()\n"
   ]
  },
  {
   "cell_type": "code",
   "execution_count": 7,
   "metadata": {
    "scrolled": true
   },
   "outputs": [
    {
     "data": {
      "image/png": "[encoded data removed]",
      "text/plain": [
       "<Figure size 432x288 with 1 Axes>"
      ]
     },
     "metadata": {},
     "output_type": "display_data"
    }
   ],
   "source": [
    "score = np.loadtxt(\"text/score.txt\")\n",
    "x = score[0:, 0]\n",
    "# print(len(x))\n",
    "# print(type(x[0]))\n",
    "# print(y)\n",
    "x=[str(int(i)) for i in x]\n",
    "y = score[0:, 4]\n",
    "# print(len(y))\n",
    "plt.bar(x,y)\n",
    "plt.plot(y)\n",
    "plt.show()\n"
   ]
  },
  {
   "cell_type": "code",
   "execution_count": null,
   "metadata": {},
   "outputs": [],
   "source": [
    "x = np.linspace(-6, 6)\n",
    "y1, y2 = np.sin(x), np.cos(x)\n",
    "plt.plot(x, y1, 'r--')\n",
    "plt.plot(x, y2, 'b--')\n",
    "plt.show()\n"
   ]
  },
  {
   "cell_type": "code",
   "execution_count": null,
   "metadata": {},
   "outputs": [],
   "source": [
    "img = plt.imread(\"C:/Users/RealSongBook/Pictures/test.jpg\")\n",
    "\n",
    "plt.imshow(img)"
   ]
  },
  {
   "cell_type": "code",
   "execution_count": null,
   "metadata": {},
   "outputs": [],
   "source": [
    "N = 50\n",
    "x = np.random.rand(N)\n",
    "y = np.random.rand(N)\n",
    "colors = np.random.rand(N)\n",
    "area = np.pi*(30*np.random.rand(N)) **2\n",
    "plt.scatter(x,y, s=area, c=colors, alpha=0.2, cmap='rainbow')"
   ]
  },
  {
   "cell_type": "code",
   "execution_count": null,
   "metadata": {},
   "outputs": [],
   "source": []
  }
 ],
 "metadata": {
  "kernelspec": {
   "display_name": "Python 3",
   "language": "python",
   "name": "python3"
  },
  "language_info": {
   "codemirror_mode": {
    "name": "ipython",
    "version": 3
   },
   "file_extension": ".py",
   "mimetype": "text/x-python",
   "name": "python",
   "nbconvert_exporter": "python",
   "pygments_lexer": "ipython3",
   "version": "3.8.3"
  }
 },
 "nbformat": 4,
 "nbformat_minor": 4
}
