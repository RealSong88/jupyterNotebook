{
 "cells": [
  {
   "cell_type": "code",
   "execution_count": 32,
   "metadata": {},
   "outputs": [
    {
     "name": "stdout",
     "output_type": "stream",
     "text": [
      "deque([(0, 0)])\n",
      "deque([(0, 1), (1, 0)])\n",
      "deque([(1, 0), (0, 2)])\n",
      "deque([(0, 2), (2, 0)])\n",
      "deque([(2, 0), (0, 3)])\n",
      "deque([(0, 3), (2, 1)])\n",
      "deque([(2, 1), (0, 4)])\n",
      "deque([(0, 4), (2, 2)])\n",
      "deque([(2, 2), (0, 5)])\n",
      "deque([(0, 5), (3, 2)])\n",
      "deque([(3, 2), (0, 6)])\n",
      "deque([(0, 6), (4, 2)])\n",
      "deque([(4, 2), (1, 6)])\n",
      "deque([(1, 6), (4, 3), (5, 2)])\n",
      "deque([(4, 3), (5, 2), (2, 6)])\n",
      "deque([(5, 2), (2, 6), (4, 4)])\n",
      "deque([(2, 6), (4, 4), (6, 2)])\n",
      "deque([(4, 4), (6, 2), (2, 5)])\n",
      "deque([(6, 2), (2, 5), (3, 4), (4, 5)])\n",
      "deque([(2, 5), (3, 4), (4, 5), (6, 3), (6, 1)])\n",
      "deque([(3, 4), (4, 5), (6, 3), (6, 1), (2, 4)])\n",
      "deque([(4, 5), (6, 3), (6, 1), (2, 4)])\n",
      "deque([(6, 3), (6, 1), (2, 4)])\n",
      "deque([(6, 1), (2, 4), (6, 4)])\n",
      "deque([(2, 4), (6, 4)])\n",
      "deque([(6, 4)])\n",
      "deque([(6, 5)])\n",
      "deque([(6, 6)])\n",
      "deque([(5, 6)])\n",
      "12\n"
     ]
    }
   ],
   "source": [
    "from collections import deque\n",
    "f=open(\"미로탈출in1.txt\",\"r\")\n",
    "matrix = [list(map(int,f.readline().split())) for _ in range(7)]\n",
    "dx=[-1,0,1,0]\n",
    "dy=[0,1,0,-1]\n",
    "dis=[[0]*7 for _ in range(7)]\n",
    "Q=deque()\n",
    "Q.append((0,0))\n",
    "matrix[0][0]=8 # 처음시작점을 체크한후 시작\n",
    "while Q:\n",
    "    print(Q)\n",
    "    temp = Q.popleft()\n",
    "    for i in range(4):  # 위, 아래, 왼쪽, 오른쪽 좌표값 계산\n",
    "        x=temp[0]+dx[i]\n",
    "        y=temp[1]+dy[i]\n",
    "        if 0<= x <=6 and 0<= y <=6 and matrix[x][y]==0 :\n",
    "            matrix[x][y]=8\n",
    "            dis[x][y]=dis[temp[0]][temp[1]]+1\n",
    "            Q.append((x,y))\n",
    "\n",
    "if dis[6][6] == 0 :\n",
    "    print(-1)\n",
    "else :\n",
    "    print(dis[6][6])\n",
    "f.close()"
   ]
  },
  {
   "cell_type": "code",
   "execution_count": 4,
   "metadata": {},
   "outputs": [],
   "source": []
  },
  {
   "cell_type": "code",
   "execution_count": 30,
   "metadata": {},
   "outputs": [
    {
     "name": "stdout",
     "output_type": "stream",
     "text": [
      "[8, 8, 8, 8, 8, 8, 8]\n",
      "[8, 1, 1, 1, 1, 1, 8]\n",
      "[8, 8, 8, 1, 8, 8, 8]\n",
      "[1, 1, 8, 1, 8, 1, 1]\n",
      "[1, 1, 8, 8, 8, 8, 1]\n",
      "[1, 1, 8, 1, 1, 1, 8]\n",
      "[1, 8, 8, 8, 8, 8, 8]\n"
     ]
    }
   ],
   "source": [
    "for xx in matrix :\n",
    "    print(xx)"
   ]
  },
  {
   "cell_type": "code",
   "execution_count": 31,
   "metadata": {},
   "outputs": [
    {
     "name": "stdout",
     "output_type": "stream",
     "text": [
      "[0, 1, 2, 3, 4, 5, 6]\n",
      "[1, 0, 0, 0, 0, 0, 7]\n",
      "[2, 3, 4, 0, 10, 9, 8]\n",
      "[0, 0, 5, 0, 9, 0, 0]\n",
      "[0, 0, 6, 7, 8, 9, 0]\n",
      "[0, 0, 7, 0, 0, 0, 13]\n",
      "[0, 9, 8, 9, 10, 11, 12]\n"
     ]
    }
   ],
   "source": [
    "for dd in dis:\n",
    "    print(dd)"
   ]
  },
  {
   "cell_type": "code",
   "execution_count": 28,
   "metadata": {},
   "outputs": [
    {
     "name": "stdout",
     "output_type": "stream",
     "text": [
      "[[8, 8, 8, 1, 1], [8, 1, 8, 8, 1], [8, 1, 1, 8, 1], [8, 1, 1, 8, 8], [8, 8, 8, 8, 8]]\n"
     ]
    }
   ],
   "source": [
    "f=open(\"미로탈출in1.txt\",\"r\")\n",
    "matix = [list(map(int,f.readline().split())) for _ in range(7)]\n",
    "print(matrix)"
   ]
  },
  {
   "cell_type": "code",
   "execution_count": null,
   "metadata": {},
   "outputs": [],
   "source": []
  }
 ],
 "metadata": {
  "kernelspec": {
   "display_name": "Python 3",
   "language": "python",
   "name": "python3"
  },
  "language_info": {
   "codemirror_mode": {
    "name": "ipython",
    "version": 3
   },
   "file_extension": ".py",
   "mimetype": "text/x-python",
   "name": "python",
   "nbconvert_exporter": "python",
   "pygments_lexer": "ipython3",
   "version": "3.7.3"
  }
 },
 "nbformat": 4,
 "nbformat_minor": 2
}
